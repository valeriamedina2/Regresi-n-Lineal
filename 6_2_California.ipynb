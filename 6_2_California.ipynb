{
  "nbformat": 4,
  "nbformat_minor": 0,
  "metadata": {
    "colab": {
      "provenance": [],
      "include_colab_link": true
    },
    "kernelspec": {
      "name": "python3",
      "display_name": "Python 3"
    },
    "language_info": {
      "name": "python"
    }
  },
  "cells": [
    {
      "cell_type": "markdown",
      "metadata": {
        "id": "view-in-github",
        "colab_type": "text"
      },
      "source": [
        "<a href=\"https://colab.research.google.com/github/valeriamedina2/Regresi-n-Lineal/blob/main/6_2_California.ipynb\" target=\"_parent\"><img src=\"https://colab.research.google.com/assets/colab-badge.svg\" alt=\"Open In Colab\"/></a>"
      ]
    },
    {
      "cell_type": "code",
      "execution_count": null,
      "metadata": {
        "id": "L5Epjygo_Vos"
      },
      "outputs": [],
      "source": [
        "import pandas as pd\n",
        "import numpy as np\n",
        "import matplotlib.pyplot as plt\n",
        "import seaborn as sns"
      ]
    },
    {
      "cell_type": "markdown",
      "source": [
        "# **EUA_California**"
      ],
      "metadata": {
        "id": "7UYV7k2qByi6"
      }
    },
    {
      "cell_type": "code",
      "source": [
        "EUA = pd.read_csv('California_clean.csv')"
      ],
      "metadata": {
        "id": "DCp2kQhB_zXT"
      },
      "execution_count": null,
      "outputs": []
    },
    {
      "cell_type": "code",
      "source": [
        "corr = []\n",
        "det = []\n",
        "Ta_V = []"
      ],
      "metadata": {
        "id": "HJRcvPbLED58"
      },
      "execution_count": null,
      "outputs": []
    },
    {
      "cell_type": "markdown",
      "source": [
        "## **Private room**"
      ],
      "metadata": {
        "id": "rybBh_l0Bui-"
      }
    },
    {
      "cell_type": "code",
      "source": [
        "PR_EUA = EUA.loc[EUA['room_type'] == \"Private room\"]\n",
        "PR_EUA"
      ],
      "metadata": {
        "colab": {
          "base_uri": "https://localhost:8080/",
          "height": 1000
        },
        "id": "rh1iGxRaBtsx",
        "outputId": "6ae06b86-1f0f-4d0f-f632-f559db760dc1"
      },
      "execution_count": null,
      "outputs": [
        {
          "output_type": "execute_result",
          "data": {
            "text/plain": [
              "      Unnamed: 0.1  Unnamed: 0  host_response_rate  host_acceptance_rate  \\\n",
              "2                2           2                 1.0                  0.73   \n",
              "4                4           4                 1.0                  0.90   \n",
              "6                6           6                 1.0                  0.67   \n",
              "7                7           7                 1.0                  1.00   \n",
              "11              11          11                 1.0                  1.00   \n",
              "...            ...         ...                 ...                   ...   \n",
              "6927          6927        6927                 1.0                  0.98   \n",
              "6929          6929        6929                 1.0                  0.97   \n",
              "6930          6930        6930                 1.0                  1.00   \n",
              "6933          6933        6933                 0.0                  0.00   \n",
              "6934          6934        6934                 1.0                  0.50   \n",
              "\n",
              "      host_listings_count   latitude   longitude  accommodates  bathrooms  \\\n",
              "2                      13  37.765550 -122.452130             1          0   \n",
              "4                       2  37.760300 -122.421970             3          0   \n",
              "6                       1  37.747660 -122.420410             2          0   \n",
              "7                       2  37.717500 -122.396980             2          0   \n",
              "11                      9  37.792330 -122.424310             1          0   \n",
              "...                   ...        ...         ...           ...        ...   \n",
              "6927                   32  37.788619 -122.422556             2          0   \n",
              "6929                   67  37.725231 -122.404776             2          0   \n",
              "6930                    6  37.753771 -122.399004             1          0   \n",
              "6933                    1  37.777633 -122.416478             1          0   \n",
              "6934                    3  37.738325 -122.396603             2          0   \n",
              "\n",
              "      bedrooms  ...    bathrooms_text  bedrooms.1  \\\n",
              "2            1  ...    4 shared baths           1   \n",
              "4            1  ...    1 private bath           1   \n",
              "6            1  ...            1 bath           1   \n",
              "7            1  ...  1.5 shared baths           1   \n",
              "11           1  ...                --           1   \n",
              "...        ...  ...               ...         ...   \n",
              "6927         1  ...    1 private bath           1   \n",
              "6929         1  ...     1 shared bath           1   \n",
              "6930         1  ...     1 shared bath           1   \n",
              "6933         1  ...     1 shared bath           1   \n",
              "6934         1  ...     1 shared bath           1   \n",
              "\n",
              "                                              amenities  calendar_updated.1  \\\n",
              "2     [\"Security cameras on property\", \"Host greets ...                  --   \n",
              "4     [\"Paid parking garage off premises\", \"Luggage ...                  --   \n",
              "6     [\"Oven\", \"Cooking basics\", \"Blender\", \"Shampoo...                  --   \n",
              "7     [\"Self check-in\", \"Shared BBQ grill: charcoal\"...                  --   \n",
              "11    [\"Essentials\", \"Bed linens\", \"Carbon monoxide ...                  --   \n",
              "...                                                 ...                 ...   \n",
              "6927  [\"Security cameras on property\", \"Self check-i...                  --   \n",
              "6929  [\"Oven\", \"Security cameras on property\", \"Self...                  --   \n",
              "6930  [\"Carbon monoxide alarm\", \"Security cameras on...                  --   \n",
              "6933  [\"TV\", \"Free dryer – In unit\", \"Mountain view\"...                  --   \n",
              "6934  [\"Essentials\", \"Carbon monoxide alarm\", \"Centr...                  --   \n",
              "\n",
              "      has_availability  calendar_last_scraped  first_review  last_review  \\\n",
              "2                    t               06/03/23      08/09/14     27/10/22   \n",
              "4                    t               06/03/23      01/08/09     25/02/23   \n",
              "6                    t               06/03/23      22/04/14     26/11/22   \n",
              "7                    t               06/03/23      21/02/10     28/01/23   \n",
              "11                   t               06/03/23      10/07/11     28/02/23   \n",
              "...                ...                    ...           ...          ...   \n",
              "6927                 t               06/03/23      13/02/23     13/02/23   \n",
              "6929                 t               06/03/23            --           --   \n",
              "6930                 t               06/03/23            --           --   \n",
              "6933                 t               06/03/23            --           --   \n",
              "6934                 t               06/03/23            --           --   \n",
              "\n",
              "             license  instant_bookable  \n",
              "2                  0                 f  \n",
              "4        STR-0000028                 f  \n",
              "6                  0                 f  \n",
              "7     2022-011003STR                 f  \n",
              "11                 0                 f  \n",
              "...              ...               ...  \n",
              "6927          Exempt                 f  \n",
              "6929               0                 f  \n",
              "6930               0                 t  \n",
              "6933               0                 f  \n",
              "6934  2022-012562STR                 f  \n",
              "\n",
              "[2359 rows x 79 columns]"
            ],
            "text/html": [
              "\n",
              "  <div id=\"df-544ab7ae-a0b4-4305-9362-bd110d06108f\">\n",
              "    <div class=\"colab-df-container\">\n",
              "      <div>\n",
              "<style scoped>\n",
              "    .dataframe tbody tr th:only-of-type {\n",
              "        vertical-align: middle;\n",
              "    }\n",
              "\n",
              "    .dataframe tbody tr th {\n",
              "        vertical-align: top;\n",
              "    }\n",
              "\n",
              "    .dataframe thead th {\n",
              "        text-align: right;\n",
              "    }\n",
              "</style>\n",
              "<table border=\"1\" class=\"dataframe\">\n",
              "  <thead>\n",
              "    <tr style=\"text-align: right;\">\n",
              "      <th></th>\n",
              "      <th>Unnamed: 0.1</th>\n",
              "      <th>Unnamed: 0</th>\n",
              "      <th>host_response_rate</th>\n",
              "      <th>host_acceptance_rate</th>\n",
              "      <th>host_listings_count</th>\n",
              "      <th>latitude</th>\n",
              "      <th>longitude</th>\n",
              "      <th>accommodates</th>\n",
              "      <th>bathrooms</th>\n",
              "      <th>bedrooms</th>\n",
              "      <th>...</th>\n",
              "      <th>bathrooms_text</th>\n",
              "      <th>bedrooms.1</th>\n",
              "      <th>amenities</th>\n",
              "      <th>calendar_updated.1</th>\n",
              "      <th>has_availability</th>\n",
              "      <th>calendar_last_scraped</th>\n",
              "      <th>first_review</th>\n",
              "      <th>last_review</th>\n",
              "      <th>license</th>\n",
              "      <th>instant_bookable</th>\n",
              "    </tr>\n",
              "  </thead>\n",
              "  <tbody>\n",
              "    <tr>\n",
              "      <th>2</th>\n",
              "      <td>2</td>\n",
              "      <td>2</td>\n",
              "      <td>1.0</td>\n",
              "      <td>0.73</td>\n",
              "      <td>13</td>\n",
              "      <td>37.765550</td>\n",
              "      <td>-122.452130</td>\n",
              "      <td>1</td>\n",
              "      <td>0</td>\n",
              "      <td>1</td>\n",
              "      <td>...</td>\n",
              "      <td>4 shared baths</td>\n",
              "      <td>1</td>\n",
              "      <td>[\"Security cameras on property\", \"Host greets ...</td>\n",
              "      <td>--</td>\n",
              "      <td>t</td>\n",
              "      <td>06/03/23</td>\n",
              "      <td>08/09/14</td>\n",
              "      <td>27/10/22</td>\n",
              "      <td>0</td>\n",
              "      <td>f</td>\n",
              "    </tr>\n",
              "    <tr>\n",
              "      <th>4</th>\n",
              "      <td>4</td>\n",
              "      <td>4</td>\n",
              "      <td>1.0</td>\n",
              "      <td>0.90</td>\n",
              "      <td>2</td>\n",
              "      <td>37.760300</td>\n",
              "      <td>-122.421970</td>\n",
              "      <td>3</td>\n",
              "      <td>0</td>\n",
              "      <td>1</td>\n",
              "      <td>...</td>\n",
              "      <td>1 private bath</td>\n",
              "      <td>1</td>\n",
              "      <td>[\"Paid parking garage off premises\", \"Luggage ...</td>\n",
              "      <td>--</td>\n",
              "      <td>t</td>\n",
              "      <td>06/03/23</td>\n",
              "      <td>01/08/09</td>\n",
              "      <td>25/02/23</td>\n",
              "      <td>STR-0000028</td>\n",
              "      <td>f</td>\n",
              "    </tr>\n",
              "    <tr>\n",
              "      <th>6</th>\n",
              "      <td>6</td>\n",
              "      <td>6</td>\n",
              "      <td>1.0</td>\n",
              "      <td>0.67</td>\n",
              "      <td>1</td>\n",
              "      <td>37.747660</td>\n",
              "      <td>-122.420410</td>\n",
              "      <td>2</td>\n",
              "      <td>0</td>\n",
              "      <td>1</td>\n",
              "      <td>...</td>\n",
              "      <td>1 bath</td>\n",
              "      <td>1</td>\n",
              "      <td>[\"Oven\", \"Cooking basics\", \"Blender\", \"Shampoo...</td>\n",
              "      <td>--</td>\n",
              "      <td>t</td>\n",
              "      <td>06/03/23</td>\n",
              "      <td>22/04/14</td>\n",
              "      <td>26/11/22</td>\n",
              "      <td>0</td>\n",
              "      <td>f</td>\n",
              "    </tr>\n",
              "    <tr>\n",
              "      <th>7</th>\n",
              "      <td>7</td>\n",
              "      <td>7</td>\n",
              "      <td>1.0</td>\n",
              "      <td>1.00</td>\n",
              "      <td>2</td>\n",
              "      <td>37.717500</td>\n",
              "      <td>-122.396980</td>\n",
              "      <td>2</td>\n",
              "      <td>0</td>\n",
              "      <td>1</td>\n",
              "      <td>...</td>\n",
              "      <td>1.5 shared baths</td>\n",
              "      <td>1</td>\n",
              "      <td>[\"Self check-in\", \"Shared BBQ grill: charcoal\"...</td>\n",
              "      <td>--</td>\n",
              "      <td>t</td>\n",
              "      <td>06/03/23</td>\n",
              "      <td>21/02/10</td>\n",
              "      <td>28/01/23</td>\n",
              "      <td>2022-011003STR</td>\n",
              "      <td>f</td>\n",
              "    </tr>\n",
              "    <tr>\n",
              "      <th>11</th>\n",
              "      <td>11</td>\n",
              "      <td>11</td>\n",
              "      <td>1.0</td>\n",
              "      <td>1.00</td>\n",
              "      <td>9</td>\n",
              "      <td>37.792330</td>\n",
              "      <td>-122.424310</td>\n",
              "      <td>1</td>\n",
              "      <td>0</td>\n",
              "      <td>1</td>\n",
              "      <td>...</td>\n",
              "      <td>--</td>\n",
              "      <td>1</td>\n",
              "      <td>[\"Essentials\", \"Bed linens\", \"Carbon monoxide ...</td>\n",
              "      <td>--</td>\n",
              "      <td>t</td>\n",
              "      <td>06/03/23</td>\n",
              "      <td>10/07/11</td>\n",
              "      <td>28/02/23</td>\n",
              "      <td>0</td>\n",
              "      <td>f</td>\n",
              "    </tr>\n",
              "    <tr>\n",
              "      <th>...</th>\n",
              "      <td>...</td>\n",
              "      <td>...</td>\n",
              "      <td>...</td>\n",
              "      <td>...</td>\n",
              "      <td>...</td>\n",
              "      <td>...</td>\n",
              "      <td>...</td>\n",
              "      <td>...</td>\n",
              "      <td>...</td>\n",
              "      <td>...</td>\n",
              "      <td>...</td>\n",
              "      <td>...</td>\n",
              "      <td>...</td>\n",
              "      <td>...</td>\n",
              "      <td>...</td>\n",
              "      <td>...</td>\n",
              "      <td>...</td>\n",
              "      <td>...</td>\n",
              "      <td>...</td>\n",
              "      <td>...</td>\n",
              "      <td>...</td>\n",
              "    </tr>\n",
              "    <tr>\n",
              "      <th>6927</th>\n",
              "      <td>6927</td>\n",
              "      <td>6927</td>\n",
              "      <td>1.0</td>\n",
              "      <td>0.98</td>\n",
              "      <td>32</td>\n",
              "      <td>37.788619</td>\n",
              "      <td>-122.422556</td>\n",
              "      <td>2</td>\n",
              "      <td>0</td>\n",
              "      <td>1</td>\n",
              "      <td>...</td>\n",
              "      <td>1 private bath</td>\n",
              "      <td>1</td>\n",
              "      <td>[\"Security cameras on property\", \"Self check-i...</td>\n",
              "      <td>--</td>\n",
              "      <td>t</td>\n",
              "      <td>06/03/23</td>\n",
              "      <td>13/02/23</td>\n",
              "      <td>13/02/23</td>\n",
              "      <td>Exempt</td>\n",
              "      <td>f</td>\n",
              "    </tr>\n",
              "    <tr>\n",
              "      <th>6929</th>\n",
              "      <td>6929</td>\n",
              "      <td>6929</td>\n",
              "      <td>1.0</td>\n",
              "      <td>0.97</td>\n",
              "      <td>67</td>\n",
              "      <td>37.725231</td>\n",
              "      <td>-122.404776</td>\n",
              "      <td>2</td>\n",
              "      <td>0</td>\n",
              "      <td>1</td>\n",
              "      <td>...</td>\n",
              "      <td>1 shared bath</td>\n",
              "      <td>1</td>\n",
              "      <td>[\"Oven\", \"Security cameras on property\", \"Self...</td>\n",
              "      <td>--</td>\n",
              "      <td>t</td>\n",
              "      <td>06/03/23</td>\n",
              "      <td>--</td>\n",
              "      <td>--</td>\n",
              "      <td>0</td>\n",
              "      <td>f</td>\n",
              "    </tr>\n",
              "    <tr>\n",
              "      <th>6930</th>\n",
              "      <td>6930</td>\n",
              "      <td>6930</td>\n",
              "      <td>1.0</td>\n",
              "      <td>1.00</td>\n",
              "      <td>6</td>\n",
              "      <td>37.753771</td>\n",
              "      <td>-122.399004</td>\n",
              "      <td>1</td>\n",
              "      <td>0</td>\n",
              "      <td>1</td>\n",
              "      <td>...</td>\n",
              "      <td>1 shared bath</td>\n",
              "      <td>1</td>\n",
              "      <td>[\"Carbon monoxide alarm\", \"Security cameras on...</td>\n",
              "      <td>--</td>\n",
              "      <td>t</td>\n",
              "      <td>06/03/23</td>\n",
              "      <td>--</td>\n",
              "      <td>--</td>\n",
              "      <td>0</td>\n",
              "      <td>t</td>\n",
              "    </tr>\n",
              "    <tr>\n",
              "      <th>6933</th>\n",
              "      <td>6933</td>\n",
              "      <td>6933</td>\n",
              "      <td>0.0</td>\n",
              "      <td>0.00</td>\n",
              "      <td>1</td>\n",
              "      <td>37.777633</td>\n",
              "      <td>-122.416478</td>\n",
              "      <td>1</td>\n",
              "      <td>0</td>\n",
              "      <td>1</td>\n",
              "      <td>...</td>\n",
              "      <td>1 shared bath</td>\n",
              "      <td>1</td>\n",
              "      <td>[\"TV\", \"Free dryer – In unit\", \"Mountain view\"...</td>\n",
              "      <td>--</td>\n",
              "      <td>t</td>\n",
              "      <td>06/03/23</td>\n",
              "      <td>--</td>\n",
              "      <td>--</td>\n",
              "      <td>0</td>\n",
              "      <td>f</td>\n",
              "    </tr>\n",
              "    <tr>\n",
              "      <th>6934</th>\n",
              "      <td>6934</td>\n",
              "      <td>6934</td>\n",
              "      <td>1.0</td>\n",
              "      <td>0.50</td>\n",
              "      <td>3</td>\n",
              "      <td>37.738325</td>\n",
              "      <td>-122.396603</td>\n",
              "      <td>2</td>\n",
              "      <td>0</td>\n",
              "      <td>1</td>\n",
              "      <td>...</td>\n",
              "      <td>1 shared bath</td>\n",
              "      <td>1</td>\n",
              "      <td>[\"Essentials\", \"Carbon monoxide alarm\", \"Centr...</td>\n",
              "      <td>--</td>\n",
              "      <td>t</td>\n",
              "      <td>06/03/23</td>\n",
              "      <td>--</td>\n",
              "      <td>--</td>\n",
              "      <td>2022-012562STR</td>\n",
              "      <td>f</td>\n",
              "    </tr>\n",
              "  </tbody>\n",
              "</table>\n",
              "<p>2359 rows × 79 columns</p>\n",
              "</div>\n",
              "      <button class=\"colab-df-convert\" onclick=\"convertToInteractive('df-544ab7ae-a0b4-4305-9362-bd110d06108f')\"\n",
              "              title=\"Convert this dataframe to an interactive table.\"\n",
              "              style=\"display:none;\">\n",
              "        \n",
              "  <svg xmlns=\"http://www.w3.org/2000/svg\" height=\"24px\"viewBox=\"0 0 24 24\"\n",
              "       width=\"24px\">\n",
              "    <path d=\"M0 0h24v24H0V0z\" fill=\"none\"/>\n",
              "    <path d=\"M18.56 5.44l.94 2.06.94-2.06 2.06-.94-2.06-.94-.94-2.06-.94 2.06-2.06.94zm-11 1L8.5 8.5l.94-2.06 2.06-.94-2.06-.94L8.5 2.5l-.94 2.06-2.06.94zm10 10l.94 2.06.94-2.06 2.06-.94-2.06-.94-.94-2.06-.94 2.06-2.06.94z\"/><path d=\"M17.41 7.96l-1.37-1.37c-.4-.4-.92-.59-1.43-.59-.52 0-1.04.2-1.43.59L10.3 9.45l-7.72 7.72c-.78.78-.78 2.05 0 2.83L4 21.41c.39.39.9.59 1.41.59.51 0 1.02-.2 1.41-.59l7.78-7.78 2.81-2.81c.8-.78.8-2.07 0-2.86zM5.41 20L4 18.59l7.72-7.72 1.47 1.35L5.41 20z\"/>\n",
              "  </svg>\n",
              "      </button>\n",
              "      \n",
              "  <style>\n",
              "    .colab-df-container {\n",
              "      display:flex;\n",
              "      flex-wrap:wrap;\n",
              "      gap: 12px;\n",
              "    }\n",
              "\n",
              "    .colab-df-convert {\n",
              "      background-color: #E8F0FE;\n",
              "      border: none;\n",
              "      border-radius: 50%;\n",
              "      cursor: pointer;\n",
              "      display: none;\n",
              "      fill: #1967D2;\n",
              "      height: 32px;\n",
              "      padding: 0 0 0 0;\n",
              "      width: 32px;\n",
              "    }\n",
              "\n",
              "    .colab-df-convert:hover {\n",
              "      background-color: #E2EBFA;\n",
              "      box-shadow: 0px 1px 2px rgba(60, 64, 67, 0.3), 0px 1px 3px 1px rgba(60, 64, 67, 0.15);\n",
              "      fill: #174EA6;\n",
              "    }\n",
              "\n",
              "    [theme=dark] .colab-df-convert {\n",
              "      background-color: #3B4455;\n",
              "      fill: #D2E3FC;\n",
              "    }\n",
              "\n",
              "    [theme=dark] .colab-df-convert:hover {\n",
              "      background-color: #434B5C;\n",
              "      box-shadow: 0px 1px 3px 1px rgba(0, 0, 0, 0.15);\n",
              "      filter: drop-shadow(0px 1px 2px rgba(0, 0, 0, 0.3));\n",
              "      fill: #FFFFFF;\n",
              "    }\n",
              "  </style>\n",
              "\n",
              "      <script>\n",
              "        const buttonEl =\n",
              "          document.querySelector('#df-544ab7ae-a0b4-4305-9362-bd110d06108f button.colab-df-convert');\n",
              "        buttonEl.style.display =\n",
              "          google.colab.kernel.accessAllowed ? 'block' : 'none';\n",
              "\n",
              "        async function convertToInteractive(key) {\n",
              "          const element = document.querySelector('#df-544ab7ae-a0b4-4305-9362-bd110d06108f');\n",
              "          const dataTable =\n",
              "            await google.colab.kernel.invokeFunction('convertToInteractive',\n",
              "                                                     [key], {});\n",
              "          if (!dataTable) return;\n",
              "\n",
              "          const docLinkHtml = 'Like what you see? Visit the ' +\n",
              "            '<a target=\"_blank\" href=https://colab.research.google.com/notebooks/data_table.ipynb>data table notebook</a>'\n",
              "            + ' to learn more about interactive tables.';\n",
              "          element.innerHTML = '';\n",
              "          dataTable['output_type'] = 'display_data';\n",
              "          await google.colab.output.renderOutput(dataTable, element);\n",
              "          const docLink = document.createElement('div');\n",
              "          docLink.innerHTML = docLinkHtml;\n",
              "          element.appendChild(docLink);\n",
              "        }\n",
              "      </script>\n",
              "    </div>\n",
              "  </div>\n",
              "  "
            ]
          },
          "metadata": {},
          "execution_count": 11
        }
      ]
    },
    {
      "cell_type": "markdown",
      "source": [
        "### **host_acceptance_rate vs host_response_rate, Price, number_of_reviews , review_scores_rating**"
      ],
      "metadata": {
        "id": "mgEguCVcCBU_"
      }
    },
    {
      "cell_type": "code",
      "source": [
        "from turtle import color\n",
        "\n",
        "\n",
        "sns.scatterplot(x='host_response_rate', y='host_acceptance_rate', color=\"blue\", data=PR_EUA)\n",
        "sns.scatterplot(x='price', y='host_acceptance_rate', color=\"red\", data=PR_EUA)\n",
        "sns.scatterplot(x='number_of_reviews', y='host_acceptance_rate', color=\"green\", data=PR_EUA)\n",
        "sns.scatterplot(x='review_scores_rating', y='host_acceptance_rate', color=\"yellow\", data=PR_EUA)"
      ],
      "metadata": {
        "colab": {
          "base_uri": "https://localhost:8080/",
          "height": 468
        },
        "id": "K8QrOIfcBg0n",
        "outputId": "971174a2-e11d-40d5-9803-e818fefc477f"
      },
      "execution_count": null,
      "outputs": [
        {
          "output_type": "execute_result",
          "data": {
            "text/plain": [
              "<Axes: xlabel='host_response_rate', ylabel='host_acceptance_rate'>"
            ]
          },
          "metadata": {},
          "execution_count": 13
        },
        {
          "output_type": "display_data",
          "data": {
            "text/plain": [
              "<Figure size 640x480 with 1 Axes>"
            ],
            "image/png": "[encoded data removed]"
          },
          "metadata": {}
        }
      ]
    },
    {
      "cell_type": "code",
      "source": [
        "#Declaramos las variables dependientes e independientes para la regresión lineal\n",
        "Vars_Indep= PR_EUA[['host_response_rate', 'price', 'number_of_reviews' , 'review_scores_rating']]\n",
        "Var_Dep= PR_EUA['host_acceptance_rate']"
      ],
      "metadata": {
        "id": "FVbTG6TpC481"
      },
      "execution_count": null,
      "outputs": []
    },
    {
      "cell_type": "code",
      "source": [
        "#Se define model como la función de regresión lineal\n",
        "from sklearn.linear_model import LinearRegression\n",
        "model= LinearRegression()"
      ],
      "metadata": {
        "id": "Jby7vWxVL2ZS"
      },
      "execution_count": null,
      "outputs": []
    },
    {
      "cell_type": "code",
      "source": [
        "#Verificamos la función relacionada al modelo\n",
        "type(model)"
      ],
      "metadata": {
        "colab": {
          "base_uri": "https://localhost:8080/"
        },
        "id": "5cb3-qg0L4NV",
        "outputId": "7327d52d-897c-4af9-ccdd-d01b74ed5e3b"
      },
      "execution_count": null,
      "outputs": [
        {
          "output_type": "execute_result",
          "data": {
            "text/plain": [
              "sklearn.linear_model._base.LinearRegression"
            ]
          },
          "metadata": {},
          "execution_count": 16
        }
      ]
    },
    {
      "cell_type": "code",
      "source": [
        "#Ajustamos el modelo con las variables antes declaradas\n",
        "model.fit(X=Vars_Indep, y=Var_Dep)"
      ],
      "metadata": {
        "colab": {
          "base_uri": "https://localhost:8080/",
          "height": 75
        },
        "id": "ZJYORGSRL6CN",
        "outputId": "4c8d1b74-099a-45c2-cd3e-aeb86b88a919"
      },
      "execution_count": null,
      "outputs": [
        {
          "output_type": "execute_result",
          "data": {
            "text/plain": [
              "LinearRegression()"
            ],
            "text/html": [
              "<style>#sk-container-id-1 {color: black;background-color: white;}#sk-container-id-1 pre{padding: 0;}#sk-container-id-1 div.sk-toggleable {background-color: white;}#sk-container-id-1 label.sk-toggleable__label {cursor: pointer;display: block;width: 100%;margin-bottom: 0;padding: 0.3em;box-sizing: border-box;text-align: center;}#sk-container-id-1 label.sk-toggleable__label-arrow:before {content: \"▸\";float: left;margin-right: 0.25em;color: #696969;}#sk-container-id-1 label.sk-toggleable__label-arrow:hover:before {color: black;}#sk-container-id-1 div.sk-estimator:hover label.sk-toggleable__label-arrow:before {color: black;}#sk-container-id-1 div.sk-toggleable__content {max-height: 0;max-width: 0;overflow: hidden;text-align: left;background-color: #f0f8ff;}#sk-container-id-1 div.sk-toggleable__content pre {margin: 0.2em;color: black;border-radius: 0.25em;background-color: #f0f8ff;}#sk-container-id-1 input.sk-toggleable__control:checked~div.sk-toggleable__content {max-height: 200px;max-width: 100%;overflow: auto;}#sk-container-id-1 input.sk-toggleable__control:checked~label.sk-toggleable__label-arrow:before {content: \"▾\";}#sk-container-id-1 div.sk-estimator input.sk-toggleable__control:checked~label.sk-toggleable__label {background-color: #d4ebff;}#sk-container-id-1 div.sk-label input.sk-toggleable__control:checked~label.sk-toggleable__label {background-color: #d4ebff;}#sk-container-id-1 input.sk-hidden--visually {border: 0;clip: rect(1px 1px 1px 1px);clip: rect(1px, 1px, 1px, 1px);height: 1px;margin: -1px;overflow: hidden;padding: 0;position: absolute;width: 1px;}#sk-container-id-1 div.sk-estimator {font-family: monospace;background-color: #f0f8ff;border: 1px dotted black;border-radius: 0.25em;box-sizing: border-box;margin-bottom: 0.5em;}#sk-container-id-1 div.sk-estimator:hover {background-color: #d4ebff;}#sk-container-id-1 div.sk-parallel-item::after {content: \"\";width: 100%;border-bottom: 1px solid gray;flex-grow: 1;}#sk-container-id-1 div.sk-label:hover label.sk-toggleable__label {background-color: #d4ebff;}#sk-container-id-1 div.sk-serial::before {content: \"\";position: absolute;border-left: 1px solid gray;box-sizing: border-box;top: 0;bottom: 0;left: 50%;z-index: 0;}#sk-container-id-1 div.sk-serial {display: flex;flex-direction: column;align-items: center;background-color: white;padding-right: 0.2em;padding-left: 0.2em;position: relative;}#sk-container-id-1 div.sk-item {position: relative;z-index: 1;}#sk-container-id-1 div.sk-parallel {display: flex;align-items: stretch;justify-content: center;background-color: white;position: relative;}#sk-container-id-1 div.sk-item::before, #sk-container-id-1 div.sk-parallel-item::before {content: \"\";position: absolute;border-left: 1px solid gray;box-sizing: border-box;top: 0;bottom: 0;left: 50%;z-index: -1;}#sk-container-id-1 div.sk-parallel-item {display: flex;flex-direction: column;z-index: 1;position: relative;background-color: white;}#sk-container-id-1 div.sk-parallel-item:first-child::after {align-self: flex-end;width: 50%;}#sk-container-id-1 div.sk-parallel-item:last-child::after {align-self: flex-start;width: 50%;}#sk-container-id-1 div.sk-parallel-item:only-child::after {width: 0;}#sk-container-id-1 div.sk-dashed-wrapped {border: 1px dashed gray;margin: 0 0.4em 0.5em 0.4em;box-sizing: border-box;padding-bottom: 0.4em;background-color: white;}#sk-container-id-1 div.sk-label label {font-family: monospace;font-weight: bold;display: inline-block;line-height: 1.2em;}#sk-container-id-1 div.sk-label-container {text-align: center;}#sk-container-id-1 div.sk-container {/* jupyter's `normalize.less` sets `[hidden] { display: none; }` but bootstrap.min.css set `[hidden] { display: none !important; }` so we also need the `!important` here to be able to override the default hidden behavior on the sphinx rendered scikit-learn.org. See: https://github.com/scikit-learn/scikit-learn/issues/21755 */display: inline-block !important;position: relative;}#sk-container-id-1 div.sk-text-repr-fallback {display: none;}</style><div id=\"sk-container-id-1\" class=\"sk-top-container\"><div class=\"sk-text-repr-fallback\"><pre>LinearRegression()</pre><b>In a Jupyter environment, please rerun this cell to show the HTML representation or trust the notebook. <br />On GitHub, the HTML representation is unable to render, please try loading this page with nbviewer.org.</b></div><div class=\"sk-container\" hidden><div class=\"sk-item\"><div class=\"sk-estimator sk-toggleable\"><input class=\"sk-toggleable__control sk-hidden--visually\" id=\"sk-estimator-id-1\" type=\"checkbox\" checked><label for=\"sk-estimator-id-1\" class=\"sk-toggleable__label sk-toggleable__label-arrow\">LinearRegression</label><div class=\"sk-toggleable__content\"><pre>LinearRegression()</pre></div></div></div></div></div>"
            ]
          },
          "metadata": {},
          "execution_count": 17
        }
      ]
    },
    {
      "cell_type": "code",
      "source": [
        "#Verificamos los coeficientes obtenidos para el modelo ajustado\n",
        "model.__dict__"
      ],
      "metadata": {
        "colab": {
          "base_uri": "https://localhost:8080/"
        },
        "id": "CKFTFN9ZL9ZO",
        "outputId": "2c22c96b-5f57-49df-e395-5489a9c95c27"
      },
      "execution_count": null,
      "outputs": [
        {
          "output_type": "execute_result",
          "data": {
            "text/plain": [
              "{'fit_intercept': True,\n",
              " 'copy_X': True,\n",
              " 'n_jobs': None,\n",
              " 'positive': False,\n",
              " 'feature_names_in_': array(['host_response_rate', 'price', 'number_of_reviews',\n",
              "        'review_scores_rating'], dtype=object),\n",
              " 'n_features_in_': 4,\n",
              " 'coef_': array([6.96788331e-01, 5.96671200e-06, 2.08102678e-04, 2.18353191e-02]),\n",
              " 'rank_': 4,\n",
              " 'singular_': array([9.72530735e+04, 4.94913041e+03, 8.73003149e+01, 1.78219200e+01]),\n",
              " 'intercept_': 0.1281332697860883}"
            ]
          },
          "metadata": {},
          "execution_count": 18
        }
      ]
    },
    {
      "cell_type": "markdown",
      "source": [
        "**Modelo matemático: y= 6.96788331e-01x1 + 5.96671200e-06x2 + 2.08102678e-04x3 + 2.18353191e-02x4 + 0.1281332697860883**"
      ],
      "metadata": {
        "id": "VrCYFniMMfji"
      }
    },
    {
      "cell_type": "code",
      "source": [
        "#Corroboramos cual es el coeficiente de Determinación de nuestro modelo\n",
        "coef_Deter1=model.score(X=Vars_Indep, y=Var_Dep)\n",
        "coef_Deter1"
      ],
      "metadata": {
        "colab": {
          "base_uri": "https://localhost:8080/"
        },
        "id": "AfdyhM6eNLL7",
        "outputId": "d60e6f00-2b3f-4976-c2cc-8e61782bd72b"
      },
      "execution_count": null,
      "outputs": [
        {
          "output_type": "execute_result",
          "data": {
            "text/plain": [
              "0.6143558902068154"
            ]
          },
          "metadata": {},
          "execution_count": 19
        }
      ]
    },
    {
      "cell_type": "code",
      "source": [
        "#Corroboramos cual es el coeficiente de Correlación de nuestro modelo\n",
        "coef_Correl1=np.sqrt(coef_Deter1)\n",
        "coef_Correl1"
      ],
      "metadata": {
        "colab": {
          "base_uri": "https://localhost:8080/"
        },
        "id": "FHBqTlkQNM3z",
        "outputId": "5e5c969d-ce04-436e-8261-af9f42bc871d"
      },
      "execution_count": null,
      "outputs": [
        {
          "output_type": "execute_result",
          "data": {
            "text/plain": [
              "0.7838085800798658"
            ]
          },
          "metadata": {},
          "execution_count": 20
        }
      ]
    },
    {
      "cell_type": "code",
      "source": [
        "det.append(coef_Deter1)\n",
        "corr.append(np.sqrt(coef_Correl1))\n",
        "Ta_V.append(\"Private room / host_acceptance_rate vs host_response_rate, Price, number_of_reviews , review_scores_rating\")"
      ],
      "metadata": {
        "id": "jJmZDyNQD7Kn"
      },
      "execution_count": null,
      "outputs": []
    },
    {
      "cell_type": "markdown",
      "source": [
        "### **Price vs availability_365, host_response_rate, number_of_reviews, accommodates**"
      ],
      "metadata": {
        "id": "ENExMZYrEWWD"
      }
    },
    {
      "cell_type": "code",
      "source": [
        "from turtle import color\n",
        "\n",
        "sns.scatterplot(x='availability_365', y='price', color=\"red\", data=PR_EUA)\n",
        "sns.scatterplot(x='host_response_rate', y='price', color=\"blue\", data=PR_EUA)\n",
        "sns.scatterplot(x='number_of_reviews', y='price', color=\"green\", data=PR_EUA)\n",
        "sns.scatterplot(x='accommodates', y='price', color=\"yellow\", data=PR_EUA)"
      ],
      "metadata": {
        "colab": {
          "base_uri": "https://localhost:8080/",
          "height": 468
        },
        "outputId": "2d17222b-f50c-4971-f80e-805c2bf3c71e",
        "id": "pcTeNclGEW9s"
      },
      "execution_count": null,
      "outputs": [
        {
          "output_type": "execute_result",
          "data": {
            "text/plain": [
              "<Axes: xlabel='availability_365', ylabel='price'>"
            ]
          },
          "metadata": {},
          "execution_count": 24
        },
        {
          "output_type": "display_data",
          "data": {
            "text/plain": [
              "<Figure size 640x480 with 1 Axes>"
            ],
            "image/png": "[encoded data removed]"
          },
          "metadata": {}
        }
      ]
    },
    {
      "cell_type": "code",
      "source": [
        "#Declaramos las variables dependientes e independientes para la regresión lineal\n",
        "Vars_Indep= PR_EUA[['availability_365', 'host_response_rate', 'number_of_reviews', 'accommodates']]\n",
        "Var_Dep= PR_EUA['price']"
      ],
      "metadata": {
        "id": "RpcuE6N2EW9t"
      },
      "execution_count": null,
      "outputs": []
    },
    {
      "cell_type": "code",
      "source": [
        "#Se define model como la función de regresión lineal\n",
        "from sklearn.linear_model import LinearRegression\n",
        "model= LinearRegression()"
      ],
      "metadata": {
        "id": "UhXxrX-mEW9t"
      },
      "execution_count": null,
      "outputs": []
    },
    {
      "cell_type": "code",
      "source": [
        "#Verificamos la función relacionada al modelo\n",
        "type(model)"
      ],
      "metadata": {
        "colab": {
          "base_uri": "https://localhost:8080/"
        },
        "outputId": "c330c1ea-ff8d-4c1f-b241-a6428fefea5b",
        "id": "krQe_DVoEW9t"
      },
      "execution_count": null,
      "outputs": [
        {
          "output_type": "execute_result",
          "data": {
            "text/plain": [
              "sklearn.linear_model._base.LinearRegression"
            ]
          },
          "metadata": {},
          "execution_count": 27
        }
      ]
    },
    {
      "cell_type": "code",
      "source": [
        "#Ajustamos el modelo con las variables antes declaradas\n",
        "model.fit(X=Vars_Indep, y=Var_Dep)"
      ],
      "metadata": {
        "colab": {
          "base_uri": "https://localhost:8080/",
          "height": 75
        },
        "outputId": "e9bc0bca-4200-495b-e6b0-be8f0320186e",
        "id": "4k3hTzO7EW9t"
      },
      "execution_count": null,
      "outputs": [
        {
          "output_type": "execute_result",
          "data": {
            "text/plain": [
              "LinearRegression()"
            ],
            "text/html": [
              "<style>#sk-container-id-2 {color: black;background-color: white;}#sk-container-id-2 pre{padding: 0;}#sk-container-id-2 div.sk-toggleable {background-color: white;}#sk-container-id-2 label.sk-toggleable__label {cursor: pointer;display: block;width: 100%;margin-bottom: 0;padding: 0.3em;box-sizing: border-box;text-align: center;}#sk-container-id-2 label.sk-toggleable__label-arrow:before {content: \"▸\";float: left;margin-right: 0.25em;color: #696969;}#sk-container-id-2 label.sk-toggleable__label-arrow:hover:before {color: black;}#sk-container-id-2 div.sk-estimator:hover label.sk-toggleable__label-arrow:before {color: black;}#sk-container-id-2 div.sk-toggleable__content {max-height: 0;max-width: 0;overflow: hidden;text-align: left;background-color: #f0f8ff;}#sk-container-id-2 div.sk-toggleable__content pre {margin: 0.2em;color: black;border-radius: 0.25em;background-color: #f0f8ff;}#sk-container-id-2 input.sk-toggleable__control:checked~div.sk-toggleable__content {max-height: 200px;max-width: 100%;overflow: auto;}#sk-container-id-2 input.sk-toggleable__control:checked~label.sk-toggleable__label-arrow:before {content: \"▾\";}#sk-container-id-2 div.sk-estimator input.sk-toggleable__control:checked~label.sk-toggleable__label {background-color: #d4ebff;}#sk-container-id-2 div.sk-label input.sk-toggleable__control:checked~label.sk-toggleable__label {background-color: #d4ebff;}#sk-container-id-2 input.sk-hidden--visually {border: 0;clip: rect(1px 1px 1px 1px);clip: rect(1px, 1px, 1px, 1px);height: 1px;margin: -1px;overflow: hidden;padding: 0;position: absolute;width: 1px;}#sk-container-id-2 div.sk-estimator {font-family: monospace;background-color: #f0f8ff;border: 1px dotted black;border-radius: 0.25em;box-sizing: border-box;margin-bottom: 0.5em;}#sk-container-id-2 div.sk-estimator:hover {background-color: #d4ebff;}#sk-container-id-2 div.sk-parallel-item::after {content: \"\";width: 100%;border-bottom: 1px solid gray;flex-grow: 1;}#sk-container-id-2 div.sk-label:hover label.sk-toggleable__label {background-color: #d4ebff;}#sk-container-id-2 div.sk-serial::before {content: \"\";position: absolute;border-left: 1px solid gray;box-sizing: border-box;top: 0;bottom: 0;left: 50%;z-index: 0;}#sk-container-id-2 div.sk-serial {display: flex;flex-direction: column;align-items: center;background-color: white;padding-right: 0.2em;padding-left: 0.2em;position: relative;}#sk-container-id-2 div.sk-item {position: relative;z-index: 1;}#sk-container-id-2 div.sk-parallel {display: flex;align-items: stretch;justify-content: center;background-color: white;position: relative;}#sk-container-id-2 div.sk-item::before, #sk-container-id-2 div.sk-parallel-item::before {content: \"\";position: absolute;border-left: 1px solid gray;box-sizing: border-box;top: 0;bottom: 0;left: 50%;z-index: -1;}#sk-container-id-2 div.sk-parallel-item {display: flex;flex-direction: column;z-index: 1;position: relative;background-color: white;}#sk-container-id-2 div.sk-parallel-item:first-child::after {align-self: flex-end;width: 50%;}#sk-container-id-2 div.sk-parallel-item:last-child::after {align-self: flex-start;width: 50%;}#sk-container-id-2 div.sk-parallel-item:only-child::after {width: 0;}#sk-container-id-2 div.sk-dashed-wrapped {border: 1px dashed gray;margin: 0 0.4em 0.5em 0.4em;box-sizing: border-box;padding-bottom: 0.4em;background-color: white;}#sk-container-id-2 div.sk-label label {font-family: monospace;font-weight: bold;display: inline-block;line-height: 1.2em;}#sk-container-id-2 div.sk-label-container {text-align: center;}#sk-container-id-2 div.sk-container {/* jupyter's `normalize.less` sets `[hidden] { display: none; }` but bootstrap.min.css set `[hidden] { display: none !important; }` so we also need the `!important` here to be able to override the default hidden behavior on the sphinx rendered scikit-learn.org. See: https://github.com/scikit-learn/scikit-learn/issues/21755 */display: inline-block !important;position: relative;}#sk-container-id-2 div.sk-text-repr-fallback {display: none;}</style><div id=\"sk-container-id-2\" class=\"sk-top-container\"><div class=\"sk-text-repr-fallback\"><pre>LinearRegression()</pre><b>In a Jupyter environment, please rerun this cell to show the HTML representation or trust the notebook. <br />On GitHub, the HTML representation is unable to render, please try loading this page with nbviewer.org.</b></div><div class=\"sk-container\" hidden><div class=\"sk-item\"><div class=\"sk-estimator sk-toggleable\"><input class=\"sk-toggleable__control sk-hidden--visually\" id=\"sk-estimator-id-2\" type=\"checkbox\" checked><label for=\"sk-estimator-id-2\" class=\"sk-toggleable__label sk-toggleable__label-arrow\">LinearRegression</label><div class=\"sk-toggleable__content\"><pre>LinearRegression()</pre></div></div></div></div></div>"
            ]
          },
          "metadata": {},
          "execution_count": 28
        }
      ]
    },
    {
      "cell_type": "code",
      "source": [
        "#Verificamos los coeficientes obtenidos para el modelo ajustado\n",
        "model.__dict__"
      ],
      "metadata": {
        "colab": {
          "base_uri": "https://localhost:8080/"
        },
        "outputId": "0698fb24-9ed3-4571-a1bf-94c8ea1cb7ff",
        "id": "Q1DO2uaCEW9u"
      },
      "execution_count": null,
      "outputs": [
        {
          "output_type": "execute_result",
          "data": {
            "text/plain": [
              "{'fit_intercept': True,\n",
              " 'copy_X': True,\n",
              " 'n_jobs': None,\n",
              " 'positive': False,\n",
              " 'feature_names_in_': array(['availability_365', 'host_response_rate', 'number_of_reviews',\n",
              "        'accommodates'], dtype=object),\n",
              " 'n_features_in_': 4,\n",
              " 'coef_': array([   0.37449276, -284.6573589 ,   -1.34962041,  213.12536151]),\n",
              " 'rank_': 4,\n",
              " 'singular_': array([6569.11214239, 4963.9114323 ,   64.64482961,   18.03531766]),\n",
              " 'intercept_': 186.80212874366015}"
            ]
          },
          "metadata": {},
          "execution_count": 29
        }
      ]
    },
    {
      "cell_type": "markdown",
      "source": [
        "**Modelo matemático: y= 0.37449276x1 + -284.6573589x2 + -1.34962041x3 + 213.12536151x4 + 186.80212874366015**"
      ],
      "metadata": {
        "id": "2RLgnLeDEW9u"
      }
    },
    {
      "cell_type": "code",
      "source": [
        "#Corroboramos cual es el coeficiente de Determinación de nuestro modelo\n",
        "coef_Deter2=model.score(X=Vars_Indep, y=Var_Dep)\n",
        "coef_Deter2"
      ],
      "metadata": {
        "colab": {
          "base_uri": "https://localhost:8080/"
        },
        "outputId": "5e79ab3b-6019-46c3-ec5d-bfe692fd2a60",
        "id": "vhEFZV9sEW9u"
      },
      "execution_count": null,
      "outputs": [
        {
          "output_type": "execute_result",
          "data": {
            "text/plain": [
              "0.027626156491513565"
            ]
          },
          "metadata": {},
          "execution_count": 31
        }
      ]
    },
    {
      "cell_type": "code",
      "source": [
        "#Corroboramos cual es el coeficiente de Correlación de nuestro modelo\n",
        "coef_Correl2=np.sqrt(coef_Deter2)\n",
        "coef_Correl2"
      ],
      "metadata": {
        "colab": {
          "base_uri": "https://localhost:8080/"
        },
        "outputId": "99e79099-abeb-4c75-8add-a892c2203734",
        "id": "sKlLt74pEW9u"
      },
      "execution_count": null,
      "outputs": [
        {
          "output_type": "execute_result",
          "data": {
            "text/plain": [
              "0.16621118040466942"
            ]
          },
          "metadata": {},
          "execution_count": 32
        }
      ]
    },
    {
      "cell_type": "code",
      "source": [
        "det.append(coef_Deter2)\n",
        "corr.append(np.sqrt(coef_Correl2))\n",
        "Ta_V.append(\"Private room / Price vs availability_365, host_response_rate, number_of_reviews, accommodates\")"
      ],
      "metadata": {
        "id": "dvWgXZFpEW9u"
      },
      "execution_count": null,
      "outputs": []
    },
    {
      "cell_type": "markdown",
      "source": [
        "### **host_acceptance_rate vs number_of_reviews,review_scores_cleanliness,review_scores_communication**"
      ],
      "metadata": {
        "id": "kdOj9BoHFfZQ"
      }
    },
    {
      "cell_type": "code",
      "source": [
        "from turtle import color\n",
        "\n",
        "sns.scatterplot(x='number_of_reviews', y='host_acceptance_rate', color=\"red\", data=PR_EUA)\n",
        "sns.scatterplot(x='review_scores_cleanliness', y='host_acceptance_rate', color=\"blue\", data=PR_EUA)\n",
        "sns.scatterplot(x='review_scores_communication', y='host_acceptance_rate', color=\"green\", data=PR_EUA)"
      ],
      "metadata": {
        "colab": {
          "base_uri": "https://localhost:8080/",
          "height": 468
        },
        "outputId": "ce2bdbcd-7572-4589-a34d-7490043d3215",
        "id": "TiLoNJLiFfZR"
      },
      "execution_count": null,
      "outputs": [
        {
          "output_type": "execute_result",
          "data": {
            "text/plain": [
              "<Axes: xlabel='number_of_reviews', ylabel='host_acceptance_rate'>"
            ]
          },
          "metadata": {},
          "execution_count": 36
        },
        {
          "output_type": "display_data",
          "data": {
            "text/plain": [
              "<Figure size 640x480 with 1 Axes>"
            ],
            "image/png": "[encoded data removed]"
          },
          "metadata": {}
        }
      ]
    },
    {
      "cell_type": "code",
      "source": [
        "#Declaramos las variables dependientes e independientes para la regresión lineal\n",
        "Vars_Indep= PR_EUA[['number_of_reviews','review_scores_cleanliness','review_scores_communication']]\n",
        "Var_Dep= PR_EUA['host_acceptance_rate']"
      ],
      "metadata": {
        "id": "sI1oW4uVFfZS"
      },
      "execution_count": null,
      "outputs": []
    },
    {
      "cell_type": "code",
      "source": [
        "#Se define model como la función de regresión lineal\n",
        "from sklearn.linear_model import LinearRegression\n",
        "model= LinearRegression()"
      ],
      "metadata": {
        "id": "8tjPLeemFfZS"
      },
      "execution_count": null,
      "outputs": []
    },
    {
      "cell_type": "code",
      "source": [
        "#Verificamos la función relacionada al modelo\n",
        "type(model)"
      ],
      "metadata": {
        "colab": {
          "base_uri": "https://localhost:8080/"
        },
        "outputId": "fab2b00c-1e82-42d6-e86d-c9f867079c95",
        "id": "WbccnaBhFfZS"
      },
      "execution_count": null,
      "outputs": [
        {
          "output_type": "execute_result",
          "data": {
            "text/plain": [
              "sklearn.linear_model._base.LinearRegression"
            ]
          },
          "metadata": {},
          "execution_count": 39
        }
      ]
    },
    {
      "cell_type": "code",
      "source": [
        "#Ajustamos el modelo con las variables antes declaradas\n",
        "model.fit(X=Vars_Indep, y=Var_Dep)"
      ],
      "metadata": {
        "colab": {
          "base_uri": "https://localhost:8080/",
          "height": 75
        },
        "outputId": "14afd19e-4b8a-4996-9a7b-f8ad2d915fd7",
        "id": "M3IQpkADFfZS"
      },
      "execution_count": null,
      "outputs": [
        {
          "output_type": "execute_result",
          "data": {
            "text/plain": [
              "LinearRegression()"
            ],
            "text/html": [
              "<style>#sk-container-id-3 {color: black;background-color: white;}#sk-container-id-3 pre{padding: 0;}#sk-container-id-3 div.sk-toggleable {background-color: white;}#sk-container-id-3 label.sk-toggleable__label {cursor: pointer;display: block;width: 100%;margin-bottom: 0;padding: 0.3em;box-sizing: border-box;text-align: center;}#sk-container-id-3 label.sk-toggleable__label-arrow:before {content: \"▸\";float: left;margin-right: 0.25em;color: #696969;}#sk-container-id-3 label.sk-toggleable__label-arrow:hover:before {color: black;}#sk-container-id-3 div.sk-estimator:hover label.sk-toggleable__label-arrow:before {color: black;}#sk-container-id-3 div.sk-toggleable__content {max-height: 0;max-width: 0;overflow: hidden;text-align: left;background-color: #f0f8ff;}#sk-container-id-3 div.sk-toggleable__content pre {margin: 0.2em;color: black;border-radius: 0.25em;background-color: #f0f8ff;}#sk-container-id-3 input.sk-toggleable__control:checked~div.sk-toggleable__content {max-height: 200px;max-width: 100%;overflow: auto;}#sk-container-id-3 input.sk-toggleable__control:checked~label.sk-toggleable__label-arrow:before {content: \"▾\";}#sk-container-id-3 div.sk-estimator input.sk-toggleable__control:checked~label.sk-toggleable__label {background-color: #d4ebff;}#sk-container-id-3 div.sk-label input.sk-toggleable__control:checked~label.sk-toggleable__label {background-color: #d4ebff;}#sk-container-id-3 input.sk-hidden--visually {border: 0;clip: rect(1px 1px 1px 1px);clip: rect(1px, 1px, 1px, 1px);height: 1px;margin: -1px;overflow: hidden;padding: 0;position: absolute;width: 1px;}#sk-container-id-3 div.sk-estimator {font-family: monospace;background-color: #f0f8ff;border: 1px dotted black;border-radius: 0.25em;box-sizing: border-box;margin-bottom: 0.5em;}#sk-container-id-3 div.sk-estimator:hover {background-color: #d4ebff;}#sk-container-id-3 div.sk-parallel-item::after {content: \"\";width: 100%;border-bottom: 1px solid gray;flex-grow: 1;}#sk-container-id-3 div.sk-label:hover label.sk-toggleable__label {background-color: #d4ebff;}#sk-container-id-3 div.sk-serial::before {content: \"\";position: absolute;border-left: 1px solid gray;box-sizing: border-box;top: 0;bottom: 0;left: 50%;z-index: 0;}#sk-container-id-3 div.sk-serial {display: flex;flex-direction: column;align-items: center;background-color: white;padding-right: 0.2em;padding-left: 0.2em;position: relative;}#sk-container-id-3 div.sk-item {position: relative;z-index: 1;}#sk-container-id-3 div.sk-parallel {display: flex;align-items: stretch;justify-content: center;background-color: white;position: relative;}#sk-container-id-3 div.sk-item::before, #sk-container-id-3 div.sk-parallel-item::before {content: \"\";position: absolute;border-left: 1px solid gray;box-sizing: border-box;top: 0;bottom: 0;left: 50%;z-index: -1;}#sk-container-id-3 div.sk-parallel-item {display: flex;flex-direction: column;z-index: 1;position: relative;background-color: white;}#sk-container-id-3 div.sk-parallel-item:first-child::after {align-self: flex-end;width: 50%;}#sk-container-id-3 div.sk-parallel-item:last-child::after {align-self: flex-start;width: 50%;}#sk-container-id-3 div.sk-parallel-item:only-child::after {width: 0;}#sk-container-id-3 div.sk-dashed-wrapped {border: 1px dashed gray;margin: 0 0.4em 0.5em 0.4em;box-sizing: border-box;padding-bottom: 0.4em;background-color: white;}#sk-container-id-3 div.sk-label label {font-family: monospace;font-weight: bold;display: inline-block;line-height: 1.2em;}#sk-container-id-3 div.sk-label-container {text-align: center;}#sk-container-id-3 div.sk-container {/* jupyter's `normalize.less` sets `[hidden] { display: none; }` but bootstrap.min.css set `[hidden] { display: none !important; }` so we also need the `!important` here to be able to override the default hidden behavior on the sphinx rendered scikit-learn.org. See: https://github.com/scikit-learn/scikit-learn/issues/21755 */display: inline-block !important;position: relative;}#sk-container-id-3 div.sk-text-repr-fallback {display: none;}</style><div id=\"sk-container-id-3\" class=\"sk-top-container\"><div class=\"sk-text-repr-fallback\"><pre>LinearRegression()</pre><b>In a Jupyter environment, please rerun this cell to show the HTML representation or trust the notebook. <br />On GitHub, the HTML representation is unable to render, please try loading this page with nbviewer.org.</b></div><div class=\"sk-container\" hidden><div class=\"sk-item\"><div class=\"sk-estimator sk-toggleable\"><input class=\"sk-toggleable__control sk-hidden--visually\" id=\"sk-estimator-id-3\" type=\"checkbox\" checked><label for=\"sk-estimator-id-3\" class=\"sk-toggleable__label sk-toggleable__label-arrow\">LinearRegression</label><div class=\"sk-toggleable__content\"><pre>LinearRegression()</pre></div></div></div></div></div>"
            ]
          },
          "metadata": {},
          "execution_count": 40
        }
      ]
    },
    {
      "cell_type": "code",
      "source": [
        "#Verificamos los coeficientes obtenidos para el modelo ajustado\n",
        "model.__dict__"
      ],
      "metadata": {
        "colab": {
          "base_uri": "https://localhost:8080/"
        },
        "outputId": "f0baf73b-3b93-42d3-8058-fffdf1514817",
        "id": "YUEVE5yTFfZS"
      },
      "execution_count": null,
      "outputs": [
        {
          "output_type": "execute_result",
          "data": {
            "text/plain": [
              "{'fit_intercept': True,\n",
              " 'copy_X': True,\n",
              " 'n_jobs': None,\n",
              " 'positive': False,\n",
              " 'feature_names_in_': array(['number_of_reviews', 'review_scores_cleanliness',\n",
              "        'review_scores_communication'], dtype=object),\n",
              " 'n_features_in_': 3,\n",
              " 'coef_': array([0.00048369, 0.03010285, 0.02614852]),\n",
              " 'rank_': 3,\n",
              " 'singular_': array([4964.06839799,  124.82742293,   12.00308149]),\n",
              " 'intercept_': 0.5297666312104297}"
            ]
          },
          "metadata": {},
          "execution_count": 41
        }
      ]
    },
    {
      "cell_type": "markdown",
      "source": [
        "**Modelo matemático: y= 0.00048369x1 + 0.03010285x2 + 0.02614852x3 + 0.5297666312104297**"
      ],
      "metadata": {
        "id": "on0QHO0BFfZS"
      }
    },
    {
      "cell_type": "code",
      "source": [
        "#Corroboramos cual es el coeficiente de Determinación de nuestro modelo\n",
        "coef_Deter3=model.score(X=Vars_Indep, y=Var_Dep)\n",
        "coef_Deter3"
      ],
      "metadata": {
        "colab": {
          "base_uri": "https://localhost:8080/"
        },
        "outputId": "4cb73ef5-b1b7-4673-9eb1-60ebd63ebb15",
        "id": "vPdGnUs1FfZS"
      },
      "execution_count": null,
      "outputs": [
        {
          "output_type": "execute_result",
          "data": {
            "text/plain": [
              "0.1259492998514291"
            ]
          },
          "metadata": {},
          "execution_count": 42
        }
      ]
    },
    {
      "cell_type": "code",
      "source": [
        "#Corroboramos cual es el coeficiente de Correlación de nuestro modelo\n",
        "coef_Correl3=np.sqrt(coef_Deter3)\n",
        "coef_Correl3"
      ],
      "metadata": {
        "colab": {
          "base_uri": "https://localhost:8080/"
        },
        "outputId": "e4f4491f-c666-4953-ceb5-9deac45ef4b4",
        "id": "5NT4GCyYFfZT"
      },
      "execution_count": null,
      "outputs": [
        {
          "output_type": "execute_result",
          "data": {
            "text/plain": [
              "0.3548933640566263"
            ]
          },
          "metadata": {},
          "execution_count": 43
        }
      ]
    },
    {
      "cell_type": "code",
      "source": [
        "det.append(coef_Deter3)\n",
        "corr.append(np.sqrt(coef_Correl3))\n",
        "Ta_V.append(\"Private room / host_acceptance_rate vs number_of_reviews,review_scores_cleanliness,review_scores_communication\")"
      ],
      "metadata": {
        "id": "XfcPJaFWFfZT"
      },
      "execution_count": null,
      "outputs": []
    },
    {
      "cell_type": "markdown",
      "source": [
        "## **Hotel room**"
      ],
      "metadata": {
        "id": "8EA-2cSIGqZo"
      }
    },
    {
      "cell_type": "code",
      "source": [
        "HR_EUA = EUA.loc[EUA['room_type'] == \"Hotel room\"]\n",
        "HR_EUA"
      ],
      "metadata": {
        "colab": {
          "base_uri": "https://localhost:8080/",
          "height": 1000
        },
        "outputId": "c6eaa491-aad5-4008-d64d-aa334d9b5cfb",
        "id": "1grzEVFWG9II"
      },
      "execution_count": null,
      "outputs": [
        {
          "output_type": "execute_result",
          "data": {
            "text/plain": [
              "      Unnamed: 0.1  Unnamed: 0  host_response_rate  host_acceptance_rate  \\\n",
              "711            711         711                0.99                  1.00   \n",
              "787            787         787                0.99                  1.00   \n",
              "938            938         938                1.00                  0.92   \n",
              "1704          1704        1704                0.99                  1.00   \n",
              "2229          2229        2229                0.80                  1.00   \n",
              "2230          2230        2230                0.80                  1.00   \n",
              "2246          2246        2246                0.80                  1.00   \n",
              "2247          2247        2247                0.80                  1.00   \n",
              "2248          2248        2248                0.80                  1.00   \n",
              "2252          2252        2252                0.80                  1.00   \n",
              "2287          2287        2287                0.80                  1.00   \n",
              "2289          2289        2289                0.80                  1.00   \n",
              "2292          2292        2292                0.80                  1.00   \n",
              "2298          2298        2298                0.80                  1.00   \n",
              "2301          2301        2301                0.80                  1.00   \n",
              "2368          2368        2368                0.00                  0.00   \n",
              "2982          2982        2982                0.99                  1.00   \n",
              "3004          3004        3004                0.00                  0.00   \n",
              "3005          3005        3005                0.00                  0.00   \n",
              "3006          3006        3006                0.00                  0.00   \n",
              "3007          3007        3007                0.00                  0.00   \n",
              "3008          3008        3008                0.00                  0.00   \n",
              "3081          3081        3081                0.95                  0.99   \n",
              "3082          3082        3082                0.95                  0.99   \n",
              "3083          3083        3083                0.95                  0.99   \n",
              "3084          3084        3084                0.95                  0.99   \n",
              "3085          3085        3085                0.95                  0.99   \n",
              "3086          3086        3086                0.95                  0.99   \n",
              "3087          3087        3087                0.95                  0.99   \n",
              "3088          3088        3088                0.95                  0.99   \n",
              "3089          3089        3089                0.95                  0.99   \n",
              "3188          3188        3188                0.99                  1.00   \n",
              "3219          3219        3219                0.99                  1.00   \n",
              "3243          3243        3243                0.90                  1.00   \n",
              "3244          3244        3244                0.90                  1.00   \n",
              "3249          3249        3249                1.00                  0.99   \n",
              "3250          3250        3250                1.00                  0.99   \n",
              "3251          3251        3251                1.00                  0.99   \n",
              "3266          3266        3266                0.75                  0.97   \n",
              "3288          3288        3288                0.99                  1.00   \n",
              "3295          3295        3295                0.99                  1.00   \n",
              "3296          3296        3296                0.99                  1.00   \n",
              "3317          3317        3317                0.99                  1.00   \n",
              "3327          3327        3327                0.99                  1.00   \n",
              "3355          3355        3355                0.99                  1.00   \n",
              "3396          3396        3396                0.00                  0.00   \n",
              "3398          3398        3398                1.00                  1.00   \n",
              "3399          3399        3399                1.00                  1.00   \n",
              "3400          3400        3400                1.00                  1.00   \n",
              "3401          3401        3401                0.00                  0.00   \n",
              "4519          4519        4519                0.00                  0.00   \n",
              "4690          4690        4690                1.00                  1.00   \n",
              "\n",
              "      host_listings_count   latitude   longitude  accommodates  bathrooms  \\\n",
              "711                    16  37.799200 -122.423580             2          0   \n",
              "787                    16  37.796960 -122.425390             4          0   \n",
              "938                     5  37.787290 -122.409280             4          0   \n",
              "1704                   14  37.777220 -122.415600             1          0   \n",
              "2229                   61  37.786690 -122.408820             2          0   \n",
              "2230                   61  37.787450 -122.407140             2          0   \n",
              "2246                   61  37.785960 -122.408560             2          0   \n",
              "2247                   61  37.785940 -122.407040             2          0   \n",
              "2248                   61  37.787520 -122.407120             2          0   \n",
              "2252                   61  37.787970 -122.409070             2          0   \n",
              "2287                   61  37.786750 -122.409050             2          0   \n",
              "2289                   61  37.785980 -122.408450             2          0   \n",
              "2292                   61  37.786340 -122.407170             2          0   \n",
              "2298                   61  37.785850 -122.407300             2          0   \n",
              "2301                   61  37.786030 -122.407720             2          0   \n",
              "2368                   43  37.769440 -122.449920             2          0   \n",
              "2982                   14  37.776280 -122.415070             1          0   \n",
              "3004                   11  37.796620 -122.424660             4          0   \n",
              "3005                   11  37.786700 -122.410840             4          0   \n",
              "3006                   11  37.786330 -122.412610             4          0   \n",
              "3007                   11  37.786960 -122.406730             4          0   \n",
              "3008                   11  37.795380 -122.401880             2          0   \n",
              "3081                    9  37.781270 -122.412710             2          0   \n",
              "3082                    9  37.779630 -122.412980             2          0   \n",
              "3083                    9  37.779300 -122.410960             2          0   \n",
              "3084                    9  37.779490 -122.411330             2          0   \n",
              "3085                    9  37.781410 -122.411040             2          0   \n",
              "3086                    9  37.780020 -122.411180             2          0   \n",
              "3087                    9  37.781020 -122.411410             2          0   \n",
              "3088                    9  37.781280 -122.411660             2          0   \n",
              "3089                    9  37.779300 -122.410990             2          0   \n",
              "3188                   14  37.772640 -122.409910             1          0   \n",
              "3219                   14  37.776440 -122.414720             1          0   \n",
              "3243                    8  37.783940 -122.408490             2          0   \n",
              "3244                    8  37.785270 -122.408640             2          0   \n",
              "3249                   12  37.788560 -122.419520             2          0   \n",
              "3250                   12  37.788560 -122.419520             2          0   \n",
              "3251                   12  37.788560 -122.419520             4          0   \n",
              "3266                  421  37.788500 -122.414040             4          0   \n",
              "3288                   14  37.771770 -122.409270             2          0   \n",
              "3295                    4  37.790350 -122.406190             2          0   \n",
              "3296                    4  37.792060 -122.406630             2          0   \n",
              "3317                    4  37.790390 -122.406720             2          0   \n",
              "3327                   14  37.773520 -122.410940             1          0   \n",
              "3355                   14  37.772090 -122.408820             2          0   \n",
              "3396                    8  37.807020 -122.409170             4          0   \n",
              "3398                    5  37.784990 -122.445380             2          0   \n",
              "3399                    5  37.787130 -122.445280             1          0   \n",
              "3400                    5  37.785430 -122.445330             3          0   \n",
              "3401                    8  37.806690 -122.410750             2          0   \n",
              "4519                    4  37.790258 -122.410557             0          0   \n",
              "4690                    5  37.789250 -122.404498             0          0   \n",
              "\n",
              "      bedrooms  ...  bathrooms_text  bedrooms.1  \\\n",
              "711          1  ...  1 private bath           1   \n",
              "787          1  ...  1 private bath           1   \n",
              "938          1  ...  1 private bath           1   \n",
              "1704         1  ...  4 shared baths           1   \n",
              "2229         0  ...  1 private bath           0   \n",
              "2230         0  ...  1 private bath           0   \n",
              "2246         0  ...  1 private bath           0   \n",
              "2247         0  ...  1 private bath           0   \n",
              "2248         0  ...  1 private bath           0   \n",
              "2252         0  ...  1 private bath           0   \n",
              "2287         0  ...  1 private bath           0   \n",
              "2289         0  ...  1 private bath           0   \n",
              "2292         0  ...  1 private bath           0   \n",
              "2298         0  ...  1 private bath           0   \n",
              "2301         0  ...  1 private bath           0   \n",
              "2368         1  ...  5 shared baths           1   \n",
              "2982         1  ...  4 shared baths           1   \n",
              "3004         1  ...          1 bath           1   \n",
              "3005         1  ...          1 bath           1   \n",
              "3006         1  ...          1 bath           1   \n",
              "3007         1  ...          1 bath           1   \n",
              "3008         1  ...          1 bath           1   \n",
              "3081         1  ...  1 private bath           1   \n",
              "3082         1  ...  1 private bath           1   \n",
              "3083         1  ...  1 private bath           1   \n",
              "3084         1  ...  1 private bath           1   \n",
              "3085         1  ...  1 private bath           1   \n",
              "3086         1  ...  1 private bath           1   \n",
              "3087         1  ...  1 private bath           1   \n",
              "3088         1  ...  1 private bath           1   \n",
              "3089         1  ...  1 private bath           1   \n",
              "3188         1  ...  4 shared baths           1   \n",
              "3219         1  ...  4 shared baths           1   \n",
              "3243         1  ...  1 private bath           1   \n",
              "3244         1  ...  1 private bath           1   \n",
              "3249         1  ...  0 shared baths           1   \n",
              "3250         1  ...  1 private bath           1   \n",
              "3251         1  ...  1 private bath           1   \n",
              "3266         1  ...  1 private bath           1   \n",
              "3288         1  ...  1 private bath           1   \n",
              "3295         1  ...  1 private bath           1   \n",
              "3296         1  ...  1 private bath           1   \n",
              "3317         1  ...  1 private bath           1   \n",
              "3327         1  ...  4 shared baths           1   \n",
              "3355         1  ...  4 shared baths           1   \n",
              "3396         1  ...  1 private bath           1   \n",
              "3398         1  ...  1 private bath           1   \n",
              "3399         1  ...          1 bath           1   \n",
              "3400         1  ...          1 bath           1   \n",
              "3401         1  ...  1 private bath           1   \n",
              "4519         0  ...              --           0   \n",
              "4690         0  ...              --           0   \n",
              "\n",
              "                                              amenities  calendar_updated.1  \\\n",
              "711   [\"Essentials\", \"Carbon monoxide alarm\", \"Build...                  --   \n",
              "787   [\"Security cameras on property\", \"Self check-i...                  --   \n",
              "938   [\"Self check-in\", \"Shampoo\", \"Air conditioning...                  --   \n",
              "1704  [\"Paid parking garage off premises\", \"Security...                  --   \n",
              "2229  [\"Security cameras on property\", \"Shampoo\", \"T...                  --   \n",
              "2230  [\"Paid parking garage off premises\", \"Security...                  --   \n",
              "2246  [\"Security cameras on property\", \"Shampoo\", \"T...                  --   \n",
              "2247  [\"Security cameras on property\", \"Shampoo\", \"T...                  --   \n",
              "2248  [\"Paid parking garage off premises\", \"Security...                  --   \n",
              "2252  [\"Paid parking garage off premises\", \"Security...                  --   \n",
              "2287  [\"Security cameras on property\", \"Shampoo\", \"T...                  --   \n",
              "2289  [\"Paid parking garage off premises\", \"Security...                  --   \n",
              "2292  [\"Security cameras on property\", \"Shampoo\", \"P...                  --   \n",
              "2298  [\"Security cameras on property\", \"Shampoo\", \"T...                  --   \n",
              "2301  [\"Paid parking garage off premises\", \"Security...                  --   \n",
              "2368  [\"Oven\", \"Self check-in\", \"Cooking basics\", \"L...                  --   \n",
              "2982  [\"Paid parking garage off premises\", \"Security...                  --   \n",
              "3004  [\"Carbon monoxide alarm\", \"Coffee maker\", \"Ele...                  --   \n",
              "3005  [\"Luggage dropoff allowed\", \"Host greets you\",...                  --   \n",
              "3006  [\"Luggage dropoff allowed\", \"Host greets you\",...                  --   \n",
              "3007  [\"Carbon monoxide alarm\", \"Coffee maker\", \"Bat...                  --   \n",
              "3008  [\"Luggage dropoff allowed\", \"Host greets you\",...                  --   \n",
              "3081  [\"Essentials\", \"Bed linens\", \"Carbon monoxide ...                  --   \n",
              "3082  [\"Essentials\", \"Bed linens\", \"Carbon monoxide ...                  --   \n",
              "3083  [\"Essentials\", \"Bed linens\", \"Carbon monoxide ...                  --   \n",
              "3084  [\"Luggage dropoff allowed\", \"Shampoo\", \"Air co...                  --   \n",
              "3085  [\"Luggage dropoff allowed\", \"Shampoo\", \"Air co...                  --   \n",
              "3086  [\"Essentials\", \"Bed linens\", \"Carbon monoxide ...                  --   \n",
              "3087  [\"Luggage dropoff allowed\", \"Shampoo\", \"Air co...                  --   \n",
              "3088  [\"Essentials\", \"Bed linens\", \"Carbon monoxide ...                  --   \n",
              "3089  [\"Essentials\", \"Bed linens\", \"Carbon monoxide ...                  --   \n",
              "3188  [\"Paid parking garage off premises\", \"Security...                  --   \n",
              "3219  [\"Security cameras on property\", \"Self check-i...                  --   \n",
              "3243  [\"Essentials\", \"Building staff\", \"Coffee maker...                  --   \n",
              "3244  [\"Essentials\", \"Building staff\", \"Crib\", \"Hang...                  --   \n",
              "3249  [\"Paid parking garage off premises\", \"Security...                  --   \n",
              "3250  [\"Paid parking garage off premises\", \"Security...                  --   \n",
              "3251  [\"Paid parking garage off premises\", \"Security...                  --   \n",
              "3266  [\"Self check-in\", \"Luggage dropoff allowed\", \"...                  --   \n",
              "3288  [\"Paid parking garage off premises\", \"Security...                  --   \n",
              "3295  [\"Essentials\", \"Carbon monoxide alarm\", \"Extra...                  --   \n",
              "3296  [\"Essentials\", \"Carbon monoxide alarm\", \"Extra...                  --   \n",
              "3317  [\"Essentials\", \"Carbon monoxide alarm\", \"Extra...                  --   \n",
              "3327  [\"Paid parking garage off premises\", \"Security...                  --   \n",
              "3355  [\"Paid parking garage off premises\", \"Security...                  --   \n",
              "3396  [\"Self check-in\", \"Luggage dropoff allowed\", \"...                  --   \n",
              "3398  [\"Essentials\", \"Carbon monoxide alarm\", \"Break...                  --   \n",
              "3399  [\"Essentials\", \"Carbon monoxide alarm\", \"Break...                  --   \n",
              "3400  [\"Carbon monoxide alarm\", \"Breakfast\", \"Hanger...                  --   \n",
              "3401  [\"Self check-in\", \"Luggage dropoff allowed\", \"...                  --   \n",
              "4519  [\"Bed sheets and pillows\", \"Free wifi\", \"ROIL ...                  --   \n",
              "4690  [\"Toiletries\", \"Free wifi\", \"Limited housekeep...                  --   \n",
              "\n",
              "      has_availability  calendar_last_scraped  first_review  last_review  \\\n",
              "711                  t               06/03/23      22/11/14     19/02/23   \n",
              "787                  t               06/03/23      25/05/15     11/12/22   \n",
              "938                  t               06/03/23      05/09/15     01/08/21   \n",
              "1704                 t               06/03/23      10/02/17     20/02/23   \n",
              "2229                 t               06/03/23      22/05/19     04/09/22   \n",
              "2230                 t               06/03/23      10/05/19     16/02/20   \n",
              "2246                 t               06/03/23      15/03/18     13/11/22   \n",
              "2247                 t               06/03/23      15/04/18     15/09/22   \n",
              "2248                 t               06/03/23      16/03/18     29/02/20   \n",
              "2252                 t               06/03/23      24/03/18     25/02/20   \n",
              "2287                 t               06/03/23      22/04/18     25/02/20   \n",
              "2289                 t               06/03/23      31/03/18     28/02/20   \n",
              "2292                 t               06/03/23      29/03/18     12/09/22   \n",
              "2298                 t               06/03/23      23/05/19     10/09/22   \n",
              "2301                 t               06/03/23      10/03/18     23/09/22   \n",
              "2368                 t               06/03/23      12/02/18     08/03/20   \n",
              "2982                 t               06/03/23      03/05/19     23/02/23   \n",
              "3004                 f               06/03/23      07/05/19     07/07/19   \n",
              "3005                 f               06/03/23            --           --   \n",
              "3006                 f               06/03/23      19/05/19     19/05/19   \n",
              "3007                 f               06/03/23      19/08/19     19/08/19   \n",
              "3008                 f               06/03/23            --           --   \n",
              "3081                 t               06/03/23      21/02/22     17/04/22   \n",
              "3082                 t               06/03/23      30/07/19     01/01/23   \n",
              "3083                 t               06/03/23      30/03/22     20/02/23   \n",
              "3084                 t               06/03/23      03/11/19     31/07/22   \n",
              "3085                 t               06/03/23      12/11/22     12/11/22   \n",
              "3086                 t               06/03/23      21/03/22     05/10/22   \n",
              "3087                 t               06/03/23      05/10/19     05/10/19   \n",
              "3088                 t               06/03/23      17/06/19     04/01/23   \n",
              "3089                 t               06/03/23      20/02/22     02/06/22   \n",
              "3188                 t               06/03/23      20/06/19     11/02/23   \n",
              "3219                 t               06/03/23      01/08/19     10/02/23   \n",
              "3243                 t               06/03/23      05/10/19     05/02/23   \n",
              "3244                 t               06/03/23      08/12/19     03/02/23   \n",
              "3249                 t               06/03/23      28/08/19     12/02/23   \n",
              "3250                 t               06/03/23      01/09/19     13/11/22   \n",
              "3251                 t               06/03/23      18/11/19     19/02/23   \n",
              "3266                 t               06/03/23      04/11/19     06/09/22   \n",
              "3288                 t               06/03/23      28/07/19     10/02/23   \n",
              "3295                 t               06/03/23      17/08/19     05/03/23   \n",
              "3296                 t               06/03/23      25/08/19     05/03/23   \n",
              "3317                 t               06/03/23      13/02/20     20/02/23   \n",
              "3327                 t               06/03/23      01/07/19     20/02/23   \n",
              "3355                 t               06/03/23      20/07/19     28/02/23   \n",
              "3396                 t               06/03/23      16/01/20     12/01/23   \n",
              "3398                 t               06/03/23      26/08/19     06/09/19   \n",
              "3399                 t               06/03/23      28/02/20     28/02/20   \n",
              "3400                 t               06/03/23      28/12/20     15/02/21   \n",
              "3401                 t               06/03/23            --           --   \n",
              "4519                 t               06/03/23            --           --   \n",
              "4690                 t               06/03/23      23/05/21     29/01/23   \n",
              "\n",
              "                          license  instant_bookable  \n",
              "711                    FY 2017-18                 t  \n",
              "787                    FY 2017-18                 t  \n",
              "938   License not needed per OSTR                 f  \n",
              "1704                       Exempt                 f  \n",
              "2229                      1083521                 t  \n",
              "2230                      1083521                 t  \n",
              "2246                      1083521                 t  \n",
              "2247                      1083521                 t  \n",
              "2248                      1083521                 t  \n",
              "2252                      1083521                 t  \n",
              "2287                      1083521                 t  \n",
              "2289                      1083521                 t  \n",
              "2292                      1083521                 t  \n",
              "2298                      1083521                 t  \n",
              "2301                      1083521                 t  \n",
              "2368                      1003249                 t  \n",
              "2982  License not needed per OSTR                 f  \n",
              "3004                            0                 f  \n",
              "3005                            0                 f  \n",
              "3006                            0                 f  \n",
              "3007                            0                 f  \n",
              "3008                            0                 f  \n",
              "3081  License not needed per OSTR                 t  \n",
              "3082  License not needed per OSTR                 t  \n",
              "3083  License not needed per OSTR                 t  \n",
              "3084  License not needed per OSTR                 t  \n",
              "3085  License not needed per OSTR                 t  \n",
              "3086  License not needed per OSTR                 t  \n",
              "3087  License not needed per OSTR                 t  \n",
              "3088  License not needed per OSTR                 t  \n",
              "3089  License not needed per OSTR                 t  \n",
              "3188  License not needed per OSTR                 t  \n",
              "3219  License not needed per OSTR                 f  \n",
              "3243                       Exempt                 t  \n",
              "3244                       Exempt                 t  \n",
              "3249                       Exempt                 t  \n",
              "3250                       Exempt                 t  \n",
              "3251                       Exempt                 t  \n",
              "3266  License not needed per OSTR                 t  \n",
              "3288  License not needed per OSTR                 f  \n",
              "3295  License not needed per OSTR                 t  \n",
              "3296  License not needed per OSTR                 t  \n",
              "3317  License not needed per OSTR                 t  \n",
              "3327  License not needed per OSTR                 f  \n",
              "3355  License not needed per OSTR                 f  \n",
              "3396  License not needed per OSTR                 f  \n",
              "3398                       Exempt                 t  \n",
              "3399                       Exempt                 t  \n",
              "3400                       Exempt                 t  \n",
              "3401                       Exempt                 f  \n",
              "4519                            0                 f  \n",
              "4690                            0                 f  \n",
              "\n",
              "[52 rows x 79 columns]"
            ],
            "text/html": [
              "\n",
              "  <div id=\"df-e80e9434-28c4-46bf-8053-07c90e73d77f\">\n",
              "    <div class=\"colab-df-container\">\n",
              "      <div>\n",
              "<style scoped>\n",
              "    .dataframe tbody tr th:only-of-type {\n",
              "        vertical-align: middle;\n",
              "    }\n",
              "\n",
              "    .dataframe tbody tr th {\n",
              "        vertical-align: top;\n",
              "    }\n",
              "\n",
              "    .dataframe thead th {\n",
              "        text-align: right;\n",
              "    }\n",
              "</style>\n",
              "<table border=\"1\" class=\"dataframe\">\n",
              "  <thead>\n",
              "    <tr style=\"text-align: right;\">\n",
              "      <th></th>\n",
              "      <th>Unnamed: 0.1</th>\n",
              "      <th>Unnamed: 0</th>\n",
              "      <th>host_response_rate</th>\n",
              "      <th>host_acceptance_rate</th>\n",
              "      <th>host_listings_count</th>\n",
              "      <th>latitude</th>\n",
              "      <th>longitude</th>\n",
              "      <th>accommodates</th>\n",
              "      <th>bathrooms</th>\n",
              "      <th>bedrooms</th>\n",
              "      <th>...</th>\n",
              "      <th>bathrooms_text</th>\n",
              "      <th>bedrooms.1</th>\n",
              "      <th>amenities</th>\n",
              "      <th>calendar_updated.1</th>\n",
              "      <th>has_availability</th>\n",
              "      <th>calendar_last_scraped</th>\n",
              "      <th>first_review</th>\n",
              "      <th>last_review</th>\n",
              "      <th>license</th>\n",
              "      <th>instant_bookable</th>\n",
              "    </tr>\n",
              "  </thead>\n",
              "  <tbody>\n",
              "    <tr>\n",
              "      <th>711</th>\n",
              "      <td>711</td>\n",
              "      <td>711</td>\n",
              "      <td>0.99</td>\n",
              "      <td>1.00</td>\n",
              "      <td>16</td>\n",
              "      <td>37.799200</td>\n",
              "      <td>-122.423580</td>\n",
              "      <td>2</td>\n",
              "      <td>0</td>\n",
              "      <td>1</td>\n",
              "      <td>...</td>\n",
              "      <td>1 private bath</td>\n",
              "      <td>1</td>\n",
              "      <td>[\"Essentials\", \"Carbon monoxide alarm\", \"Build...</td>\n",
              "      <td>--</td>\n",
              "      <td>t</td>\n",
              "      <td>06/03/23</td>\n",
              "      <td>22/11/14</td>\n",
              "      <td>19/02/23</td>\n",
              "      <td>FY 2017-18</td>\n",
              "      <td>t</td>\n",
              "    </tr>\n",
              "    <tr>\n",
              "      <th>787</th>\n",
              "      <td>787</td>\n",
              "      <td>787</td>\n",
              "      <td>0.99</td>\n",
              "      <td>1.00</td>\n",
              "      <td>16</td>\n",
              "      <td>37.796960</td>\n",
              "      <td>-122.425390</td>\n",
              "      <td>4</td>\n",
              "      <td>0</td>\n",
              "      <td>1</td>\n",
              "      <td>...</td>\n",
              "      <td>1 private bath</td>\n",
              "      <td>1</td>\n",
              "      <td>[\"Security cameras on property\", \"Self check-i...</td>\n",
              "      <td>--</td>\n",
              "      <td>t</td>\n",
              "      <td>06/03/23</td>\n",
              "      <td>25/05/15</td>\n",
              "      <td>11/12/22</td>\n",
              "      <td>FY 2017-18</td>\n",
              "      <td>t</td>\n",
              "    </tr>\n",
              "    <tr>\n",
              "      <th>938</th>\n",
              "      <td>938</td>\n",
              "      <td>938</td>\n",
              "      <td>1.00</td>\n",
              "      <td>0.92</td>\n",
              "      <td>5</td>\n",
              "      <td>37.787290</td>\n",
              "      <td>-122.409280</td>\n",
              "      <td>4</td>\n",
              "      <td>0</td>\n",
              "      <td>1</td>\n",
              "      <td>...</td>\n",
              "      <td>1 private bath</td>\n",
              "      <td>1</td>\n",
              "      <td>[\"Self check-in\", \"Shampoo\", \"Air conditioning...</td>\n",
              "      <td>--</td>\n",
              "      <td>t</td>\n",
              "      <td>06/03/23</td>\n",
              "      <td>05/09/15</td>\n",
              "      <td>01/08/21</td>\n",
              "      <td>License not needed per OSTR</td>\n",
              "      <td>f</td>\n",
              "    </tr>\n",
              "    <tr>\n",
              "      <th>1704</th>\n",
              "      <td>1704</td>\n",
              "      <td>1704</td>\n",
              "      <td>0.99</td>\n",
              "      <td>1.00</td>\n",
              "      <td>14</td>\n",
              "      <td>37.777220</td>\n",
              "      <td>-122.415600</td>\n",
              "      <td>1</td>\n",
              "      <td>0</td>\n",
              "      <td>1</td>\n",
              "      <td>...</td>\n",
              "      <td>4 shared baths</td>\n",
              "      <td>1</td>\n",
              "      <td>[\"Paid parking garage off premises\", \"Security...</td>\n",
              "      <td>--</td>\n",
              "      <td>t</td>\n",
              "      <td>06/03/23</td>\n",
              "      <td>10/02/17</td>\n",
              "      <td>20/02/23</td>\n",
              "      <td>Exempt</td>\n",
              "      <td>f</td>\n",
              "    </tr>\n",
              "    <tr>\n",
              "      <th>2229</th>\n",
              "      <td>2229</td>\n",
              "      <td>2229</td>\n",
              "      <td>0.80</td>\n",
              "      <td>1.00</td>\n",
              "      <td>61</td>\n",
              "      <td>37.786690</td>\n",
              "      <td>-122.408820</td>\n",
              "      <td>2</td>\n",
              "      <td>0</td>\n",
              "      <td>0</td>\n",
              "      <td>...</td>\n",
              "      <td>1 private bath</td>\n",
              "      <td>0</td>\n",
              "      <td>[\"Security cameras on property\", \"Shampoo\", \"T...</td>\n",
              "      <td>--</td>\n",
              "      <td>t</td>\n",
              "      <td>06/03/23</td>\n",
              "      <td>22/05/19</td>\n",
              "      <td>04/09/22</td>\n",
              "      <td>1083521</td>\n",
              "      <td>t</td>\n",
              "    </tr>\n",
              "    <tr>\n",
              "      <th>2230</th>\n",
              "      <td>2230</td>\n",
              "      <td>2230</td>\n",
              "      <td>0.80</td>\n",
              "      <td>1.00</td>\n",
              "      <td>61</td>\n",
              "      <td>37.787450</td>\n",
              "      <td>-122.407140</td>\n",
              "      <td>2</td>\n",
              "      <td>0</td>\n",
              "      <td>0</td>\n",
              "      <td>...</td>\n",
              "      <td>1 private bath</td>\n",
              "      <td>0</td>\n",
              "      <td>[\"Paid parking garage off premises\", \"Security...</td>\n",
              "      <td>--</td>\n",
              "      <td>t</td>\n",
              "      <td>06/03/23</td>\n",
              "      <td>10/05/19</td>\n",
              "      <td>16/02/20</td>\n",
              "      <td>1083521</td>\n",
              "      <td>t</td>\n",
              "    </tr>\n",
              "    <tr>\n",
              "      <th>2246</th>\n",
              "      <td>2246</td>\n",
              "      <td>2246</td>\n",
              "      <td>0.80</td>\n",
              "      <td>1.00</td>\n",
              "      <td>61</td>\n",
              "      <td>37.785960</td>\n",
              "      <td>-122.408560</td>\n",
              "      <td>2</td>\n",
              "      <td>0</td>\n",
              "      <td>0</td>\n",
              "      <td>...</td>\n",
              "      <td>1 private bath</td>\n",
              "      <td>0</td>\n",
              "      <td>[\"Security cameras on property\", \"Shampoo\", \"T...</td>\n",
              "      <td>--</td>\n",
              "      <td>t</td>\n",
              "      <td>06/03/23</td>\n",
              "      <td>15/03/18</td>\n",
              "      <td>13/11/22</td>\n",
              "      <td>1083521</td>\n",
              "      <td>t</td>\n",
              "    </tr>\n",
              "    <tr>\n",
              "      <th>2247</th>\n",
              "      <td>2247</td>\n",
              "      <td>2247</td>\n",
              "      <td>0.80</td>\n",
              "      <td>1.00</td>\n",
              "      <td>61</td>\n",
              "      <td>37.785940</td>\n",
              "      <td>-122.407040</td>\n",
              "      <td>2</td>\n",
              "      <td>0</td>\n",
              "      <td>0</td>\n",
              "      <td>...</td>\n",
              "      <td>1 private bath</td>\n",
              "      <td>0</td>\n",
              "      <td>[\"Security cameras on property\", \"Shampoo\", \"T...</td>\n",
              "      <td>--</td>\n",
              "      <td>t</td>\n",
              "      <td>06/03/23</td>\n",
              "      <td>15/04/18</td>\n",
              "      <td>15/09/22</td>\n",
              "      <td>1083521</td>\n",
              "      <td>t</td>\n",
              "    </tr>\n",
              "    <tr>\n",
              "      <th>2248</th>\n",
              "      <td>2248</td>\n",
              "      <td>2248</td>\n",
              "      <td>0.80</td>\n",
              "      <td>1.00</td>\n",
              "      <td>61</td>\n",
              "      <td>37.787520</td>\n",
              "      <td>-122.407120</td>\n",
              "      <td>2</td>\n",
              "      <td>0</td>\n",
              "      <td>0</td>\n",
              "      <td>...</td>\n",
              "      <td>1 private bath</td>\n",
              "      <td>0</td>\n",
              "      <td>[\"Paid parking garage off premises\", \"Security...</td>\n",
              "      <td>--</td>\n",
              "      <td>t</td>\n",
              "      <td>06/03/23</td>\n",
              "      <td>16/03/18</td>\n",
              "      <td>29/02/20</td>\n",
              "      <td>1083521</td>\n",
              "      <td>t</td>\n",
              "    </tr>\n",
              "    <tr>\n",
              "      <th>2252</th>\n",
              "      <td>2252</td>\n",
              "      <td>2252</td>\n",
              "      <td>0.80</td>\n",
              "      <td>1.00</td>\n",
              "      <td>61</td>\n",
              "      <td>37.787970</td>\n",
              "      <td>-122.409070</td>\n",
              "      <td>2</td>\n",
              "      <td>0</td>\n",
              "      <td>0</td>\n",
              "      <td>...</td>\n",
              "      <td>1 private bath</td>\n",
              "      <td>0</td>\n",
              "      <td>[\"Paid parking garage off premises\", \"Security...</td>\n",
              "      <td>--</td>\n",
              "      <td>t</td>\n",
              "      <td>06/03/23</td>\n",
              "      <td>24/03/18</td>\n",
              "      <td>25/02/20</td>\n",
              "      <td>1083521</td>\n",
              "      <td>t</td>\n",
              "    </tr>\n",
              "    <tr>\n",
              "      <th>2287</th>\n",
              "      <td>2287</td>\n",
              "      <td>2287</td>\n",
              "      <td>0.80</td>\n",
              "      <td>1.00</td>\n",
              "      <td>61</td>\n",
              "      <td>37.786750</td>\n",
              "      <td>-122.409050</td>\n",
              "      <td>2</td>\n",
              "      <td>0</td>\n",
              "      <td>0</td>\n",
              "      <td>...</td>\n",
              "      <td>1 private bath</td>\n",
              "      <td>0</td>\n",
              "      <td>[\"Security cameras on property\", \"Shampoo\", \"T...</td>\n",
              "      <td>--</td>\n",
              "      <td>t</td>\n",
              "      <td>06/03/23</td>\n",
              "      <td>22/04/18</td>\n",
              "      <td>25/02/20</td>\n",
              "      <td>1083521</td>\n",
              "      <td>t</td>\n",
              "    </tr>\n",
              "    <tr>\n",
              "      <th>2289</th>\n",
              "      <td>2289</td>\n",
              "      <td>2289</td>\n",
              "      <td>0.80</td>\n",
              "      <td>1.00</td>\n",
              "      <td>61</td>\n",
              "      <td>37.785980</td>\n",
              "      <td>-122.408450</td>\n",
              "      <td>2</td>\n",
              "      <td>0</td>\n",
              "      <td>0</td>\n",
              "      <td>...</td>\n",
              "      <td>1 private bath</td>\n",
              "      <td>0</td>\n",
              "      <td>[\"Paid parking garage off premises\", \"Security...</td>\n",
              "      <td>--</td>\n",
              "      <td>t</td>\n",
              "      <td>06/03/23</td>\n",
              "      <td>31/03/18</td>\n",
              "      <td>28/02/20</td>\n",
              "      <td>1083521</td>\n",
              "      <td>t</td>\n",
              "    </tr>\n",
              "    <tr>\n",
              "      <th>2292</th>\n",
              "      <td>2292</td>\n",
              "      <td>2292</td>\n",
              "      <td>0.80</td>\n",
              "      <td>1.00</td>\n",
              "      <td>61</td>\n",
              "      <td>37.786340</td>\n",
              "      <td>-122.407170</td>\n",
              "      <td>2</td>\n",
              "      <td>0</td>\n",
              "      <td>0</td>\n",
              "      <td>...</td>\n",
              "      <td>1 private bath</td>\n",
              "      <td>0</td>\n",
              "      <td>[\"Security cameras on property\", \"Shampoo\", \"P...</td>\n",
              "      <td>--</td>\n",
              "      <td>t</td>\n",
              "      <td>06/03/23</td>\n",
              "      <td>29/03/18</td>\n",
              "      <td>12/09/22</td>\n",
              "      <td>1083521</td>\n",
              "      <td>t</td>\n",
              "    </tr>\n",
              "    <tr>\n",
              "      <th>2298</th>\n",
              "      <td>2298</td>\n",
              "      <td>2298</td>\n",
              "      <td>0.80</td>\n",
              "      <td>1.00</td>\n",
              "      <td>61</td>\n",
              "      <td>37.785850</td>\n",
              "      <td>-122.407300</td>\n",
              "      <td>2</td>\n",
              "      <td>0</td>\n",
              "      <td>0</td>\n",
              "      <td>...</td>\n",
              "      <td>1 private bath</td>\n",
              "      <td>0</td>\n",
              "      <td>[\"Security cameras on property\", \"Shampoo\", \"T...</td>\n",
              "      <td>--</td>\n",
              "      <td>t</td>\n",
              "      <td>06/03/23</td>\n",
              "      <td>23/05/19</td>\n",
              "      <td>10/09/22</td>\n",
              "      <td>1083521</td>\n",
              "      <td>t</td>\n",
              "    </tr>\n",
              "    <tr>\n",
              "      <th>2301</th>\n",
              "      <td>2301</td>\n",
              "      <td>2301</td>\n",
              "      <td>0.80</td>\n",
              "      <td>1.00</td>\n",
              "      <td>61</td>\n",
              "      <td>37.786030</td>\n",
              "      <td>-122.407720</td>\n",
              "      <td>2</td>\n",
              "      <td>0</td>\n",
              "      <td>0</td>\n",
              "      <td>...</td>\n",
              "      <td>1 private bath</td>\n",
              "      <td>0</td>\n",
              "      <td>[\"Paid parking garage off premises\", \"Security...</td>\n",
              "      <td>--</td>\n",
              "      <td>t</td>\n",
              "      <td>06/03/23</td>\n",
              "      <td>10/03/18</td>\n",
              "      <td>23/09/22</td>\n",
              "      <td>1083521</td>\n",
              "      <td>t</td>\n",
              "    </tr>\n",
              "    <tr>\n",
              "      <th>2368</th>\n",
              "      <td>2368</td>\n",
              "      <td>2368</td>\n",
              "      <td>0.00</td>\n",
              "      <td>0.00</td>\n",
              "      <td>43</td>\n",
              "      <td>37.769440</td>\n",
              "      <td>-122.449920</td>\n",
              "      <td>2</td>\n",
              "      <td>0</td>\n",
              "      <td>1</td>\n",
              "      <td>...</td>\n",
              "      <td>5 shared baths</td>\n",
              "      <td>1</td>\n",
              "      <td>[\"Oven\", \"Self check-in\", \"Cooking basics\", \"L...</td>\n",
              "      <td>--</td>\n",
              "      <td>t</td>\n",
              "      <td>06/03/23</td>\n",
              "      <td>12/02/18</td>\n",
              "      <td>08/03/20</td>\n",
              "      <td>1003249</td>\n",
              "      <td>t</td>\n",
              "    </tr>\n",
              "    <tr>\n",
              "      <th>2982</th>\n",
              "      <td>2982</td>\n",
              "      <td>2982</td>\n",
              "      <td>0.99</td>\n",
              "      <td>1.00</td>\n",
              "      <td>14</td>\n",
              "      <td>37.776280</td>\n",
              "      <td>-122.415070</td>\n",
              "      <td>1</td>\n",
              "      <td>0</td>\n",
              "      <td>1</td>\n",
              "      <td>...</td>\n",
              "      <td>4 shared baths</td>\n",
              "      <td>1</td>\n",
              "      <td>[\"Paid parking garage off premises\", \"Security...</td>\n",
              "      <td>--</td>\n",
              "      <td>t</td>\n",
              "      <td>06/03/23</td>\n",
              "      <td>03/05/19</td>\n",
              "      <td>23/02/23</td>\n",
              "      <td>License not needed per OSTR</td>\n",
              "      <td>f</td>\n",
              "    </tr>\n",
              "    <tr>\n",
              "      <th>3004</th>\n",
              "      <td>3004</td>\n",
              "      <td>3004</td>\n",
              "      <td>0.00</td>\n",
              "      <td>0.00</td>\n",
              "      <td>11</td>\n",
              "      <td>37.796620</td>\n",
              "      <td>-122.424660</td>\n",
              "      <td>4</td>\n",
              "      <td>0</td>\n",
              "      <td>1</td>\n",
              "      <td>...</td>\n",
              "      <td>1 bath</td>\n",
              "      <td>1</td>\n",
              "      <td>[\"Carbon monoxide alarm\", \"Coffee maker\", \"Ele...</td>\n",
              "      <td>--</td>\n",
              "      <td>f</td>\n",
              "      <td>06/03/23</td>\n",
              "      <td>07/05/19</td>\n",
              "      <td>07/07/19</td>\n",
              "      <td>0</td>\n",
              "      <td>f</td>\n",
              "    </tr>\n",
              "    <tr>\n",
              "      <th>3005</th>\n",
              "      <td>3005</td>\n",
              "      <td>3005</td>\n",
              "      <td>0.00</td>\n",
              "      <td>0.00</td>\n",
              "      <td>11</td>\n",
              "      <td>37.786700</td>\n",
              "      <td>-122.410840</td>\n",
              "      <td>4</td>\n",
              "      <td>0</td>\n",
              "      <td>1</td>\n",
              "      <td>...</td>\n",
              "      <td>1 bath</td>\n",
              "      <td>1</td>\n",
              "      <td>[\"Luggage dropoff allowed\", \"Host greets you\",...</td>\n",
              "      <td>--</td>\n",
              "      <td>f</td>\n",
              "      <td>06/03/23</td>\n",
              "      <td>--</td>\n",
              "      <td>--</td>\n",
              "      <td>0</td>\n",
              "      <td>f</td>\n",
              "    </tr>\n",
              "    <tr>\n",
              "      <th>3006</th>\n",
              "      <td>3006</td>\n",
              "      <td>3006</td>\n",
              "      <td>0.00</td>\n",
              "      <td>0.00</td>\n",
              "      <td>11</td>\n",
              "      <td>37.786330</td>\n",
              "      <td>-122.412610</td>\n",
              "      <td>4</td>\n",
              "      <td>0</td>\n",
              "      <td>1</td>\n",
              "      <td>...</td>\n",
              "      <td>1 bath</td>\n",
              "      <td>1</td>\n",
              "      <td>[\"Luggage dropoff allowed\", \"Host greets you\",...</td>\n",
              "      <td>--</td>\n",
              "      <td>f</td>\n",
              "      <td>06/03/23</td>\n",
              "      <td>19/05/19</td>\n",
              "      <td>19/05/19</td>\n",
              "      <td>0</td>\n",
              "      <td>f</td>\n",
              "    </tr>\n",
              "    <tr>\n",
              "      <th>3007</th>\n",
              "      <td>3007</td>\n",
              "      <td>3007</td>\n",
              "      <td>0.00</td>\n",
              "      <td>0.00</td>\n",
              "      <td>11</td>\n",
              "      <td>37.786960</td>\n",
              "      <td>-122.406730</td>\n",
              "      <td>4</td>\n",
              "      <td>0</td>\n",
              "      <td>1</td>\n",
              "      <td>...</td>\n",
              "      <td>1 bath</td>\n",
              "      <td>1</td>\n",
              "      <td>[\"Carbon monoxide alarm\", \"Coffee maker\", \"Bat...</td>\n",
              "      <td>--</td>\n",
              "      <td>f</td>\n",
              "      <td>06/03/23</td>\n",
              "      <td>19/08/19</td>\n",
              "      <td>19/08/19</td>\n",
              "      <td>0</td>\n",
              "      <td>f</td>\n",
              "    </tr>\n",
              "    <tr>\n",
              "      <th>3008</th>\n",
              "      <td>3008</td>\n",
              "      <td>3008</td>\n",
              "      <td>0.00</td>\n",
              "      <td>0.00</td>\n",
              "      <td>11</td>\n",
              "      <td>37.795380</td>\n",
              "      <td>-122.401880</td>\n",
              "      <td>2</td>\n",
              "      <td>0</td>\n",
              "      <td>1</td>\n",
              "      <td>...</td>\n",
              "      <td>1 bath</td>\n",
              "      <td>1</td>\n",
              "      <td>[\"Luggage dropoff allowed\", \"Host greets you\",...</td>\n",
              "      <td>--</td>\n",
              "      <td>f</td>\n",
              "      <td>06/03/23</td>\n",
              "      <td>--</td>\n",
              "      <td>--</td>\n",
              "      <td>0</td>\n",
              "      <td>f</td>\n",
              "    </tr>\n",
              "    <tr>\n",
              "      <th>3081</th>\n",
              "      <td>3081</td>\n",
              "      <td>3081</td>\n",
              "      <td>0.95</td>\n",
              "      <td>0.99</td>\n",
              "      <td>9</td>\n",
              "      <td>37.781270</td>\n",
              "      <td>-122.412710</td>\n",
              "      <td>2</td>\n",
              "      <td>0</td>\n",
              "      <td>1</td>\n",
              "      <td>...</td>\n",
              "      <td>1 private bath</td>\n",
              "      <td>1</td>\n",
              "      <td>[\"Essentials\", \"Bed linens\", \"Carbon monoxide ...</td>\n",
              "      <td>--</td>\n",
              "      <td>t</td>\n",
              "      <td>06/03/23</td>\n",
              "      <td>21/02/22</td>\n",
              "      <td>17/04/22</td>\n",
              "      <td>License not needed per OSTR</td>\n",
              "      <td>t</td>\n",
              "    </tr>\n",
              "    <tr>\n",
              "      <th>3082</th>\n",
              "      <td>3082</td>\n",
              "      <td>3082</td>\n",
              "      <td>0.95</td>\n",
              "      <td>0.99</td>\n",
              "      <td>9</td>\n",
              "      <td>37.779630</td>\n",
              "      <td>-122.412980</td>\n",
              "      <td>2</td>\n",
              "      <td>0</td>\n",
              "      <td>1</td>\n",
              "      <td>...</td>\n",
              "      <td>1 private bath</td>\n",
              "      <td>1</td>\n",
              "      <td>[\"Essentials\", \"Bed linens\", \"Carbon monoxide ...</td>\n",
              "      <td>--</td>\n",
              "      <td>t</td>\n",
              "      <td>06/03/23</td>\n",
              "      <td>30/07/19</td>\n",
              "      <td>01/01/23</td>\n",
              "      <td>License not needed per OSTR</td>\n",
              "      <td>t</td>\n",
              "    </tr>\n",
              "    <tr>\n",
              "      <th>3083</th>\n",
              "      <td>3083</td>\n",
              "      <td>3083</td>\n",
              "      <td>0.95</td>\n",
              "      <td>0.99</td>\n",
              "      <td>9</td>\n",
              "      <td>37.779300</td>\n",
              "      <td>-122.410960</td>\n",
              "      <td>2</td>\n",
              "      <td>0</td>\n",
              "      <td>1</td>\n",
              "      <td>...</td>\n",
              "      <td>1 private bath</td>\n",
              "      <td>1</td>\n",
              "      <td>[\"Essentials\", \"Bed linens\", \"Carbon monoxide ...</td>\n",
              "      <td>--</td>\n",
              "      <td>t</td>\n",
              "      <td>06/03/23</td>\n",
              "      <td>30/03/22</td>\n",
              "      <td>20/02/23</td>\n",
              "      <td>License not needed per OSTR</td>\n",
              "      <td>t</td>\n",
              "    </tr>\n",
              "    <tr>\n",
              "      <th>3084</th>\n",
              "      <td>3084</td>\n",
              "      <td>3084</td>\n",
              "      <td>0.95</td>\n",
              "      <td>0.99</td>\n",
              "      <td>9</td>\n",
              "      <td>37.779490</td>\n",
              "      <td>-122.411330</td>\n",
              "      <td>2</td>\n",
              "      <td>0</td>\n",
              "      <td>1</td>\n",
              "      <td>...</td>\n",
              "      <td>1 private bath</td>\n",
              "      <td>1</td>\n",
              "      <td>[\"Luggage dropoff allowed\", \"Shampoo\", \"Air co...</td>\n",
              "      <td>--</td>\n",
              "      <td>t</td>\n",
              "      <td>06/03/23</td>\n",
              "      <td>03/11/19</td>\n",
              "      <td>31/07/22</td>\n",
              "      <td>License not needed per OSTR</td>\n",
              "      <td>t</td>\n",
              "    </tr>\n",
              "    <tr>\n",
              "      <th>3085</th>\n",
              "      <td>3085</td>\n",
              "      <td>3085</td>\n",
              "      <td>0.95</td>\n",
              "      <td>0.99</td>\n",
              "      <td>9</td>\n",
              "      <td>37.781410</td>\n",
              "      <td>-122.411040</td>\n",
              "      <td>2</td>\n",
              "      <td>0</td>\n",
              "      <td>1</td>\n",
              "      <td>...</td>\n",
              "      <td>1 private bath</td>\n",
              "      <td>1</td>\n",
              "      <td>[\"Luggage dropoff allowed\", \"Shampoo\", \"Air co...</td>\n",
              "      <td>--</td>\n",
              "      <td>t</td>\n",
              "      <td>06/03/23</td>\n",
              "      <td>12/11/22</td>\n",
              "      <td>12/11/22</td>\n",
              "      <td>License not needed per OSTR</td>\n",
              "      <td>t</td>\n",
              "    </tr>\n",
              "    <tr>\n",
              "      <th>3086</th>\n",
              "      <td>3086</td>\n",
              "      <td>3086</td>\n",
              "      <td>0.95</td>\n",
              "      <td>0.99</td>\n",
              "      <td>9</td>\n",
              "      <td>37.780020</td>\n",
              "      <td>-122.411180</td>\n",
              "      <td>2</td>\n",
              "      <td>0</td>\n",
              "      <td>1</td>\n",
              "      <td>...</td>\n",
              "      <td>1 private bath</td>\n",
              "      <td>1</td>\n",
              "      <td>[\"Essentials\", \"Bed linens\", \"Carbon monoxide ...</td>\n",
              "      <td>--</td>\n",
              "      <td>t</td>\n",
              "      <td>06/03/23</td>\n",
              "      <td>21/03/22</td>\n",
              "      <td>05/10/22</td>\n",
              "      <td>License not needed per OSTR</td>\n",
              "      <td>t</td>\n",
              "    </tr>\n",
              "    <tr>\n",
              "      <th>3087</th>\n",
              "      <td>3087</td>\n",
              "      <td>3087</td>\n",
              "      <td>0.95</td>\n",
              "      <td>0.99</td>\n",
              "      <td>9</td>\n",
              "      <td>37.781020</td>\n",
              "      <td>-122.411410</td>\n",
              "      <td>2</td>\n",
              "      <td>0</td>\n",
              "      <td>1</td>\n",
              "      <td>...</td>\n",
              "      <td>1 private bath</td>\n",
              "      <td>1</td>\n",
              "      <td>[\"Luggage dropoff allowed\", \"Shampoo\", \"Air co...</td>\n",
              "      <td>--</td>\n",
              "      <td>t</td>\n",
              "      <td>06/03/23</td>\n",
              "      <td>05/10/19</td>\n",
              "      <td>05/10/19</td>\n",
              "      <td>License not needed per OSTR</td>\n",
              "      <td>t</td>\n",
              "    </tr>\n",
              "    <tr>\n",
              "      <th>3088</th>\n",
              "      <td>3088</td>\n",
              "      <td>3088</td>\n",
              "      <td>0.95</td>\n",
              "      <td>0.99</td>\n",
              "      <td>9</td>\n",
              "      <td>37.781280</td>\n",
              "      <td>-122.411660</td>\n",
              "      <td>2</td>\n",
              "      <td>0</td>\n",
              "      <td>1</td>\n",
              "      <td>...</td>\n",
              "      <td>1 private bath</td>\n",
              "      <td>1</td>\n",
              "      <td>[\"Essentials\", \"Bed linens\", \"Carbon monoxide ...</td>\n",
              "      <td>--</td>\n",
              "      <td>t</td>\n",
              "      <td>06/03/23</td>\n",
              "      <td>17/06/19</td>\n",
              "      <td>04/01/23</td>\n",
              "      <td>License not needed per OSTR</td>\n",
              "      <td>t</td>\n",
              "    </tr>\n",
              "    <tr>\n",
              "      <th>3089</th>\n",
              "      <td>3089</td>\n",
              "      <td>3089</td>\n",
              "      <td>0.95</td>\n",
              "      <td>0.99</td>\n",
              "      <td>9</td>\n",
              "      <td>37.779300</td>\n",
              "      <td>-122.410990</td>\n",
              "      <td>2</td>\n",
              "      <td>0</td>\n",
              "      <td>1</td>\n",
              "      <td>...</td>\n",
              "      <td>1 private bath</td>\n",
              "      <td>1</td>\n",
              "      <td>[\"Essentials\", \"Bed linens\", \"Carbon monoxide ...</td>\n",
              "      <td>--</td>\n",
              "      <td>t</td>\n",
              "      <td>06/03/23</td>\n",
              "      <td>20/02/22</td>\n",
              "      <td>02/06/22</td>\n",
              "      <td>License not needed per OSTR</td>\n",
              "      <td>t</td>\n",
              "    </tr>\n",
              "    <tr>\n",
              "      <th>3188</th>\n",
              "      <td>3188</td>\n",
              "      <td>3188</td>\n",
              "      <td>0.99</td>\n",
              "      <td>1.00</td>\n",
              "      <td>14</td>\n",
              "      <td>37.772640</td>\n",
              "      <td>-122.409910</td>\n",
              "      <td>1</td>\n",
              "      <td>0</td>\n",
              "      <td>1</td>\n",
              "      <td>...</td>\n",
              "      <td>4 shared baths</td>\n",
              "      <td>1</td>\n",
              "      <td>[\"Paid parking garage off premises\", \"Security...</td>\n",
              "      <td>--</td>\n",
              "      <td>t</td>\n",
              "      <td>06/03/23</td>\n",
              "      <td>20/06/19</td>\n",
              "      <td>11/02/23</td>\n",
              "      <td>License not needed per OSTR</td>\n",
              "      <td>t</td>\n",
              "    </tr>\n",
              "    <tr>\n",
              "      <th>3219</th>\n",
              "      <td>3219</td>\n",
              "      <td>3219</td>\n",
              "      <td>0.99</td>\n",
              "      <td>1.00</td>\n",
              "      <td>14</td>\n",
              "      <td>37.776440</td>\n",
              "      <td>-122.414720</td>\n",
              "      <td>1</td>\n",
              "      <td>0</td>\n",
              "      <td>1</td>\n",
              "      <td>...</td>\n",
              "      <td>4 shared baths</td>\n",
              "      <td>1</td>\n",
              "      <td>[\"Security cameras on property\", \"Self check-i...</td>\n",
              "      <td>--</td>\n",
              "      <td>t</td>\n",
              "      <td>06/03/23</td>\n",
              "      <td>01/08/19</td>\n",
              "      <td>10/02/23</td>\n",
              "      <td>License not needed per OSTR</td>\n",
              "      <td>f</td>\n",
              "    </tr>\n",
              "    <tr>\n",
              "      <th>3243</th>\n",
              "      <td>3243</td>\n",
              "      <td>3243</td>\n",
              "      <td>0.90</td>\n",
              "      <td>1.00</td>\n",
              "      <td>8</td>\n",
              "      <td>37.783940</td>\n",
              "      <td>-122.408490</td>\n",
              "      <td>2</td>\n",
              "      <td>0</td>\n",
              "      <td>1</td>\n",
              "      <td>...</td>\n",
              "      <td>1 private bath</td>\n",
              "      <td>1</td>\n",
              "      <td>[\"Essentials\", \"Building staff\", \"Coffee maker...</td>\n",
              "      <td>--</td>\n",
              "      <td>t</td>\n",
              "      <td>06/03/23</td>\n",
              "      <td>05/10/19</td>\n",
              "      <td>05/02/23</td>\n",
              "      <td>Exempt</td>\n",
              "      <td>t</td>\n",
              "    </tr>\n",
              "    <tr>\n",
              "      <th>3244</th>\n",
              "      <td>3244</td>\n",
              "      <td>3244</td>\n",
              "      <td>0.90</td>\n",
              "      <td>1.00</td>\n",
              "      <td>8</td>\n",
              "      <td>37.785270</td>\n",
              "      <td>-122.408640</td>\n",
              "      <td>2</td>\n",
              "      <td>0</td>\n",
              "      <td>1</td>\n",
              "      <td>...</td>\n",
              "      <td>1 private bath</td>\n",
              "      <td>1</td>\n",
              "      <td>[\"Essentials\", \"Building staff\", \"Crib\", \"Hang...</td>\n",
              "      <td>--</td>\n",
              "      <td>t</td>\n",
              "      <td>06/03/23</td>\n",
              "      <td>08/12/19</td>\n",
              "      <td>03/02/23</td>\n",
              "      <td>Exempt</td>\n",
              "      <td>t</td>\n",
              "    </tr>\n",
              "    <tr>\n",
              "      <th>3249</th>\n",
              "      <td>3249</td>\n",
              "      <td>3249</td>\n",
              "      <td>1.00</td>\n",
              "      <td>0.99</td>\n",
              "      <td>12</td>\n",
              "      <td>37.788560</td>\n",
              "      <td>-122.419520</td>\n",
              "      <td>2</td>\n",
              "      <td>0</td>\n",
              "      <td>1</td>\n",
              "      <td>...</td>\n",
              "      <td>0 shared baths</td>\n",
              "      <td>1</td>\n",
              "      <td>[\"Paid parking garage off premises\", \"Security...</td>\n",
              "      <td>--</td>\n",
              "      <td>t</td>\n",
              "      <td>06/03/23</td>\n",
              "      <td>28/08/19</td>\n",
              "      <td>12/02/23</td>\n",
              "      <td>Exempt</td>\n",
              "      <td>t</td>\n",
              "    </tr>\n",
              "    <tr>\n",
              "      <th>3250</th>\n",
              "      <td>3250</td>\n",
              "      <td>3250</td>\n",
              "      <td>1.00</td>\n",
              "      <td>0.99</td>\n",
              "      <td>12</td>\n",
              "      <td>37.788560</td>\n",
              "      <td>-122.419520</td>\n",
              "      <td>2</td>\n",
              "      <td>0</td>\n",
              "      <td>1</td>\n",
              "      <td>...</td>\n",
              "      <td>1 private bath</td>\n",
              "      <td>1</td>\n",
              "      <td>[\"Paid parking garage off premises\", \"Security...</td>\n",
              "      <td>--</td>\n",
              "      <td>t</td>\n",
              "      <td>06/03/23</td>\n",
              "      <td>01/09/19</td>\n",
              "      <td>13/11/22</td>\n",
              "      <td>Exempt</td>\n",
              "      <td>t</td>\n",
              "    </tr>\n",
              "    <tr>\n",
              "      <th>3251</th>\n",
              "      <td>3251</td>\n",
              "      <td>3251</td>\n",
              "      <td>1.00</td>\n",
              "      <td>0.99</td>\n",
              "      <td>12</td>\n",
              "      <td>37.788560</td>\n",
              "      <td>-122.419520</td>\n",
              "      <td>4</td>\n",
              "      <td>0</td>\n",
              "      <td>1</td>\n",
              "      <td>...</td>\n",
              "      <td>1 private bath</td>\n",
              "      <td>1</td>\n",
              "      <td>[\"Paid parking garage off premises\", \"Security...</td>\n",
              "      <td>--</td>\n",
              "      <td>t</td>\n",
              "      <td>06/03/23</td>\n",
              "      <td>18/11/19</td>\n",
              "      <td>19/02/23</td>\n",
              "      <td>Exempt</td>\n",
              "      <td>t</td>\n",
              "    </tr>\n",
              "    <tr>\n",
              "      <th>3266</th>\n",
              "      <td>3266</td>\n",
              "      <td>3266</td>\n",
              "      <td>0.75</td>\n",
              "      <td>0.97</td>\n",
              "      <td>421</td>\n",
              "      <td>37.788500</td>\n",
              "      <td>-122.414040</td>\n",
              "      <td>4</td>\n",
              "      <td>0</td>\n",
              "      <td>1</td>\n",
              "      <td>...</td>\n",
              "      <td>1 private bath</td>\n",
              "      <td>1</td>\n",
              "      <td>[\"Self check-in\", \"Luggage dropoff allowed\", \"...</td>\n",
              "      <td>--</td>\n",
              "      <td>t</td>\n",
              "      <td>06/03/23</td>\n",
              "      <td>04/11/19</td>\n",
              "      <td>06/09/22</td>\n",
              "      <td>License not needed per OSTR</td>\n",
              "      <td>t</td>\n",
              "    </tr>\n",
              "    <tr>\n",
              "      <th>3288</th>\n",
              "      <td>3288</td>\n",
              "      <td>3288</td>\n",
              "      <td>0.99</td>\n",
              "      <td>1.00</td>\n",
              "      <td>14</td>\n",
              "      <td>37.771770</td>\n",
              "      <td>-122.409270</td>\n",
              "      <td>2</td>\n",
              "      <td>0</td>\n",
              "      <td>1</td>\n",
              "      <td>...</td>\n",
              "      <td>1 private bath</td>\n",
              "      <td>1</td>\n",
              "      <td>[\"Paid parking garage off premises\", \"Security...</td>\n",
              "      <td>--</td>\n",
              "      <td>t</td>\n",
              "      <td>06/03/23</td>\n",
              "      <td>28/07/19</td>\n",
              "      <td>10/02/23</td>\n",
              "      <td>License not needed per OSTR</td>\n",
              "      <td>f</td>\n",
              "    </tr>\n",
              "    <tr>\n",
              "      <th>3295</th>\n",
              "      <td>3295</td>\n",
              "      <td>3295</td>\n",
              "      <td>0.99</td>\n",
              "      <td>1.00</td>\n",
              "      <td>4</td>\n",
              "      <td>37.790350</td>\n",
              "      <td>-122.406190</td>\n",
              "      <td>2</td>\n",
              "      <td>0</td>\n",
              "      <td>1</td>\n",
              "      <td>...</td>\n",
              "      <td>1 private bath</td>\n",
              "      <td>1</td>\n",
              "      <td>[\"Essentials\", \"Carbon monoxide alarm\", \"Extra...</td>\n",
              "      <td>--</td>\n",
              "      <td>t</td>\n",
              "      <td>06/03/23</td>\n",
              "      <td>17/08/19</td>\n",
              "      <td>05/03/23</td>\n",
              "      <td>License not needed per OSTR</td>\n",
              "      <td>t</td>\n",
              "    </tr>\n",
              "    <tr>\n",
              "      <th>3296</th>\n",
              "      <td>3296</td>\n",
              "      <td>3296</td>\n",
              "      <td>0.99</td>\n",
              "      <td>1.00</td>\n",
              "      <td>4</td>\n",
              "      <td>37.792060</td>\n",
              "      <td>-122.406630</td>\n",
              "      <td>2</td>\n",
              "      <td>0</td>\n",
              "      <td>1</td>\n",
              "      <td>...</td>\n",
              "      <td>1 private bath</td>\n",
              "      <td>1</td>\n",
              "      <td>[\"Essentials\", \"Carbon monoxide alarm\", \"Extra...</td>\n",
              "      <td>--</td>\n",
              "      <td>t</td>\n",
              "      <td>06/03/23</td>\n",
              "      <td>25/08/19</td>\n",
              "      <td>05/03/23</td>\n",
              "      <td>License not needed per OSTR</td>\n",
              "      <td>t</td>\n",
              "    </tr>\n",
              "    <tr>\n",
              "      <th>3317</th>\n",
              "      <td>3317</td>\n",
              "      <td>3317</td>\n",
              "      <td>0.99</td>\n",
              "      <td>1.00</td>\n",
              "      <td>4</td>\n",
              "      <td>37.790390</td>\n",
              "      <td>-122.406720</td>\n",
              "      <td>2</td>\n",
              "      <td>0</td>\n",
              "      <td>1</td>\n",
              "      <td>...</td>\n",
              "      <td>1 private bath</td>\n",
              "      <td>1</td>\n",
              "      <td>[\"Essentials\", \"Carbon monoxide alarm\", \"Extra...</td>\n",
              "      <td>--</td>\n",
              "      <td>t</td>\n",
              "      <td>06/03/23</td>\n",
              "      <td>13/02/20</td>\n",
              "      <td>20/02/23</td>\n",
              "      <td>License not needed per OSTR</td>\n",
              "      <td>t</td>\n",
              "    </tr>\n",
              "    <tr>\n",
              "      <th>3327</th>\n",
              "      <td>3327</td>\n",
              "      <td>3327</td>\n",
              "      <td>0.99</td>\n",
              "      <td>1.00</td>\n",
              "      <td>14</td>\n",
              "      <td>37.773520</td>\n",
              "      <td>-122.410940</td>\n",
              "      <td>1</td>\n",
              "      <td>0</td>\n",
              "      <td>1</td>\n",
              "      <td>...</td>\n",
              "      <td>4 shared baths</td>\n",
              "      <td>1</td>\n",
              "      <td>[\"Paid parking garage off premises\", \"Security...</td>\n",
              "      <td>--</td>\n",
              "      <td>t</td>\n",
              "      <td>06/03/23</td>\n",
              "      <td>01/07/19</td>\n",
              "      <td>20/02/23</td>\n",
              "      <td>License not needed per OSTR</td>\n",
              "      <td>f</td>\n",
              "    </tr>\n",
              "    <tr>\n",
              "      <th>3355</th>\n",
              "      <td>3355</td>\n",
              "      <td>3355</td>\n",
              "      <td>0.99</td>\n",
              "      <td>1.00</td>\n",
              "      <td>14</td>\n",
              "      <td>37.772090</td>\n",
              "      <td>-122.408820</td>\n",
              "      <td>2</td>\n",
              "      <td>0</td>\n",
              "      <td>1</td>\n",
              "      <td>...</td>\n",
              "      <td>4 shared baths</td>\n",
              "      <td>1</td>\n",
              "      <td>[\"Paid parking garage off premises\", \"Security...</td>\n",
              "      <td>--</td>\n",
              "      <td>t</td>\n",
              "      <td>06/03/23</td>\n",
              "      <td>20/07/19</td>\n",
              "      <td>28/02/23</td>\n",
              "      <td>License not needed per OSTR</td>\n",
              "      <td>f</td>\n",
              "    </tr>\n",
              "    <tr>\n",
              "      <th>3396</th>\n",
              "      <td>3396</td>\n",
              "      <td>3396</td>\n",
              "      <td>0.00</td>\n",
              "      <td>0.00</td>\n",
              "      <td>8</td>\n",
              "      <td>37.807020</td>\n",
              "      <td>-122.409170</td>\n",
              "      <td>4</td>\n",
              "      <td>0</td>\n",
              "      <td>1</td>\n",
              "      <td>...</td>\n",
              "      <td>1 private bath</td>\n",
              "      <td>1</td>\n",
              "      <td>[\"Self check-in\", \"Luggage dropoff allowed\", \"...</td>\n",
              "      <td>--</td>\n",
              "      <td>t</td>\n",
              "      <td>06/03/23</td>\n",
              "      <td>16/01/20</td>\n",
              "      <td>12/01/23</td>\n",
              "      <td>License not needed per OSTR</td>\n",
              "      <td>f</td>\n",
              "    </tr>\n",
              "    <tr>\n",
              "      <th>3398</th>\n",
              "      <td>3398</td>\n",
              "      <td>3398</td>\n",
              "      <td>1.00</td>\n",
              "      <td>1.00</td>\n",
              "      <td>5</td>\n",
              "      <td>37.784990</td>\n",
              "      <td>-122.445380</td>\n",
              "      <td>2</td>\n",
              "      <td>0</td>\n",
              "      <td>1</td>\n",
              "      <td>...</td>\n",
              "      <td>1 private bath</td>\n",
              "      <td>1</td>\n",
              "      <td>[\"Essentials\", \"Carbon monoxide alarm\", \"Break...</td>\n",
              "      <td>--</td>\n",
              "      <td>t</td>\n",
              "      <td>06/03/23</td>\n",
              "      <td>26/08/19</td>\n",
              "      <td>06/09/19</td>\n",
              "      <td>Exempt</td>\n",
              "      <td>t</td>\n",
              "    </tr>\n",
              "    <tr>\n",
              "      <th>3399</th>\n",
              "      <td>3399</td>\n",
              "      <td>3399</td>\n",
              "      <td>1.00</td>\n",
              "      <td>1.00</td>\n",
              "      <td>5</td>\n",
              "      <td>37.787130</td>\n",
              "      <td>-122.445280</td>\n",
              "      <td>1</td>\n",
              "      <td>0</td>\n",
              "      <td>1</td>\n",
              "      <td>...</td>\n",
              "      <td>1 bath</td>\n",
              "      <td>1</td>\n",
              "      <td>[\"Essentials\", \"Carbon monoxide alarm\", \"Break...</td>\n",
              "      <td>--</td>\n",
              "      <td>t</td>\n",
              "      <td>06/03/23</td>\n",
              "      <td>28/02/20</td>\n",
              "      <td>28/02/20</td>\n",
              "      <td>Exempt</td>\n",
              "      <td>t</td>\n",
              "    </tr>\n",
              "    <tr>\n",
              "      <th>3400</th>\n",
              "      <td>3400</td>\n",
              "      <td>3400</td>\n",
              "      <td>1.00</td>\n",
              "      <td>1.00</td>\n",
              "      <td>5</td>\n",
              "      <td>37.785430</td>\n",
              "      <td>-122.445330</td>\n",
              "      <td>3</td>\n",
              "      <td>0</td>\n",
              "      <td>1</td>\n",
              "      <td>...</td>\n",
              "      <td>1 bath</td>\n",
              "      <td>1</td>\n",
              "      <td>[\"Carbon monoxide alarm\", \"Breakfast\", \"Hanger...</td>\n",
              "      <td>--</td>\n",
              "      <td>t</td>\n",
              "      <td>06/03/23</td>\n",
              "      <td>28/12/20</td>\n",
              "      <td>15/02/21</td>\n",
              "      <td>Exempt</td>\n",
              "      <td>t</td>\n",
              "    </tr>\n",
              "    <tr>\n",
              "      <th>3401</th>\n",
              "      <td>3401</td>\n",
              "      <td>3401</td>\n",
              "      <td>0.00</td>\n",
              "      <td>0.00</td>\n",
              "      <td>8</td>\n",
              "      <td>37.806690</td>\n",
              "      <td>-122.410750</td>\n",
              "      <td>2</td>\n",
              "      <td>0</td>\n",
              "      <td>1</td>\n",
              "      <td>...</td>\n",
              "      <td>1 private bath</td>\n",
              "      <td>1</td>\n",
              "      <td>[\"Self check-in\", \"Luggage dropoff allowed\", \"...</td>\n",
              "      <td>--</td>\n",
              "      <td>t</td>\n",
              "      <td>06/03/23</td>\n",
              "      <td>--</td>\n",
              "      <td>--</td>\n",
              "      <td>Exempt</td>\n",
              "      <td>f</td>\n",
              "    </tr>\n",
              "    <tr>\n",
              "      <th>4519</th>\n",
              "      <td>4519</td>\n",
              "      <td>4519</td>\n",
              "      <td>0.00</td>\n",
              "      <td>0.00</td>\n",
              "      <td>4</td>\n",
              "      <td>37.790258</td>\n",
              "      <td>-122.410557</td>\n",
              "      <td>0</td>\n",
              "      <td>0</td>\n",
              "      <td>0</td>\n",
              "      <td>...</td>\n",
              "      <td>--</td>\n",
              "      <td>0</td>\n",
              "      <td>[\"Bed sheets and pillows\", \"Free wifi\", \"ROIL ...</td>\n",
              "      <td>--</td>\n",
              "      <td>t</td>\n",
              "      <td>06/03/23</td>\n",
              "      <td>--</td>\n",
              "      <td>--</td>\n",
              "      <td>0</td>\n",
              "      <td>f</td>\n",
              "    </tr>\n",
              "    <tr>\n",
              "      <th>4690</th>\n",
              "      <td>4690</td>\n",
              "      <td>4690</td>\n",
              "      <td>1.00</td>\n",
              "      <td>1.00</td>\n",
              "      <td>5</td>\n",
              "      <td>37.789250</td>\n",
              "      <td>-122.404498</td>\n",
              "      <td>0</td>\n",
              "      <td>0</td>\n",
              "      <td>0</td>\n",
              "      <td>...</td>\n",
              "      <td>--</td>\n",
              "      <td>0</td>\n",
              "      <td>[\"Toiletries\", \"Free wifi\", \"Limited housekeep...</td>\n",
              "      <td>--</td>\n",
              "      <td>t</td>\n",
              "      <td>06/03/23</td>\n",
              "      <td>23/05/21</td>\n",
              "      <td>29/01/23</td>\n",
              "      <td>0</td>\n",
              "      <td>f</td>\n",
              "    </tr>\n",
              "  </tbody>\n",
              "</table>\n",
              "<p>52 rows × 79 columns</p>\n",
              "</div>\n",
              "      <button class=\"colab-df-convert\" onclick=\"convertToInteractive('df-e80e9434-28c4-46bf-8053-07c90e73d77f')\"\n",
              "              title=\"Convert this dataframe to an interactive table.\"\n",
              "              style=\"display:none;\">\n",
              "        \n",
              "  <svg xmlns=\"http://www.w3.org/2000/svg\" height=\"24px\"viewBox=\"0 0 24 24\"\n",
              "       width=\"24px\">\n",
              "    <path d=\"M0 0h24v24H0V0z\" fill=\"none\"/>\n",
              "    <path d=\"M18.56 5.44l.94 2.06.94-2.06 2.06-.94-2.06-.94-.94-2.06-.94 2.06-2.06.94zm-11 1L8.5 8.5l.94-2.06 2.06-.94-2.06-.94L8.5 2.5l-.94 2.06-2.06.94zm10 10l.94 2.06.94-2.06 2.06-.94-2.06-.94-.94-2.06-.94 2.06-2.06.94z\"/><path d=\"M17.41 7.96l-1.37-1.37c-.4-.4-.92-.59-1.43-.59-.52 0-1.04.2-1.43.59L10.3 9.45l-7.72 7.72c-.78.78-.78 2.05 0 2.83L4 21.41c.39.39.9.59 1.41.59.51 0 1.02-.2 1.41-.59l7.78-7.78 2.81-2.81c.8-.78.8-2.07 0-2.86zM5.41 20L4 18.59l7.72-7.72 1.47 1.35L5.41 20z\"/>\n",
              "  </svg>\n",
              "      </button>\n",
              "      \n",
              "  <style>\n",
              "    .colab-df-container {\n",
              "      display:flex;\n",
              "      flex-wrap:wrap;\n",
              "      gap: 12px;\n",
              "    }\n",
              "\n",
              "    .colab-df-convert {\n",
              "      background-color: #E8F0FE;\n",
              "      border: none;\n",
              "      border-radius: 50%;\n",
              "      cursor: pointer;\n",
              "      display: none;\n",
              "      fill: #1967D2;\n",
              "      height: 32px;\n",
              "      padding: 0 0 0 0;\n",
              "      width: 32px;\n",
              "    }\n",
              "\n",
              "    .colab-df-convert:hover {\n",
              "      background-color: #E2EBFA;\n",
              "      box-shadow: 0px 1px 2px rgba(60, 64, 67, 0.3), 0px 1px 3px 1px rgba(60, 64, 67, 0.15);\n",
              "      fill: #174EA6;\n",
              "    }\n",
              "\n",
              "    [theme=dark] .colab-df-convert {\n",
              "      background-color: #3B4455;\n",
              "      fill: #D2E3FC;\n",
              "    }\n",
              "\n",
              "    [theme=dark] .colab-df-convert:hover {\n",
              "      background-color: #434B5C;\n",
              "      box-shadow: 0px 1px 3px 1px rgba(0, 0, 0, 0.15);\n",
              "      filter: drop-shadow(0px 1px 2px rgba(0, 0, 0, 0.3));\n",
              "      fill: #FFFFFF;\n",
              "    }\n",
              "  </style>\n",
              "\n",
              "      <script>\n",
              "        const buttonEl =\n",
              "          document.querySelector('#df-e80e9434-28c4-46bf-8053-07c90e73d77f button.colab-df-convert');\n",
              "        buttonEl.style.display =\n",
              "          google.colab.kernel.accessAllowed ? 'block' : 'none';\n",
              "\n",
              "        async function convertToInteractive(key) {\n",
              "          const element = document.querySelector('#df-e80e9434-28c4-46bf-8053-07c90e73d77f');\n",
              "          const dataTable =\n",
              "            await google.colab.kernel.invokeFunction('convertToInteractive',\n",
              "                                                     [key], {});\n",
              "          if (!dataTable) return;\n",
              "\n",
              "          const docLinkHtml = 'Like what you see? Visit the ' +\n",
              "            '<a target=\"_blank\" href=https://colab.research.google.com/notebooks/data_table.ipynb>data table notebook</a>'\n",
              "            + ' to learn more about interactive tables.';\n",
              "          element.innerHTML = '';\n",
              "          dataTable['output_type'] = 'display_data';\n",
              "          await google.colab.output.renderOutput(dataTable, element);\n",
              "          const docLink = document.createElement('div');\n",
              "          docLink.innerHTML = docLinkHtml;\n",
              "          element.appendChild(docLink);\n",
              "        }\n",
              "      </script>\n",
              "    </div>\n",
              "  </div>\n",
              "  "
            ]
          },
          "metadata": {},
          "execution_count": 44
        }
      ]
    },
    {
      "cell_type": "markdown",
      "source": [
        "### **host_acceptance_rate vs host_response_rate, Price, number_of_reviews , review_scores_rating**"
      ],
      "metadata": {
        "id": "IPLTQOWFG9IJ"
      }
    },
    {
      "cell_type": "code",
      "source": [
        "from turtle import color\n",
        "\n",
        "\n",
        "sns.scatterplot(x='host_response_rate', y='host_acceptance_rate', color=\"blue\", data=HR_EUA)\n",
        "sns.scatterplot(x='price', y='host_acceptance_rate', color=\"red\", data=HR_EUA)\n",
        "sns.scatterplot(x='number_of_reviews', y='host_acceptance_rate', color=\"green\", data=HR_EUA)\n",
        "sns.scatterplot(x='review_scores_rating', y='host_acceptance_rate', color=\"yellow\", data=HR_EUA)"
      ],
      "metadata": {
        "colab": {
          "base_uri": "https://localhost:8080/",
          "height": 468
        },
        "outputId": "8b81da73-b764-423c-aa7b-0389a25ce0e2",
        "id": "90L7Wu_5G9IJ"
      },
      "execution_count": null,
      "outputs": [
        {
          "output_type": "execute_result",
          "data": {
            "text/plain": [
              "<Axes: xlabel='host_response_rate', ylabel='host_acceptance_rate'>"
            ]
          },
          "metadata": {},
          "execution_count": 45
        },
        {
          "output_type": "display_data",
          "data": {
            "text/plain": [
              "<Figure size 640x480 with 1 Axes>"
            ],
            "image/png": "[encoded data removed]"
          },
          "metadata": {}
        }
      ]
    },
    {
      "cell_type": "code",
      "source": [
        "#Declaramos las variables dependientes e independientes para la regresión lineal\n",
        "Vars_Indep= HR_EUA[['host_response_rate', 'price', 'number_of_reviews' , 'review_scores_rating']]\n",
        "Var_Dep= HR_EUA['host_acceptance_rate']"
      ],
      "metadata": {
        "id": "Kc5ocPajG9IJ"
      },
      "execution_count": null,
      "outputs": []
    },
    {
      "cell_type": "code",
      "source": [
        "#Se define model como la función de regresión lineal\n",
        "from sklearn.linear_model import LinearRegression\n",
        "model= LinearRegression()"
      ],
      "metadata": {
        "id": "BwSVswt1G9IK"
      },
      "execution_count": null,
      "outputs": []
    },
    {
      "cell_type": "code",
      "source": [
        "#Verificamos la función relacionada al modelo\n",
        "type(model)"
      ],
      "metadata": {
        "colab": {
          "base_uri": "https://localhost:8080/"
        },
        "outputId": "9ead355b-3fa4-47ba-92f2-c8075312b556",
        "id": "-flI0I8rG9IK"
      },
      "execution_count": null,
      "outputs": [
        {
          "output_type": "execute_result",
          "data": {
            "text/plain": [
              "sklearn.linear_model._base.LinearRegression"
            ]
          },
          "metadata": {},
          "execution_count": 48
        }
      ]
    },
    {
      "cell_type": "code",
      "source": [
        "#Ajustamos el modelo con las variables antes declaradas\n",
        "model.fit(X=Vars_Indep, y=Var_Dep)"
      ],
      "metadata": {
        "colab": {
          "base_uri": "https://localhost:8080/",
          "height": 75
        },
        "outputId": "920a7607-a027-4f6e-d581-74a53b05321f",
        "id": "LwhB0A1GG9IK"
      },
      "execution_count": null,
      "outputs": [
        {
          "output_type": "execute_result",
          "data": {
            "text/plain": [
              "LinearRegression()"
            ],
            "text/html": [
              "<style>#sk-container-id-4 {color: black;background-color: white;}#sk-container-id-4 pre{padding: 0;}#sk-container-id-4 div.sk-toggleable {background-color: white;}#sk-container-id-4 label.sk-toggleable__label {cursor: pointer;display: block;width: 100%;margin-bottom: 0;padding: 0.3em;box-sizing: border-box;text-align: center;}#sk-container-id-4 label.sk-toggleable__label-arrow:before {content: \"▸\";float: left;margin-right: 0.25em;color: #696969;}#sk-container-id-4 label.sk-toggleable__label-arrow:hover:before {color: black;}#sk-container-id-4 div.sk-estimator:hover label.sk-toggleable__label-arrow:before {color: black;}#sk-container-id-4 div.sk-toggleable__content {max-height: 0;max-width: 0;overflow: hidden;text-align: left;background-color: #f0f8ff;}#sk-container-id-4 div.sk-toggleable__content pre {margin: 0.2em;color: black;border-radius: 0.25em;background-color: #f0f8ff;}#sk-container-id-4 input.sk-toggleable__control:checked~div.sk-toggleable__content {max-height: 200px;max-width: 100%;overflow: auto;}#sk-container-id-4 input.sk-toggleable__control:checked~label.sk-toggleable__label-arrow:before {content: \"▾\";}#sk-container-id-4 div.sk-estimator input.sk-toggleable__control:checked~label.sk-toggleable__label {background-color: #d4ebff;}#sk-container-id-4 div.sk-label input.sk-toggleable__control:checked~label.sk-toggleable__label {background-color: #d4ebff;}#sk-container-id-4 input.sk-hidden--visually {border: 0;clip: rect(1px 1px 1px 1px);clip: rect(1px, 1px, 1px, 1px);height: 1px;margin: -1px;overflow: hidden;padding: 0;position: absolute;width: 1px;}#sk-container-id-4 div.sk-estimator {font-family: monospace;background-color: #f0f8ff;border: 1px dotted black;border-radius: 0.25em;box-sizing: border-box;margin-bottom: 0.5em;}#sk-container-id-4 div.sk-estimator:hover {background-color: #d4ebff;}#sk-container-id-4 div.sk-parallel-item::after {content: \"\";width: 100%;border-bottom: 1px solid gray;flex-grow: 1;}#sk-container-id-4 div.sk-label:hover label.sk-toggleable__label {background-color: #d4ebff;}#sk-container-id-4 div.sk-serial::before {content: \"\";position: absolute;border-left: 1px solid gray;box-sizing: border-box;top: 0;bottom: 0;left: 50%;z-index: 0;}#sk-container-id-4 div.sk-serial {display: flex;flex-direction: column;align-items: center;background-color: white;padding-right: 0.2em;padding-left: 0.2em;position: relative;}#sk-container-id-4 div.sk-item {position: relative;z-index: 1;}#sk-container-id-4 div.sk-parallel {display: flex;align-items: stretch;justify-content: center;background-color: white;position: relative;}#sk-container-id-4 div.sk-item::before, #sk-container-id-4 div.sk-parallel-item::before {content: \"\";position: absolute;border-left: 1px solid gray;box-sizing: border-box;top: 0;bottom: 0;left: 50%;z-index: -1;}#sk-container-id-4 div.sk-parallel-item {display: flex;flex-direction: column;z-index: 1;position: relative;background-color: white;}#sk-container-id-4 div.sk-parallel-item:first-child::after {align-self: flex-end;width: 50%;}#sk-container-id-4 div.sk-parallel-item:last-child::after {align-self: flex-start;width: 50%;}#sk-container-id-4 div.sk-parallel-item:only-child::after {width: 0;}#sk-container-id-4 div.sk-dashed-wrapped {border: 1px dashed gray;margin: 0 0.4em 0.5em 0.4em;box-sizing: border-box;padding-bottom: 0.4em;background-color: white;}#sk-container-id-4 div.sk-label label {font-family: monospace;font-weight: bold;display: inline-block;line-height: 1.2em;}#sk-container-id-4 div.sk-label-container {text-align: center;}#sk-container-id-4 div.sk-container {/* jupyter's `normalize.less` sets `[hidden] { display: none; }` but bootstrap.min.css set `[hidden] { display: none !important; }` so we also need the `!important` here to be able to override the default hidden behavior on the sphinx rendered scikit-learn.org. See: https://github.com/scikit-learn/scikit-learn/issues/21755 */display: inline-block !important;position: relative;}#sk-container-id-4 div.sk-text-repr-fallback {display: none;}</style><div id=\"sk-container-id-4\" class=\"sk-top-container\"><div class=\"sk-text-repr-fallback\"><pre>LinearRegression()</pre><b>In a Jupyter environment, please rerun this cell to show the HTML representation or trust the notebook. <br />On GitHub, the HTML representation is unable to render, please try loading this page with nbviewer.org.</b></div><div class=\"sk-container\" hidden><div class=\"sk-item\"><div class=\"sk-estimator sk-toggleable\"><input class=\"sk-toggleable__control sk-hidden--visually\" id=\"sk-estimator-id-4\" type=\"checkbox\" checked><label for=\"sk-estimator-id-4\" class=\"sk-toggleable__label sk-toggleable__label-arrow\">LinearRegression</label><div class=\"sk-toggleable__content\"><pre>LinearRegression()</pre></div></div></div></div></div>"
            ]
          },
          "metadata": {},
          "execution_count": 49
        }
      ]
    },
    {
      "cell_type": "code",
      "source": [
        "#Verificamos los coeficientes obtenidos para el modelo ajustado\n",
        "model.__dict__"
      ],
      "metadata": {
        "colab": {
          "base_uri": "https://localhost:8080/"
        },
        "outputId": "a8a2b4d1-de6d-4eb0-f207-e0a74de5f363",
        "id": "Rs1A3IORG9IK"
      },
      "execution_count": null,
      "outputs": [
        {
          "output_type": "execute_result",
          "data": {
            "text/plain": [
              "{'fit_intercept': True,\n",
              " 'copy_X': True,\n",
              " 'n_jobs': None,\n",
              " 'positive': False,\n",
              " 'feature_names_in_': array(['host_response_rate', 'price', 'number_of_reviews',\n",
              "        'review_scores_rating'], dtype=object),\n",
              " 'n_features_in_': 4,\n",
              " 'coef_': array([ 1.02598526e+00,  1.48375328e-05, -9.60439676e-05,  3.99204796e-03]),\n",
              " 'rank_': 4,\n",
              " 'singular_': array([1.88883081e+04, 9.71035844e+02, 9.17929635e+00, 2.04435614e+00]),\n",
              " 'intercept_': 0.013021059462987483}"
            ]
          },
          "metadata": {},
          "execution_count": 50
        }
      ]
    },
    {
      "cell_type": "markdown",
      "source": [
        "**Modelo matemático: y= 1.02598526e+00x1 + 1.48375328e-05x2 + -9.60439676e-05x3 + 3.99204796e-03x4 + 0.013021059462987483**"
      ],
      "metadata": {
        "id": "1iWj5ZZvG9IK"
      }
    },
    {
      "cell_type": "code",
      "source": [
        "#Corroboramos cual es el coeficiente de Determinación de nuestro modelo\n",
        "coef_Deter4=model.score(X=Vars_Indep, y=Var_Dep)\n",
        "coef_Deter4"
      ],
      "metadata": {
        "colab": {
          "base_uri": "https://localhost:8080/"
        },
        "outputId": "98a2164f-6ae9-4edb-c3dd-b57c80490f31",
        "id": "GG8hzFFbG9IK"
      },
      "execution_count": null,
      "outputs": [
        {
          "output_type": "execute_result",
          "data": {
            "text/plain": [
              "0.9644921083497338"
            ]
          },
          "metadata": {},
          "execution_count": 51
        }
      ]
    },
    {
      "cell_type": "code",
      "source": [
        "#Corroboramos cual es el coeficiente de Correlación de nuestro modelo\n",
        "coef_Correl4=np.sqrt(coef_Deter4)\n",
        "coef_Correl4"
      ],
      "metadata": {
        "colab": {
          "base_uri": "https://localhost:8080/"
        },
        "outputId": "18fd1984-066e-4487-f8db-a8b2cbcec115",
        "id": "IL1o1hX5G9IK"
      },
      "execution_count": null,
      "outputs": [
        {
          "output_type": "execute_result",
          "data": {
            "text/plain": [
              "0.9820855911526927"
            ]
          },
          "metadata": {},
          "execution_count": 52
        }
      ]
    },
    {
      "cell_type": "code",
      "source": [
        "det.append(coef_Deter4)\n",
        "corr.append(np.sqrt(coef_Correl4))\n",
        "Ta_V.append(\"Hotel room / host_acceptance_rate vs host_response_rate, Price, number_of_reviews , review_scores_rating\")"
      ],
      "metadata": {
        "id": "576KtxEMG9IK"
      },
      "execution_count": null,
      "outputs": []
    },
    {
      "cell_type": "markdown",
      "source": [
        "### **Price vs availability_365, host_response_rate, number_of_reviews, accommodates**"
      ],
      "metadata": {
        "id": "_uyFmyvxG9IL"
      }
    },
    {
      "cell_type": "code",
      "source": [
        "from turtle import color\n",
        "\n",
        "sns.scatterplot(x='availability_365', y='price', color=\"red\", data=HR_EUA)\n",
        "sns.scatterplot(x='host_response_rate', y='price', color=\"blue\", data=HR_EUA)\n",
        "sns.scatterplot(x='number_of_reviews', y='price', color=\"green\", data=HR_EUA)\n",
        "sns.scatterplot(x='accommodates', y='price', color=\"yellow\", data=HR_EUA)"
      ],
      "metadata": {
        "colab": {
          "base_uri": "https://localhost:8080/",
          "height": 468
        },
        "outputId": "a0ad4f71-615e-46ca-ff14-88f7fbd29668",
        "id": "EPhoHcUlG9IL"
      },
      "execution_count": null,
      "outputs": [
        {
          "output_type": "execute_result",
          "data": {
            "text/plain": [
              "<Axes: xlabel='availability_365', ylabel='price'>"
            ]
          },
          "metadata": {},
          "execution_count": 54
        },
        {
          "output_type": "display_data",
          "data": {
            "text/plain": [
              "<Figure size 640x480 with 1 Axes>"
            ],
            "image/png": "[encoded data removed]"
          },
          "metadata": {}
        }
      ]
    },
    {
      "cell_type": "code",
      "source": [
        "#Declaramos las variables dependientes e independientes para la regresión lineal\n",
        "Vars_Indep= HR_EUA[['availability_365', 'host_response_rate', 'number_of_reviews', 'accommodates']]\n",
        "Var_Dep= HR_EUA['price']"
      ],
      "metadata": {
        "id": "tpqUSoBIG9IL"
      },
      "execution_count": null,
      "outputs": []
    },
    {
      "cell_type": "code",
      "source": [
        "#Se define model como la función de regresión lineal\n",
        "from sklearn.linear_model import LinearRegression\n",
        "model= LinearRegression()"
      ],
      "metadata": {
        "id": "Mx1Y7brNG9IL"
      },
      "execution_count": null,
      "outputs": []
    },
    {
      "cell_type": "code",
      "source": [
        "#Verificamos la función relacionada al modelo\n",
        "type(model)"
      ],
      "metadata": {
        "colab": {
          "base_uri": "https://localhost:8080/"
        },
        "outputId": "6cd78594-3160-441f-ffe4-087c856f2086",
        "id": "RDUWxJu3G9IL"
      },
      "execution_count": null,
      "outputs": [
        {
          "output_type": "execute_result",
          "data": {
            "text/plain": [
              "sklearn.linear_model._base.LinearRegression"
            ]
          },
          "metadata": {},
          "execution_count": 57
        }
      ]
    },
    {
      "cell_type": "code",
      "source": [
        "#Ajustamos el modelo con las variables antes declaradas\n",
        "model.fit(X=Vars_Indep, y=Var_Dep)"
      ],
      "metadata": {
        "colab": {
          "base_uri": "https://localhost:8080/",
          "height": 75
        },
        "outputId": "42caaab8-df63-4efb-fe74-08865b5630e8",
        "id": "1a26EMXhG9IL"
      },
      "execution_count": null,
      "outputs": [
        {
          "output_type": "execute_result",
          "data": {
            "text/plain": [
              "LinearRegression()"
            ],
            "text/html": [
              "<style>#sk-container-id-5 {color: black;background-color: white;}#sk-container-id-5 pre{padding: 0;}#sk-container-id-5 div.sk-toggleable {background-color: white;}#sk-container-id-5 label.sk-toggleable__label {cursor: pointer;display: block;width: 100%;margin-bottom: 0;padding: 0.3em;box-sizing: border-box;text-align: center;}#sk-container-id-5 label.sk-toggleable__label-arrow:before {content: \"▸\";float: left;margin-right: 0.25em;color: #696969;}#sk-container-id-5 label.sk-toggleable__label-arrow:hover:before {color: black;}#sk-container-id-5 div.sk-estimator:hover label.sk-toggleable__label-arrow:before {color: black;}#sk-container-id-5 div.sk-toggleable__content {max-height: 0;max-width: 0;overflow: hidden;text-align: left;background-color: #f0f8ff;}#sk-container-id-5 div.sk-toggleable__content pre {margin: 0.2em;color: black;border-radius: 0.25em;background-color: #f0f8ff;}#sk-container-id-5 input.sk-toggleable__control:checked~div.sk-toggleable__content {max-height: 200px;max-width: 100%;overflow: auto;}#sk-container-id-5 input.sk-toggleable__control:checked~label.sk-toggleable__label-arrow:before {content: \"▾\";}#sk-container-id-5 div.sk-estimator input.sk-toggleable__control:checked~label.sk-toggleable__label {background-color: #d4ebff;}#sk-container-id-5 div.sk-label input.sk-toggleable__control:checked~label.sk-toggleable__label {background-color: #d4ebff;}#sk-container-id-5 input.sk-hidden--visually {border: 0;clip: rect(1px 1px 1px 1px);clip: rect(1px, 1px, 1px, 1px);height: 1px;margin: -1px;overflow: hidden;padding: 0;position: absolute;width: 1px;}#sk-container-id-5 div.sk-estimator {font-family: monospace;background-color: #f0f8ff;border: 1px dotted black;border-radius: 0.25em;box-sizing: border-box;margin-bottom: 0.5em;}#sk-container-id-5 div.sk-estimator:hover {background-color: #d4ebff;}#sk-container-id-5 div.sk-parallel-item::after {content: \"\";width: 100%;border-bottom: 1px solid gray;flex-grow: 1;}#sk-container-id-5 div.sk-label:hover label.sk-toggleable__label {background-color: #d4ebff;}#sk-container-id-5 div.sk-serial::before {content: \"\";position: absolute;border-left: 1px solid gray;box-sizing: border-box;top: 0;bottom: 0;left: 50%;z-index: 0;}#sk-container-id-5 div.sk-serial {display: flex;flex-direction: column;align-items: center;background-color: white;padding-right: 0.2em;padding-left: 0.2em;position: relative;}#sk-container-id-5 div.sk-item {position: relative;z-index: 1;}#sk-container-id-5 div.sk-parallel {display: flex;align-items: stretch;justify-content: center;background-color: white;position: relative;}#sk-container-id-5 div.sk-item::before, #sk-container-id-5 div.sk-parallel-item::before {content: \"\";position: absolute;border-left: 1px solid gray;box-sizing: border-box;top: 0;bottom: 0;left: 50%;z-index: -1;}#sk-container-id-5 div.sk-parallel-item {display: flex;flex-direction: column;z-index: 1;position: relative;background-color: white;}#sk-container-id-5 div.sk-parallel-item:first-child::after {align-self: flex-end;width: 50%;}#sk-container-id-5 div.sk-parallel-item:last-child::after {align-self: flex-start;width: 50%;}#sk-container-id-5 div.sk-parallel-item:only-child::after {width: 0;}#sk-container-id-5 div.sk-dashed-wrapped {border: 1px dashed gray;margin: 0 0.4em 0.5em 0.4em;box-sizing: border-box;padding-bottom: 0.4em;background-color: white;}#sk-container-id-5 div.sk-label label {font-family: monospace;font-weight: bold;display: inline-block;line-height: 1.2em;}#sk-container-id-5 div.sk-label-container {text-align: center;}#sk-container-id-5 div.sk-container {/* jupyter's `normalize.less` sets `[hidden] { display: none; }` but bootstrap.min.css set `[hidden] { display: none !important; }` so we also need the `!important` here to be able to override the default hidden behavior on the sphinx rendered scikit-learn.org. See: https://github.com/scikit-learn/scikit-learn/issues/21755 */display: inline-block !important;position: relative;}#sk-container-id-5 div.sk-text-repr-fallback {display: none;}</style><div id=\"sk-container-id-5\" class=\"sk-top-container\"><div class=\"sk-text-repr-fallback\"><pre>LinearRegression()</pre><b>In a Jupyter environment, please rerun this cell to show the HTML representation or trust the notebook. <br />On GitHub, the HTML representation is unable to render, please try loading this page with nbviewer.org.</b></div><div class=\"sk-container\" hidden><div class=\"sk-item\"><div class=\"sk-estimator sk-toggleable\"><input class=\"sk-toggleable__control sk-hidden--visually\" id=\"sk-estimator-id-5\" type=\"checkbox\" checked><label for=\"sk-estimator-id-5\" class=\"sk-toggleable__label sk-toggleable__label-arrow\">LinearRegression</label><div class=\"sk-toggleable__content\"><pre>LinearRegression()</pre></div></div></div></div></div>"
            ]
          },
          "metadata": {},
          "execution_count": 58
        }
      ]
    },
    {
      "cell_type": "code",
      "source": [
        "#Verificamos los coeficientes obtenidos para el modelo ajustado\n",
        "model.__dict__"
      ],
      "metadata": {
        "colab": {
          "base_uri": "https://localhost:8080/"
        },
        "outputId": "8ef9d002-d49d-49fc-94d4-ed2a52f505de",
        "id": "uHD8HjiqG9IM"
      },
      "execution_count": null,
      "outputs": [
        {
          "output_type": "execute_result",
          "data": {
            "text/plain": [
              "{'fit_intercept': True,\n",
              " 'copy_X': True,\n",
              " 'n_jobs': None,\n",
              " 'positive': False,\n",
              " 'feature_names_in_': array(['availability_365', 'host_response_rate', 'number_of_reviews',\n",
              "        'accommodates'], dtype=object),\n",
              " 'n_features_in_': 4,\n",
              " 'coef_': array([    6.425581  , -1288.6006835 ,    -1.74354179,   -77.79322666]),\n",
              " 'rank_': 4,\n",
              " 'singular_': array([1029.04286195,  925.0313743 ,    6.97906391,    2.03820805]),\n",
              " 'intercept_': 1081.957337719889}"
            ]
          },
          "metadata": {},
          "execution_count": 59
        }
      ]
    },
    {
      "cell_type": "markdown",
      "source": [
        "**Modelo matemático: y= 6.425581x1 + -1288.6006835x2 + -1.74354179x3 + -77.79322666x4 + 1081.957337719889**"
      ],
      "metadata": {
        "id": "Ylcah516G9IM"
      }
    },
    {
      "cell_type": "code",
      "source": [
        "#Corroboramos cual es el coeficiente de Determinación de nuestro modelo\n",
        "coef_Deter5=model.score(X=Vars_Indep, y=Var_Dep)\n",
        "coef_Deter5"
      ],
      "metadata": {
        "colab": {
          "base_uri": "https://localhost:8080/"
        },
        "outputId": "915912a9-39ed-464d-be54-b6c42f311d95",
        "id": "dYfBpcFCG9IM"
      },
      "execution_count": null,
      "outputs": [
        {
          "output_type": "execute_result",
          "data": {
            "text/plain": [
              "0.08977896074021141"
            ]
          },
          "metadata": {},
          "execution_count": 60
        }
      ]
    },
    {
      "cell_type": "code",
      "source": [
        "#Corroboramos cual es el coeficiente de Correlación de nuestro modelo\n",
        "coef_Correl5=np.sqrt(coef_Deter5)\n",
        "coef_Correl5"
      ],
      "metadata": {
        "colab": {
          "base_uri": "https://localhost:8080/"
        },
        "outputId": "da86158b-037c-4587-dbc2-577f60905413",
        "id": "lXvO7DV2G9IM"
      },
      "execution_count": null,
      "outputs": [
        {
          "output_type": "execute_result",
          "data": {
            "text/plain": [
              "0.29963137475940566"
            ]
          },
          "metadata": {},
          "execution_count": 61
        }
      ]
    },
    {
      "cell_type": "code",
      "source": [
        "det.append(coef_Deter5)\n",
        "corr.append(np.sqrt(coef_Correl5))\n",
        "Ta_V.append(\"Hotel room / Price vs availability_365, host_response_rate, number_of_reviews, accommodates\")"
      ],
      "metadata": {
        "id": "9NcE9T9mG9IM"
      },
      "execution_count": null,
      "outputs": []
    },
    {
      "cell_type": "markdown",
      "source": [
        "### **host_acceptance_rate vs number_of_reviews,review_scores_cleanliness,review_scores_communication**"
      ],
      "metadata": {
        "id": "CprFfFIoG9IM"
      }
    },
    {
      "cell_type": "code",
      "source": [
        "from turtle import color\n",
        "\n",
        "sns.scatterplot(x='number_of_reviews', y='host_acceptance_rate', color=\"red\", data=HR_EUA)\n",
        "sns.scatterplot(x='review_scores_cleanliness', y='host_acceptance_rate', color=\"blue\", data=HR_EUA)\n",
        "sns.scatterplot(x='review_scores_communication', y='host_acceptance_rate', color=\"green\", data=HR_EUA)"
      ],
      "metadata": {
        "colab": {
          "base_uri": "https://localhost:8080/",
          "height": 468
        },
        "outputId": "8060bc54-ba86-455f-919f-d8fed80e2030",
        "id": "pXA7it9DG9IM"
      },
      "execution_count": null,
      "outputs": [
        {
          "output_type": "execute_result",
          "data": {
            "text/plain": [
              "<Axes: xlabel='number_of_reviews', ylabel='host_acceptance_rate'>"
            ]
          },
          "metadata": {},
          "execution_count": 63
        },
        {
          "output_type": "display_data",
          "data": {
            "text/plain": [
              "<Figure size 640x480 with 1 Axes>"
            ],
            "image/png": "[encoded data removed]"
          },
          "metadata": {}
        }
      ]
    },
    {
      "cell_type": "code",
      "source": [
        "#Declaramos las variables dependientes e independientes para la regresión lineal\n",
        "Vars_Indep= HR_EUA[['number_of_reviews','review_scores_cleanliness','review_scores_communication']]\n",
        "Var_Dep= HR_EUA['host_acceptance_rate']"
      ],
      "metadata": {
        "id": "bMrfISiSG9IM"
      },
      "execution_count": null,
      "outputs": []
    },
    {
      "cell_type": "code",
      "source": [
        "#Se define model como la función de regresión lineal\n",
        "from sklearn.linear_model import LinearRegression\n",
        "model= LinearRegression()"
      ],
      "metadata": {
        "id": "gNGfC_6PG9IM"
      },
      "execution_count": null,
      "outputs": []
    },
    {
      "cell_type": "code",
      "source": [
        "#Verificamos la función relacionada al modelo\n",
        "type(model)"
      ],
      "metadata": {
        "colab": {
          "base_uri": "https://localhost:8080/"
        },
        "outputId": "249c40c9-5150-464f-ceec-8d1dcd6ccc7c",
        "id": "RJ7mjonEG9IM"
      },
      "execution_count": null,
      "outputs": [
        {
          "output_type": "execute_result",
          "data": {
            "text/plain": [
              "sklearn.linear_model._base.LinearRegression"
            ]
          },
          "metadata": {},
          "execution_count": 66
        }
      ]
    },
    {
      "cell_type": "code",
      "source": [
        "#Ajustamos el modelo con las variables antes declaradas\n",
        "model.fit(X=Vars_Indep, y=Var_Dep)"
      ],
      "metadata": {
        "colab": {
          "base_uri": "https://localhost:8080/",
          "height": 75
        },
        "outputId": "72962092-d502-43bd-b370-60e3dac8b018",
        "id": "0tmi_XNjG9IM"
      },
      "execution_count": null,
      "outputs": [
        {
          "output_type": "execute_result",
          "data": {
            "text/plain": [
              "LinearRegression()"
            ],
            "text/html": [
              "<style>#sk-container-id-6 {color: black;background-color: white;}#sk-container-id-6 pre{padding: 0;}#sk-container-id-6 div.sk-toggleable {background-color: white;}#sk-container-id-6 label.sk-toggleable__label {cursor: pointer;display: block;width: 100%;margin-bottom: 0;padding: 0.3em;box-sizing: border-box;text-align: center;}#sk-container-id-6 label.sk-toggleable__label-arrow:before {content: \"▸\";float: left;margin-right: 0.25em;color: #696969;}#sk-container-id-6 label.sk-toggleable__label-arrow:hover:before {color: black;}#sk-container-id-6 div.sk-estimator:hover label.sk-toggleable__label-arrow:before {color: black;}#sk-container-id-6 div.sk-toggleable__content {max-height: 0;max-width: 0;overflow: hidden;text-align: left;background-color: #f0f8ff;}#sk-container-id-6 div.sk-toggleable__content pre {margin: 0.2em;color: black;border-radius: 0.25em;background-color: #f0f8ff;}#sk-container-id-6 input.sk-toggleable__control:checked~div.sk-toggleable__content {max-height: 200px;max-width: 100%;overflow: auto;}#sk-container-id-6 input.sk-toggleable__control:checked~label.sk-toggleable__label-arrow:before {content: \"▾\";}#sk-container-id-6 div.sk-estimator input.sk-toggleable__control:checked~label.sk-toggleable__label {background-color: #d4ebff;}#sk-container-id-6 div.sk-label input.sk-toggleable__control:checked~label.sk-toggleable__label {background-color: #d4ebff;}#sk-container-id-6 input.sk-hidden--visually {border: 0;clip: rect(1px 1px 1px 1px);clip: rect(1px, 1px, 1px, 1px);height: 1px;margin: -1px;overflow: hidden;padding: 0;position: absolute;width: 1px;}#sk-container-id-6 div.sk-estimator {font-family: monospace;background-color: #f0f8ff;border: 1px dotted black;border-radius: 0.25em;box-sizing: border-box;margin-bottom: 0.5em;}#sk-container-id-6 div.sk-estimator:hover {background-color: #d4ebff;}#sk-container-id-6 div.sk-parallel-item::after {content: \"\";width: 100%;border-bottom: 1px solid gray;flex-grow: 1;}#sk-container-id-6 div.sk-label:hover label.sk-toggleable__label {background-color: #d4ebff;}#sk-container-id-6 div.sk-serial::before {content: \"\";position: absolute;border-left: 1px solid gray;box-sizing: border-box;top: 0;bottom: 0;left: 50%;z-index: 0;}#sk-container-id-6 div.sk-serial {display: flex;flex-direction: column;align-items: center;background-color: white;padding-right: 0.2em;padding-left: 0.2em;position: relative;}#sk-container-id-6 div.sk-item {position: relative;z-index: 1;}#sk-container-id-6 div.sk-parallel {display: flex;align-items: stretch;justify-content: center;background-color: white;position: relative;}#sk-container-id-6 div.sk-item::before, #sk-container-id-6 div.sk-parallel-item::before {content: \"\";position: absolute;border-left: 1px solid gray;box-sizing: border-box;top: 0;bottom: 0;left: 50%;z-index: -1;}#sk-container-id-6 div.sk-parallel-item {display: flex;flex-direction: column;z-index: 1;position: relative;background-color: white;}#sk-container-id-6 div.sk-parallel-item:first-child::after {align-self: flex-end;width: 50%;}#sk-container-id-6 div.sk-parallel-item:last-child::after {align-self: flex-start;width: 50%;}#sk-container-id-6 div.sk-parallel-item:only-child::after {width: 0;}#sk-container-id-6 div.sk-dashed-wrapped {border: 1px dashed gray;margin: 0 0.4em 0.5em 0.4em;box-sizing: border-box;padding-bottom: 0.4em;background-color: white;}#sk-container-id-6 div.sk-label label {font-family: monospace;font-weight: bold;display: inline-block;line-height: 1.2em;}#sk-container-id-6 div.sk-label-container {text-align: center;}#sk-container-id-6 div.sk-container {/* jupyter's `normalize.less` sets `[hidden] { display: none; }` but bootstrap.min.css set `[hidden] { display: none !important; }` so we also need the `!important` here to be able to override the default hidden behavior on the sphinx rendered scikit-learn.org. See: https://github.com/scikit-learn/scikit-learn/issues/21755 */display: inline-block !important;position: relative;}#sk-container-id-6 div.sk-text-repr-fallback {display: none;}</style><div id=\"sk-container-id-6\" class=\"sk-top-container\"><div class=\"sk-text-repr-fallback\"><pre>LinearRegression()</pre><b>In a Jupyter environment, please rerun this cell to show the HTML representation or trust the notebook. <br />On GitHub, the HTML representation is unable to render, please try loading this page with nbviewer.org.</b></div><div class=\"sk-container\" hidden><div class=\"sk-item\"><div class=\"sk-estimator sk-toggleable\"><input class=\"sk-toggleable__control sk-hidden--visually\" id=\"sk-estimator-id-6\" type=\"checkbox\" checked><label for=\"sk-estimator-id-6\" class=\"sk-toggleable__label sk-toggleable__label-arrow\">LinearRegression</label><div class=\"sk-toggleable__content\"><pre>LinearRegression()</pre></div></div></div></div></div>"
            ]
          },
          "metadata": {},
          "execution_count": 67
        }
      ]
    },
    {
      "cell_type": "code",
      "source": [
        "#Verificamos los coeficientes obtenidos para el modelo ajustado\n",
        "model.__dict__"
      ],
      "metadata": {
        "colab": {
          "base_uri": "https://localhost:8080/"
        },
        "outputId": "91f96fd0-3a16-4366-8aa4-723aed6feb86",
        "id": "J6yhHTmzG9IM"
      },
      "execution_count": null,
      "outputs": [
        {
          "output_type": "execute_result",
          "data": {
            "text/plain": [
              "{'fit_intercept': True,\n",
              " 'copy_X': True,\n",
              " 'n_jobs': None,\n",
              " 'positive': False,\n",
              " 'feature_names_in_': array(['number_of_reviews', 'review_scores_cleanliness',\n",
              "        'review_scores_communication'], dtype=object),\n",
              " 'n_features_in_': 3,\n",
              " 'coef_': array([ 0.00034382,  0.20865163, -0.01950043]),\n",
              " 'rank_': 3,\n",
              " 'singular_': array([975.14357468,  13.10615826,   3.0342076 ]),\n",
              " 'intercept_': -0.006857460799376103}"
            ]
          },
          "metadata": {},
          "execution_count": 68
        }
      ]
    },
    {
      "cell_type": "markdown",
      "source": [
        "**Modelo matemático: y= 0.00034382x1 + 0.20865163x2 + -0.01950043x3 + -0.006857460799376103**"
      ],
      "metadata": {
        "id": "cpCie_wbG9IM"
      }
    },
    {
      "cell_type": "code",
      "source": [
        "#Corroboramos cual es el coeficiente de Determinación de nuestro modelo\n",
        "coef_Deter6=model.score(X=Vars_Indep, y=Var_Dep)\n",
        "coef_Deter6"
      ],
      "metadata": {
        "colab": {
          "base_uri": "https://localhost:8080/"
        },
        "outputId": "5631df32-128d-44fd-d89d-2f478a980bef",
        "id": "co1m18FaG9IN"
      },
      "execution_count": null,
      "outputs": [
        {
          "output_type": "execute_result",
          "data": {
            "text/plain": [
              "0.4445817935305686"
            ]
          },
          "metadata": {},
          "execution_count": 69
        }
      ]
    },
    {
      "cell_type": "code",
      "source": [
        "#Corroboramos cual es el coeficiente de Correlación de nuestro modelo\n",
        "coef_Correl6=np.sqrt(coef_Deter6)\n",
        "coef_Correl6"
      ],
      "metadata": {
        "colab": {
          "base_uri": "https://localhost:8080/"
        },
        "outputId": "a15c35e0-a50f-4624-8de1-ec7e68c602b7",
        "id": "ncopzYo9G9IN"
      },
      "execution_count": null,
      "outputs": [
        {
          "output_type": "execute_result",
          "data": {
            "text/plain": [
              "0.6667696705239138"
            ]
          },
          "metadata": {},
          "execution_count": 70
        }
      ]
    },
    {
      "cell_type": "code",
      "source": [
        "det.append(coef_Deter6)\n",
        "corr.append(np.sqrt(coef_Correl6))\n",
        "Ta_V.append(\"Hotel room / host_acceptance_rate vs number_of_reviews,review_scores_cleanliness,review_scores_communication\")"
      ],
      "metadata": {
        "id": "NrEZsI9TG9IN"
      },
      "execution_count": null,
      "outputs": []
    },
    {
      "cell_type": "markdown",
      "source": [
        "## **Tabla**"
      ],
      "metadata": {
        "id": "6ZYXOVf3GjwB"
      }
    },
    {
      "cell_type": "code",
      "source": [
        "tabla = pd.DataFrame()\n",
        "tabla['Tipo de habitación y Variables'] = Ta_V\n",
        "tabla['Coef. Determinación'] = det\n",
        "tabla['Coef. Correlación'] = corr\n",
        "tabla"
      ],
      "metadata": {
        "colab": {
          "base_uri": "https://localhost:8080/",
          "height": 238
        },
        "id": "pCdSty89IU-M",
        "outputId": "57f6c28b-1c46-4f07-f647-c68c4f0b01dc"
      },
      "execution_count": null,
      "outputs": [
        {
          "output_type": "execute_result",
          "data": {
            "text/plain": [
              "                      Tipo de habitación y Variables  Coef. Determinación  \\\n",
              "0  Private room / host_acceptance_rate vs host_re...             0.614356   \n",
              "1  Private room / host_acceptance_rate vs host_re...             0.614356   \n",
              "2  Private room / Price vs availability_365, host...             0.027626   \n",
              "3  Hotel room / host_acceptance_rate vs host_resp...             0.964492   \n",
              "4  Hotel room / Price vs availability_365, host_r...             0.089779   \n",
              "5  Hotel room / host_acceptance_rate vs number_of...             0.444582   \n",
              "\n",
              "   Coef. Correlación  \n",
              "0           0.885330  \n",
              "1           0.885330  \n",
              "2           0.407690  \n",
              "3           0.991002  \n",
              "4           0.547386  \n",
              "5           0.816560  "
            ],
            "text/html": [
              "\n",
              "  <div id=\"df-4d73fcba-9aa2-4d46-a30d-b31411694438\">\n",
              "    <div class=\"colab-df-container\">\n",
              "      <div>\n",
              "<style scoped>\n",
              "    .dataframe tbody tr th:only-of-type {\n",
              "        vertical-align: middle;\n",
              "    }\n",
              "\n",
              "    .dataframe tbody tr th {\n",
              "        vertical-align: top;\n",
              "    }\n",
              "\n",
              "    .dataframe thead th {\n",
              "        text-align: right;\n",
              "    }\n",
              "</style>\n",
              "<table border=\"1\" class=\"dataframe\">\n",
              "  <thead>\n",
              "    <tr style=\"text-align: right;\">\n",
              "      <th></th>\n",
              "      <th>Tipo de habitación y Variables</th>\n",
              "      <th>Coef. Determinación</th>\n",
              "      <th>Coef. Correlación</th>\n",
              "    </tr>\n",
              "  </thead>\n",
              "  <tbody>\n",
              "    <tr>\n",
              "      <th>0</th>\n",
              "      <td>Private room / host_acceptance_rate vs host_re...</td>\n",
              "      <td>0.614356</td>\n",
              "      <td>0.885330</td>\n",
              "    </tr>\n",
              "    <tr>\n",
              "      <th>1</th>\n",
              "      <td>Private room / host_acceptance_rate vs host_re...</td>\n",
              "      <td>0.614356</td>\n",
              "      <td>0.885330</td>\n",
              "    </tr>\n",
              "    <tr>\n",
              "      <th>2</th>\n",
              "      <td>Private room / Price vs availability_365, host...</td>\n",
              "      <td>0.027626</td>\n",
              "      <td>0.407690</td>\n",
              "    </tr>\n",
              "    <tr>\n",
              "      <th>3</th>\n",
              "      <td>Hotel room / host_acceptance_rate vs host_resp...</td>\n",
              "      <td>0.964492</td>\n",
              "      <td>0.991002</td>\n",
              "    </tr>\n",
              "    <tr>\n",
              "      <th>4</th>\n",
              "      <td>Hotel room / Price vs availability_365, host_r...</td>\n",
              "      <td>0.089779</td>\n",
              "      <td>0.547386</td>\n",
              "    </tr>\n",
              "    <tr>\n",
              "      <th>5</th>\n",
              "      <td>Hotel room / host_acceptance_rate vs number_of...</td>\n",
              "      <td>0.444582</td>\n",
              "      <td>0.816560</td>\n",
              "    </tr>\n",
              "  </tbody>\n",
              "</table>\n",
              "</div>\n",
              "      <button class=\"colab-df-convert\" onclick=\"convertToInteractive('df-4d73fcba-9aa2-4d46-a30d-b31411694438')\"\n",
              "              title=\"Convert this dataframe to an interactive table.\"\n",
              "              style=\"display:none;\">\n",
              "        \n",
              "  <svg xmlns=\"http://www.w3.org/2000/svg\" height=\"24px\"viewBox=\"0 0 24 24\"\n",
              "       width=\"24px\">\n",
              "    <path d=\"M0 0h24v24H0V0z\" fill=\"none\"/>\n",
              "    <path d=\"M18.56 5.44l.94 2.06.94-2.06 2.06-.94-2.06-.94-.94-2.06-.94 2.06-2.06.94zm-11 1L8.5 8.5l.94-2.06 2.06-.94-2.06-.94L8.5 2.5l-.94 2.06-2.06.94zm10 10l.94 2.06.94-2.06 2.06-.94-2.06-.94-.94-2.06-.94 2.06-2.06.94z\"/><path d=\"M17.41 7.96l-1.37-1.37c-.4-.4-.92-.59-1.43-.59-.52 0-1.04.2-1.43.59L10.3 9.45l-7.72 7.72c-.78.78-.78 2.05 0 2.83L4 21.41c.39.39.9.59 1.41.59.51 0 1.02-.2 1.41-.59l7.78-7.78 2.81-2.81c.8-.78.8-2.07 0-2.86zM5.41 20L4 18.59l7.72-7.72 1.47 1.35L5.41 20z\"/>\n",
              "  </svg>\n",
              "      </button>\n",
              "      \n",
              "  <style>\n",
              "    .colab-df-container {\n",
              "      display:flex;\n",
              "      flex-wrap:wrap;\n",
              "      gap: 12px;\n",
              "    }\n",
              "\n",
              "    .colab-df-convert {\n",
              "      background-color: #E8F0FE;\n",
              "      border: none;\n",
              "      border-radius: 50%;\n",
              "      cursor: pointer;\n",
              "      display: none;\n",
              "      fill: #1967D2;\n",
              "      height: 32px;\n",
              "      padding: 0 0 0 0;\n",
              "      width: 32px;\n",
              "    }\n",
              "\n",
              "    .colab-df-convert:hover {\n",
              "      background-color: #E2EBFA;\n",
              "      box-shadow: 0px 1px 2px rgba(60, 64, 67, 0.3), 0px 1px 3px 1px rgba(60, 64, 67, 0.15);\n",
              "      fill: #174EA6;\n",
              "    }\n",
              "\n",
              "    [theme=dark] .colab-df-convert {\n",
              "      background-color: #3B4455;\n",
              "      fill: #D2E3FC;\n",
              "    }\n",
              "\n",
              "    [theme=dark] .colab-df-convert:hover {\n",
              "      background-color: #434B5C;\n",
              "      box-shadow: 0px 1px 3px 1px rgba(0, 0, 0, 0.15);\n",
              "      filter: drop-shadow(0px 1px 2px rgba(0, 0, 0, 0.3));\n",
              "      fill: #FFFFFF;\n",
              "    }\n",
              "  </style>\n",
              "\n",
              "      <script>\n",
              "        const buttonEl =\n",
              "          document.querySelector('#df-4d73fcba-9aa2-4d46-a30d-b31411694438 button.colab-df-convert');\n",
              "        buttonEl.style.display =\n",
              "          google.colab.kernel.accessAllowed ? 'block' : 'none';\n",
              "\n",
              "        async function convertToInteractive(key) {\n",
              "          const element = document.querySelector('#df-4d73fcba-9aa2-4d46-a30d-b31411694438');\n",
              "          const dataTable =\n",
              "            await google.colab.kernel.invokeFunction('convertToInteractive',\n",
              "                                                     [key], {});\n",
              "          if (!dataTable) return;\n",
              "\n",
              "          const docLinkHtml = 'Like what you see? Visit the ' +\n",
              "            '<a target=\"_blank\" href=https://colab.research.google.com/notebooks/data_table.ipynb>data table notebook</a>'\n",
              "            + ' to learn more about interactive tables.';\n",
              "          element.innerHTML = '';\n",
              "          dataTable['output_type'] = 'display_data';\n",
              "          await google.colab.output.renderOutput(dataTable, element);\n",
              "          const docLink = document.createElement('div');\n",
              "          docLink.innerHTML = docLinkHtml;\n",
              "          element.appendChild(docLink);\n",
              "        }\n",
              "      </script>\n",
              "    </div>\n",
              "  </div>\n",
              "  "
            ]
          },
          "metadata": {},
          "execution_count": 72
        }
      ]
    }
  ]
}