{
  "nbformat": 4,
  "nbformat_minor": 0,
  "metadata": {
    "colab": {
      "provenance": [],
      "toc_visible": true,
      "include_colab_link": true
    },
    "kernelspec": {
      "name": "python3",
      "display_name": "Python 3"
    },
    "language_info": {
      "name": "python"
    }
  },
  "cells": [
    {
      "cell_type": "markdown",
      "metadata": {
        "id": "view-in-github",
        "colab_type": "text"
      },
      "source": [
        "<a href=\"https://colab.research.google.com/github/valeriamedina2/Regresi-n-Lineal/blob/main/6_2_Espa%C3%B1a.ipynb\" target=\"_parent\"><img src=\"https://colab.research.google.com/assets/colab-badge.svg\" alt=\"Open In Colab\"/></a>"
      ]
    },
    {
      "cell_type": "code",
      "execution_count": null,
      "metadata": {
        "id": "L5Epjygo_Vos"
      },
      "outputs": [],
      "source": [
        "import pandas as pd\n",
        "import numpy as np\n",
        "import matplotlib.pyplot as plt\n",
        "import seaborn as sns"
      ]
    },
    {
      "cell_type": "markdown",
      "source": [
        "# **Girona_España**"
      ],
      "metadata": {
        "id": "7UYV7k2qByi6"
      }
    },
    {
      "cell_type": "code",
      "source": [
        "España = pd.read_csv('España_clean.csv')"
      ],
      "metadata": {
        "id": "DCp2kQhB_zXT"
      },
      "execution_count": null,
      "outputs": []
    },
    {
      "cell_type": "code",
      "source": [
        "corr = []\n",
        "det = []\n",
        "Ta_V = []"
      ],
      "metadata": {
        "id": "HJRcvPbLED58"
      },
      "execution_count": null,
      "outputs": []
    },
    {
      "cell_type": "markdown",
      "source": [
        "## **Private room**"
      ],
      "metadata": {
        "id": "rybBh_l0Bui-"
      }
    },
    {
      "cell_type": "code",
      "source": [
        "PR_España = España.loc[España['room_type'] == \"Private room\"]\n",
        "PR_España"
      ],
      "metadata": {
        "colab": {
          "base_uri": "https://localhost:8080/",
          "height": 1000
        },
        "id": "rh1iGxRaBtsx",
        "outputId": "dd7828d3-3df8-420b-e57f-3f6a90f92799"
      },
      "execution_count": null,
      "outputs": [
        {
          "output_type": "execute_result",
          "data": {
            "text/plain": [
              "       Unnamed: 0.2  Unnamed: 0.1  Unnamed: 0  host_listings_count   latitude  \\\n",
              "0                 0             0           0                    1  41.996500   \n",
              "1                 1             1           1                    1  41.793040   \n",
              "3                 3             3           3                    6  42.369580   \n",
              "12               12            12          12                    6  42.369580   \n",
              "13               13            13          13                    6  42.369580   \n",
              "...             ...           ...         ...                  ...        ...   \n",
              "19534         19535         19535       19534                   89  41.888870   \n",
              "19535         19536         19536       19535                   89  41.888540   \n",
              "19546         19547         19547       19546                   10  41.714360   \n",
              "19573         19574         19574       19573                   77  41.793824   \n",
              "19582         19583         19583       19582                    4  41.792730   \n",
              "\n",
              "       longitude  accommodates  bathrooms  bedrooms  beds  ...  \\\n",
              "0       2.836460             2          0         1     1  ...   \n",
              "1       2.774120             2          0         1     1  ...   \n",
              "3       2.980300             2          0         1     2  ...   \n",
              "12      2.980300             3          0         1     2  ...   \n",
              "13      2.980300             3          0         1     2  ...   \n",
              "...          ...           ...        ...       ...   ...  ...   \n",
              "19534   3.179440             6          0         1     3  ...   \n",
              "19535   3.180800             4          0         1     2  ...   \n",
              "19546   2.822490             3          0         1     6  ...   \n",
              "19573   3.046657             5          0         2     5  ...   \n",
              "19582   2.795540             2          0         1     1  ...   \n",
              "\n",
              "         bathrooms_text  bedrooms.1  \\\n",
              "0        1 private bath           1   \n",
              "1      1.5 shared baths           1   \n",
              "3        1 private bath           1   \n",
              "12       1 private bath           1   \n",
              "13       1 private bath           1   \n",
              "...                 ...         ...   \n",
              "19534     1 shared bath           1   \n",
              "19535     1 shared bath           1   \n",
              "19546            1 bath           1   \n",
              "19573            1 bath           2   \n",
              "19582    1 private bath           1   \n",
              "\n",
              "                                               amenities  calendar_updated.1  \\\n",
              "0      [\"Shared pool\", \"Refrigerator\", \"Long term sta...                  --   \n",
              "1      [\"Free parking on premises\", \"Refrigerator\", \"...                  --   \n",
              "3      [\"Hair dryer\", \"Luggage dropoff allowed\", \"Fre...                  --   \n",
              "12     [\"Hair dryer\", \"Luggage dropoff allowed\", \"Was...                  --   \n",
              "13     [\"Hair dryer\", \"Dedicated workspace\", \"Luggage...                  --   \n",
              "...                                                  ...                 ...   \n",
              "19534  [\"Pool\", \"Dining table\", \"Portable fans\", \"Fre...                  --   \n",
              "19535  [\"Free parking on premises\", \"Mosquito net\", \"...                  --   \n",
              "19546  [\"Air conditioning\", \"Refrigerator\", \"Host gre...                  --   \n",
              "19573  [\"Kitchen\", \"Washer\", \"Coffee maker\", \"Dishes ...                  --   \n",
              "19582  [\"Pool\", \"Air conditioning\", \"Free parking on ...                  --   \n",
              "\n",
              "       has_availability  calendar_last_scraped  first_review  last_review  \\\n",
              "0                     t               31/03/23      08/10/10     27/02/23   \n",
              "1                     t               31/03/23      01/08/13     26/06/22   \n",
              "3                     t               31/03/23      23/08/13     29/08/22   \n",
              "12                    t               31/03/23      05/08/13     08/09/22   \n",
              "13                    t               31/03/23      18/08/13     07/08/18   \n",
              "...                 ...                    ...           ...          ...   \n",
              "19534                 t               01/04/23            --           --   \n",
              "19535                 t               01/04/23            --           --   \n",
              "19546                 t               01/04/23            --           --   \n",
              "19573                 t               01/04/23            --           --   \n",
              "19582                 t               31/03/23            --           --   \n",
              "\n",
              "           license instant_bookable  \n",
              "0      HUTG-049542                f  \n",
              "1                0                f  \n",
              "3         PG000794                t  \n",
              "12        PG000794                t  \n",
              "13        PG000794                t  \n",
              "...            ...              ...  \n",
              "19534    KG-000059                t  \n",
              "19535    KG-000059                t  \n",
              "19546       Exempt                t  \n",
              "19573  HUTG-016424                t  \n",
              "19582  HUTG-058136                t  \n",
              "\n",
              "[1233 rows x 79 columns]"
            ],
            "text/html": [
              "\n",
              "  <div id=\"df-1c98a514-d720-4295-a8ef-03bd4aa19c2f\">\n",
              "    <div class=\"colab-df-container\">\n",
              "      <div>\n",
              "<style scoped>\n",
              "    .dataframe tbody tr th:only-of-type {\n",
              "        vertical-align: middle;\n",
              "    }\n",
              "\n",
              "    .dataframe tbody tr th {\n",
              "        vertical-align: top;\n",
              "    }\n",
              "\n",
              "    .dataframe thead th {\n",
              "        text-align: right;\n",
              "    }\n",
              "</style>\n",
              "<table border=\"1\" class=\"dataframe\">\n",
              "  <thead>\n",
              "    <tr style=\"text-align: right;\">\n",
              "      <th></th>\n",
              "      <th>Unnamed: 0.2</th>\n",
              "      <th>Unnamed: 0.1</th>\n",
              "      <th>Unnamed: 0</th>\n",
              "      <th>host_listings_count</th>\n",
              "      <th>latitude</th>\n",
              "      <th>longitude</th>\n",
              "      <th>accommodates</th>\n",
              "      <th>bathrooms</th>\n",
              "      <th>bedrooms</th>\n",
              "      <th>beds</th>\n",
              "      <th>...</th>\n",
              "      <th>bathrooms_text</th>\n",
              "      <th>bedrooms.1</th>\n",
              "      <th>amenities</th>\n",
              "      <th>calendar_updated.1</th>\n",
              "      <th>has_availability</th>\n",
              "      <th>calendar_last_scraped</th>\n",
              "      <th>first_review</th>\n",
              "      <th>last_review</th>\n",
              "      <th>license</th>\n",
              "      <th>instant_bookable</th>\n",
              "    </tr>\n",
              "  </thead>\n",
              "  <tbody>\n",
              "    <tr>\n",
              "      <th>0</th>\n",
              "      <td>0</td>\n",
              "      <td>0</td>\n",
              "      <td>0</td>\n",
              "      <td>1</td>\n",
              "      <td>41.996500</td>\n",
              "      <td>2.836460</td>\n",
              "      <td>2</td>\n",
              "      <td>0</td>\n",
              "      <td>1</td>\n",
              "      <td>1</td>\n",
              "      <td>...</td>\n",
              "      <td>1 private bath</td>\n",
              "      <td>1</td>\n",
              "      <td>[\"Shared pool\", \"Refrigerator\", \"Long term sta...</td>\n",
              "      <td>--</td>\n",
              "      <td>t</td>\n",
              "      <td>31/03/23</td>\n",
              "      <td>08/10/10</td>\n",
              "      <td>27/02/23</td>\n",
              "      <td>HUTG-049542</td>\n",
              "      <td>f</td>\n",
              "    </tr>\n",
              "    <tr>\n",
              "      <th>1</th>\n",
              "      <td>1</td>\n",
              "      <td>1</td>\n",
              "      <td>1</td>\n",
              "      <td>1</td>\n",
              "      <td>41.793040</td>\n",
              "      <td>2.774120</td>\n",
              "      <td>2</td>\n",
              "      <td>0</td>\n",
              "      <td>1</td>\n",
              "      <td>1</td>\n",
              "      <td>...</td>\n",
              "      <td>1.5 shared baths</td>\n",
              "      <td>1</td>\n",
              "      <td>[\"Free parking on premises\", \"Refrigerator\", \"...</td>\n",
              "      <td>--</td>\n",
              "      <td>t</td>\n",
              "      <td>31/03/23</td>\n",
              "      <td>01/08/13</td>\n",
              "      <td>26/06/22</td>\n",
              "      <td>0</td>\n",
              "      <td>f</td>\n",
              "    </tr>\n",
              "    <tr>\n",
              "      <th>3</th>\n",
              "      <td>3</td>\n",
              "      <td>3</td>\n",
              "      <td>3</td>\n",
              "      <td>6</td>\n",
              "      <td>42.369580</td>\n",
              "      <td>2.980300</td>\n",
              "      <td>2</td>\n",
              "      <td>0</td>\n",
              "      <td>1</td>\n",
              "      <td>2</td>\n",
              "      <td>...</td>\n",
              "      <td>1 private bath</td>\n",
              "      <td>1</td>\n",
              "      <td>[\"Hair dryer\", \"Luggage dropoff allowed\", \"Fre...</td>\n",
              "      <td>--</td>\n",
              "      <td>t</td>\n",
              "      <td>31/03/23</td>\n",
              "      <td>23/08/13</td>\n",
              "      <td>29/08/22</td>\n",
              "      <td>PG000794</td>\n",
              "      <td>t</td>\n",
              "    </tr>\n",
              "    <tr>\n",
              "      <th>12</th>\n",
              "      <td>12</td>\n",
              "      <td>12</td>\n",
              "      <td>12</td>\n",
              "      <td>6</td>\n",
              "      <td>42.369580</td>\n",
              "      <td>2.980300</td>\n",
              "      <td>3</td>\n",
              "      <td>0</td>\n",
              "      <td>1</td>\n",
              "      <td>2</td>\n",
              "      <td>...</td>\n",
              "      <td>1 private bath</td>\n",
              "      <td>1</td>\n",
              "      <td>[\"Hair dryer\", \"Luggage dropoff allowed\", \"Was...</td>\n",
              "      <td>--</td>\n",
              "      <td>t</td>\n",
              "      <td>31/03/23</td>\n",
              "      <td>05/08/13</td>\n",
              "      <td>08/09/22</td>\n",
              "      <td>PG000794</td>\n",
              "      <td>t</td>\n",
              "    </tr>\n",
              "    <tr>\n",
              "      <th>13</th>\n",
              "      <td>13</td>\n",
              "      <td>13</td>\n",
              "      <td>13</td>\n",
              "      <td>6</td>\n",
              "      <td>42.369580</td>\n",
              "      <td>2.980300</td>\n",
              "      <td>3</td>\n",
              "      <td>0</td>\n",
              "      <td>1</td>\n",
              "      <td>2</td>\n",
              "      <td>...</td>\n",
              "      <td>1 private bath</td>\n",
              "      <td>1</td>\n",
              "      <td>[\"Hair dryer\", \"Dedicated workspace\", \"Luggage...</td>\n",
              "      <td>--</td>\n",
              "      <td>t</td>\n",
              "      <td>31/03/23</td>\n",
              "      <td>18/08/13</td>\n",
              "      <td>07/08/18</td>\n",
              "      <td>PG000794</td>\n",
              "      <td>t</td>\n",
              "    </tr>\n",
              "    <tr>\n",
              "      <th>...</th>\n",
              "      <td>...</td>\n",
              "      <td>...</td>\n",
              "      <td>...</td>\n",
              "      <td>...</td>\n",
              "      <td>...</td>\n",
              "      <td>...</td>\n",
              "      <td>...</td>\n",
              "      <td>...</td>\n",
              "      <td>...</td>\n",
              "      <td>...</td>\n",
              "      <td>...</td>\n",
              "      <td>...</td>\n",
              "      <td>...</td>\n",
              "      <td>...</td>\n",
              "      <td>...</td>\n",
              "      <td>...</td>\n",
              "      <td>...</td>\n",
              "      <td>...</td>\n",
              "      <td>...</td>\n",
              "      <td>...</td>\n",
              "      <td>...</td>\n",
              "    </tr>\n",
              "    <tr>\n",
              "      <th>19534</th>\n",
              "      <td>19535</td>\n",
              "      <td>19535</td>\n",
              "      <td>19534</td>\n",
              "      <td>89</td>\n",
              "      <td>41.888870</td>\n",
              "      <td>3.179440</td>\n",
              "      <td>6</td>\n",
              "      <td>0</td>\n",
              "      <td>1</td>\n",
              "      <td>3</td>\n",
              "      <td>...</td>\n",
              "      <td>1 shared bath</td>\n",
              "      <td>1</td>\n",
              "      <td>[\"Pool\", \"Dining table\", \"Portable fans\", \"Fre...</td>\n",
              "      <td>--</td>\n",
              "      <td>t</td>\n",
              "      <td>01/04/23</td>\n",
              "      <td>--</td>\n",
              "      <td>--</td>\n",
              "      <td>KG-000059</td>\n",
              "      <td>t</td>\n",
              "    </tr>\n",
              "    <tr>\n",
              "      <th>19535</th>\n",
              "      <td>19536</td>\n",
              "      <td>19536</td>\n",
              "      <td>19535</td>\n",
              "      <td>89</td>\n",
              "      <td>41.888540</td>\n",
              "      <td>3.180800</td>\n",
              "      <td>4</td>\n",
              "      <td>0</td>\n",
              "      <td>1</td>\n",
              "      <td>2</td>\n",
              "      <td>...</td>\n",
              "      <td>1 shared bath</td>\n",
              "      <td>1</td>\n",
              "      <td>[\"Free parking on premises\", \"Mosquito net\", \"...</td>\n",
              "      <td>--</td>\n",
              "      <td>t</td>\n",
              "      <td>01/04/23</td>\n",
              "      <td>--</td>\n",
              "      <td>--</td>\n",
              "      <td>KG-000059</td>\n",
              "      <td>t</td>\n",
              "    </tr>\n",
              "    <tr>\n",
              "      <th>19546</th>\n",
              "      <td>19547</td>\n",
              "      <td>19547</td>\n",
              "      <td>19546</td>\n",
              "      <td>10</td>\n",
              "      <td>41.714360</td>\n",
              "      <td>2.822490</td>\n",
              "      <td>3</td>\n",
              "      <td>0</td>\n",
              "      <td>1</td>\n",
              "      <td>6</td>\n",
              "      <td>...</td>\n",
              "      <td>1 bath</td>\n",
              "      <td>1</td>\n",
              "      <td>[\"Air conditioning\", \"Refrigerator\", \"Host gre...</td>\n",
              "      <td>--</td>\n",
              "      <td>t</td>\n",
              "      <td>01/04/23</td>\n",
              "      <td>--</td>\n",
              "      <td>--</td>\n",
              "      <td>Exempt</td>\n",
              "      <td>t</td>\n",
              "    </tr>\n",
              "    <tr>\n",
              "      <th>19573</th>\n",
              "      <td>19574</td>\n",
              "      <td>19574</td>\n",
              "      <td>19573</td>\n",
              "      <td>77</td>\n",
              "      <td>41.793824</td>\n",
              "      <td>3.046657</td>\n",
              "      <td>5</td>\n",
              "      <td>0</td>\n",
              "      <td>2</td>\n",
              "      <td>5</td>\n",
              "      <td>...</td>\n",
              "      <td>1 bath</td>\n",
              "      <td>2</td>\n",
              "      <td>[\"Kitchen\", \"Washer\", \"Coffee maker\", \"Dishes ...</td>\n",
              "      <td>--</td>\n",
              "      <td>t</td>\n",
              "      <td>01/04/23</td>\n",
              "      <td>--</td>\n",
              "      <td>--</td>\n",
              "      <td>HUTG-016424</td>\n",
              "      <td>t</td>\n",
              "    </tr>\n",
              "    <tr>\n",
              "      <th>19582</th>\n",
              "      <td>19583</td>\n",
              "      <td>19583</td>\n",
              "      <td>19582</td>\n",
              "      <td>4</td>\n",
              "      <td>41.792730</td>\n",
              "      <td>2.795540</td>\n",
              "      <td>2</td>\n",
              "      <td>0</td>\n",
              "      <td>1</td>\n",
              "      <td>1</td>\n",
              "      <td>...</td>\n",
              "      <td>1 private bath</td>\n",
              "      <td>1</td>\n",
              "      <td>[\"Pool\", \"Air conditioning\", \"Free parking on ...</td>\n",
              "      <td>--</td>\n",
              "      <td>t</td>\n",
              "      <td>31/03/23</td>\n",
              "      <td>--</td>\n",
              "      <td>--</td>\n",
              "      <td>HUTG-058136</td>\n",
              "      <td>t</td>\n",
              "    </tr>\n",
              "  </tbody>\n",
              "</table>\n",
              "<p>1233 rows × 79 columns</p>\n",
              "</div>\n",
              "      <button class=\"colab-df-convert\" onclick=\"convertToInteractive('df-1c98a514-d720-4295-a8ef-03bd4aa19c2f')\"\n",
              "              title=\"Convert this dataframe to an interactive table.\"\n",
              "              style=\"display:none;\">\n",
              "        \n",
              "  <svg xmlns=\"http://www.w3.org/2000/svg\" height=\"24px\"viewBox=\"0 0 24 24\"\n",
              "       width=\"24px\">\n",
              "    <path d=\"M0 0h24v24H0V0z\" fill=\"none\"/>\n",
              "    <path d=\"M18.56 5.44l.94 2.06.94-2.06 2.06-.94-2.06-.94-.94-2.06-.94 2.06-2.06.94zm-11 1L8.5 8.5l.94-2.06 2.06-.94-2.06-.94L8.5 2.5l-.94 2.06-2.06.94zm10 10l.94 2.06.94-2.06 2.06-.94-2.06-.94-.94-2.06-.94 2.06-2.06.94z\"/><path d=\"M17.41 7.96l-1.37-1.37c-.4-.4-.92-.59-1.43-.59-.52 0-1.04.2-1.43.59L10.3 9.45l-7.72 7.72c-.78.78-.78 2.05 0 2.83L4 21.41c.39.39.9.59 1.41.59.51 0 1.02-.2 1.41-.59l7.78-7.78 2.81-2.81c.8-.78.8-2.07 0-2.86zM5.41 20L4 18.59l7.72-7.72 1.47 1.35L5.41 20z\"/>\n",
              "  </svg>\n",
              "      </button>\n",
              "      \n",
              "  <style>\n",
              "    .colab-df-container {\n",
              "      display:flex;\n",
              "      flex-wrap:wrap;\n",
              "      gap: 12px;\n",
              "    }\n",
              "\n",
              "    .colab-df-convert {\n",
              "      background-color: #E8F0FE;\n",
              "      border: none;\n",
              "      border-radius: 50%;\n",
              "      cursor: pointer;\n",
              "      display: none;\n",
              "      fill: #1967D2;\n",
              "      height: 32px;\n",
              "      padding: 0 0 0 0;\n",
              "      width: 32px;\n",
              "    }\n",
              "\n",
              "    .colab-df-convert:hover {\n",
              "      background-color: #E2EBFA;\n",
              "      box-shadow: 0px 1px 2px rgba(60, 64, 67, 0.3), 0px 1px 3px 1px rgba(60, 64, 67, 0.15);\n",
              "      fill: #174EA6;\n",
              "    }\n",
              "\n",
              "    [theme=dark] .colab-df-convert {\n",
              "      background-color: #3B4455;\n",
              "      fill: #D2E3FC;\n",
              "    }\n",
              "\n",
              "    [theme=dark] .colab-df-convert:hover {\n",
              "      background-color: #434B5C;\n",
              "      box-shadow: 0px 1px 3px 1px rgba(0, 0, 0, 0.15);\n",
              "      filter: drop-shadow(0px 1px 2px rgba(0, 0, 0, 0.3));\n",
              "      fill: #FFFFFF;\n",
              "    }\n",
              "  </style>\n",
              "\n",
              "      <script>\n",
              "        const buttonEl =\n",
              "          document.querySelector('#df-1c98a514-d720-4295-a8ef-03bd4aa19c2f button.colab-df-convert');\n",
              "        buttonEl.style.display =\n",
              "          google.colab.kernel.accessAllowed ? 'block' : 'none';\n",
              "\n",
              "        async function convertToInteractive(key) {\n",
              "          const element = document.querySelector('#df-1c98a514-d720-4295-a8ef-03bd4aa19c2f');\n",
              "          const dataTable =\n",
              "            await google.colab.kernel.invokeFunction('convertToInteractive',\n",
              "                                                     [key], {});\n",
              "          if (!dataTable) return;\n",
              "\n",
              "          const docLinkHtml = 'Like what you see? Visit the ' +\n",
              "            '<a target=\"_blank\" href=https://colab.research.google.com/notebooks/data_table.ipynb>data table notebook</a>'\n",
              "            + ' to learn more about interactive tables.';\n",
              "          element.innerHTML = '';\n",
              "          dataTable['output_type'] = 'display_data';\n",
              "          await google.colab.output.renderOutput(dataTable, element);\n",
              "          const docLink = document.createElement('div');\n",
              "          docLink.innerHTML = docLinkHtml;\n",
              "          element.appendChild(docLink);\n",
              "        }\n",
              "      </script>\n",
              "    </div>\n",
              "  </div>\n",
              "  "
            ]
          },
          "metadata": {},
          "execution_count": 30
        }
      ]
    },
    {
      "cell_type": "code",
      "source": [
        "España['price']"
      ],
      "metadata": {
        "colab": {
          "base_uri": "https://localhost:8080/"
        },
        "id": "sgMXws4Hy7DT",
        "outputId": "f67ae139-4e1e-4811-ccc1-b635851412ed"
      },
      "execution_count": null,
      "outputs": [
        {
          "output_type": "execute_result",
          "data": {
            "text/plain": [
              "0         42.0\n",
              "1         47.0\n",
              "2         74.0\n",
              "3         45.0\n",
              "4        120.0\n",
              "         ...  \n",
              "19650    209.0\n",
              "19651     52.0\n",
              "19652     66.0\n",
              "19653    108.0\n",
              "19654     73.0\n",
              "Name: price, Length: 19655, dtype: float64"
            ]
          },
          "metadata": {},
          "execution_count": 33
        }
      ]
    },
    {
      "cell_type": "markdown",
      "source": [
        "### **host_acceptance_rate vs host_response_rate, Price, number_of_reviews , review_scores_rating**"
      ],
      "metadata": {
        "id": "mgEguCVcCBU_"
      }
    },
    {
      "cell_type": "code",
      "source": [
        "from turtle import color\n",
        "\n",
        "\n",
        "sns.scatterplot(x='host_response_rate', y='host_acceptance_rate', color=\"blue\", data=PR_España)\n",
        "sns.scatterplot(x='price', y='host_acceptance_rate', color=\"red\", data=PR_España)\n",
        "sns.scatterplot(x='number_of_reviews', y='host_acceptance_rate', color=\"green\", data=PR_España)\n",
        "sns.scatterplot(x='review_scores_rating', y='host_acceptance_rate', color=\"yellow\", data=PR_España)"
      ],
      "metadata": {
        "colab": {
          "base_uri": "https://localhost:8080/",
          "height": 468
        },
        "id": "K8QrOIfcBg0n",
        "outputId": "0052c1a7-893b-45fa-d53b-9b1cb8d89976"
      },
      "execution_count": null,
      "outputs": [
        {
          "output_type": "execute_result",
          "data": {
            "text/plain": [
              "<Axes: xlabel='host_response_rate', ylabel='host_acceptance_rate'>"
            ]
          },
          "metadata": {},
          "execution_count": 34
        },
        {
          "output_type": "display_data",
          "data": {
            "text/plain": [
              "<Figure size 640x480 with 1 Axes>"
            ],
            "image/png": "[encoded data removed]"
          },
          "metadata": {}
        }
      ]
    },
    {
      "cell_type": "code",
      "source": [
        "#Declaramos las variables dependientes e independientes para la regresión lineal\n",
        "Vars_Indep= PR_España[['host_response_rate', 'price', 'number_of_reviews' , 'review_scores_rating']]\n",
        "Var_Dep= PR_España['host_acceptance_rate']"
      ],
      "metadata": {
        "id": "FVbTG6TpC481"
      },
      "execution_count": null,
      "outputs": []
    },
    {
      "cell_type": "code",
      "source": [
        "#Se define model como la función de regresión lineal\n",
        "from sklearn.linear_model import LinearRegression\n",
        "model= LinearRegression()"
      ],
      "metadata": {
        "id": "Jby7vWxVL2ZS"
      },
      "execution_count": null,
      "outputs": []
    },
    {
      "cell_type": "code",
      "source": [
        "#Verificamos la función relacionada al modelo\n",
        "type(model)"
      ],
      "metadata": {
        "colab": {
          "base_uri": "https://localhost:8080/"
        },
        "id": "5cb3-qg0L4NV",
        "outputId": "1471df58-059f-41a5-9e81-a5e943dbb950"
      },
      "execution_count": null,
      "outputs": [
        {
          "output_type": "execute_result",
          "data": {
            "text/plain": [
              "sklearn.linear_model._base.LinearRegression"
            ]
          },
          "metadata": {},
          "execution_count": 37
        }
      ]
    },
    {
      "cell_type": "code",
      "source": [
        "#Ajustamos el modelo con las variables antes declaradas\n",
        "model.fit(X=Vars_Indep, y=Var_Dep)"
      ],
      "metadata": {
        "colab": {
          "base_uri": "https://localhost:8080/",
          "height": 75
        },
        "id": "ZJYORGSRL6CN",
        "outputId": "e46ac8af-d6cb-4693-e573-a9786effecd0"
      },
      "execution_count": null,
      "outputs": [
        {
          "output_type": "execute_result",
          "data": {
            "text/plain": [
              "LinearRegression()"
            ],
            "text/html": [
              "<style>#sk-container-id-2 {color: black;background-color: white;}#sk-container-id-2 pre{padding: 0;}#sk-container-id-2 div.sk-toggleable {background-color: white;}#sk-container-id-2 label.sk-toggleable__label {cursor: pointer;display: block;width: 100%;margin-bottom: 0;padding: 0.3em;box-sizing: border-box;text-align: center;}#sk-container-id-2 label.sk-toggleable__label-arrow:before {content: \"▸\";float: left;margin-right: 0.25em;color: #696969;}#sk-container-id-2 label.sk-toggleable__label-arrow:hover:before {color: black;}#sk-container-id-2 div.sk-estimator:hover label.sk-toggleable__label-arrow:before {color: black;}#sk-container-id-2 div.sk-toggleable__content {max-height: 0;max-width: 0;overflow: hidden;text-align: left;background-color: #f0f8ff;}#sk-container-id-2 div.sk-toggleable__content pre {margin: 0.2em;color: black;border-radius: 0.25em;background-color: #f0f8ff;}#sk-container-id-2 input.sk-toggleable__control:checked~div.sk-toggleable__content {max-height: 200px;max-width: 100%;overflow: auto;}#sk-container-id-2 input.sk-toggleable__control:checked~label.sk-toggleable__label-arrow:before {content: \"▾\";}#sk-container-id-2 div.sk-estimator input.sk-toggleable__control:checked~label.sk-toggleable__label {background-color: #d4ebff;}#sk-container-id-2 div.sk-label input.sk-toggleable__control:checked~label.sk-toggleable__label {background-color: #d4ebff;}#sk-container-id-2 input.sk-hidden--visually {border: 0;clip: rect(1px 1px 1px 1px);clip: rect(1px, 1px, 1px, 1px);height: 1px;margin: -1px;overflow: hidden;padding: 0;position: absolute;width: 1px;}#sk-container-id-2 div.sk-estimator {font-family: monospace;background-color: #f0f8ff;border: 1px dotted black;border-radius: 0.25em;box-sizing: border-box;margin-bottom: 0.5em;}#sk-container-id-2 div.sk-estimator:hover {background-color: #d4ebff;}#sk-container-id-2 div.sk-parallel-item::after {content: \"\";width: 100%;border-bottom: 1px solid gray;flex-grow: 1;}#sk-container-id-2 div.sk-label:hover label.sk-toggleable__label {background-color: #d4ebff;}#sk-container-id-2 div.sk-serial::before {content: \"\";position: absolute;border-left: 1px solid gray;box-sizing: border-box;top: 0;bottom: 0;left: 50%;z-index: 0;}#sk-container-id-2 div.sk-serial {display: flex;flex-direction: column;align-items: center;background-color: white;padding-right: 0.2em;padding-left: 0.2em;position: relative;}#sk-container-id-2 div.sk-item {position: relative;z-index: 1;}#sk-container-id-2 div.sk-parallel {display: flex;align-items: stretch;justify-content: center;background-color: white;position: relative;}#sk-container-id-2 div.sk-item::before, #sk-container-id-2 div.sk-parallel-item::before {content: \"\";position: absolute;border-left: 1px solid gray;box-sizing: border-box;top: 0;bottom: 0;left: 50%;z-index: -1;}#sk-container-id-2 div.sk-parallel-item {display: flex;flex-direction: column;z-index: 1;position: relative;background-color: white;}#sk-container-id-2 div.sk-parallel-item:first-child::after {align-self: flex-end;width: 50%;}#sk-container-id-2 div.sk-parallel-item:last-child::after {align-self: flex-start;width: 50%;}#sk-container-id-2 div.sk-parallel-item:only-child::after {width: 0;}#sk-container-id-2 div.sk-dashed-wrapped {border: 1px dashed gray;margin: 0 0.4em 0.5em 0.4em;box-sizing: border-box;padding-bottom: 0.4em;background-color: white;}#sk-container-id-2 div.sk-label label {font-family: monospace;font-weight: bold;display: inline-block;line-height: 1.2em;}#sk-container-id-2 div.sk-label-container {text-align: center;}#sk-container-id-2 div.sk-container {/* jupyter's `normalize.less` sets `[hidden] { display: none; }` but bootstrap.min.css set `[hidden] { display: none !important; }` so we also need the `!important` here to be able to override the default hidden behavior on the sphinx rendered scikit-learn.org. See: https://github.com/scikit-learn/scikit-learn/issues/21755 */display: inline-block !important;position: relative;}#sk-container-id-2 div.sk-text-repr-fallback {display: none;}</style><div id=\"sk-container-id-2\" class=\"sk-top-container\"><div class=\"sk-text-repr-fallback\"><pre>LinearRegression()</pre><b>In a Jupyter environment, please rerun this cell to show the HTML representation or trust the notebook. <br />On GitHub, the HTML representation is unable to render, please try loading this page with nbviewer.org.</b></div><div class=\"sk-container\" hidden><div class=\"sk-item\"><div class=\"sk-estimator sk-toggleable\"><input class=\"sk-toggleable__control sk-hidden--visually\" id=\"sk-estimator-id-2\" type=\"checkbox\" checked><label for=\"sk-estimator-id-2\" class=\"sk-toggleable__label sk-toggleable__label-arrow\">LinearRegression</label><div class=\"sk-toggleable__content\"><pre>LinearRegression()</pre></div></div></div></div></div>"
            ]
          },
          "metadata": {},
          "execution_count": 39
        }
      ]
    },
    {
      "cell_type": "code",
      "source": [
        "#Verificamos los coeficientes obtenidos para el modelo ajustado\n",
        "model.__dict__"
      ],
      "metadata": {
        "colab": {
          "base_uri": "https://localhost:8080/"
        },
        "id": "CKFTFN9ZL9ZO",
        "outputId": "455b071d-efcd-4aab-e358-65a08c1b3676"
      },
      "execution_count": null,
      "outputs": [
        {
          "output_type": "execute_result",
          "data": {
            "text/plain": [
              "{'fit_intercept': True,\n",
              " 'copy_X': True,\n",
              " 'n_jobs': None,\n",
              " 'positive': False,\n",
              " 'feature_names_in_': array(['host_response_rate', 'price', 'number_of_reviews',\n",
              "        'review_scores_rating'], dtype=object),\n",
              " 'n_features_in_': 4,\n",
              " 'coef_': array([ 4.54529095e-01,  1.89023757e-05, -3.01123980e-05, -4.77327592e-04]),\n",
              " 'rank_': 4,\n",
              " 'singular_': array([1.81596462e+04, 2.18549700e+03, 7.41025429e+01, 1.27162212e+01]),\n",
              " 'intercept_': 0.46570832546687535}"
            ]
          },
          "metadata": {},
          "execution_count": 40
        }
      ]
    },
    {
      "cell_type": "markdown",
      "source": [
        "**Modelo matemático: y= 4.54529095e-01x1 + 1.89023757e-05x2 + -3.01123980e-05x3 + -4.77327592e-04x4 + 0.46570832546687535**"
      ],
      "metadata": {
        "id": "VrCYFniMMfji"
      }
    },
    {
      "cell_type": "code",
      "source": [
        "#Corroboramos cual es el coeficiente de Determinación de nuestro modelo\n",
        "coef_Deter1=model.score(X=Vars_Indep, y=Var_Dep)\n",
        "coef_Deter1"
      ],
      "metadata": {
        "colab": {
          "base_uri": "https://localhost:8080/"
        },
        "id": "AfdyhM6eNLL7",
        "outputId": "f8d3adfd-2b2b-4cc7-87e3-cc19cae5deba"
      },
      "execution_count": null,
      "outputs": [
        {
          "output_type": "execute_result",
          "data": {
            "text/plain": [
              "0.29689016672983193"
            ]
          },
          "metadata": {},
          "execution_count": 41
        }
      ]
    },
    {
      "cell_type": "code",
      "source": [
        "#Corroboramos cual es el coeficiente de Correlación de nuestro modelo\n",
        "coef_Correl1=np.sqrt(coef_Deter1)\n",
        "coef_Correl1"
      ],
      "metadata": {
        "colab": {
          "base_uri": "https://localhost:8080/"
        },
        "id": "FHBqTlkQNM3z",
        "outputId": "7d2d5f5c-1fc9-48e1-95d4-26fcf427bdad"
      },
      "execution_count": null,
      "outputs": [
        {
          "output_type": "execute_result",
          "data": {
            "text/plain": [
              "0.5448762857106482"
            ]
          },
          "metadata": {},
          "execution_count": 42
        }
      ]
    },
    {
      "cell_type": "code",
      "source": [
        "det.append(coef_Deter1)\n",
        "corr.append(np.sqrt(coef_Correl1))\n",
        "Ta_V.append(\"Private room / host_acceptance_rate vs host_response_rate, Price, number_of_reviews , review_scores_rating\")"
      ],
      "metadata": {
        "id": "jJmZDyNQD7Kn"
      },
      "execution_count": null,
      "outputs": []
    },
    {
      "cell_type": "markdown",
      "source": [
        "### **Price vs availability_365, host_response_rate, number_of_reviews, accommodates**"
      ],
      "metadata": {
        "id": "ENExMZYrEWWD"
      }
    },
    {
      "cell_type": "code",
      "source": [
        "from turtle import color\n",
        "\n",
        "sns.scatterplot(x='availability_365', y='price', color=\"red\", data=PR_España)\n",
        "sns.scatterplot(x='host_response_rate', y='price', color=\"blue\", data=PR_España)\n",
        "sns.scatterplot(x='number_of_reviews', y='price', color=\"green\", data=PR_España)\n",
        "sns.scatterplot(x='accommodates', y='price', color=\"yellow\", data=PR_España)"
      ],
      "metadata": {
        "colab": {
          "base_uri": "https://localhost:8080/",
          "height": 468
        },
        "outputId": "5e8f5ec9-f698-4de8-b56f-6ff4e4fa49ad",
        "id": "pcTeNclGEW9s"
      },
      "execution_count": null,
      "outputs": [
        {
          "output_type": "execute_result",
          "data": {
            "text/plain": [
              "<Axes: xlabel='availability_365', ylabel='price'>"
            ]
          },
          "metadata": {},
          "execution_count": 44
        },
        {
          "output_type": "display_data",
          "data": {
            "text/plain": [
              "<Figure size 640x480 with 1 Axes>"
            ],
            "image/png": "[encoded data removed]"
          },
          "metadata": {}
        }
      ]
    },
    {
      "cell_type": "code",
      "source": [
        "#Declaramos las variables dependientes e independientes para la regresión lineal\n",
        "Vars_Indep= PR_España[['availability_365', 'host_response_rate', 'number_of_reviews', 'accommodates']]\n",
        "Var_Dep= PR_España['price']"
      ],
      "metadata": {
        "id": "RpcuE6N2EW9t"
      },
      "execution_count": null,
      "outputs": []
    },
    {
      "cell_type": "code",
      "source": [
        "#Se define model como la función de regresión lineal\n",
        "from sklearn.linear_model import LinearRegression\n",
        "model= LinearRegression()"
      ],
      "metadata": {
        "id": "UhXxrX-mEW9t"
      },
      "execution_count": null,
      "outputs": []
    },
    {
      "cell_type": "code",
      "source": [
        "#Verificamos la función relacionada al modelo\n",
        "type(model)"
      ],
      "metadata": {
        "colab": {
          "base_uri": "https://localhost:8080/"
        },
        "outputId": "92e10586-8e3a-4b67-a3fe-63affd480510",
        "id": "krQe_DVoEW9t"
      },
      "execution_count": null,
      "outputs": [
        {
          "output_type": "execute_result",
          "data": {
            "text/plain": [
              "sklearn.linear_model._base.LinearRegression"
            ]
          },
          "metadata": {},
          "execution_count": 47
        }
      ]
    },
    {
      "cell_type": "code",
      "source": [
        "#Ajustamos el modelo con las variables antes declaradas\n",
        "model.fit(X=Vars_Indep, y=Var_Dep)"
      ],
      "metadata": {
        "colab": {
          "base_uri": "https://localhost:8080/",
          "height": 75
        },
        "outputId": "79832a17-7942-496e-929a-cf7c1c11aab4",
        "id": "4k3hTzO7EW9t"
      },
      "execution_count": null,
      "outputs": [
        {
          "output_type": "execute_result",
          "data": {
            "text/plain": [
              "LinearRegression()"
            ],
            "text/html": [
              "<style>#sk-container-id-3 {color: black;background-color: white;}#sk-container-id-3 pre{padding: 0;}#sk-container-id-3 div.sk-toggleable {background-color: white;}#sk-container-id-3 label.sk-toggleable__label {cursor: pointer;display: block;width: 100%;margin-bottom: 0;padding: 0.3em;box-sizing: border-box;text-align: center;}#sk-container-id-3 label.sk-toggleable__label-arrow:before {content: \"▸\";float: left;margin-right: 0.25em;color: #696969;}#sk-container-id-3 label.sk-toggleable__label-arrow:hover:before {color: black;}#sk-container-id-3 div.sk-estimator:hover label.sk-toggleable__label-arrow:before {color: black;}#sk-container-id-3 div.sk-toggleable__content {max-height: 0;max-width: 0;overflow: hidden;text-align: left;background-color: #f0f8ff;}#sk-container-id-3 div.sk-toggleable__content pre {margin: 0.2em;color: black;border-radius: 0.25em;background-color: #f0f8ff;}#sk-container-id-3 input.sk-toggleable__control:checked~div.sk-toggleable__content {max-height: 200px;max-width: 100%;overflow: auto;}#sk-container-id-3 input.sk-toggleable__control:checked~label.sk-toggleable__label-arrow:before {content: \"▾\";}#sk-container-id-3 div.sk-estimator input.sk-toggleable__control:checked~label.sk-toggleable__label {background-color: #d4ebff;}#sk-container-id-3 div.sk-label input.sk-toggleable__control:checked~label.sk-toggleable__label {background-color: #d4ebff;}#sk-container-id-3 input.sk-hidden--visually {border: 0;clip: rect(1px 1px 1px 1px);clip: rect(1px, 1px, 1px, 1px);height: 1px;margin: -1px;overflow: hidden;padding: 0;position: absolute;width: 1px;}#sk-container-id-3 div.sk-estimator {font-family: monospace;background-color: #f0f8ff;border: 1px dotted black;border-radius: 0.25em;box-sizing: border-box;margin-bottom: 0.5em;}#sk-container-id-3 div.sk-estimator:hover {background-color: #d4ebff;}#sk-container-id-3 div.sk-parallel-item::after {content: \"\";width: 100%;border-bottom: 1px solid gray;flex-grow: 1;}#sk-container-id-3 div.sk-label:hover label.sk-toggleable__label {background-color: #d4ebff;}#sk-container-id-3 div.sk-serial::before {content: \"\";position: absolute;border-left: 1px solid gray;box-sizing: border-box;top: 0;bottom: 0;left: 50%;z-index: 0;}#sk-container-id-3 div.sk-serial {display: flex;flex-direction: column;align-items: center;background-color: white;padding-right: 0.2em;padding-left: 0.2em;position: relative;}#sk-container-id-3 div.sk-item {position: relative;z-index: 1;}#sk-container-id-3 div.sk-parallel {display: flex;align-items: stretch;justify-content: center;background-color: white;position: relative;}#sk-container-id-3 div.sk-item::before, #sk-container-id-3 div.sk-parallel-item::before {content: \"\";position: absolute;border-left: 1px solid gray;box-sizing: border-box;top: 0;bottom: 0;left: 50%;z-index: -1;}#sk-container-id-3 div.sk-parallel-item {display: flex;flex-direction: column;z-index: 1;position: relative;background-color: white;}#sk-container-id-3 div.sk-parallel-item:first-child::after {align-self: flex-end;width: 50%;}#sk-container-id-3 div.sk-parallel-item:last-child::after {align-self: flex-start;width: 50%;}#sk-container-id-3 div.sk-parallel-item:only-child::after {width: 0;}#sk-container-id-3 div.sk-dashed-wrapped {border: 1px dashed gray;margin: 0 0.4em 0.5em 0.4em;box-sizing: border-box;padding-bottom: 0.4em;background-color: white;}#sk-container-id-3 div.sk-label label {font-family: monospace;font-weight: bold;display: inline-block;line-height: 1.2em;}#sk-container-id-3 div.sk-label-container {text-align: center;}#sk-container-id-3 div.sk-container {/* jupyter's `normalize.less` sets `[hidden] { display: none; }` but bootstrap.min.css set `[hidden] { display: none !important; }` so we also need the `!important` here to be able to override the default hidden behavior on the sphinx rendered scikit-learn.org. See: https://github.com/scikit-learn/scikit-learn/issues/21755 */display: inline-block !important;position: relative;}#sk-container-id-3 div.sk-text-repr-fallback {display: none;}</style><div id=\"sk-container-id-3\" class=\"sk-top-container\"><div class=\"sk-text-repr-fallback\"><pre>LinearRegression()</pre><b>In a Jupyter environment, please rerun this cell to show the HTML representation or trust the notebook. <br />On GitHub, the HTML representation is unable to render, please try loading this page with nbviewer.org.</b></div><div class=\"sk-container\" hidden><div class=\"sk-item\"><div class=\"sk-estimator sk-toggleable\"><input class=\"sk-toggleable__control sk-hidden--visually\" id=\"sk-estimator-id-3\" type=\"checkbox\" checked><label for=\"sk-estimator-id-3\" class=\"sk-toggleable__label sk-toggleable__label-arrow\">LinearRegression</label><div class=\"sk-toggleable__content\"><pre>LinearRegression()</pre></div></div></div></div></div>"
            ]
          },
          "metadata": {},
          "execution_count": 48
        }
      ]
    },
    {
      "cell_type": "code",
      "source": [
        "#Verificamos los coeficientes obtenidos para el modelo ajustado\n",
        "model.__dict__"
      ],
      "metadata": {
        "colab": {
          "base_uri": "https://localhost:8080/"
        },
        "outputId": "a68371cc-34e1-4306-c4a0-c68e3fe47548",
        "id": "Q1DO2uaCEW9u"
      },
      "execution_count": null,
      "outputs": [
        {
          "output_type": "execute_result",
          "data": {
            "text/plain": [
              "{'fit_intercept': True,\n",
              " 'copy_X': True,\n",
              " 'n_jobs': None,\n",
              " 'positive': False,\n",
              " 'feature_names_in_': array(['availability_365', 'host_response_rate', 'number_of_reviews',\n",
              "        'accommodates'], dtype=object),\n",
              " 'n_features_in_': 4,\n",
              " 'coef_': array([ -0.47284482, -54.78280709,  -0.70173059,  12.64533458]),\n",
              " 'rank_': 4,\n",
              " 'singular_': array([4208.79584398, 2193.82432012,   63.63347811,   12.71144683]),\n",
              " 'intercept_': 302.00943446953454}"
            ]
          },
          "metadata": {},
          "execution_count": 49
        }
      ]
    },
    {
      "cell_type": "markdown",
      "source": [
        "**Modelo matemático: y= -0.47284482x1 + -54.78280709x2 + -0.70173059x3 + 12.64533458x4 + 302.00943446953454**"
      ],
      "metadata": {
        "id": "2RLgnLeDEW9u"
      }
    },
    {
      "cell_type": "code",
      "source": [
        "#Corroboramos cual es el coeficiente de Determinación de nuestro modelo\n",
        "coef_Deter2=model.score(X=Vars_Indep, y=Var_Dep)\n",
        "coef_Deter2"
      ],
      "metadata": {
        "colab": {
          "base_uri": "https://localhost:8080/"
        },
        "outputId": "387c6de1-21b7-4de0-ea8a-efba06f0c05f",
        "id": "vhEFZV9sEW9u"
      },
      "execution_count": null,
      "outputs": [
        {
          "output_type": "execute_result",
          "data": {
            "text/plain": [
              "0.02302449413455443"
            ]
          },
          "metadata": {},
          "execution_count": 50
        }
      ]
    },
    {
      "cell_type": "code",
      "source": [
        "#Corroboramos cual es el coeficiente de Correlación de nuestro modelo\n",
        "coef_Correl2=np.sqrt(coef_Deter2)\n",
        "coef_Correl2"
      ],
      "metadata": {
        "colab": {
          "base_uri": "https://localhost:8080/"
        },
        "outputId": "3e653d46-99dc-4f2d-9cf5-7d8fdf41da21",
        "id": "sKlLt74pEW9u"
      },
      "execution_count": null,
      "outputs": [
        {
          "output_type": "execute_result",
          "data": {
            "text/plain": [
              "0.15173824216246354"
            ]
          },
          "metadata": {},
          "execution_count": 51
        }
      ]
    },
    {
      "cell_type": "code",
      "source": [
        "det.append(coef_Deter2)\n",
        "corr.append(np.sqrt(coef_Correl2))\n",
        "Ta_V.append(\"Private room / Price vs availability_365, host_response_rate, number_of_reviews, accommodates\")"
      ],
      "metadata": {
        "id": "dvWgXZFpEW9u"
      },
      "execution_count": null,
      "outputs": []
    },
    {
      "cell_type": "markdown",
      "source": [
        "### **host_acceptance_rate vs number_of_reviews,review_scores_cleanliness,review_scores_communication**"
      ],
      "metadata": {
        "id": "kdOj9BoHFfZQ"
      }
    },
    {
      "cell_type": "code",
      "source": [
        "from turtle import color\n",
        "\n",
        "sns.scatterplot(x='number_of_reviews', y='host_acceptance_rate', color=\"red\", data=PR_España)\n",
        "sns.scatterplot(x='review_scores_cleanliness', y='host_acceptance_rate', color=\"blue\", data=PR_España)\n",
        "sns.scatterplot(x='review_scores_communication', y='host_acceptance_rate', color=\"green\", data=PR_España)"
      ],
      "metadata": {
        "colab": {
          "base_uri": "https://localhost:8080/",
          "height": 468
        },
        "outputId": "46f1a225-c737-41a9-8810-6b04719b6d16",
        "id": "TiLoNJLiFfZR"
      },
      "execution_count": null,
      "outputs": [
        {
          "output_type": "execute_result",
          "data": {
            "text/plain": [
              "<Axes: xlabel='number_of_reviews', ylabel='host_acceptance_rate'>"
            ]
          },
          "metadata": {},
          "execution_count": 53
        },
        {
          "output_type": "display_data",
          "data": {
            "text/plain": [
              "<Figure size 640x480 with 1 Axes>"
            ],
            "image/png": "[encoded data removed]"
          },
          "metadata": {}
        }
      ]
    },
    {
      "cell_type": "code",
      "source": [
        "#Declaramos las variables dependientes e independientes para la regresión lineal\n",
        "Vars_Indep= PR_España[['number_of_reviews','review_scores_cleanliness','review_scores_communication']]\n",
        "Var_Dep= PR_España['host_acceptance_rate']"
      ],
      "metadata": {
        "id": "sI1oW4uVFfZS"
      },
      "execution_count": null,
      "outputs": []
    },
    {
      "cell_type": "code",
      "source": [
        "#Se define model como la función de regresión lineal\n",
        "from sklearn.linear_model import LinearRegression\n",
        "model= LinearRegression()"
      ],
      "metadata": {
        "id": "8tjPLeemFfZS"
      },
      "execution_count": null,
      "outputs": []
    },
    {
      "cell_type": "code",
      "source": [
        "#Verificamos la función relacionada al modelo\n",
        "type(model)"
      ],
      "metadata": {
        "colab": {
          "base_uri": "https://localhost:8080/"
        },
        "outputId": "3206cbb4-040f-4988-c13b-a53e3f6b11a9",
        "id": "WbccnaBhFfZS"
      },
      "execution_count": null,
      "outputs": [
        {
          "output_type": "execute_result",
          "data": {
            "text/plain": [
              "sklearn.linear_model._base.LinearRegression"
            ]
          },
          "metadata": {},
          "execution_count": 56
        }
      ]
    },
    {
      "cell_type": "code",
      "source": [
        "#Ajustamos el modelo con las variables antes declaradas\n",
        "model.fit(X=Vars_Indep, y=Var_Dep)"
      ],
      "metadata": {
        "colab": {
          "base_uri": "https://localhost:8080/",
          "height": 75
        },
        "outputId": "80b0335c-1725-44bb-f6d2-b92efc3f9276",
        "id": "M3IQpkADFfZS"
      },
      "execution_count": null,
      "outputs": [
        {
          "output_type": "execute_result",
          "data": {
            "text/plain": [
              "LinearRegression()"
            ],
            "text/html": [
              "<style>#sk-container-id-4 {color: black;background-color: white;}#sk-container-id-4 pre{padding: 0;}#sk-container-id-4 div.sk-toggleable {background-color: white;}#sk-container-id-4 label.sk-toggleable__label {cursor: pointer;display: block;width: 100%;margin-bottom: 0;padding: 0.3em;box-sizing: border-box;text-align: center;}#sk-container-id-4 label.sk-toggleable__label-arrow:before {content: \"▸\";float: left;margin-right: 0.25em;color: #696969;}#sk-container-id-4 label.sk-toggleable__label-arrow:hover:before {color: black;}#sk-container-id-4 div.sk-estimator:hover label.sk-toggleable__label-arrow:before {color: black;}#sk-container-id-4 div.sk-toggleable__content {max-height: 0;max-width: 0;overflow: hidden;text-align: left;background-color: #f0f8ff;}#sk-container-id-4 div.sk-toggleable__content pre {margin: 0.2em;color: black;border-radius: 0.25em;background-color: #f0f8ff;}#sk-container-id-4 input.sk-toggleable__control:checked~div.sk-toggleable__content {max-height: 200px;max-width: 100%;overflow: auto;}#sk-container-id-4 input.sk-toggleable__control:checked~label.sk-toggleable__label-arrow:before {content: \"▾\";}#sk-container-id-4 div.sk-estimator input.sk-toggleable__control:checked~label.sk-toggleable__label {background-color: #d4ebff;}#sk-container-id-4 div.sk-label input.sk-toggleable__control:checked~label.sk-toggleable__label {background-color: #d4ebff;}#sk-container-id-4 input.sk-hidden--visually {border: 0;clip: rect(1px 1px 1px 1px);clip: rect(1px, 1px, 1px, 1px);height: 1px;margin: -1px;overflow: hidden;padding: 0;position: absolute;width: 1px;}#sk-container-id-4 div.sk-estimator {font-family: monospace;background-color: #f0f8ff;border: 1px dotted black;border-radius: 0.25em;box-sizing: border-box;margin-bottom: 0.5em;}#sk-container-id-4 div.sk-estimator:hover {background-color: #d4ebff;}#sk-container-id-4 div.sk-parallel-item::after {content: \"\";width: 100%;border-bottom: 1px solid gray;flex-grow: 1;}#sk-container-id-4 div.sk-label:hover label.sk-toggleable__label {background-color: #d4ebff;}#sk-container-id-4 div.sk-serial::before {content: \"\";position: absolute;border-left: 1px solid gray;box-sizing: border-box;top: 0;bottom: 0;left: 50%;z-index: 0;}#sk-container-id-4 div.sk-serial {display: flex;flex-direction: column;align-items: center;background-color: white;padding-right: 0.2em;padding-left: 0.2em;position: relative;}#sk-container-id-4 div.sk-item {position: relative;z-index: 1;}#sk-container-id-4 div.sk-parallel {display: flex;align-items: stretch;justify-content: center;background-color: white;position: relative;}#sk-container-id-4 div.sk-item::before, #sk-container-id-4 div.sk-parallel-item::before {content: \"\";position: absolute;border-left: 1px solid gray;box-sizing: border-box;top: 0;bottom: 0;left: 50%;z-index: -1;}#sk-container-id-4 div.sk-parallel-item {display: flex;flex-direction: column;z-index: 1;position: relative;background-color: white;}#sk-container-id-4 div.sk-parallel-item:first-child::after {align-self: flex-end;width: 50%;}#sk-container-id-4 div.sk-parallel-item:last-child::after {align-self: flex-start;width: 50%;}#sk-container-id-4 div.sk-parallel-item:only-child::after {width: 0;}#sk-container-id-4 div.sk-dashed-wrapped {border: 1px dashed gray;margin: 0 0.4em 0.5em 0.4em;box-sizing: border-box;padding-bottom: 0.4em;background-color: white;}#sk-container-id-4 div.sk-label label {font-family: monospace;font-weight: bold;display: inline-block;line-height: 1.2em;}#sk-container-id-4 div.sk-label-container {text-align: center;}#sk-container-id-4 div.sk-container {/* jupyter's `normalize.less` sets `[hidden] { display: none; }` but bootstrap.min.css set `[hidden] { display: none !important; }` so we also need the `!important` here to be able to override the default hidden behavior on the sphinx rendered scikit-learn.org. See: https://github.com/scikit-learn/scikit-learn/issues/21755 */display: inline-block !important;position: relative;}#sk-container-id-4 div.sk-text-repr-fallback {display: none;}</style><div id=\"sk-container-id-4\" class=\"sk-top-container\"><div class=\"sk-text-repr-fallback\"><pre>LinearRegression()</pre><b>In a Jupyter environment, please rerun this cell to show the HTML representation or trust the notebook. <br />On GitHub, the HTML representation is unable to render, please try loading this page with nbviewer.org.</b></div><div class=\"sk-container\" hidden><div class=\"sk-item\"><div class=\"sk-estimator sk-toggleable\"><input class=\"sk-toggleable__control sk-hidden--visually\" id=\"sk-estimator-id-4\" type=\"checkbox\" checked><label for=\"sk-estimator-id-4\" class=\"sk-toggleable__label sk-toggleable__label-arrow\">LinearRegression</label><div class=\"sk-toggleable__content\"><pre>LinearRegression()</pre></div></div></div></div></div>"
            ]
          },
          "metadata": {},
          "execution_count": 57
        }
      ]
    },
    {
      "cell_type": "code",
      "source": [
        "#Verificamos los coeficientes obtenidos para el modelo ajustado\n",
        "model.__dict__"
      ],
      "metadata": {
        "colab": {
          "base_uri": "https://localhost:8080/"
        },
        "outputId": "3130b1b7-1ff9-4d66-8aba-8422999f16e5",
        "id": "YUEVE5yTFfZS"
      },
      "execution_count": null,
      "outputs": [
        {
          "output_type": "execute_result",
          "data": {
            "text/plain": [
              "{'fit_intercept': True,\n",
              " 'copy_X': True,\n",
              " 'n_jobs': None,\n",
              " 'positive': False,\n",
              " 'feature_names_in_': array(['number_of_reviews', 'review_scores_cleanliness',\n",
              "        'review_scores_communication'], dtype=object),\n",
              " 'n_features_in_': 3,\n",
              " 'coef_': array([ 4.26131356e-05,  2.05418052e-02, -2.04353098e-02]),\n",
              " 'rank_': 3,\n",
              " 'singular_': array([2194.10245296,  107.87768598,    7.92399325]),\n",
              " 'intercept_': 0.8323377197872113}"
            ]
          },
          "metadata": {},
          "execution_count": 58
        }
      ]
    },
    {
      "cell_type": "markdown",
      "source": [
        "**Modelo matemático: y= 4.26131356e-05x1 + 2.05418052e-02x2 + -2.04353098e-02x3 + 0.8323377197872113**"
      ],
      "metadata": {
        "id": "on0QHO0BFfZS"
      }
    },
    {
      "cell_type": "code",
      "source": [
        "#Corroboramos cual es el coeficiente de Determinación de nuestro modelo\n",
        "coef_Deter3=model.score(X=Vars_Indep, y=Var_Dep)\n",
        "coef_Deter3"
      ],
      "metadata": {
        "colab": {
          "base_uri": "https://localhost:8080/"
        },
        "outputId": "9c1c4f5f-4fe5-4140-80e4-1dcc2ded1f0e",
        "id": "vPdGnUs1FfZS"
      },
      "execution_count": null,
      "outputs": [
        {
          "output_type": "execute_result",
          "data": {
            "text/plain": [
              "0.0005325023933863138"
            ]
          },
          "metadata": {},
          "execution_count": 59
        }
      ]
    },
    {
      "cell_type": "code",
      "source": [
        "#Corroboramos cual es el coeficiente de Correlación de nuestro modelo\n",
        "coef_Correl3=np.sqrt(coef_Deter3)\n",
        "coef_Correl3"
      ],
      "metadata": {
        "colab": {
          "base_uri": "https://localhost:8080/"
        },
        "outputId": "0777c83f-89e7-49b2-c06d-b759290ff68b",
        "id": "5NT4GCyYFfZT"
      },
      "execution_count": null,
      "outputs": [
        {
          "output_type": "execute_result",
          "data": {
            "text/plain": [
              "0.023076013377234677"
            ]
          },
          "metadata": {},
          "execution_count": 60
        }
      ]
    },
    {
      "cell_type": "code",
      "source": [
        "det.append(coef_Deter3)\n",
        "corr.append(np.sqrt(coef_Correl3))\n",
        "Ta_V.append(\"Private room / host_acceptance_rate vs number_of_reviews,review_scores_cleanliness,review_scores_communication\")"
      ],
      "metadata": {
        "id": "XfcPJaFWFfZT"
      },
      "execution_count": null,
      "outputs": []
    },
    {
      "cell_type": "markdown",
      "source": [
        "## **Hotel room**"
      ],
      "metadata": {
        "id": "8EA-2cSIGqZo"
      }
    },
    {
      "cell_type": "code",
      "source": [
        "HR_España = España.loc[España['room_type'] == \"Hotel room\"]\n",
        "HR_España"
      ],
      "metadata": {
        "colab": {
          "base_uri": "https://localhost:8080/",
          "height": 1000
        },
        "outputId": "b8aa4492-741a-4b25-bca5-0c603ca35f64",
        "id": "1grzEVFWG9II"
      },
      "execution_count": null,
      "outputs": [
        {
          "output_type": "execute_result",
          "data": {
            "text/plain": [
              "       Unnamed: 0.2  Unnamed: 0.1  Unnamed: 0  host_listings_count   latitude  \\\n",
              "1223           1223          1223        1223                  112  41.881850   \n",
              "1390           1391          1391        1390                    1  41.968180   \n",
              "1616           1617          1617        1616                  112  41.968670   \n",
              "1829           1830          1830        1829                  112  41.952240   \n",
              "2061           2062          2062        2061                  112  41.952000   \n",
              "2063           2064          2064        2063                  112  41.954880   \n",
              "2335           2336          2336        2335                    5  41.956940   \n",
              "3422           3423          3423        3422                  112  41.923860   \n",
              "3468           3469          3469        3468                  112  41.968110   \n",
              "3837           3838          3838        3837                  112  41.892060   \n",
              "4634           4635          4635        4634                  127  41.716940   \n",
              "4807           4808          4808        4807                    8  42.372630   \n",
              "4808           4809          4809        4808                    8  42.372630   \n",
              "4809           4810          4810        4809                    8  42.372630   \n",
              "5025           5026          5026        5025                    6  41.983050   \n",
              "5377           5378          5378        5377                    6  41.983110   \n",
              "5617           5618          5618        5617                  127  41.720230   \n",
              "5718           5719          5719        5718                    6  41.984770   \n",
              "5830           5831          5831        5830                  127  41.720990   \n",
              "6458           6459          6459        6458                    4  41.976370   \n",
              "6468           6469          6469        6468                    4  41.976510   \n",
              "6470           6471          6471        6470                    4  41.975200   \n",
              "7068           7069          7069        7068                   10  42.418739   \n",
              "7075           7076          7076        7075                   10  42.418739   \n",
              "7080           7081          7081        7080                   10  42.418739   \n",
              "7786           7787          7787        7786                   10  42.418739   \n",
              "7795           7796          7796        7795                   10  42.418739   \n",
              "7810           7811          7811        7810                   10  42.418739   \n",
              "7811           7812          7812        7811                   10  42.418739   \n",
              "7812           7813          7813        7812                   10  42.418739   \n",
              "7834           7835          7835        7834                   11  42.245180   \n",
              "8508           8509          8509        8508                    4  41.984580   \n",
              "8929           8930          8930        8929                    4  41.717810   \n",
              "8936           8937          8937        8936                    3  41.894310   \n",
              "8937           8938          8938        8937                    3  41.894730   \n",
              "9025           9026          9026        9025                    4  41.719380   \n",
              "9355           9356          9356        9355                   19  42.417920   \n",
              "9383           9384          9384        9383                    5  41.719147   \n",
              "9391           9392          9392        9391                    5  41.719147   \n",
              "9394           9395          9395        9394                   19  42.419740   \n",
              "9395           9396          9396        9395                   19  42.418380   \n",
              "9396           9397          9397        9396                    5  41.719147   \n",
              "9397           9398          9398        9397                   19  42.417570   \n",
              "9398           9399          9399        9398                   19  42.419060   \n",
              "9399           9400          9400        9399                   19  42.419740   \n",
              "9404           9405          9405        9404                   19  42.418360   \n",
              "9405           9406          9406        9405                   19  42.419090   \n",
              "9406           9407          9407        9406                   19  42.418970   \n",
              "9407           9408          9408        9407                   19  42.418010   \n",
              "11431         11432         11432       11431                    1  41.885444   \n",
              "\n",
              "       longitude  accommodates  bathrooms  bedrooms  beds  ...  \\\n",
              "1223    3.176840             4          0         2     3  ...   \n",
              "1390    3.229910             8          0         4     6  ...   \n",
              "1616    3.210190             3          0         1     1  ...   \n",
              "1829    3.204620             5          0         3     4  ...   \n",
              "2061    3.205200             4          0         2     3  ...   \n",
              "2063    3.226840             4          0         2     3  ...   \n",
              "2335    3.036120             2          0         1     1  ...   \n",
              "3422    3.206770             4          0         2     3  ...   \n",
              "3468    3.208150             4          0         2     2  ...   \n",
              "3837    3.184600             6          0         3     4  ...   \n",
              "4634    2.928710             2          0         1     1  ...   \n",
              "4807    2.920980             2          0         1     1  ...   \n",
              "4808    2.920980             2          0         1     1  ...   \n",
              "4809    2.920980             2          0         1     2  ...   \n",
              "5025    3.194680             4          0         1     3  ...   \n",
              "5377    3.194550             4          0         1     3  ...   \n",
              "5617    2.929790             5          0         2     3  ...   \n",
              "5718    3.195290             7          0         2     5  ...   \n",
              "5830    2.930000             6          0         3     5  ...   \n",
              "6458    2.813750             1          0         1     6  ...   \n",
              "6468    2.812150             1          0         1     4  ...   \n",
              "6470    2.813280             1          0         1     4  ...   \n",
              "7068    1.928717             2          0         1     1  ...   \n",
              "7075    1.928717             4          0         2     3  ...   \n",
              "7080    1.928717             2          0         1     2  ...   \n",
              "7786    1.928717             2          0         1     1  ...   \n",
              "7795    1.928717             2          0         1     1  ...   \n",
              "7810    1.928717             4          0         2     3  ...   \n",
              "7811    1.928717             2          0         1     2  ...   \n",
              "7812    1.928717             2          0         1     1  ...   \n",
              "7834    3.128420             3          0         1     2  ...   \n",
              "8508    2.820040             2          0         1     2  ...   \n",
              "8929    2.930570             2          0         1     1  ...   \n",
              "8936    2.774360             2          0         1     1  ...   \n",
              "8937    2.775100             3          0         1     2  ...   \n",
              "9025    2.930760             2          0         1     2  ...   \n",
              "9355    1.947400             4          0         2     1  ...   \n",
              "9383    2.930374             2          0         1     2  ...   \n",
              "9391    2.930374             2          0         1     2  ...   \n",
              "9394    1.947270             2          0         1     2  ...   \n",
              "9395    1.948430             2          0         1     2  ...   \n",
              "9396    2.930374             3          0         1     3  ...   \n",
              "9397    1.947020             2          0         1     2  ...   \n",
              "9398    1.948580             2          0         1     2  ...   \n",
              "9399    1.948190             2          0         1     2  ...   \n",
              "9404    1.947390             2          0         1     2  ...   \n",
              "9405    1.947020             3          0         1     3  ...   \n",
              "9406    1.948800             3          0         1     3  ...   \n",
              "9407    1.947110             4          0         1     1  ...   \n",
              "11431   3.126770             0          0         0     0  ...   \n",
              "\n",
              "         bathrooms_text  bedrooms.1  \\\n",
              "1223             1 bath           2   \n",
              "1390      1 shared bath           4   \n",
              "1616             1 bath           1   \n",
              "1829             1 bath           3   \n",
              "2061            2 baths           2   \n",
              "2063             1 bath           2   \n",
              "2335     1 private bath           1   \n",
              "3422             1 bath           2   \n",
              "3468          1.5 baths           2   \n",
              "3837             1 bath           3   \n",
              "4634             1 bath           1   \n",
              "4807     1 private bath           1   \n",
              "4808     1 private bath           1   \n",
              "4809     1 private bath           1   \n",
              "5025     1 private bath           1   \n",
              "5377     1 private bath           1   \n",
              "5617             1 bath           2   \n",
              "5718     1 private bath           2   \n",
              "5830            2 baths           3   \n",
              "6458     5 shared baths           1   \n",
              "6468   3.5 shared baths           1   \n",
              "6470     3 shared baths           1   \n",
              "7068     1 private bath           1   \n",
              "7075     1 private bath           2   \n",
              "7080      1 shared bath           1   \n",
              "7786     1 private bath           1   \n",
              "7795     1 private bath           1   \n",
              "7810     1 private bath           2   \n",
              "7811      1 shared bath           1   \n",
              "7812     1 private bath           1   \n",
              "7834             1 bath           1   \n",
              "8508     1 private bath           1   \n",
              "8929      1 shared bath           1   \n",
              "8936     1 private bath           1   \n",
              "8937      1 shared bath           1   \n",
              "9025     1 private bath           1   \n",
              "9355                 --           2   \n",
              "9383     1 private bath           1   \n",
              "9391     1 private bath           1   \n",
              "9394             1 bath           1   \n",
              "9395             1 bath           1   \n",
              "9396     1 private bath           1   \n",
              "9397             1 bath           1   \n",
              "9398             1 bath           1   \n",
              "9399             1 bath           1   \n",
              "9404             1 bath           1   \n",
              "9405             1 bath           1   \n",
              "9406             1 bath           1   \n",
              "9407             1 bath           1   \n",
              "11431                --           0   \n",
              "\n",
              "                                               amenities  calendar_updated.1  \\\n",
              "1223   [\"Kitchen\", \"Iron\", \"Oven\", \"Shared pool\", \"Wa...                  --   \n",
              "1390   [\"Exercise equipment: elliptical, free weights...                  --   \n",
              "1616   [\"Kitchen\", \"Iron\", \"Washer\", \"Free parking on...                  --   \n",
              "1829   [\"Kitchen\", \"Iron\", \"Washer\", \"Free parking on...                  --   \n",
              "2061   [\"Kitchen\", \"Iron\", \"Free street parking\", \"Wa...                  --   \n",
              "2063   [\"Shared pool\", \"Free parking on premises\", \"R...                  --   \n",
              "2335   [\"Beach essentials\", \"Board games\", \"Carbon mo...                  --   \n",
              "3422   [\"Shared pool\", \"Free parking on premises\", \"R...                  --   \n",
              "3468   [\"Kitchen\", \"Iron\", \"Washer\", \"Free parking on...                  --   \n",
              "3837   [\"Shared pool\", \"Free parking on premises\", \"R...                  --   \n",
              "4634   [\"Air conditioning\", \"Refrigerator\", \"Host gre...                  --   \n",
              "4807   [\"Air conditioning\", \"Free parking on premises...                  --   \n",
              "4808   [\"Self check-in\", \"Dedicated workspace\", \"Keyp...                  --   \n",
              "4809   [\"Hair dryer\", \"Dedicated workspace\", \"Self ch...                  --   \n",
              "5025   [\"Air conditioning\", \"Free parking on premises...                  --   \n",
              "5377   [\"Air conditioning\", \"Free parking on premises...                  --   \n",
              "5617   [\"Air conditioning\", \"Beach essentials\", \"Refr...                  --   \n",
              "5718   [\"Pool\", \"Kitchen\", \"Iron\", \"Air conditioning\"...                  --   \n",
              "5830   [\"Air conditioning\", \"Refrigerator\", \"Microwav...                  --   \n",
              "6458   [\"Hair dryer\", \"Free street parking\", \"Iron\", ...                  --   \n",
              "6468   [\"Refrigerator\", \"Microwave\", \"Lockbox\", \"Free...                  --   \n",
              "6470   [\"Refrigerator\", \"Microwave\", \"Lockbox\", \"Free...                  --   \n",
              "7068   [\"Free parking on premises\", \"Host greets you\"...                  --   \n",
              "7075   [\"Free parking on premises\", \"Host greets you\"...                  --   \n",
              "7080   [\"Air conditioning\", \"Free parking on premises...                  --   \n",
              "7786   [\"Free parking on premises\", \"Shampoo\", \"Host ...                  --   \n",
              "7795   [\"Free parking on premises\", \"Outlet covers\", ...                  --   \n",
              "7810   [\"Free parking on premises\", \"Host greets you\"...                  --   \n",
              "7811   [\"Air conditioning\", \"Free parking on premises...                  --   \n",
              "7812   [\"Free parking on premises\", \"Luggage dropoff ...                  --   \n",
              "7834   [\"Pack ’n play/Travel crib\", \"Portable air con...                  --   \n",
              "8508   [\"Dedicated workspace\", \"Resort access\", \"Pets...                  --   \n",
              "8929   [\"Luggage dropoff allowed\", \"Extra pillows and...                  --   \n",
              "8936   [\"Hair dryer\", \"Free street parking\", \"Air con...                  --   \n",
              "8937   [\"Hair dryer\", \"Free street parking\", \"Air con...                  --   \n",
              "9025   [\"Clothing storage: wardrobe and dresser\", \"Fr...                  --   \n",
              "9355   [\"Free street parking\", \"Free parking on premi...                  --   \n",
              "9383   [\"Long term stays allowed\", \"Shampoo\", \"First ...                  --   \n",
              "9391   [\"Long term stays allowed\", \"Shampoo\", \"First ...                  --   \n",
              "9394   [\"Breakfast\", \"Bed linens\", \"Heating\", \"Refrig...                  --   \n",
              "9395   [\"Free street parking\", \"Free parking on premi...                  --   \n",
              "9396   [\"Long term stays allowed\", \"Shampoo\", \"First ...                  --   \n",
              "9397   [\"Breakfast\", \"Bed linens\", \"Heating\", \"Refrig...                  --   \n",
              "9398   [\"Breakfast\", \"Bed linens\", \"Heating\", \"Refrig...                  --   \n",
              "9399   [\"Free street parking\", \"Free parking on premi...                  --   \n",
              "9404   [\"Free street parking\", \"Free parking on premi...                  --   \n",
              "9405   [\"Breakfast\", \"Bed linens\", \"Heating\", \"Refrig...                  --   \n",
              "9406   [\"Breakfast\", \"Bed linens\", \"Heating\", \"Refrig...                  --   \n",
              "9407   [\"Bed linens\", \"Heating\", \"Refrigerator\", \"Hot...                  --   \n",
              "11431  [\"Air conditioning\", \"Minibar\", \"Pack ’n play/...                  --   \n",
              "\n",
              "       has_availability  calendar_last_scraped  first_review  last_review  \\\n",
              "1223                  t               31/03/23      04/07/15     14/09/22   \n",
              "1390                  t               31/03/23      04/09/16     27/08/22   \n",
              "1616                  t               01/04/23      16/06/16     26/06/22   \n",
              "1829                  t               01/04/23      07/07/16     10/10/22   \n",
              "2061                  t               01/04/23      26/06/16     20/05/22   \n",
              "2063                  t               01/04/23      08/07/17     30/07/22   \n",
              "2335                  t               01/04/23      20/08/16     01/01/23   \n",
              "3422                  t               01/04/23      06/07/17     13/06/21   \n",
              "3468                  t               01/04/23      11/06/17     10/09/22   \n",
              "3837                  t               01/04/23      19/09/20     06/05/22   \n",
              "4634                  t               01/04/23      22/08/17     30/05/21   \n",
              "4807                  t               31/03/23      17/05/21     09/06/22   \n",
              "4808                  t               31/03/23            --           --   \n",
              "4809                  t               31/03/23            --           --   \n",
              "5025                  t               01/04/23      02/04/18     09/12/22   \n",
              "5377                  t               01/04/23      20/04/19     20/04/19   \n",
              "5617                  t               01/04/23      10/08/18     04/08/21   \n",
              "5718                  t               01/04/23      29/04/18     31/10/22   \n",
              "5830                  t               01/04/23      29/07/18     22/08/22   \n",
              "6458                  t               01/04/23      24/06/18     12/02/23   \n",
              "6468                  t               01/04/23      29/05/19     23/02/23   \n",
              "6470                  t               01/04/23      21/06/18     13/03/23   \n",
              "7068                  t               31/03/23      29/03/21     19/12/22   \n",
              "7075                  t               31/03/23            --           --   \n",
              "7080                  t               31/03/23            --           --   \n",
              "7786                  t               31/03/23      20/12/21     20/12/21   \n",
              "7795                  t               01/04/23      18/07/19     28/02/23   \n",
              "7810                  t               01/04/23      05/09/21     03/04/22   \n",
              "7811                  t               31/03/23      12/06/22     12/06/22   \n",
              "7812                  t               31/03/23      03/06/22     14/02/23   \n",
              "7834                  t               01/04/23      26/05/19     22/03/23   \n",
              "8508                  t               01/04/23      16/04/22     26/01/23   \n",
              "8929                  t               01/04/23      14/07/19     21/08/22   \n",
              "8936                  t               31/03/23      16/10/19     03/03/23   \n",
              "8937                  t               31/03/23      09/05/22     05/03/23   \n",
              "9025                  t               01/04/23      19/07/19     10/09/22   \n",
              "9355                  t               31/03/23            --           --   \n",
              "9383                  t               01/04/23      24/09/19     22/09/22   \n",
              "9391                  t               01/04/23      17/07/20     22/09/22   \n",
              "9394                  t               31/03/23            --           --   \n",
              "9395                  t               31/03/23            --           --   \n",
              "9396                  t               01/04/23      07/08/20     23/09/22   \n",
              "9397                  t               31/03/23            --           --   \n",
              "9398                  t               31/03/23            --           --   \n",
              "9399                  t               01/04/23            --           --   \n",
              "9404                  t               31/03/23            --           --   \n",
              "9405                  t               31/03/23            --           --   \n",
              "9406                  t               01/04/23            --           --   \n",
              "9407                  t               01/04/23            --           --   \n",
              "11431                 t               01/04/23      08/08/21     14/06/22   \n",
              "\n",
              "            license instant_bookable  \n",
              "1223    HUTG-008970                t  \n",
              "1390    HUTG-015726                f  \n",
              "1616    HUTG-001617                t  \n",
              "1829    HUTG-014029                t  \n",
              "2061    HUTG-001207                t  \n",
              "2063    HUTG-010465                t  \n",
              "2335    HUTG-029339                t  \n",
              "3422    HUTG-035087                t  \n",
              "3468    HUTG-009072                t  \n",
              "3837    HUTG-022410                t  \n",
              "4634    HUTG-029237                t  \n",
              "4807      HG-002539                f  \n",
              "4808      HG-002539                f  \n",
              "4809      HG-002539                f  \n",
              "5025   HG-002154-49                t  \n",
              "5377   HG-002154-49                t  \n",
              "5617    HUTG-031882                t  \n",
              "5718              0                t  \n",
              "5830    HUTG-022323                t  \n",
              "6458         Exempt                t  \n",
              "6468         Exempt                t  \n",
              "6470         Exempt                t  \n",
              "7068      PG-000045                t  \n",
              "7075      PG-000045                t  \n",
              "7080      PG-000045                t  \n",
              "7786      PG-000045                t  \n",
              "7795      PG-000045                t  \n",
              "7810      PG-000045                t  \n",
              "7811      PG-000045                t  \n",
              "7812      PG-000045                t  \n",
              "7834    HUTG-018814                t  \n",
              "8508      HG-002402                t  \n",
              "8929         Exempt                t  \n",
              "8936      HG-001231                t  \n",
              "8937      HG-001231                t  \n",
              "9025         Exempt                t  \n",
              "9355      PG-000129                t  \n",
              "9383      HG-000986                t  \n",
              "9391      HG-000986                t  \n",
              "9394      PG-000129                t  \n",
              "9395      PG-000129                t  \n",
              "9396      HG-000986                t  \n",
              "9397      PG-000129                t  \n",
              "9398      PG-000129                t  \n",
              "9399      PG-000129                t  \n",
              "9404      PG-000129                t  \n",
              "9405      PG-000129                t  \n",
              "9406      PG-000129                t  \n",
              "9407      PG-000129                t  \n",
              "11431             0                f  \n",
              "\n",
              "[50 rows x 79 columns]"
            ],
            "text/html": [
              "\n",
              "  <div id=\"df-86193b56-9b9f-49ee-a816-641009d69064\">\n",
              "    <div class=\"colab-df-container\">\n",
              "      <div>\n",
              "<style scoped>\n",
              "    .dataframe tbody tr th:only-of-type {\n",
              "        vertical-align: middle;\n",
              "    }\n",
              "\n",
              "    .dataframe tbody tr th {\n",
              "        vertical-align: top;\n",
              "    }\n",
              "\n",
              "    .dataframe thead th {\n",
              "        text-align: right;\n",
              "    }\n",
              "</style>\n",
              "<table border=\"1\" class=\"dataframe\">\n",
              "  <thead>\n",
              "    <tr style=\"text-align: right;\">\n",
              "      <th></th>\n",
              "      <th>Unnamed: 0.2</th>\n",
              "      <th>Unnamed: 0.1</th>\n",
              "      <th>Unnamed: 0</th>\n",
              "      <th>host_listings_count</th>\n",
              "      <th>latitude</th>\n",
              "      <th>longitude</th>\n",
              "      <th>accommodates</th>\n",
              "      <th>bathrooms</th>\n",
              "      <th>bedrooms</th>\n",
              "      <th>beds</th>\n",
              "      <th>...</th>\n",
              "      <th>bathrooms_text</th>\n",
              "      <th>bedrooms.1</th>\n",
              "      <th>amenities</th>\n",
              "      <th>calendar_updated.1</th>\n",
              "      <th>has_availability</th>\n",
              "      <th>calendar_last_scraped</th>\n",
              "      <th>first_review</th>\n",
              "      <th>last_review</th>\n",
              "      <th>license</th>\n",
              "      <th>instant_bookable</th>\n",
              "    </tr>\n",
              "  </thead>\n",
              "  <tbody>\n",
              "    <tr>\n",
              "      <th>1223</th>\n",
              "      <td>1223</td>\n",
              "      <td>1223</td>\n",
              "      <td>1223</td>\n",
              "      <td>112</td>\n",
              "      <td>41.881850</td>\n",
              "      <td>3.176840</td>\n",
              "      <td>4</td>\n",
              "      <td>0</td>\n",
              "      <td>2</td>\n",
              "      <td>3</td>\n",
              "      <td>...</td>\n",
              "      <td>1 bath</td>\n",
              "      <td>2</td>\n",
              "      <td>[\"Kitchen\", \"Iron\", \"Oven\", \"Shared pool\", \"Wa...</td>\n",
              "      <td>--</td>\n",
              "      <td>t</td>\n",
              "      <td>31/03/23</td>\n",
              "      <td>04/07/15</td>\n",
              "      <td>14/09/22</td>\n",
              "      <td>HUTG-008970</td>\n",
              "      <td>t</td>\n",
              "    </tr>\n",
              "    <tr>\n",
              "      <th>1390</th>\n",
              "      <td>1391</td>\n",
              "      <td>1391</td>\n",
              "      <td>1390</td>\n",
              "      <td>1</td>\n",
              "      <td>41.968180</td>\n",
              "      <td>3.229910</td>\n",
              "      <td>8</td>\n",
              "      <td>0</td>\n",
              "      <td>4</td>\n",
              "      <td>6</td>\n",
              "      <td>...</td>\n",
              "      <td>1 shared bath</td>\n",
              "      <td>4</td>\n",
              "      <td>[\"Exercise equipment: elliptical, free weights...</td>\n",
              "      <td>--</td>\n",
              "      <td>t</td>\n",
              "      <td>31/03/23</td>\n",
              "      <td>04/09/16</td>\n",
              "      <td>27/08/22</td>\n",
              "      <td>HUTG-015726</td>\n",
              "      <td>f</td>\n",
              "    </tr>\n",
              "    <tr>\n",
              "      <th>1616</th>\n",
              "      <td>1617</td>\n",
              "      <td>1617</td>\n",
              "      <td>1616</td>\n",
              "      <td>112</td>\n",
              "      <td>41.968670</td>\n",
              "      <td>3.210190</td>\n",
              "      <td>3</td>\n",
              "      <td>0</td>\n",
              "      <td>1</td>\n",
              "      <td>1</td>\n",
              "      <td>...</td>\n",
              "      <td>1 bath</td>\n",
              "      <td>1</td>\n",
              "      <td>[\"Kitchen\", \"Iron\", \"Washer\", \"Free parking on...</td>\n",
              "      <td>--</td>\n",
              "      <td>t</td>\n",
              "      <td>01/04/23</td>\n",
              "      <td>16/06/16</td>\n",
              "      <td>26/06/22</td>\n",
              "      <td>HUTG-001617</td>\n",
              "      <td>t</td>\n",
              "    </tr>\n",
              "    <tr>\n",
              "      <th>1829</th>\n",
              "      <td>1830</td>\n",
              "      <td>1830</td>\n",
              "      <td>1829</td>\n",
              "      <td>112</td>\n",
              "      <td>41.952240</td>\n",
              "      <td>3.204620</td>\n",
              "      <td>5</td>\n",
              "      <td>0</td>\n",
              "      <td>3</td>\n",
              "      <td>4</td>\n",
              "      <td>...</td>\n",
              "      <td>1 bath</td>\n",
              "      <td>3</td>\n",
              "      <td>[\"Kitchen\", \"Iron\", \"Washer\", \"Free parking on...</td>\n",
              "      <td>--</td>\n",
              "      <td>t</td>\n",
              "      <td>01/04/23</td>\n",
              "      <td>07/07/16</td>\n",
              "      <td>10/10/22</td>\n",
              "      <td>HUTG-014029</td>\n",
              "      <td>t</td>\n",
              "    </tr>\n",
              "    <tr>\n",
              "      <th>2061</th>\n",
              "      <td>2062</td>\n",
              "      <td>2062</td>\n",
              "      <td>2061</td>\n",
              "      <td>112</td>\n",
              "      <td>41.952000</td>\n",
              "      <td>3.205200</td>\n",
              "      <td>4</td>\n",
              "      <td>0</td>\n",
              "      <td>2</td>\n",
              "      <td>3</td>\n",
              "      <td>...</td>\n",
              "      <td>2 baths</td>\n",
              "      <td>2</td>\n",
              "      <td>[\"Kitchen\", \"Iron\", \"Free street parking\", \"Wa...</td>\n",
              "      <td>--</td>\n",
              "      <td>t</td>\n",
              "      <td>01/04/23</td>\n",
              "      <td>26/06/16</td>\n",
              "      <td>20/05/22</td>\n",
              "      <td>HUTG-001207</td>\n",
              "      <td>t</td>\n",
              "    </tr>\n",
              "    <tr>\n",
              "      <th>2063</th>\n",
              "      <td>2064</td>\n",
              "      <td>2064</td>\n",
              "      <td>2063</td>\n",
              "      <td>112</td>\n",
              "      <td>41.954880</td>\n",
              "      <td>3.226840</td>\n",
              "      <td>4</td>\n",
              "      <td>0</td>\n",
              "      <td>2</td>\n",
              "      <td>3</td>\n",
              "      <td>...</td>\n",
              "      <td>1 bath</td>\n",
              "      <td>2</td>\n",
              "      <td>[\"Shared pool\", \"Free parking on premises\", \"R...</td>\n",
              "      <td>--</td>\n",
              "      <td>t</td>\n",
              "      <td>01/04/23</td>\n",
              "      <td>08/07/17</td>\n",
              "      <td>30/07/22</td>\n",
              "      <td>HUTG-010465</td>\n",
              "      <td>t</td>\n",
              "    </tr>\n",
              "    <tr>\n",
              "      <th>2335</th>\n",
              "      <td>2336</td>\n",
              "      <td>2336</td>\n",
              "      <td>2335</td>\n",
              "      <td>5</td>\n",
              "      <td>41.956940</td>\n",
              "      <td>3.036120</td>\n",
              "      <td>2</td>\n",
              "      <td>0</td>\n",
              "      <td>1</td>\n",
              "      <td>1</td>\n",
              "      <td>...</td>\n",
              "      <td>1 private bath</td>\n",
              "      <td>1</td>\n",
              "      <td>[\"Beach essentials\", \"Board games\", \"Carbon mo...</td>\n",
              "      <td>--</td>\n",
              "      <td>t</td>\n",
              "      <td>01/04/23</td>\n",
              "      <td>20/08/16</td>\n",
              "      <td>01/01/23</td>\n",
              "      <td>HUTG-029339</td>\n",
              "      <td>t</td>\n",
              "    </tr>\n",
              "    <tr>\n",
              "      <th>3422</th>\n",
              "      <td>3423</td>\n",
              "      <td>3423</td>\n",
              "      <td>3422</td>\n",
              "      <td>112</td>\n",
              "      <td>41.923860</td>\n",
              "      <td>3.206770</td>\n",
              "      <td>4</td>\n",
              "      <td>0</td>\n",
              "      <td>2</td>\n",
              "      <td>3</td>\n",
              "      <td>...</td>\n",
              "      <td>1 bath</td>\n",
              "      <td>2</td>\n",
              "      <td>[\"Shared pool\", \"Free parking on premises\", \"R...</td>\n",
              "      <td>--</td>\n",
              "      <td>t</td>\n",
              "      <td>01/04/23</td>\n",
              "      <td>06/07/17</td>\n",
              "      <td>13/06/21</td>\n",
              "      <td>HUTG-035087</td>\n",
              "      <td>t</td>\n",
              "    </tr>\n",
              "    <tr>\n",
              "      <th>3468</th>\n",
              "      <td>3469</td>\n",
              "      <td>3469</td>\n",
              "      <td>3468</td>\n",
              "      <td>112</td>\n",
              "      <td>41.968110</td>\n",
              "      <td>3.208150</td>\n",
              "      <td>4</td>\n",
              "      <td>0</td>\n",
              "      <td>2</td>\n",
              "      <td>2</td>\n",
              "      <td>...</td>\n",
              "      <td>1.5 baths</td>\n",
              "      <td>2</td>\n",
              "      <td>[\"Kitchen\", \"Iron\", \"Washer\", \"Free parking on...</td>\n",
              "      <td>--</td>\n",
              "      <td>t</td>\n",
              "      <td>01/04/23</td>\n",
              "      <td>11/06/17</td>\n",
              "      <td>10/09/22</td>\n",
              "      <td>HUTG-009072</td>\n",
              "      <td>t</td>\n",
              "    </tr>\n",
              "    <tr>\n",
              "      <th>3837</th>\n",
              "      <td>3838</td>\n",
              "      <td>3838</td>\n",
              "      <td>3837</td>\n",
              "      <td>112</td>\n",
              "      <td>41.892060</td>\n",
              "      <td>3.184600</td>\n",
              "      <td>6</td>\n",
              "      <td>0</td>\n",
              "      <td>3</td>\n",
              "      <td>4</td>\n",
              "      <td>...</td>\n",
              "      <td>1 bath</td>\n",
              "      <td>3</td>\n",
              "      <td>[\"Shared pool\", \"Free parking on premises\", \"R...</td>\n",
              "      <td>--</td>\n",
              "      <td>t</td>\n",
              "      <td>01/04/23</td>\n",
              "      <td>19/09/20</td>\n",
              "      <td>06/05/22</td>\n",
              "      <td>HUTG-022410</td>\n",
              "      <td>t</td>\n",
              "    </tr>\n",
              "    <tr>\n",
              "      <th>4634</th>\n",
              "      <td>4635</td>\n",
              "      <td>4635</td>\n",
              "      <td>4634</td>\n",
              "      <td>127</td>\n",
              "      <td>41.716940</td>\n",
              "      <td>2.928710</td>\n",
              "      <td>2</td>\n",
              "      <td>0</td>\n",
              "      <td>1</td>\n",
              "      <td>1</td>\n",
              "      <td>...</td>\n",
              "      <td>1 bath</td>\n",
              "      <td>1</td>\n",
              "      <td>[\"Air conditioning\", \"Refrigerator\", \"Host gre...</td>\n",
              "      <td>--</td>\n",
              "      <td>t</td>\n",
              "      <td>01/04/23</td>\n",
              "      <td>22/08/17</td>\n",
              "      <td>30/05/21</td>\n",
              "      <td>HUTG-029237</td>\n",
              "      <td>t</td>\n",
              "    </tr>\n",
              "    <tr>\n",
              "      <th>4807</th>\n",
              "      <td>4808</td>\n",
              "      <td>4808</td>\n",
              "      <td>4807</td>\n",
              "      <td>8</td>\n",
              "      <td>42.372630</td>\n",
              "      <td>2.920980</td>\n",
              "      <td>2</td>\n",
              "      <td>0</td>\n",
              "      <td>1</td>\n",
              "      <td>1</td>\n",
              "      <td>...</td>\n",
              "      <td>1 private bath</td>\n",
              "      <td>1</td>\n",
              "      <td>[\"Air conditioning\", \"Free parking on premises...</td>\n",
              "      <td>--</td>\n",
              "      <td>t</td>\n",
              "      <td>31/03/23</td>\n",
              "      <td>17/05/21</td>\n",
              "      <td>09/06/22</td>\n",
              "      <td>HG-002539</td>\n",
              "      <td>f</td>\n",
              "    </tr>\n",
              "    <tr>\n",
              "      <th>4808</th>\n",
              "      <td>4809</td>\n",
              "      <td>4809</td>\n",
              "      <td>4808</td>\n",
              "      <td>8</td>\n",
              "      <td>42.372630</td>\n",
              "      <td>2.920980</td>\n",
              "      <td>2</td>\n",
              "      <td>0</td>\n",
              "      <td>1</td>\n",
              "      <td>1</td>\n",
              "      <td>...</td>\n",
              "      <td>1 private bath</td>\n",
              "      <td>1</td>\n",
              "      <td>[\"Self check-in\", \"Dedicated workspace\", \"Keyp...</td>\n",
              "      <td>--</td>\n",
              "      <td>t</td>\n",
              "      <td>31/03/23</td>\n",
              "      <td>--</td>\n",
              "      <td>--</td>\n",
              "      <td>HG-002539</td>\n",
              "      <td>f</td>\n",
              "    </tr>\n",
              "    <tr>\n",
              "      <th>4809</th>\n",
              "      <td>4810</td>\n",
              "      <td>4810</td>\n",
              "      <td>4809</td>\n",
              "      <td>8</td>\n",
              "      <td>42.372630</td>\n",
              "      <td>2.920980</td>\n",
              "      <td>2</td>\n",
              "      <td>0</td>\n",
              "      <td>1</td>\n",
              "      <td>2</td>\n",
              "      <td>...</td>\n",
              "      <td>1 private bath</td>\n",
              "      <td>1</td>\n",
              "      <td>[\"Hair dryer\", \"Dedicated workspace\", \"Self ch...</td>\n",
              "      <td>--</td>\n",
              "      <td>t</td>\n",
              "      <td>31/03/23</td>\n",
              "      <td>--</td>\n",
              "      <td>--</td>\n",
              "      <td>HG-002539</td>\n",
              "      <td>f</td>\n",
              "    </tr>\n",
              "    <tr>\n",
              "      <th>5025</th>\n",
              "      <td>5026</td>\n",
              "      <td>5026</td>\n",
              "      <td>5025</td>\n",
              "      <td>6</td>\n",
              "      <td>41.983050</td>\n",
              "      <td>3.194680</td>\n",
              "      <td>4</td>\n",
              "      <td>0</td>\n",
              "      <td>1</td>\n",
              "      <td>3</td>\n",
              "      <td>...</td>\n",
              "      <td>1 private bath</td>\n",
              "      <td>1</td>\n",
              "      <td>[\"Air conditioning\", \"Free parking on premises...</td>\n",
              "      <td>--</td>\n",
              "      <td>t</td>\n",
              "      <td>01/04/23</td>\n",
              "      <td>02/04/18</td>\n",
              "      <td>09/12/22</td>\n",
              "      <td>HG-002154-49</td>\n",
              "      <td>t</td>\n",
              "    </tr>\n",
              "    <tr>\n",
              "      <th>5377</th>\n",
              "      <td>5378</td>\n",
              "      <td>5378</td>\n",
              "      <td>5377</td>\n",
              "      <td>6</td>\n",
              "      <td>41.983110</td>\n",
              "      <td>3.194550</td>\n",
              "      <td>4</td>\n",
              "      <td>0</td>\n",
              "      <td>1</td>\n",
              "      <td>3</td>\n",
              "      <td>...</td>\n",
              "      <td>1 private bath</td>\n",
              "      <td>1</td>\n",
              "      <td>[\"Air conditioning\", \"Free parking on premises...</td>\n",
              "      <td>--</td>\n",
              "      <td>t</td>\n",
              "      <td>01/04/23</td>\n",
              "      <td>20/04/19</td>\n",
              "      <td>20/04/19</td>\n",
              "      <td>HG-002154-49</td>\n",
              "      <td>t</td>\n",
              "    </tr>\n",
              "    <tr>\n",
              "      <th>5617</th>\n",
              "      <td>5618</td>\n",
              "      <td>5618</td>\n",
              "      <td>5617</td>\n",
              "      <td>127</td>\n",
              "      <td>41.720230</td>\n",
              "      <td>2.929790</td>\n",
              "      <td>5</td>\n",
              "      <td>0</td>\n",
              "      <td>2</td>\n",
              "      <td>3</td>\n",
              "      <td>...</td>\n",
              "      <td>1 bath</td>\n",
              "      <td>2</td>\n",
              "      <td>[\"Air conditioning\", \"Beach essentials\", \"Refr...</td>\n",
              "      <td>--</td>\n",
              "      <td>t</td>\n",
              "      <td>01/04/23</td>\n",
              "      <td>10/08/18</td>\n",
              "      <td>04/08/21</td>\n",
              "      <td>HUTG-031882</td>\n",
              "      <td>t</td>\n",
              "    </tr>\n",
              "    <tr>\n",
              "      <th>5718</th>\n",
              "      <td>5719</td>\n",
              "      <td>5719</td>\n",
              "      <td>5718</td>\n",
              "      <td>6</td>\n",
              "      <td>41.984770</td>\n",
              "      <td>3.195290</td>\n",
              "      <td>7</td>\n",
              "      <td>0</td>\n",
              "      <td>2</td>\n",
              "      <td>5</td>\n",
              "      <td>...</td>\n",
              "      <td>1 private bath</td>\n",
              "      <td>2</td>\n",
              "      <td>[\"Pool\", \"Kitchen\", \"Iron\", \"Air conditioning\"...</td>\n",
              "      <td>--</td>\n",
              "      <td>t</td>\n",
              "      <td>01/04/23</td>\n",
              "      <td>29/04/18</td>\n",
              "      <td>31/10/22</td>\n",
              "      <td>0</td>\n",
              "      <td>t</td>\n",
              "    </tr>\n",
              "    <tr>\n",
              "      <th>5830</th>\n",
              "      <td>5831</td>\n",
              "      <td>5831</td>\n",
              "      <td>5830</td>\n",
              "      <td>127</td>\n",
              "      <td>41.720990</td>\n",
              "      <td>2.930000</td>\n",
              "      <td>6</td>\n",
              "      <td>0</td>\n",
              "      <td>3</td>\n",
              "      <td>5</td>\n",
              "      <td>...</td>\n",
              "      <td>2 baths</td>\n",
              "      <td>3</td>\n",
              "      <td>[\"Air conditioning\", \"Refrigerator\", \"Microwav...</td>\n",
              "      <td>--</td>\n",
              "      <td>t</td>\n",
              "      <td>01/04/23</td>\n",
              "      <td>29/07/18</td>\n",
              "      <td>22/08/22</td>\n",
              "      <td>HUTG-022323</td>\n",
              "      <td>t</td>\n",
              "    </tr>\n",
              "    <tr>\n",
              "      <th>6458</th>\n",
              "      <td>6459</td>\n",
              "      <td>6459</td>\n",
              "      <td>6458</td>\n",
              "      <td>4</td>\n",
              "      <td>41.976370</td>\n",
              "      <td>2.813750</td>\n",
              "      <td>1</td>\n",
              "      <td>0</td>\n",
              "      <td>1</td>\n",
              "      <td>6</td>\n",
              "      <td>...</td>\n",
              "      <td>5 shared baths</td>\n",
              "      <td>1</td>\n",
              "      <td>[\"Hair dryer\", \"Free street parking\", \"Iron\", ...</td>\n",
              "      <td>--</td>\n",
              "      <td>t</td>\n",
              "      <td>01/04/23</td>\n",
              "      <td>24/06/18</td>\n",
              "      <td>12/02/23</td>\n",
              "      <td>Exempt</td>\n",
              "      <td>t</td>\n",
              "    </tr>\n",
              "    <tr>\n",
              "      <th>6468</th>\n",
              "      <td>6469</td>\n",
              "      <td>6469</td>\n",
              "      <td>6468</td>\n",
              "      <td>4</td>\n",
              "      <td>41.976510</td>\n",
              "      <td>2.812150</td>\n",
              "      <td>1</td>\n",
              "      <td>0</td>\n",
              "      <td>1</td>\n",
              "      <td>4</td>\n",
              "      <td>...</td>\n",
              "      <td>3.5 shared baths</td>\n",
              "      <td>1</td>\n",
              "      <td>[\"Refrigerator\", \"Microwave\", \"Lockbox\", \"Free...</td>\n",
              "      <td>--</td>\n",
              "      <td>t</td>\n",
              "      <td>01/04/23</td>\n",
              "      <td>29/05/19</td>\n",
              "      <td>23/02/23</td>\n",
              "      <td>Exempt</td>\n",
              "      <td>t</td>\n",
              "    </tr>\n",
              "    <tr>\n",
              "      <th>6470</th>\n",
              "      <td>6471</td>\n",
              "      <td>6471</td>\n",
              "      <td>6470</td>\n",
              "      <td>4</td>\n",
              "      <td>41.975200</td>\n",
              "      <td>2.813280</td>\n",
              "      <td>1</td>\n",
              "      <td>0</td>\n",
              "      <td>1</td>\n",
              "      <td>4</td>\n",
              "      <td>...</td>\n",
              "      <td>3 shared baths</td>\n",
              "      <td>1</td>\n",
              "      <td>[\"Refrigerator\", \"Microwave\", \"Lockbox\", \"Free...</td>\n",
              "      <td>--</td>\n",
              "      <td>t</td>\n",
              "      <td>01/04/23</td>\n",
              "      <td>21/06/18</td>\n",
              "      <td>13/03/23</td>\n",
              "      <td>Exempt</td>\n",
              "      <td>t</td>\n",
              "    </tr>\n",
              "    <tr>\n",
              "      <th>7068</th>\n",
              "      <td>7069</td>\n",
              "      <td>7069</td>\n",
              "      <td>7068</td>\n",
              "      <td>10</td>\n",
              "      <td>42.418739</td>\n",
              "      <td>1.928717</td>\n",
              "      <td>2</td>\n",
              "      <td>0</td>\n",
              "      <td>1</td>\n",
              "      <td>1</td>\n",
              "      <td>...</td>\n",
              "      <td>1 private bath</td>\n",
              "      <td>1</td>\n",
              "      <td>[\"Free parking on premises\", \"Host greets you\"...</td>\n",
              "      <td>--</td>\n",
              "      <td>t</td>\n",
              "      <td>31/03/23</td>\n",
              "      <td>29/03/21</td>\n",
              "      <td>19/12/22</td>\n",
              "      <td>PG-000045</td>\n",
              "      <td>t</td>\n",
              "    </tr>\n",
              "    <tr>\n",
              "      <th>7075</th>\n",
              "      <td>7076</td>\n",
              "      <td>7076</td>\n",
              "      <td>7075</td>\n",
              "      <td>10</td>\n",
              "      <td>42.418739</td>\n",
              "      <td>1.928717</td>\n",
              "      <td>4</td>\n",
              "      <td>0</td>\n",
              "      <td>2</td>\n",
              "      <td>3</td>\n",
              "      <td>...</td>\n",
              "      <td>1 private bath</td>\n",
              "      <td>2</td>\n",
              "      <td>[\"Free parking on premises\", \"Host greets you\"...</td>\n",
              "      <td>--</td>\n",
              "      <td>t</td>\n",
              "      <td>31/03/23</td>\n",
              "      <td>--</td>\n",
              "      <td>--</td>\n",
              "      <td>PG-000045</td>\n",
              "      <td>t</td>\n",
              "    </tr>\n",
              "    <tr>\n",
              "      <th>7080</th>\n",
              "      <td>7081</td>\n",
              "      <td>7081</td>\n",
              "      <td>7080</td>\n",
              "      <td>10</td>\n",
              "      <td>42.418739</td>\n",
              "      <td>1.928717</td>\n",
              "      <td>2</td>\n",
              "      <td>0</td>\n",
              "      <td>1</td>\n",
              "      <td>2</td>\n",
              "      <td>...</td>\n",
              "      <td>1 shared bath</td>\n",
              "      <td>1</td>\n",
              "      <td>[\"Air conditioning\", \"Free parking on premises...</td>\n",
              "      <td>--</td>\n",
              "      <td>t</td>\n",
              "      <td>31/03/23</td>\n",
              "      <td>--</td>\n",
              "      <td>--</td>\n",
              "      <td>PG-000045</td>\n",
              "      <td>t</td>\n",
              "    </tr>\n",
              "    <tr>\n",
              "      <th>7786</th>\n",
              "      <td>7787</td>\n",
              "      <td>7787</td>\n",
              "      <td>7786</td>\n",
              "      <td>10</td>\n",
              "      <td>42.418739</td>\n",
              "      <td>1.928717</td>\n",
              "      <td>2</td>\n",
              "      <td>0</td>\n",
              "      <td>1</td>\n",
              "      <td>1</td>\n",
              "      <td>...</td>\n",
              "      <td>1 private bath</td>\n",
              "      <td>1</td>\n",
              "      <td>[\"Free parking on premises\", \"Shampoo\", \"Host ...</td>\n",
              "      <td>--</td>\n",
              "      <td>t</td>\n",
              "      <td>31/03/23</td>\n",
              "      <td>20/12/21</td>\n",
              "      <td>20/12/21</td>\n",
              "      <td>PG-000045</td>\n",
              "      <td>t</td>\n",
              "    </tr>\n",
              "    <tr>\n",
              "      <th>7795</th>\n",
              "      <td>7796</td>\n",
              "      <td>7796</td>\n",
              "      <td>7795</td>\n",
              "      <td>10</td>\n",
              "      <td>42.418739</td>\n",
              "      <td>1.928717</td>\n",
              "      <td>2</td>\n",
              "      <td>0</td>\n",
              "      <td>1</td>\n",
              "      <td>1</td>\n",
              "      <td>...</td>\n",
              "      <td>1 private bath</td>\n",
              "      <td>1</td>\n",
              "      <td>[\"Free parking on premises\", \"Outlet covers\", ...</td>\n",
              "      <td>--</td>\n",
              "      <td>t</td>\n",
              "      <td>01/04/23</td>\n",
              "      <td>18/07/19</td>\n",
              "      <td>28/02/23</td>\n",
              "      <td>PG-000045</td>\n",
              "      <td>t</td>\n",
              "    </tr>\n",
              "    <tr>\n",
              "      <th>7810</th>\n",
              "      <td>7811</td>\n",
              "      <td>7811</td>\n",
              "      <td>7810</td>\n",
              "      <td>10</td>\n",
              "      <td>42.418739</td>\n",
              "      <td>1.928717</td>\n",
              "      <td>4</td>\n",
              "      <td>0</td>\n",
              "      <td>2</td>\n",
              "      <td>3</td>\n",
              "      <td>...</td>\n",
              "      <td>1 private bath</td>\n",
              "      <td>2</td>\n",
              "      <td>[\"Free parking on premises\", \"Host greets you\"...</td>\n",
              "      <td>--</td>\n",
              "      <td>t</td>\n",
              "      <td>01/04/23</td>\n",
              "      <td>05/09/21</td>\n",
              "      <td>03/04/22</td>\n",
              "      <td>PG-000045</td>\n",
              "      <td>t</td>\n",
              "    </tr>\n",
              "    <tr>\n",
              "      <th>7811</th>\n",
              "      <td>7812</td>\n",
              "      <td>7812</td>\n",
              "      <td>7811</td>\n",
              "      <td>10</td>\n",
              "      <td>42.418739</td>\n",
              "      <td>1.928717</td>\n",
              "      <td>2</td>\n",
              "      <td>0</td>\n",
              "      <td>1</td>\n",
              "      <td>2</td>\n",
              "      <td>...</td>\n",
              "      <td>1 shared bath</td>\n",
              "      <td>1</td>\n",
              "      <td>[\"Air conditioning\", \"Free parking on premises...</td>\n",
              "      <td>--</td>\n",
              "      <td>t</td>\n",
              "      <td>31/03/23</td>\n",
              "      <td>12/06/22</td>\n",
              "      <td>12/06/22</td>\n",
              "      <td>PG-000045</td>\n",
              "      <td>t</td>\n",
              "    </tr>\n",
              "    <tr>\n",
              "      <th>7812</th>\n",
              "      <td>7813</td>\n",
              "      <td>7813</td>\n",
              "      <td>7812</td>\n",
              "      <td>10</td>\n",
              "      <td>42.418739</td>\n",
              "      <td>1.928717</td>\n",
              "      <td>2</td>\n",
              "      <td>0</td>\n",
              "      <td>1</td>\n",
              "      <td>1</td>\n",
              "      <td>...</td>\n",
              "      <td>1 private bath</td>\n",
              "      <td>1</td>\n",
              "      <td>[\"Free parking on premises\", \"Luggage dropoff ...</td>\n",
              "      <td>--</td>\n",
              "      <td>t</td>\n",
              "      <td>31/03/23</td>\n",
              "      <td>03/06/22</td>\n",
              "      <td>14/02/23</td>\n",
              "      <td>PG-000045</td>\n",
              "      <td>t</td>\n",
              "    </tr>\n",
              "    <tr>\n",
              "      <th>7834</th>\n",
              "      <td>7835</td>\n",
              "      <td>7835</td>\n",
              "      <td>7834</td>\n",
              "      <td>11</td>\n",
              "      <td>42.245180</td>\n",
              "      <td>3.128420</td>\n",
              "      <td>3</td>\n",
              "      <td>0</td>\n",
              "      <td>1</td>\n",
              "      <td>2</td>\n",
              "      <td>...</td>\n",
              "      <td>1 bath</td>\n",
              "      <td>1</td>\n",
              "      <td>[\"Pack ’n play/Travel crib\", \"Portable air con...</td>\n",
              "      <td>--</td>\n",
              "      <td>t</td>\n",
              "      <td>01/04/23</td>\n",
              "      <td>26/05/19</td>\n",
              "      <td>22/03/23</td>\n",
              "      <td>HUTG-018814</td>\n",
              "      <td>t</td>\n",
              "    </tr>\n",
              "    <tr>\n",
              "      <th>8508</th>\n",
              "      <td>8509</td>\n",
              "      <td>8509</td>\n",
              "      <td>8508</td>\n",
              "      <td>4</td>\n",
              "      <td>41.984580</td>\n",
              "      <td>2.820040</td>\n",
              "      <td>2</td>\n",
              "      <td>0</td>\n",
              "      <td>1</td>\n",
              "      <td>2</td>\n",
              "      <td>...</td>\n",
              "      <td>1 private bath</td>\n",
              "      <td>1</td>\n",
              "      <td>[\"Dedicated workspace\", \"Resort access\", \"Pets...</td>\n",
              "      <td>--</td>\n",
              "      <td>t</td>\n",
              "      <td>01/04/23</td>\n",
              "      <td>16/04/22</td>\n",
              "      <td>26/01/23</td>\n",
              "      <td>HG-002402</td>\n",
              "      <td>t</td>\n",
              "    </tr>\n",
              "    <tr>\n",
              "      <th>8929</th>\n",
              "      <td>8930</td>\n",
              "      <td>8930</td>\n",
              "      <td>8929</td>\n",
              "      <td>4</td>\n",
              "      <td>41.717810</td>\n",
              "      <td>2.930570</td>\n",
              "      <td>2</td>\n",
              "      <td>0</td>\n",
              "      <td>1</td>\n",
              "      <td>1</td>\n",
              "      <td>...</td>\n",
              "      <td>1 shared bath</td>\n",
              "      <td>1</td>\n",
              "      <td>[\"Luggage dropoff allowed\", \"Extra pillows and...</td>\n",
              "      <td>--</td>\n",
              "      <td>t</td>\n",
              "      <td>01/04/23</td>\n",
              "      <td>14/07/19</td>\n",
              "      <td>21/08/22</td>\n",
              "      <td>Exempt</td>\n",
              "      <td>t</td>\n",
              "    </tr>\n",
              "    <tr>\n",
              "      <th>8936</th>\n",
              "      <td>8937</td>\n",
              "      <td>8937</td>\n",
              "      <td>8936</td>\n",
              "      <td>3</td>\n",
              "      <td>41.894310</td>\n",
              "      <td>2.774360</td>\n",
              "      <td>2</td>\n",
              "      <td>0</td>\n",
              "      <td>1</td>\n",
              "      <td>1</td>\n",
              "      <td>...</td>\n",
              "      <td>1 private bath</td>\n",
              "      <td>1</td>\n",
              "      <td>[\"Hair dryer\", \"Free street parking\", \"Air con...</td>\n",
              "      <td>--</td>\n",
              "      <td>t</td>\n",
              "      <td>31/03/23</td>\n",
              "      <td>16/10/19</td>\n",
              "      <td>03/03/23</td>\n",
              "      <td>HG-001231</td>\n",
              "      <td>t</td>\n",
              "    </tr>\n",
              "    <tr>\n",
              "      <th>8937</th>\n",
              "      <td>8938</td>\n",
              "      <td>8938</td>\n",
              "      <td>8937</td>\n",
              "      <td>3</td>\n",
              "      <td>41.894730</td>\n",
              "      <td>2.775100</td>\n",
              "      <td>3</td>\n",
              "      <td>0</td>\n",
              "      <td>1</td>\n",
              "      <td>2</td>\n",
              "      <td>...</td>\n",
              "      <td>1 shared bath</td>\n",
              "      <td>1</td>\n",
              "      <td>[\"Hair dryer\", \"Free street parking\", \"Air con...</td>\n",
              "      <td>--</td>\n",
              "      <td>t</td>\n",
              "      <td>31/03/23</td>\n",
              "      <td>09/05/22</td>\n",
              "      <td>05/03/23</td>\n",
              "      <td>HG-001231</td>\n",
              "      <td>t</td>\n",
              "    </tr>\n",
              "    <tr>\n",
              "      <th>9025</th>\n",
              "      <td>9026</td>\n",
              "      <td>9026</td>\n",
              "      <td>9025</td>\n",
              "      <td>4</td>\n",
              "      <td>41.719380</td>\n",
              "      <td>2.930760</td>\n",
              "      <td>2</td>\n",
              "      <td>0</td>\n",
              "      <td>1</td>\n",
              "      <td>2</td>\n",
              "      <td>...</td>\n",
              "      <td>1 private bath</td>\n",
              "      <td>1</td>\n",
              "      <td>[\"Clothing storage: wardrobe and dresser\", \"Fr...</td>\n",
              "      <td>--</td>\n",
              "      <td>t</td>\n",
              "      <td>01/04/23</td>\n",
              "      <td>19/07/19</td>\n",
              "      <td>10/09/22</td>\n",
              "      <td>Exempt</td>\n",
              "      <td>t</td>\n",
              "    </tr>\n",
              "    <tr>\n",
              "      <th>9355</th>\n",
              "      <td>9356</td>\n",
              "      <td>9356</td>\n",
              "      <td>9355</td>\n",
              "      <td>19</td>\n",
              "      <td>42.417920</td>\n",
              "      <td>1.947400</td>\n",
              "      <td>4</td>\n",
              "      <td>0</td>\n",
              "      <td>2</td>\n",
              "      <td>1</td>\n",
              "      <td>...</td>\n",
              "      <td>--</td>\n",
              "      <td>2</td>\n",
              "      <td>[\"Free street parking\", \"Free parking on premi...</td>\n",
              "      <td>--</td>\n",
              "      <td>t</td>\n",
              "      <td>31/03/23</td>\n",
              "      <td>--</td>\n",
              "      <td>--</td>\n",
              "      <td>PG-000129</td>\n",
              "      <td>t</td>\n",
              "    </tr>\n",
              "    <tr>\n",
              "      <th>9383</th>\n",
              "      <td>9384</td>\n",
              "      <td>9384</td>\n",
              "      <td>9383</td>\n",
              "      <td>5</td>\n",
              "      <td>41.719147</td>\n",
              "      <td>2.930374</td>\n",
              "      <td>2</td>\n",
              "      <td>0</td>\n",
              "      <td>1</td>\n",
              "      <td>2</td>\n",
              "      <td>...</td>\n",
              "      <td>1 private bath</td>\n",
              "      <td>1</td>\n",
              "      <td>[\"Long term stays allowed\", \"Shampoo\", \"First ...</td>\n",
              "      <td>--</td>\n",
              "      <td>t</td>\n",
              "      <td>01/04/23</td>\n",
              "      <td>24/09/19</td>\n",
              "      <td>22/09/22</td>\n",
              "      <td>HG-000986</td>\n",
              "      <td>t</td>\n",
              "    </tr>\n",
              "    <tr>\n",
              "      <th>9391</th>\n",
              "      <td>9392</td>\n",
              "      <td>9392</td>\n",
              "      <td>9391</td>\n",
              "      <td>5</td>\n",
              "      <td>41.719147</td>\n",
              "      <td>2.930374</td>\n",
              "      <td>2</td>\n",
              "      <td>0</td>\n",
              "      <td>1</td>\n",
              "      <td>2</td>\n",
              "      <td>...</td>\n",
              "      <td>1 private bath</td>\n",
              "      <td>1</td>\n",
              "      <td>[\"Long term stays allowed\", \"Shampoo\", \"First ...</td>\n",
              "      <td>--</td>\n",
              "      <td>t</td>\n",
              "      <td>01/04/23</td>\n",
              "      <td>17/07/20</td>\n",
              "      <td>22/09/22</td>\n",
              "      <td>HG-000986</td>\n",
              "      <td>t</td>\n",
              "    </tr>\n",
              "    <tr>\n",
              "      <th>9394</th>\n",
              "      <td>9395</td>\n",
              "      <td>9395</td>\n",
              "      <td>9394</td>\n",
              "      <td>19</td>\n",
              "      <td>42.419740</td>\n",
              "      <td>1.947270</td>\n",
              "      <td>2</td>\n",
              "      <td>0</td>\n",
              "      <td>1</td>\n",
              "      <td>2</td>\n",
              "      <td>...</td>\n",
              "      <td>1 bath</td>\n",
              "      <td>1</td>\n",
              "      <td>[\"Breakfast\", \"Bed linens\", \"Heating\", \"Refrig...</td>\n",
              "      <td>--</td>\n",
              "      <td>t</td>\n",
              "      <td>31/03/23</td>\n",
              "      <td>--</td>\n",
              "      <td>--</td>\n",
              "      <td>PG-000129</td>\n",
              "      <td>t</td>\n",
              "    </tr>\n",
              "    <tr>\n",
              "      <th>9395</th>\n",
              "      <td>9396</td>\n",
              "      <td>9396</td>\n",
              "      <td>9395</td>\n",
              "      <td>19</td>\n",
              "      <td>42.418380</td>\n",
              "      <td>1.948430</td>\n",
              "      <td>2</td>\n",
              "      <td>0</td>\n",
              "      <td>1</td>\n",
              "      <td>2</td>\n",
              "      <td>...</td>\n",
              "      <td>1 bath</td>\n",
              "      <td>1</td>\n",
              "      <td>[\"Free street parking\", \"Free parking on premi...</td>\n",
              "      <td>--</td>\n",
              "      <td>t</td>\n",
              "      <td>31/03/23</td>\n",
              "      <td>--</td>\n",
              "      <td>--</td>\n",
              "      <td>PG-000129</td>\n",
              "      <td>t</td>\n",
              "    </tr>\n",
              "    <tr>\n",
              "      <th>9396</th>\n",
              "      <td>9397</td>\n",
              "      <td>9397</td>\n",
              "      <td>9396</td>\n",
              "      <td>5</td>\n",
              "      <td>41.719147</td>\n",
              "      <td>2.930374</td>\n",
              "      <td>3</td>\n",
              "      <td>0</td>\n",
              "      <td>1</td>\n",
              "      <td>3</td>\n",
              "      <td>...</td>\n",
              "      <td>1 private bath</td>\n",
              "      <td>1</td>\n",
              "      <td>[\"Long term stays allowed\", \"Shampoo\", \"First ...</td>\n",
              "      <td>--</td>\n",
              "      <td>t</td>\n",
              "      <td>01/04/23</td>\n",
              "      <td>07/08/20</td>\n",
              "      <td>23/09/22</td>\n",
              "      <td>HG-000986</td>\n",
              "      <td>t</td>\n",
              "    </tr>\n",
              "    <tr>\n",
              "      <th>9397</th>\n",
              "      <td>9398</td>\n",
              "      <td>9398</td>\n",
              "      <td>9397</td>\n",
              "      <td>19</td>\n",
              "      <td>42.417570</td>\n",
              "      <td>1.947020</td>\n",
              "      <td>2</td>\n",
              "      <td>0</td>\n",
              "      <td>1</td>\n",
              "      <td>2</td>\n",
              "      <td>...</td>\n",
              "      <td>1 bath</td>\n",
              "      <td>1</td>\n",
              "      <td>[\"Breakfast\", \"Bed linens\", \"Heating\", \"Refrig...</td>\n",
              "      <td>--</td>\n",
              "      <td>t</td>\n",
              "      <td>31/03/23</td>\n",
              "      <td>--</td>\n",
              "      <td>--</td>\n",
              "      <td>PG-000129</td>\n",
              "      <td>t</td>\n",
              "    </tr>\n",
              "    <tr>\n",
              "      <th>9398</th>\n",
              "      <td>9399</td>\n",
              "      <td>9399</td>\n",
              "      <td>9398</td>\n",
              "      <td>19</td>\n",
              "      <td>42.419060</td>\n",
              "      <td>1.948580</td>\n",
              "      <td>2</td>\n",
              "      <td>0</td>\n",
              "      <td>1</td>\n",
              "      <td>2</td>\n",
              "      <td>...</td>\n",
              "      <td>1 bath</td>\n",
              "      <td>1</td>\n",
              "      <td>[\"Breakfast\", \"Bed linens\", \"Heating\", \"Refrig...</td>\n",
              "      <td>--</td>\n",
              "      <td>t</td>\n",
              "      <td>31/03/23</td>\n",
              "      <td>--</td>\n",
              "      <td>--</td>\n",
              "      <td>PG-000129</td>\n",
              "      <td>t</td>\n",
              "    </tr>\n",
              "    <tr>\n",
              "      <th>9399</th>\n",
              "      <td>9400</td>\n",
              "      <td>9400</td>\n",
              "      <td>9399</td>\n",
              "      <td>19</td>\n",
              "      <td>42.419740</td>\n",
              "      <td>1.948190</td>\n",
              "      <td>2</td>\n",
              "      <td>0</td>\n",
              "      <td>1</td>\n",
              "      <td>2</td>\n",
              "      <td>...</td>\n",
              "      <td>1 bath</td>\n",
              "      <td>1</td>\n",
              "      <td>[\"Free street parking\", \"Free parking on premi...</td>\n",
              "      <td>--</td>\n",
              "      <td>t</td>\n",
              "      <td>01/04/23</td>\n",
              "      <td>--</td>\n",
              "      <td>--</td>\n",
              "      <td>PG-000129</td>\n",
              "      <td>t</td>\n",
              "    </tr>\n",
              "    <tr>\n",
              "      <th>9404</th>\n",
              "      <td>9405</td>\n",
              "      <td>9405</td>\n",
              "      <td>9404</td>\n",
              "      <td>19</td>\n",
              "      <td>42.418360</td>\n",
              "      <td>1.947390</td>\n",
              "      <td>2</td>\n",
              "      <td>0</td>\n",
              "      <td>1</td>\n",
              "      <td>2</td>\n",
              "      <td>...</td>\n",
              "      <td>1 bath</td>\n",
              "      <td>1</td>\n",
              "      <td>[\"Free street parking\", \"Free parking on premi...</td>\n",
              "      <td>--</td>\n",
              "      <td>t</td>\n",
              "      <td>31/03/23</td>\n",
              "      <td>--</td>\n",
              "      <td>--</td>\n",
              "      <td>PG-000129</td>\n",
              "      <td>t</td>\n",
              "    </tr>\n",
              "    <tr>\n",
              "      <th>9405</th>\n",
              "      <td>9406</td>\n",
              "      <td>9406</td>\n",
              "      <td>9405</td>\n",
              "      <td>19</td>\n",
              "      <td>42.419090</td>\n",
              "      <td>1.947020</td>\n",
              "      <td>3</td>\n",
              "      <td>0</td>\n",
              "      <td>1</td>\n",
              "      <td>3</td>\n",
              "      <td>...</td>\n",
              "      <td>1 bath</td>\n",
              "      <td>1</td>\n",
              "      <td>[\"Breakfast\", \"Bed linens\", \"Heating\", \"Refrig...</td>\n",
              "      <td>--</td>\n",
              "      <td>t</td>\n",
              "      <td>31/03/23</td>\n",
              "      <td>--</td>\n",
              "      <td>--</td>\n",
              "      <td>PG-000129</td>\n",
              "      <td>t</td>\n",
              "    </tr>\n",
              "    <tr>\n",
              "      <th>9406</th>\n",
              "      <td>9407</td>\n",
              "      <td>9407</td>\n",
              "      <td>9406</td>\n",
              "      <td>19</td>\n",
              "      <td>42.418970</td>\n",
              "      <td>1.948800</td>\n",
              "      <td>3</td>\n",
              "      <td>0</td>\n",
              "      <td>1</td>\n",
              "      <td>3</td>\n",
              "      <td>...</td>\n",
              "      <td>1 bath</td>\n",
              "      <td>1</td>\n",
              "      <td>[\"Breakfast\", \"Bed linens\", \"Heating\", \"Refrig...</td>\n",
              "      <td>--</td>\n",
              "      <td>t</td>\n",
              "      <td>01/04/23</td>\n",
              "      <td>--</td>\n",
              "      <td>--</td>\n",
              "      <td>PG-000129</td>\n",
              "      <td>t</td>\n",
              "    </tr>\n",
              "    <tr>\n",
              "      <th>9407</th>\n",
              "      <td>9408</td>\n",
              "      <td>9408</td>\n",
              "      <td>9407</td>\n",
              "      <td>19</td>\n",
              "      <td>42.418010</td>\n",
              "      <td>1.947110</td>\n",
              "      <td>4</td>\n",
              "      <td>0</td>\n",
              "      <td>1</td>\n",
              "      <td>1</td>\n",
              "      <td>...</td>\n",
              "      <td>1 bath</td>\n",
              "      <td>1</td>\n",
              "      <td>[\"Bed linens\", \"Heating\", \"Refrigerator\", \"Hot...</td>\n",
              "      <td>--</td>\n",
              "      <td>t</td>\n",
              "      <td>01/04/23</td>\n",
              "      <td>--</td>\n",
              "      <td>--</td>\n",
              "      <td>PG-000129</td>\n",
              "      <td>t</td>\n",
              "    </tr>\n",
              "    <tr>\n",
              "      <th>11431</th>\n",
              "      <td>11432</td>\n",
              "      <td>11432</td>\n",
              "      <td>11431</td>\n",
              "      <td>1</td>\n",
              "      <td>41.885444</td>\n",
              "      <td>3.126770</td>\n",
              "      <td>0</td>\n",
              "      <td>0</td>\n",
              "      <td>0</td>\n",
              "      <td>0</td>\n",
              "      <td>...</td>\n",
              "      <td>--</td>\n",
              "      <td>0</td>\n",
              "      <td>[\"Air conditioning\", \"Minibar\", \"Pack ’n play/...</td>\n",
              "      <td>--</td>\n",
              "      <td>t</td>\n",
              "      <td>01/04/23</td>\n",
              "      <td>08/08/21</td>\n",
              "      <td>14/06/22</td>\n",
              "      <td>0</td>\n",
              "      <td>f</td>\n",
              "    </tr>\n",
              "  </tbody>\n",
              "</table>\n",
              "<p>50 rows × 79 columns</p>\n",
              "</div>\n",
              "      <button class=\"colab-df-convert\" onclick=\"convertToInteractive('df-86193b56-9b9f-49ee-a816-641009d69064')\"\n",
              "              title=\"Convert this dataframe to an interactive table.\"\n",
              "              style=\"display:none;\">\n",
              "        \n",
              "  <svg xmlns=\"http://www.w3.org/2000/svg\" height=\"24px\"viewBox=\"0 0 24 24\"\n",
              "       width=\"24px\">\n",
              "    <path d=\"M0 0h24v24H0V0z\" fill=\"none\"/>\n",
              "    <path d=\"M18.56 5.44l.94 2.06.94-2.06 2.06-.94-2.06-.94-.94-2.06-.94 2.06-2.06.94zm-11 1L8.5 8.5l.94-2.06 2.06-.94-2.06-.94L8.5 2.5l-.94 2.06-2.06.94zm10 10l.94 2.06.94-2.06 2.06-.94-2.06-.94-.94-2.06-.94 2.06-2.06.94z\"/><path d=\"M17.41 7.96l-1.37-1.37c-.4-.4-.92-.59-1.43-.59-.52 0-1.04.2-1.43.59L10.3 9.45l-7.72 7.72c-.78.78-.78 2.05 0 2.83L4 21.41c.39.39.9.59 1.41.59.51 0 1.02-.2 1.41-.59l7.78-7.78 2.81-2.81c.8-.78.8-2.07 0-2.86zM5.41 20L4 18.59l7.72-7.72 1.47 1.35L5.41 20z\"/>\n",
              "  </svg>\n",
              "      </button>\n",
              "      \n",
              "  <style>\n",
              "    .colab-df-container {\n",
              "      display:flex;\n",
              "      flex-wrap:wrap;\n",
              "      gap: 12px;\n",
              "    }\n",
              "\n",
              "    .colab-df-convert {\n",
              "      background-color: #E8F0FE;\n",
              "      border: none;\n",
              "      border-radius: 50%;\n",
              "      cursor: pointer;\n",
              "      display: none;\n",
              "      fill: #1967D2;\n",
              "      height: 32px;\n",
              "      padding: 0 0 0 0;\n",
              "      width: 32px;\n",
              "    }\n",
              "\n",
              "    .colab-df-convert:hover {\n",
              "      background-color: #E2EBFA;\n",
              "      box-shadow: 0px 1px 2px rgba(60, 64, 67, 0.3), 0px 1px 3px 1px rgba(60, 64, 67, 0.15);\n",
              "      fill: #174EA6;\n",
              "    }\n",
              "\n",
              "    [theme=dark] .colab-df-convert {\n",
              "      background-color: #3B4455;\n",
              "      fill: #D2E3FC;\n",
              "    }\n",
              "\n",
              "    [theme=dark] .colab-df-convert:hover {\n",
              "      background-color: #434B5C;\n",
              "      box-shadow: 0px 1px 3px 1px rgba(0, 0, 0, 0.15);\n",
              "      filter: drop-shadow(0px 1px 2px rgba(0, 0, 0, 0.3));\n",
              "      fill: #FFFFFF;\n",
              "    }\n",
              "  </style>\n",
              "\n",
              "      <script>\n",
              "        const buttonEl =\n",
              "          document.querySelector('#df-86193b56-9b9f-49ee-a816-641009d69064 button.colab-df-convert');\n",
              "        buttonEl.style.display =\n",
              "          google.colab.kernel.accessAllowed ? 'block' : 'none';\n",
              "\n",
              "        async function convertToInteractive(key) {\n",
              "          const element = document.querySelector('#df-86193b56-9b9f-49ee-a816-641009d69064');\n",
              "          const dataTable =\n",
              "            await google.colab.kernel.invokeFunction('convertToInteractive',\n",
              "                                                     [key], {});\n",
              "          if (!dataTable) return;\n",
              "\n",
              "          const docLinkHtml = 'Like what you see? Visit the ' +\n",
              "            '<a target=\"_blank\" href=https://colab.research.google.com/notebooks/data_table.ipynb>data table notebook</a>'\n",
              "            + ' to learn more about interactive tables.';\n",
              "          element.innerHTML = '';\n",
              "          dataTable['output_type'] = 'display_data';\n",
              "          await google.colab.output.renderOutput(dataTable, element);\n",
              "          const docLink = document.createElement('div');\n",
              "          docLink.innerHTML = docLinkHtml;\n",
              "          element.appendChild(docLink);\n",
              "        }\n",
              "      </script>\n",
              "    </div>\n",
              "  </div>\n",
              "  "
            ]
          },
          "metadata": {},
          "execution_count": 62
        }
      ]
    },
    {
      "cell_type": "markdown",
      "source": [
        "### **host_acceptance_rate vs host_response_rate, Price, number_of_reviews , review_scores_rating**"
      ],
      "metadata": {
        "id": "IPLTQOWFG9IJ"
      }
    },
    {
      "cell_type": "code",
      "source": [
        "from turtle import color\n",
        "\n",
        "\n",
        "sns.scatterplot(x='host_response_rate', y='host_acceptance_rate', color=\"blue\", data=HR_España)\n",
        "sns.scatterplot(x='price', y='host_acceptance_rate', color=\"red\", data=HR_España)\n",
        "sns.scatterplot(x='number_of_reviews', y='host_acceptance_rate', color=\"green\", data=HR_España)\n",
        "sns.scatterplot(x='review_scores_rating', y='host_acceptance_rate', color=\"yellow\", data=HR_España)"
      ],
      "metadata": {
        "colab": {
          "base_uri": "https://localhost:8080/",
          "height": 468
        },
        "outputId": "a9c5df6f-901d-4d8d-b7dd-73ad10486f57",
        "id": "90L7Wu_5G9IJ"
      },
      "execution_count": null,
      "outputs": [
        {
          "output_type": "execute_result",
          "data": {
            "text/plain": [
              "<Axes: xlabel='host_response_rate', ylabel='host_acceptance_rate'>"
            ]
          },
          "metadata": {},
          "execution_count": 63
        },
        {
          "output_type": "display_data",
          "data": {
            "text/plain": [
              "<Figure size 640x480 with 1 Axes>"
            ],
            "image/png": "[encoded data removed]"
          },
          "metadata": {}
        }
      ]
    },
    {
      "cell_type": "code",
      "source": [
        "#Declaramos las variables dependientes e independientes para la regresión lineal\n",
        "Vars_Indep= HR_España[['host_response_rate', 'price', 'number_of_reviews' , 'review_scores_rating']]\n",
        "Var_Dep= HR_España['host_acceptance_rate']"
      ],
      "metadata": {
        "id": "Kc5ocPajG9IJ"
      },
      "execution_count": null,
      "outputs": []
    },
    {
      "cell_type": "code",
      "source": [
        "#Se define model como la función de regresión lineal\n",
        "from sklearn.linear_model import LinearRegression\n",
        "model= LinearRegression()"
      ],
      "metadata": {
        "id": "BwSVswt1G9IK"
      },
      "execution_count": null,
      "outputs": []
    },
    {
      "cell_type": "code",
      "source": [
        "#Verificamos la función relacionada al modelo\n",
        "type(model)"
      ],
      "metadata": {
        "colab": {
          "base_uri": "https://localhost:8080/"
        },
        "outputId": "583067d9-7541-4ae7-bd43-8902b4daab3a",
        "id": "-flI0I8rG9IK"
      },
      "execution_count": null,
      "outputs": [
        {
          "output_type": "execute_result",
          "data": {
            "text/plain": [
              "sklearn.linear_model._base.LinearRegression"
            ]
          },
          "metadata": {},
          "execution_count": 66
        }
      ]
    },
    {
      "cell_type": "code",
      "source": [
        "#Ajustamos el modelo con las variables antes declaradas\n",
        "model.fit(X=Vars_Indep, y=Var_Dep)"
      ],
      "metadata": {
        "colab": {
          "base_uri": "https://localhost:8080/",
          "height": 75
        },
        "outputId": "2530cfe7-fcf7-4b28-ff1a-0646651f1e9b",
        "id": "LwhB0A1GG9IK"
      },
      "execution_count": null,
      "outputs": [
        {
          "output_type": "execute_result",
          "data": {
            "text/plain": [
              "LinearRegression()"
            ],
            "text/html": [
              "<style>#sk-container-id-5 {color: black;background-color: white;}#sk-container-id-5 pre{padding: 0;}#sk-container-id-5 div.sk-toggleable {background-color: white;}#sk-container-id-5 label.sk-toggleable__label {cursor: pointer;display: block;width: 100%;margin-bottom: 0;padding: 0.3em;box-sizing: border-box;text-align: center;}#sk-container-id-5 label.sk-toggleable__label-arrow:before {content: \"▸\";float: left;margin-right: 0.25em;color: #696969;}#sk-container-id-5 label.sk-toggleable__label-arrow:hover:before {color: black;}#sk-container-id-5 div.sk-estimator:hover label.sk-toggleable__label-arrow:before {color: black;}#sk-container-id-5 div.sk-toggleable__content {max-height: 0;max-width: 0;overflow: hidden;text-align: left;background-color: #f0f8ff;}#sk-container-id-5 div.sk-toggleable__content pre {margin: 0.2em;color: black;border-radius: 0.25em;background-color: #f0f8ff;}#sk-container-id-5 input.sk-toggleable__control:checked~div.sk-toggleable__content {max-height: 200px;max-width: 100%;overflow: auto;}#sk-container-id-5 input.sk-toggleable__control:checked~label.sk-toggleable__label-arrow:before {content: \"▾\";}#sk-container-id-5 div.sk-estimator input.sk-toggleable__control:checked~label.sk-toggleable__label {background-color: #d4ebff;}#sk-container-id-5 div.sk-label input.sk-toggleable__control:checked~label.sk-toggleable__label {background-color: #d4ebff;}#sk-container-id-5 input.sk-hidden--visually {border: 0;clip: rect(1px 1px 1px 1px);clip: rect(1px, 1px, 1px, 1px);height: 1px;margin: -1px;overflow: hidden;padding: 0;position: absolute;width: 1px;}#sk-container-id-5 div.sk-estimator {font-family: monospace;background-color: #f0f8ff;border: 1px dotted black;border-radius: 0.25em;box-sizing: border-box;margin-bottom: 0.5em;}#sk-container-id-5 div.sk-estimator:hover {background-color: #d4ebff;}#sk-container-id-5 div.sk-parallel-item::after {content: \"\";width: 100%;border-bottom: 1px solid gray;flex-grow: 1;}#sk-container-id-5 div.sk-label:hover label.sk-toggleable__label {background-color: #d4ebff;}#sk-container-id-5 div.sk-serial::before {content: \"\";position: absolute;border-left: 1px solid gray;box-sizing: border-box;top: 0;bottom: 0;left: 50%;z-index: 0;}#sk-container-id-5 div.sk-serial {display: flex;flex-direction: column;align-items: center;background-color: white;padding-right: 0.2em;padding-left: 0.2em;position: relative;}#sk-container-id-5 div.sk-item {position: relative;z-index: 1;}#sk-container-id-5 div.sk-parallel {display: flex;align-items: stretch;justify-content: center;background-color: white;position: relative;}#sk-container-id-5 div.sk-item::before, #sk-container-id-5 div.sk-parallel-item::before {content: \"\";position: absolute;border-left: 1px solid gray;box-sizing: border-box;top: 0;bottom: 0;left: 50%;z-index: -1;}#sk-container-id-5 div.sk-parallel-item {display: flex;flex-direction: column;z-index: 1;position: relative;background-color: white;}#sk-container-id-5 div.sk-parallel-item:first-child::after {align-self: flex-end;width: 50%;}#sk-container-id-5 div.sk-parallel-item:last-child::after {align-self: flex-start;width: 50%;}#sk-container-id-5 div.sk-parallel-item:only-child::after {width: 0;}#sk-container-id-5 div.sk-dashed-wrapped {border: 1px dashed gray;margin: 0 0.4em 0.5em 0.4em;box-sizing: border-box;padding-bottom: 0.4em;background-color: white;}#sk-container-id-5 div.sk-label label {font-family: monospace;font-weight: bold;display: inline-block;line-height: 1.2em;}#sk-container-id-5 div.sk-label-container {text-align: center;}#sk-container-id-5 div.sk-container {/* jupyter's `normalize.less` sets `[hidden] { display: none; }` but bootstrap.min.css set `[hidden] { display: none !important; }` so we also need the `!important` here to be able to override the default hidden behavior on the sphinx rendered scikit-learn.org. See: https://github.com/scikit-learn/scikit-learn/issues/21755 */display: inline-block !important;position: relative;}#sk-container-id-5 div.sk-text-repr-fallback {display: none;}</style><div id=\"sk-container-id-5\" class=\"sk-top-container\"><div class=\"sk-text-repr-fallback\"><pre>LinearRegression()</pre><b>In a Jupyter environment, please rerun this cell to show the HTML representation or trust the notebook. <br />On GitHub, the HTML representation is unable to render, please try loading this page with nbviewer.org.</b></div><div class=\"sk-container\" hidden><div class=\"sk-item\"><div class=\"sk-estimator sk-toggleable\"><input class=\"sk-toggleable__control sk-hidden--visually\" id=\"sk-estimator-id-5\" type=\"checkbox\" checked><label for=\"sk-estimator-id-5\" class=\"sk-toggleable__label sk-toggleable__label-arrow\">LinearRegression</label><div class=\"sk-toggleable__content\"><pre>LinearRegression()</pre></div></div></div></div></div>"
            ]
          },
          "metadata": {},
          "execution_count": 67
        }
      ]
    },
    {
      "cell_type": "code",
      "source": [
        "#Verificamos los coeficientes obtenidos para el modelo ajustado\n",
        "model.__dict__"
      ],
      "metadata": {
        "colab": {
          "base_uri": "https://localhost:8080/"
        },
        "outputId": "8b524e73-ae7f-4a68-b84e-ddd9258e0630",
        "id": "Rs1A3IORG9IK"
      },
      "execution_count": null,
      "outputs": [
        {
          "output_type": "execute_result",
          "data": {
            "text/plain": [
              "{'fit_intercept': True,\n",
              " 'copy_X': True,\n",
              " 'n_jobs': None,\n",
              " 'positive': False,\n",
              " 'feature_names_in_': array(['host_response_rate', 'price', 'number_of_reviews',\n",
              "        'review_scores_rating'], dtype=object),\n",
              " 'n_features_in_': 4,\n",
              " 'coef_': array([ 6.38212147e-01, -1.58272456e-04, -1.98060852e-03,  4.99597165e-02]),\n",
              " 'rank_': 4,\n",
              " 'singular_': array([480.22476018, 221.57438043,  13.54854044,   3.13029412]),\n",
              " 'intercept_': 0.20886576137025104}"
            ]
          },
          "metadata": {},
          "execution_count": 68
        }
      ]
    },
    {
      "cell_type": "markdown",
      "source": [
        "**Modelo matemático: y= 6.38212147e-01x1 + -1.58272456e-04x2 + -1.98060852e-03x3 + 4.99597165e-02x4 + 0.20886576137025104**"
      ],
      "metadata": {
        "id": "1iWj5ZZvG9IK"
      }
    },
    {
      "cell_type": "code",
      "source": [
        "#Corroboramos cual es el coeficiente de Determinación de nuestro modelo\n",
        "coef_Deter4=model.score(X=Vars_Indep, y=Var_Dep)\n",
        "coef_Deter4"
      ],
      "metadata": {
        "colab": {
          "base_uri": "https://localhost:8080/"
        },
        "outputId": "ec53cedd-40b7-41d4-86b3-1a62ce71efd9",
        "id": "GG8hzFFbG9IK"
      },
      "execution_count": null,
      "outputs": [
        {
          "output_type": "execute_result",
          "data": {
            "text/plain": [
              "0.6361552457448966"
            ]
          },
          "metadata": {},
          "execution_count": 69
        }
      ]
    },
    {
      "cell_type": "code",
      "source": [
        "#Corroboramos cual es el coeficiente de Correlación de nuestro modelo\n",
        "coef_Correl4=np.sqrt(coef_Deter4)\n",
        "coef_Correl4"
      ],
      "metadata": {
        "colab": {
          "base_uri": "https://localhost:8080/"
        },
        "outputId": "e6375c4a-dee8-46b3-f30e-6990fd89114f",
        "id": "IL1o1hX5G9IK"
      },
      "execution_count": null,
      "outputs": [
        {
          "output_type": "execute_result",
          "data": {
            "text/plain": [
              "0.7975934087897771"
            ]
          },
          "metadata": {},
          "execution_count": 70
        }
      ]
    },
    {
      "cell_type": "code",
      "source": [
        "det.append(coef_Deter4)\n",
        "corr.append(np.sqrt(coef_Correl4))\n",
        "Ta_V.append(\"Hotel room / host_acceptance_rate vs host_response_rate, Price, number_of_reviews , review_scores_rating\")"
      ],
      "metadata": {
        "id": "576KtxEMG9IK"
      },
      "execution_count": null,
      "outputs": []
    },
    {
      "cell_type": "markdown",
      "source": [
        "### **Price vs availability_365, host_response_rate, number_of_reviews, accommodates**"
      ],
      "metadata": {
        "id": "_uyFmyvxG9IL"
      }
    },
    {
      "cell_type": "code",
      "source": [
        "from turtle import color\n",
        "\n",
        "sns.scatterplot(x='availability_365', y='price', color=\"red\", data=HR_España)\n",
        "sns.scatterplot(x='host_response_rate', y='price', color=\"blue\", data=HR_España)\n",
        "sns.scatterplot(x='number_of_reviews', y='price', color=\"green\", data=HR_España)\n",
        "sns.scatterplot(x='accommodates', y='price', color=\"yellow\", data=HR_España)"
      ],
      "metadata": {
        "colab": {
          "base_uri": "https://localhost:8080/",
          "height": 468
        },
        "outputId": "2ad8420d-539d-475a-ec5c-aeef8e27a48d",
        "id": "EPhoHcUlG9IL"
      },
      "execution_count": null,
      "outputs": [
        {
          "output_type": "execute_result",
          "data": {
            "text/plain": [
              "<Axes: xlabel='availability_365', ylabel='price'>"
            ]
          },
          "metadata": {},
          "execution_count": 72
        },
        {
          "output_type": "display_data",
          "data": {
            "text/plain": [
              "<Figure size 640x480 with 1 Axes>"
            ],
            "image/png": "[encoded data removed]"
          },
          "metadata": {}
        }
      ]
    },
    {
      "cell_type": "code",
      "source": [
        "#Declaramos las variables dependientes e independientes para la regresión lineal\n",
        "Vars_Indep= HR_España[['availability_365', 'host_response_rate', 'number_of_reviews', 'accommodates']]\n",
        "Var_Dep= HR_España['price']"
      ],
      "metadata": {
        "id": "tpqUSoBIG9IL"
      },
      "execution_count": null,
      "outputs": []
    },
    {
      "cell_type": "code",
      "source": [
        "#Se define model como la función de regresión lineal\n",
        "from sklearn.linear_model import LinearRegression\n",
        "model= LinearRegression()"
      ],
      "metadata": {
        "id": "Mx1Y7brNG9IL"
      },
      "execution_count": null,
      "outputs": []
    },
    {
      "cell_type": "code",
      "source": [
        "#Verificamos la función relacionada al modelo\n",
        "type(model)"
      ],
      "metadata": {
        "colab": {
          "base_uri": "https://localhost:8080/"
        },
        "outputId": "007da09a-ea59-482a-b379-8038830ac35e",
        "id": "RDUWxJu3G9IL"
      },
      "execution_count": null,
      "outputs": [
        {
          "output_type": "execute_result",
          "data": {
            "text/plain": [
              "sklearn.linear_model._base.LinearRegression"
            ]
          },
          "metadata": {},
          "execution_count": 75
        }
      ]
    },
    {
      "cell_type": "code",
      "source": [
        "#Ajustamos el modelo con las variables antes declaradas\n",
        "model.fit(X=Vars_Indep, y=Var_Dep)"
      ],
      "metadata": {
        "colab": {
          "base_uri": "https://localhost:8080/",
          "height": 75
        },
        "outputId": "42311e9e-6f85-47a5-d4d8-95615d801fa9",
        "id": "1a26EMXhG9IL"
      },
      "execution_count": null,
      "outputs": [
        {
          "output_type": "execute_result",
          "data": {
            "text/plain": [
              "LinearRegression()"
            ],
            "text/html": [
              "<style>#sk-container-id-6 {color: black;background-color: white;}#sk-container-id-6 pre{padding: 0;}#sk-container-id-6 div.sk-toggleable {background-color: white;}#sk-container-id-6 label.sk-toggleable__label {cursor: pointer;display: block;width: 100%;margin-bottom: 0;padding: 0.3em;box-sizing: border-box;text-align: center;}#sk-container-id-6 label.sk-toggleable__label-arrow:before {content: \"▸\";float: left;margin-right: 0.25em;color: #696969;}#sk-container-id-6 label.sk-toggleable__label-arrow:hover:before {color: black;}#sk-container-id-6 div.sk-estimator:hover label.sk-toggleable__label-arrow:before {color: black;}#sk-container-id-6 div.sk-toggleable__content {max-height: 0;max-width: 0;overflow: hidden;text-align: left;background-color: #f0f8ff;}#sk-container-id-6 div.sk-toggleable__content pre {margin: 0.2em;color: black;border-radius: 0.25em;background-color: #f0f8ff;}#sk-container-id-6 input.sk-toggleable__control:checked~div.sk-toggleable__content {max-height: 200px;max-width: 100%;overflow: auto;}#sk-container-id-6 input.sk-toggleable__control:checked~label.sk-toggleable__label-arrow:before {content: \"▾\";}#sk-container-id-6 div.sk-estimator input.sk-toggleable__control:checked~label.sk-toggleable__label {background-color: #d4ebff;}#sk-container-id-6 div.sk-label input.sk-toggleable__control:checked~label.sk-toggleable__label {background-color: #d4ebff;}#sk-container-id-6 input.sk-hidden--visually {border: 0;clip: rect(1px 1px 1px 1px);clip: rect(1px, 1px, 1px, 1px);height: 1px;margin: -1px;overflow: hidden;padding: 0;position: absolute;width: 1px;}#sk-container-id-6 div.sk-estimator {font-family: monospace;background-color: #f0f8ff;border: 1px dotted black;border-radius: 0.25em;box-sizing: border-box;margin-bottom: 0.5em;}#sk-container-id-6 div.sk-estimator:hover {background-color: #d4ebff;}#sk-container-id-6 div.sk-parallel-item::after {content: \"\";width: 100%;border-bottom: 1px solid gray;flex-grow: 1;}#sk-container-id-6 div.sk-label:hover label.sk-toggleable__label {background-color: #d4ebff;}#sk-container-id-6 div.sk-serial::before {content: \"\";position: absolute;border-left: 1px solid gray;box-sizing: border-box;top: 0;bottom: 0;left: 50%;z-index: 0;}#sk-container-id-6 div.sk-serial {display: flex;flex-direction: column;align-items: center;background-color: white;padding-right: 0.2em;padding-left: 0.2em;position: relative;}#sk-container-id-6 div.sk-item {position: relative;z-index: 1;}#sk-container-id-6 div.sk-parallel {display: flex;align-items: stretch;justify-content: center;background-color: white;position: relative;}#sk-container-id-6 div.sk-item::before, #sk-container-id-6 div.sk-parallel-item::before {content: \"\";position: absolute;border-left: 1px solid gray;box-sizing: border-box;top: 0;bottom: 0;left: 50%;z-index: -1;}#sk-container-id-6 div.sk-parallel-item {display: flex;flex-direction: column;z-index: 1;position: relative;background-color: white;}#sk-container-id-6 div.sk-parallel-item:first-child::after {align-self: flex-end;width: 50%;}#sk-container-id-6 div.sk-parallel-item:last-child::after {align-self: flex-start;width: 50%;}#sk-container-id-6 div.sk-parallel-item:only-child::after {width: 0;}#sk-container-id-6 div.sk-dashed-wrapped {border: 1px dashed gray;margin: 0 0.4em 0.5em 0.4em;box-sizing: border-box;padding-bottom: 0.4em;background-color: white;}#sk-container-id-6 div.sk-label label {font-family: monospace;font-weight: bold;display: inline-block;line-height: 1.2em;}#sk-container-id-6 div.sk-label-container {text-align: center;}#sk-container-id-6 div.sk-container {/* jupyter's `normalize.less` sets `[hidden] { display: none; }` but bootstrap.min.css set `[hidden] { display: none !important; }` so we also need the `!important` here to be able to override the default hidden behavior on the sphinx rendered scikit-learn.org. See: https://github.com/scikit-learn/scikit-learn/issues/21755 */display: inline-block !important;position: relative;}#sk-container-id-6 div.sk-text-repr-fallback {display: none;}</style><div id=\"sk-container-id-6\" class=\"sk-top-container\"><div class=\"sk-text-repr-fallback\"><pre>LinearRegression()</pre><b>In a Jupyter environment, please rerun this cell to show the HTML representation or trust the notebook. <br />On GitHub, the HTML representation is unable to render, please try loading this page with nbviewer.org.</b></div><div class=\"sk-container\" hidden><div class=\"sk-item\"><div class=\"sk-estimator sk-toggleable\"><input class=\"sk-toggleable__control sk-hidden--visually\" id=\"sk-estimator-id-6\" type=\"checkbox\" checked><label for=\"sk-estimator-id-6\" class=\"sk-toggleable__label sk-toggleable__label-arrow\">LinearRegression</label><div class=\"sk-toggleable__content\"><pre>LinearRegression()</pre></div></div></div></div></div>"
            ]
          },
          "metadata": {},
          "execution_count": 76
        }
      ]
    },
    {
      "cell_type": "code",
      "source": [
        "#Verificamos los coeficientes obtenidos para el modelo ajustado\n",
        "model.__dict__"
      ],
      "metadata": {
        "colab": {
          "base_uri": "https://localhost:8080/"
        },
        "outputId": "c15e9d72-6280-42d4-9d1e-bbf8d3050553",
        "id": "uHD8HjiqG9IM"
      },
      "execution_count": null,
      "outputs": [
        {
          "output_type": "execute_result",
          "data": {
            "text/plain": [
              "{'fit_intercept': True,\n",
              " 'copy_X': True,\n",
              " 'n_jobs': None,\n",
              " 'positive': False,\n",
              " 'feature_names_in_': array(['availability_365', 'host_response_rate', 'number_of_reviews',\n",
              "        'accommodates'], dtype=object),\n",
              " 'n_features_in_': 4,\n",
              " 'coef_': array([ 0.10033816, 25.11600715, -0.40161139, 12.03650053]),\n",
              " 'rank_': 4,\n",
              " 'singular_': array([829.71126569, 202.06547202,  10.98705401,   2.9008796 ]),\n",
              " 'intercept_': 68.48315687449826}"
            ]
          },
          "metadata": {},
          "execution_count": 77
        }
      ]
    },
    {
      "cell_type": "markdown",
      "source": [
        "**Modelo matemático: y= 0.10033816x1 + 25.11600715x2 + -0.40161139x3 + 12.03650053x4 + 68.48315687449826**"
      ],
      "metadata": {
        "id": "Ylcah516G9IM"
      }
    },
    {
      "cell_type": "code",
      "source": [
        "#Corroboramos cual es el coeficiente de Determinación de nuestro modelo\n",
        "coef_Deter5=model.score(X=Vars_Indep, y=Var_Dep)\n",
        "coef_Deter5"
      ],
      "metadata": {
        "colab": {
          "base_uri": "https://localhost:8080/"
        },
        "outputId": "a2cdc6cc-d981-42cc-fc3b-7dbd57da09e3",
        "id": "dYfBpcFCG9IM"
      },
      "execution_count": null,
      "outputs": [
        {
          "output_type": "execute_result",
          "data": {
            "text/plain": [
              "0.13844584522568193"
            ]
          },
          "metadata": {},
          "execution_count": 78
        }
      ]
    },
    {
      "cell_type": "code",
      "source": [
        "#Corroboramos cual es el coeficiente de Correlación de nuestro modelo\n",
        "coef_Correl5=np.sqrt(coef_Deter5)\n",
        "coef_Correl5"
      ],
      "metadata": {
        "colab": {
          "base_uri": "https://localhost:8080/"
        },
        "outputId": "248c67a8-f254-4f87-ed0a-e1eb630671be",
        "id": "lXvO7DV2G9IM"
      },
      "execution_count": null,
      "outputs": [
        {
          "output_type": "execute_result",
          "data": {
            "text/plain": [
              "0.3720831160180235"
            ]
          },
          "metadata": {},
          "execution_count": 79
        }
      ]
    },
    {
      "cell_type": "code",
      "source": [
        "det.append(coef_Deter5)\n",
        "corr.append(np.sqrt(coef_Correl5))\n",
        "Ta_V.append(\"Hotel room / Price vs availability_365, host_response_rate, number_of_reviews, accommodates\")"
      ],
      "metadata": {
        "id": "9NcE9T9mG9IM"
      },
      "execution_count": null,
      "outputs": []
    },
    {
      "cell_type": "markdown",
      "source": [
        "### **host_acceptance_rate vs number_of_reviews,review_scores_cleanliness,review_scores_communication**"
      ],
      "metadata": {
        "id": "CprFfFIoG9IM"
      }
    },
    {
      "cell_type": "code",
      "source": [
        "from sklearn.metrics.pairwise import haversine_distances\n",
        "from turtle import color\n",
        "\n",
        "sns.scatterplot(x='number_of_reviews', y='host_acceptance_rate', color=\"red\", data=HR_España)\n",
        "sns.scatterplot(x='review_scores_cleanliness', y='host_acceptance_rate', color=\"blue\", data=HR_España)\n",
        "sns.scatterplot(x='review_scores_communication', y='host_acceptance_rate', color=\"green\", data=HR_España)"
      ],
      "metadata": {
        "colab": {
          "base_uri": "https://localhost:8080/",
          "height": 468
        },
        "outputId": "37c16e99-fcaa-4e8d-df26-ae1c965b5362",
        "id": "pXA7it9DG9IM"
      },
      "execution_count": null,
      "outputs": [
        {
          "output_type": "execute_result",
          "data": {
            "text/plain": [
              "<Axes: xlabel='number_of_reviews', ylabel='host_acceptance_rate'>"
            ]
          },
          "metadata": {},
          "execution_count": 81
        },
        {
          "output_type": "display_data",
          "data": {
            "text/plain": [
              "<Figure size 640x480 with 1 Axes>"
            ],
            "image/png": "[encoded data removed]"
          },
          "metadata": {}
        }
      ]
    },
    {
      "cell_type": "code",
      "source": [
        "#Declaramos las variables dependientes e independientes para la regresión lineal\n",
        "Vars_Indep= HR_España[['number_of_reviews','review_scores_cleanliness','review_scores_communication']]\n",
        "Var_Dep= HR_España['host_acceptance_rate']"
      ],
      "metadata": {
        "id": "bMrfISiSG9IM"
      },
      "execution_count": null,
      "outputs": []
    },
    {
      "cell_type": "code",
      "source": [
        "#Se define model como la función de regresión lineal\n",
        "from sklearn.linear_model import LinearRegression\n",
        "model= LinearRegression()"
      ],
      "metadata": {
        "id": "gNGfC_6PG9IM"
      },
      "execution_count": null,
      "outputs": []
    },
    {
      "cell_type": "code",
      "source": [
        "#Verificamos la función relacionada al modelo\n",
        "type(model)"
      ],
      "metadata": {
        "colab": {
          "base_uri": "https://localhost:8080/"
        },
        "outputId": "c6a188d1-499f-4fbe-c140-61a973fe8ed5",
        "id": "RJ7mjonEG9IM"
      },
      "execution_count": null,
      "outputs": [
        {
          "output_type": "execute_result",
          "data": {
            "text/plain": [
              "sklearn.linear_model._base.LinearRegression"
            ]
          },
          "metadata": {},
          "execution_count": 84
        }
      ]
    },
    {
      "cell_type": "code",
      "source": [
        "#Ajustamos el modelo con las variables antes declaradas\n",
        "model.fit(X=Vars_Indep, y=Var_Dep)"
      ],
      "metadata": {
        "colab": {
          "base_uri": "https://localhost:8080/",
          "height": 75
        },
        "outputId": "d3f24775-8362-412f-b633-0a654d5e3db1",
        "id": "0tmi_XNjG9IM"
      },
      "execution_count": null,
      "outputs": [
        {
          "output_type": "execute_result",
          "data": {
            "text/plain": [
              "LinearRegression()"
            ],
            "text/html": [
              "<style>#sk-container-id-7 {color: black;background-color: white;}#sk-container-id-7 pre{padding: 0;}#sk-container-id-7 div.sk-toggleable {background-color: white;}#sk-container-id-7 label.sk-toggleable__label {cursor: pointer;display: block;width: 100%;margin-bottom: 0;padding: 0.3em;box-sizing: border-box;text-align: center;}#sk-container-id-7 label.sk-toggleable__label-arrow:before {content: \"▸\";float: left;margin-right: 0.25em;color: #696969;}#sk-container-id-7 label.sk-toggleable__label-arrow:hover:before {color: black;}#sk-container-id-7 div.sk-estimator:hover label.sk-toggleable__label-arrow:before {color: black;}#sk-container-id-7 div.sk-toggleable__content {max-height: 0;max-width: 0;overflow: hidden;text-align: left;background-color: #f0f8ff;}#sk-container-id-7 div.sk-toggleable__content pre {margin: 0.2em;color: black;border-radius: 0.25em;background-color: #f0f8ff;}#sk-container-id-7 input.sk-toggleable__control:checked~div.sk-toggleable__content {max-height: 200px;max-width: 100%;overflow: auto;}#sk-container-id-7 input.sk-toggleable__control:checked~label.sk-toggleable__label-arrow:before {content: \"▾\";}#sk-container-id-7 div.sk-estimator input.sk-toggleable__control:checked~label.sk-toggleable__label {background-color: #d4ebff;}#sk-container-id-7 div.sk-label input.sk-toggleable__control:checked~label.sk-toggleable__label {background-color: #d4ebff;}#sk-container-id-7 input.sk-hidden--visually {border: 0;clip: rect(1px 1px 1px 1px);clip: rect(1px, 1px, 1px, 1px);height: 1px;margin: -1px;overflow: hidden;padding: 0;position: absolute;width: 1px;}#sk-container-id-7 div.sk-estimator {font-family: monospace;background-color: #f0f8ff;border: 1px dotted black;border-radius: 0.25em;box-sizing: border-box;margin-bottom: 0.5em;}#sk-container-id-7 div.sk-estimator:hover {background-color: #d4ebff;}#sk-container-id-7 div.sk-parallel-item::after {content: \"\";width: 100%;border-bottom: 1px solid gray;flex-grow: 1;}#sk-container-id-7 div.sk-label:hover label.sk-toggleable__label {background-color: #d4ebff;}#sk-container-id-7 div.sk-serial::before {content: \"\";position: absolute;border-left: 1px solid gray;box-sizing: border-box;top: 0;bottom: 0;left: 50%;z-index: 0;}#sk-container-id-7 div.sk-serial {display: flex;flex-direction: column;align-items: center;background-color: white;padding-right: 0.2em;padding-left: 0.2em;position: relative;}#sk-container-id-7 div.sk-item {position: relative;z-index: 1;}#sk-container-id-7 div.sk-parallel {display: flex;align-items: stretch;justify-content: center;background-color: white;position: relative;}#sk-container-id-7 div.sk-item::before, #sk-container-id-7 div.sk-parallel-item::before {content: \"\";position: absolute;border-left: 1px solid gray;box-sizing: border-box;top: 0;bottom: 0;left: 50%;z-index: -1;}#sk-container-id-7 div.sk-parallel-item {display: flex;flex-direction: column;z-index: 1;position: relative;background-color: white;}#sk-container-id-7 div.sk-parallel-item:first-child::after {align-self: flex-end;width: 50%;}#sk-container-id-7 div.sk-parallel-item:last-child::after {align-self: flex-start;width: 50%;}#sk-container-id-7 div.sk-parallel-item:only-child::after {width: 0;}#sk-container-id-7 div.sk-dashed-wrapped {border: 1px dashed gray;margin: 0 0.4em 0.5em 0.4em;box-sizing: border-box;padding-bottom: 0.4em;background-color: white;}#sk-container-id-7 div.sk-label label {font-family: monospace;font-weight: bold;display: inline-block;line-height: 1.2em;}#sk-container-id-7 div.sk-label-container {text-align: center;}#sk-container-id-7 div.sk-container {/* jupyter's `normalize.less` sets `[hidden] { display: none; }` but bootstrap.min.css set `[hidden] { display: none !important; }` so we also need the `!important` here to be able to override the default hidden behavior on the sphinx rendered scikit-learn.org. See: https://github.com/scikit-learn/scikit-learn/issues/21755 */display: inline-block !important;position: relative;}#sk-container-id-7 div.sk-text-repr-fallback {display: none;}</style><div id=\"sk-container-id-7\" class=\"sk-top-container\"><div class=\"sk-text-repr-fallback\"><pre>LinearRegression()</pre><b>In a Jupyter environment, please rerun this cell to show the HTML representation or trust the notebook. <br />On GitHub, the HTML representation is unable to render, please try loading this page with nbviewer.org.</b></div><div class=\"sk-container\" hidden><div class=\"sk-item\"><div class=\"sk-estimator sk-toggleable\"><input class=\"sk-toggleable__control sk-hidden--visually\" id=\"sk-estimator-id-7\" type=\"checkbox\" checked><label for=\"sk-estimator-id-7\" class=\"sk-toggleable__label sk-toggleable__label-arrow\">LinearRegression</label><div class=\"sk-toggleable__content\"><pre>LinearRegression()</pre></div></div></div></div></div>"
            ]
          },
          "metadata": {},
          "execution_count": 85
        }
      ]
    },
    {
      "cell_type": "code",
      "source": [
        "#Verificamos los coeficientes obtenidos para el modelo ajustado\n",
        "model.__dict__"
      ],
      "metadata": {
        "colab": {
          "base_uri": "https://localhost:8080/"
        },
        "outputId": "91181032-e1f5-4ff0-ffe9-ce66e77412ed",
        "id": "J6yhHTmzG9IM"
      },
      "execution_count": null,
      "outputs": [
        {
          "output_type": "execute_result",
          "data": {
            "text/plain": [
              "{'fit_intercept': True,\n",
              " 'copy_X': True,\n",
              " 'n_jobs': None,\n",
              " 'positive': False,\n",
              " 'feature_names_in_': array(['number_of_reviews', 'review_scores_cleanliness',\n",
              "        'review_scores_communication'], dtype=object),\n",
              " 'n_features_in_': 3,\n",
              " 'coef_': array([-0.00017812,  0.09018574, -0.01953892]),\n",
              " 'rank_': 3,\n",
              " 'singular_': array([222.96246389,  19.68869996,   1.21564639]),\n",
              " 'intercept_': 0.49898194780112615}"
            ]
          },
          "metadata": {},
          "execution_count": 86
        }
      ]
    },
    {
      "cell_type": "markdown",
      "source": [
        "**Modelo matemático: y= -0.00017812x1 + 0.09018574x2 + -0.01953892x3 + 0.49898194780112615**"
      ],
      "metadata": {
        "id": "cpCie_wbG9IM"
      }
    },
    {
      "cell_type": "code",
      "source": [
        "#Corroboramos cual es el coeficiente de Determinación de nuestro modelo\n",
        "coef_Deter6=model.score(X=Vars_Indep, y=Var_Dep)\n",
        "coef_Deter6"
      ],
      "metadata": {
        "colab": {
          "base_uri": "https://localhost:8080/"
        },
        "outputId": "3be784a1-11cb-44c3-94a3-99333ddaee6e",
        "id": "co1m18FaG9IN"
      },
      "execution_count": null,
      "outputs": [
        {
          "output_type": "execute_result",
          "data": {
            "text/plain": [
              "0.13527806185297586"
            ]
          },
          "metadata": {},
          "execution_count": 87
        }
      ]
    },
    {
      "cell_type": "code",
      "source": [
        "#Corroboramos cual es el coeficiente de Correlación de nuestro modelo\n",
        "coef_Correl6=np.sqrt(coef_Deter6)\n",
        "coef_Correl6"
      ],
      "metadata": {
        "colab": {
          "base_uri": "https://localhost:8080/"
        },
        "outputId": "cb787984-1145-4a85-ccce-3b25f8214e15",
        "id": "ncopzYo9G9IN"
      },
      "execution_count": null,
      "outputs": [
        {
          "output_type": "execute_result",
          "data": {
            "text/plain": [
              "0.3678016610253084"
            ]
          },
          "metadata": {},
          "execution_count": 88
        }
      ]
    },
    {
      "cell_type": "code",
      "source": [
        "det.append(coef_Deter6)\n",
        "corr.append(np.sqrt(coef_Correl6))\n",
        "Ta_V.append(\"Hotel room / host_acceptance_rate vs number_of_reviews,review_scores_cleanliness,review_scores_communication\")"
      ],
      "metadata": {
        "id": "NrEZsI9TG9IN"
      },
      "execution_count": null,
      "outputs": []
    },
    {
      "cell_type": "markdown",
      "source": [
        "## **Tabla**"
      ],
      "metadata": {
        "id": "6ZYXOVf3GjwB"
      }
    },
    {
      "cell_type": "code",
      "source": [
        "tabla = pd.DataFrame()\n",
        "tabla['Tipo de habitación y Variables'] = Ta_V\n",
        "tabla['Coef. Determinación'] = det\n",
        "tabla['Coef. Correlación'] = corr\n",
        "tabla"
      ],
      "metadata": {
        "colab": {
          "base_uri": "https://localhost:8080/",
          "height": 238
        },
        "id": "pCdSty89IU-M",
        "outputId": "d10258f0-ff3a-4baa-a5bd-712139b5e6c5"
      },
      "execution_count": null,
      "outputs": [
        {
          "output_type": "execute_result",
          "data": {
            "text/plain": [
              "                      Tipo de habitación y Variables  Coef. Determinación  \\\n",
              "0  Private room / host_acceptance_rate vs host_re...             0.296890   \n",
              "1  Private room / Price vs availability_365, host...             0.023024   \n",
              "2  Private room / host_acceptance_rate vs number_...             0.000533   \n",
              "3  Hotel room / host_acceptance_rate vs host_resp...             0.636155   \n",
              "4  Hotel room / Price vs availability_365, host_r...             0.138446   \n",
              "5  Hotel room / host_acceptance_rate vs number_of...             0.135278   \n",
              "\n",
              "   Coef. Correlación  \n",
              "0           0.738157  \n",
              "1           0.389536  \n",
              "2           0.151908  \n",
              "3           0.893081  \n",
              "4           0.609986  \n",
              "5           0.606467  "
            ],
            "text/html": [
              "\n",
              "  <div id=\"df-936083b0-5c99-4f77-aef9-acb1493d3dd3\">\n",
              "    <div class=\"colab-df-container\">\n",
              "      <div>\n",
              "<style scoped>\n",
              "    .dataframe tbody tr th:only-of-type {\n",
              "        vertical-align: middle;\n",
              "    }\n",
              "\n",
              "    .dataframe tbody tr th {\n",
              "        vertical-align: top;\n",
              "    }\n",
              "\n",
              "    .dataframe thead th {\n",
              "        text-align: right;\n",
              "    }\n",
              "</style>\n",
              "<table border=\"1\" class=\"dataframe\">\n",
              "  <thead>\n",
              "    <tr style=\"text-align: right;\">\n",
              "      <th></th>\n",
              "      <th>Tipo de habitación y Variables</th>\n",
              "      <th>Coef. Determinación</th>\n",
              "      <th>Coef. Correlación</th>\n",
              "    </tr>\n",
              "  </thead>\n",
              "  <tbody>\n",
              "    <tr>\n",
              "      <th>0</th>\n",
              "      <td>Private room / host_acceptance_rate vs host_re...</td>\n",
              "      <td>0.296890</td>\n",
              "      <td>0.738157</td>\n",
              "    </tr>\n",
              "    <tr>\n",
              "      <th>1</th>\n",
              "      <td>Private room / Price vs availability_365, host...</td>\n",
              "      <td>0.023024</td>\n",
              "      <td>0.389536</td>\n",
              "    </tr>\n",
              "    <tr>\n",
              "      <th>2</th>\n",
              "      <td>Private room / host_acceptance_rate vs number_...</td>\n",
              "      <td>0.000533</td>\n",
              "      <td>0.151908</td>\n",
              "    </tr>\n",
              "    <tr>\n",
              "      <th>3</th>\n",
              "      <td>Hotel room / host_acceptance_rate vs host_resp...</td>\n",
              "      <td>0.636155</td>\n",
              "      <td>0.893081</td>\n",
              "    </tr>\n",
              "    <tr>\n",
              "      <th>4</th>\n",
              "      <td>Hotel room / Price vs availability_365, host_r...</td>\n",
              "      <td>0.138446</td>\n",
              "      <td>0.609986</td>\n",
              "    </tr>\n",
              "    <tr>\n",
              "      <th>5</th>\n",
              "      <td>Hotel room / host_acceptance_rate vs number_of...</td>\n",
              "      <td>0.135278</td>\n",
              "      <td>0.606467</td>\n",
              "    </tr>\n",
              "  </tbody>\n",
              "</table>\n",
              "</div>\n",
              "      <button class=\"colab-df-convert\" onclick=\"convertToInteractive('df-936083b0-5c99-4f77-aef9-acb1493d3dd3')\"\n",
              "              title=\"Convert this dataframe to an interactive table.\"\n",
              "              style=\"display:none;\">\n",
              "        \n",
              "  <svg xmlns=\"http://www.w3.org/2000/svg\" height=\"24px\"viewBox=\"0 0 24 24\"\n",
              "       width=\"24px\">\n",
              "    <path d=\"M0 0h24v24H0V0z\" fill=\"none\"/>\n",
              "    <path d=\"M18.56 5.44l.94 2.06.94-2.06 2.06-.94-2.06-.94-.94-2.06-.94 2.06-2.06.94zm-11 1L8.5 8.5l.94-2.06 2.06-.94-2.06-.94L8.5 2.5l-.94 2.06-2.06.94zm10 10l.94 2.06.94-2.06 2.06-.94-2.06-.94-.94-2.06-.94 2.06-2.06.94z\"/><path d=\"M17.41 7.96l-1.37-1.37c-.4-.4-.92-.59-1.43-.59-.52 0-1.04.2-1.43.59L10.3 9.45l-7.72 7.72c-.78.78-.78 2.05 0 2.83L4 21.41c.39.39.9.59 1.41.59.51 0 1.02-.2 1.41-.59l7.78-7.78 2.81-2.81c.8-.78.8-2.07 0-2.86zM5.41 20L4 18.59l7.72-7.72 1.47 1.35L5.41 20z\"/>\n",
              "  </svg>\n",
              "      </button>\n",
              "      \n",
              "  <style>\n",
              "    .colab-df-container {\n",
              "      display:flex;\n",
              "      flex-wrap:wrap;\n",
              "      gap: 12px;\n",
              "    }\n",
              "\n",
              "    .colab-df-convert {\n",
              "      background-color: #E8F0FE;\n",
              "      border: none;\n",
              "      border-radius: 50%;\n",
              "      cursor: pointer;\n",
              "      display: none;\n",
              "      fill: #1967D2;\n",
              "      height: 32px;\n",
              "      padding: 0 0 0 0;\n",
              "      width: 32px;\n",
              "    }\n",
              "\n",
              "    .colab-df-convert:hover {\n",
              "      background-color: #E2EBFA;\n",
              "      box-shadow: 0px 1px 2px rgba(60, 64, 67, 0.3), 0px 1px 3px 1px rgba(60, 64, 67, 0.15);\n",
              "      fill: #174EA6;\n",
              "    }\n",
              "\n",
              "    [theme=dark] .colab-df-convert {\n",
              "      background-color: #3B4455;\n",
              "      fill: #D2E3FC;\n",
              "    }\n",
              "\n",
              "    [theme=dark] .colab-df-convert:hover {\n",
              "      background-color: #434B5C;\n",
              "      box-shadow: 0px 1px 3px 1px rgba(0, 0, 0, 0.15);\n",
              "      filter: drop-shadow(0px 1px 2px rgba(0, 0, 0, 0.3));\n",
              "      fill: #FFFFFF;\n",
              "    }\n",
              "  </style>\n",
              "\n",
              "      <script>\n",
              "        const buttonEl =\n",
              "          document.querySelector('#df-936083b0-5c99-4f77-aef9-acb1493d3dd3 button.colab-df-convert');\n",
              "        buttonEl.style.display =\n",
              "          google.colab.kernel.accessAllowed ? 'block' : 'none';\n",
              "\n",
              "        async function convertToInteractive(key) {\n",
              "          const element = document.querySelector('#df-936083b0-5c99-4f77-aef9-acb1493d3dd3');\n",
              "          const dataTable =\n",
              "            await google.colab.kernel.invokeFunction('convertToInteractive',\n",
              "                                                     [key], {});\n",
              "          if (!dataTable) return;\n",
              "\n",
              "          const docLinkHtml = 'Like what you see? Visit the ' +\n",
              "            '<a target=\"_blank\" href=https://colab.research.google.com/notebooks/data_table.ipynb>data table notebook</a>'\n",
              "            + ' to learn more about interactive tables.';\n",
              "          element.innerHTML = '';\n",
              "          dataTable['output_type'] = 'display_data';\n",
              "          await google.colab.output.renderOutput(dataTable, element);\n",
              "          const docLink = document.createElement('div');\n",
              "          docLink.innerHTML = docLinkHtml;\n",
              "          element.appendChild(docLink);\n",
              "        }\n",
              "      </script>\n",
              "    </div>\n",
              "  </div>\n",
              "  "
            ]
          },
          "metadata": {},
          "execution_count": 90
        }
      ]
    }
  ]
}