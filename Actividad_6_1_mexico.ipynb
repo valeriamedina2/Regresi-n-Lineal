{
  "cells": [
    {
      "cell_type": "markdown",
      "metadata": {
        "id": "view-in-github",
        "colab_type": "text"
      },
      "source": [
        "<a href=\"https://colab.research.google.com/github/valeriamedina2/Regresi-n-Lineal/blob/main/Actividad_6_1_mexico.ipynb\" target=\"_parent\"><img src=\"https://colab.research.google.com/assets/colab-badge.svg\" alt=\"Open In Colab\"/></a>"
      ]
    },
    {
      "cell_type": "code",
      "execution_count": 68,
      "metadata": {
        "id": "GrstccILE1HC"
      },
      "outputs": [],
      "source": [
        "import pandas as pd\n",
        "import numpy as np\n",
        "import matplotlib.pyplot as plt\n",
        "import seaborn as sns"
      ]
    },
    {
      "cell_type": "code",
      "execution_count": 69,
      "metadata": {
        "id": "E5vldKTfvhsG",
        "colab": {
          "base_uri": "https://localhost:8080/",
          "height": 629
        },
        "outputId": "72e3761b-49f2-420f-a9c0-bd90f6b23688"
      },
      "outputs": [
        {
          "output_type": "execute_result",
          "data": {
            "text/plain": [
              "   Unnamed: 0       id  host_listings_count  latitude  longitude  \\\n",
              "0           0  2056638                    3  19.35353  -99.16299   \n",
              "1           1  2072354                    3  19.35358  -99.16948   \n",
              "2           2   696037                    4  19.44180  -99.18402   \n",
              "3           3    35797                    1  19.38283  -99.27178   \n",
              "4           4    44616                   16  19.41162  -99.17794   \n",
              "\n",
              "   accommodates  bathrooms  bedrooms  beds       price  ...  bathrooms_text  \\\n",
              "0           3.0        0.0       1.0   1.0   $1,434.00  ...       1.5 baths   \n",
              "1           2.0        0.0       1.0   1.0     $830.00  ...          1 bath   \n",
              "2           6.0        0.0       3.0   3.0   $1,469.00  ...         2 baths   \n",
              "3           2.0        0.0       1.0   1.0   $3,658.00  ...          1 bath   \n",
              "4          14.0        0.0       5.0   8.0  $18,000.00  ...       5.5 baths   \n",
              "\n",
              "   bedrooms.1                                          amenities  \\\n",
              "0         1.0  [\"Wifi\", \"Hangers\", \"Fire extinguisher\", \"Sham...   \n",
              "1         1.0  [\"Free street parking\", \"Cleaning products\", \"...   \n",
              "2         3.0  [\"Wifi \\u2013 38 Mbps\", \"Central air condition...   \n",
              "3         1.0  [\"Wifi\", \"Washer\", \"BBQ grill\", \"Indoor firepl...   \n",
              "4         5.0  [\"Free street parking\", \"Security cameras on p...   \n",
              "\n",
              "   calendar_updated.1  has_availability  calendar_last_scraped  first_review  \\\n",
              "0                  --                 t             2023-03-30    2014-01-03   \n",
              "1                  --                 t             2023-03-30    2014-01-01   \n",
              "2                  --                 t             2023-03-29    2012-10-31   \n",
              "3                  --                 t             2023-03-29            --   \n",
              "4                  --                 t             2023-03-30    2011-11-09   \n",
              "\n",
              "   last_review license  instant_bookable  \n",
              "0   2018-06-24     0.0                 f  \n",
              "1   2022-11-04     0.0                 f  \n",
              "2   2022-12-21     0.0                 f  \n",
              "3           --     0.0                 f  \n",
              "4   2023-03-26     0.0                 f  \n",
              "\n",
              "[5 rows x 77 columns]"
            ],
            "text/html": [
              "\n",
              "  <div id=\"df-1033da4a-7914-4d04-afb4-42d9c40c4e72\">\n",
              "    <div class=\"colab-df-container\">\n",
              "      <div>\n",
              "<style scoped>\n",
              "    .dataframe tbody tr th:only-of-type {\n",
              "        vertical-align: middle;\n",
              "    }\n",
              "\n",
              "    .dataframe tbody tr th {\n",
              "        vertical-align: top;\n",
              "    }\n",
              "\n",
              "    .dataframe thead th {\n",
              "        text-align: right;\n",
              "    }\n",
              "</style>\n",
              "<table border=\"1\" class=\"dataframe\">\n",
              "  <thead>\n",
              "    <tr style=\"text-align: right;\">\n",
              "      <th></th>\n",
              "      <th>Unnamed: 0</th>\n",
              "      <th>id</th>\n",
              "      <th>host_listings_count</th>\n",
              "      <th>latitude</th>\n",
              "      <th>longitude</th>\n",
              "      <th>accommodates</th>\n",
              "      <th>bathrooms</th>\n",
              "      <th>bedrooms</th>\n",
              "      <th>beds</th>\n",
              "      <th>price</th>\n",
              "      <th>...</th>\n",
              "      <th>bathrooms_text</th>\n",
              "      <th>bedrooms.1</th>\n",
              "      <th>amenities</th>\n",
              "      <th>calendar_updated.1</th>\n",
              "      <th>has_availability</th>\n",
              "      <th>calendar_last_scraped</th>\n",
              "      <th>first_review</th>\n",
              "      <th>last_review</th>\n",
              "      <th>license</th>\n",
              "      <th>instant_bookable</th>\n",
              "    </tr>\n",
              "  </thead>\n",
              "  <tbody>\n",
              "    <tr>\n",
              "      <th>0</th>\n",
              "      <td>0</td>\n",
              "      <td>2056638</td>\n",
              "      <td>3</td>\n",
              "      <td>19.35353</td>\n",
              "      <td>-99.16299</td>\n",
              "      <td>3.0</td>\n",
              "      <td>0.0</td>\n",
              "      <td>1.0</td>\n",
              "      <td>1.0</td>\n",
              "      <td>$1,434.00</td>\n",
              "      <td>...</td>\n",
              "      <td>1.5 baths</td>\n",
              "      <td>1.0</td>\n",
              "      <td>[\"Wifi\", \"Hangers\", \"Fire extinguisher\", \"Sham...</td>\n",
              "      <td>--</td>\n",
              "      <td>t</td>\n",
              "      <td>2023-03-30</td>\n",
              "      <td>2014-01-03</td>\n",
              "      <td>2018-06-24</td>\n",
              "      <td>0.0</td>\n",
              "      <td>f</td>\n",
              "    </tr>\n",
              "    <tr>\n",
              "      <th>1</th>\n",
              "      <td>1</td>\n",
              "      <td>2072354</td>\n",
              "      <td>3</td>\n",
              "      <td>19.35358</td>\n",
              "      <td>-99.16948</td>\n",
              "      <td>2.0</td>\n",
              "      <td>0.0</td>\n",
              "      <td>1.0</td>\n",
              "      <td>1.0</td>\n",
              "      <td>$830.00</td>\n",
              "      <td>...</td>\n",
              "      <td>1 bath</td>\n",
              "      <td>1.0</td>\n",
              "      <td>[\"Free street parking\", \"Cleaning products\", \"...</td>\n",
              "      <td>--</td>\n",
              "      <td>t</td>\n",
              "      <td>2023-03-30</td>\n",
              "      <td>2014-01-01</td>\n",
              "      <td>2022-11-04</td>\n",
              "      <td>0.0</td>\n",
              "      <td>f</td>\n",
              "    </tr>\n",
              "    <tr>\n",
              "      <th>2</th>\n",
              "      <td>2</td>\n",
              "      <td>696037</td>\n",
              "      <td>4</td>\n",
              "      <td>19.44180</td>\n",
              "      <td>-99.18402</td>\n",
              "      <td>6.0</td>\n",
              "      <td>0.0</td>\n",
              "      <td>3.0</td>\n",
              "      <td>3.0</td>\n",
              "      <td>$1,469.00</td>\n",
              "      <td>...</td>\n",
              "      <td>2 baths</td>\n",
              "      <td>3.0</td>\n",
              "      <td>[\"Wifi \\u2013 38 Mbps\", \"Central air condition...</td>\n",
              "      <td>--</td>\n",
              "      <td>t</td>\n",
              "      <td>2023-03-29</td>\n",
              "      <td>2012-10-31</td>\n",
              "      <td>2022-12-21</td>\n",
              "      <td>0.0</td>\n",
              "      <td>f</td>\n",
              "    </tr>\n",
              "    <tr>\n",
              "      <th>3</th>\n",
              "      <td>3</td>\n",
              "      <td>35797</td>\n",
              "      <td>1</td>\n",
              "      <td>19.38283</td>\n",
              "      <td>-99.27178</td>\n",
              "      <td>2.0</td>\n",
              "      <td>0.0</td>\n",
              "      <td>1.0</td>\n",
              "      <td>1.0</td>\n",
              "      <td>$3,658.00</td>\n",
              "      <td>...</td>\n",
              "      <td>1 bath</td>\n",
              "      <td>1.0</td>\n",
              "      <td>[\"Wifi\", \"Washer\", \"BBQ grill\", \"Indoor firepl...</td>\n",
              "      <td>--</td>\n",
              "      <td>t</td>\n",
              "      <td>2023-03-29</td>\n",
              "      <td>--</td>\n",
              "      <td>--</td>\n",
              "      <td>0.0</td>\n",
              "      <td>f</td>\n",
              "    </tr>\n",
              "    <tr>\n",
              "      <th>4</th>\n",
              "      <td>4</td>\n",
              "      <td>44616</td>\n",
              "      <td>16</td>\n",
              "      <td>19.41162</td>\n",
              "      <td>-99.17794</td>\n",
              "      <td>14.0</td>\n",
              "      <td>0.0</td>\n",
              "      <td>5.0</td>\n",
              "      <td>8.0</td>\n",
              "      <td>$18,000.00</td>\n",
              "      <td>...</td>\n",
              "      <td>5.5 baths</td>\n",
              "      <td>5.0</td>\n",
              "      <td>[\"Free street parking\", \"Security cameras on p...</td>\n",
              "      <td>--</td>\n",
              "      <td>t</td>\n",
              "      <td>2023-03-30</td>\n",
              "      <td>2011-11-09</td>\n",
              "      <td>2023-03-26</td>\n",
              "      <td>0.0</td>\n",
              "      <td>f</td>\n",
              "    </tr>\n",
              "  </tbody>\n",
              "</table>\n",
              "<p>5 rows × 77 columns</p>\n",
              "</div>\n",
              "      <button class=\"colab-df-convert\" onclick=\"convertToInteractive('df-1033da4a-7914-4d04-afb4-42d9c40c4e72')\"\n",
              "              title=\"Convert this dataframe to an interactive table.\"\n",
              "              style=\"display:none;\">\n",
              "        \n",
              "  <svg xmlns=\"http://www.w3.org/2000/svg\" height=\"24px\"viewBox=\"0 0 24 24\"\n",
              "       width=\"24px\">\n",
              "    <path d=\"M0 0h24v24H0V0z\" fill=\"none\"/>\n",
              "    <path d=\"M18.56 5.44l.94 2.06.94-2.06 2.06-.94-2.06-.94-.94-2.06-.94 2.06-2.06.94zm-11 1L8.5 8.5l.94-2.06 2.06-.94-2.06-.94L8.5 2.5l-.94 2.06-2.06.94zm10 10l.94 2.06.94-2.06 2.06-.94-2.06-.94-.94-2.06-.94 2.06-2.06.94z\"/><path d=\"M17.41 7.96l-1.37-1.37c-.4-.4-.92-.59-1.43-.59-.52 0-1.04.2-1.43.59L10.3 9.45l-7.72 7.72c-.78.78-.78 2.05 0 2.83L4 21.41c.39.39.9.59 1.41.59.51 0 1.02-.2 1.41-.59l7.78-7.78 2.81-2.81c.8-.78.8-2.07 0-2.86zM5.41 20L4 18.59l7.72-7.72 1.47 1.35L5.41 20z\"/>\n",
              "  </svg>\n",
              "      </button>\n",
              "      \n",
              "  <style>\n",
              "    .colab-df-container {\n",
              "      display:flex;\n",
              "      flex-wrap:wrap;\n",
              "      gap: 12px;\n",
              "    }\n",
              "\n",
              "    .colab-df-convert {\n",
              "      background-color: #E8F0FE;\n",
              "      border: none;\n",
              "      border-radius: 50%;\n",
              "      cursor: pointer;\n",
              "      display: none;\n",
              "      fill: #1967D2;\n",
              "      height: 32px;\n",
              "      padding: 0 0 0 0;\n",
              "      width: 32px;\n",
              "    }\n",
              "\n",
              "    .colab-df-convert:hover {\n",
              "      background-color: #E2EBFA;\n",
              "      box-shadow: 0px 1px 2px rgba(60, 64, 67, 0.3), 0px 1px 3px 1px rgba(60, 64, 67, 0.15);\n",
              "      fill: #174EA6;\n",
              "    }\n",
              "\n",
              "    [theme=dark] .colab-df-convert {\n",
              "      background-color: #3B4455;\n",
              "      fill: #D2E3FC;\n",
              "    }\n",
              "\n",
              "    [theme=dark] .colab-df-convert:hover {\n",
              "      background-color: #434B5C;\n",
              "      box-shadow: 0px 1px 3px 1px rgba(0, 0, 0, 0.15);\n",
              "      filter: drop-shadow(0px 1px 2px rgba(0, 0, 0, 0.3));\n",
              "      fill: #FFFFFF;\n",
              "    }\n",
              "  </style>\n",
              "\n",
              "      <script>\n",
              "        const buttonEl =\n",
              "          document.querySelector('#df-1033da4a-7914-4d04-afb4-42d9c40c4e72 button.colab-df-convert');\n",
              "        buttonEl.style.display =\n",
              "          google.colab.kernel.accessAllowed ? 'block' : 'none';\n",
              "\n",
              "        async function convertToInteractive(key) {\n",
              "          const element = document.querySelector('#df-1033da4a-7914-4d04-afb4-42d9c40c4e72');\n",
              "          const dataTable =\n",
              "            await google.colab.kernel.invokeFunction('convertToInteractive',\n",
              "                                                     [key], {});\n",
              "          if (!dataTable) return;\n",
              "\n",
              "          const docLinkHtml = 'Like what you see? Visit the ' +\n",
              "            '<a target=\"_blank\" href=https://colab.research.google.com/notebooks/data_table.ipynb>data table notebook</a>'\n",
              "            + ' to learn more about interactive tables.';\n",
              "          element.innerHTML = '';\n",
              "          dataTable['output_type'] = 'display_data';\n",
              "          await google.colab.output.renderOutput(dataTable, element);\n",
              "          const docLink = document.createElement('div');\n",
              "          docLink.innerHTML = docLinkHtml;\n",
              "          element.appendChild(docLink);\n",
              "        }\n",
              "      </script>\n",
              "    </div>\n",
              "  </div>\n",
              "  "
            ]
          },
          "metadata": {},
          "execution_count": 69
        }
      ],
      "source": [
        "df= pd.read_csv(\"valores_nulos_mexico.csv\")\n",
        "df.head(5)"
      ]
    },
    {
      "cell_type": "code",
      "source": [
        "#Aplicamos el filtro \n",
        "filtro1_m = df.loc[df['room_type'] == \"Entire home/apt\"]\n",
        "filtro1_m"
      ],
      "metadata": {
        "colab": {
          "base_uri": "https://localhost:8080/",
          "height": 1000
        },
        "id": "gOD1DMnoCqAk",
        "outputId": "fef7eb6e-a269-4e4b-d60f-85db03f5b110"
      },
      "execution_count": 70,
      "outputs": [
        {
          "output_type": "execute_result",
          "data": {
            "text/plain": [
              "      Unnamed: 0        id  host_listings_count  latitude  longitude  \\\n",
              "0              0   2056638                    3  19.35353  -99.16299   \n",
              "1              1   2072354                    3  19.35358  -99.16948   \n",
              "2              2    696037                    4  19.44180  -99.18402   \n",
              "3              3     35797                    1  19.38283  -99.27178   \n",
              "4              4     44616                   16  19.41162  -99.17794   \n",
              "...          ...       ...                  ...       ...        ...   \n",
              "3516        3516  22706422                    3  19.43608  -99.16877   \n",
              "3517        3517  22422552                    9  19.43784  -99.14078   \n",
              "3518        3518  22786735                    1  19.39708  -99.17802   \n",
              "3519        3519  22422562                    7  19.39075  -99.15942   \n",
              "3520        3520  22714371                    1  19.35681  -99.15275   \n",
              "\n",
              "      accommodates  bathrooms  bedrooms  beds       price  ...  \\\n",
              "0              3.0        0.0       1.0   1.0   $1,434.00  ...   \n",
              "1              2.0        0.0       1.0   1.0     $830.00  ...   \n",
              "2              6.0        0.0       3.0   3.0   $1,469.00  ...   \n",
              "3              2.0        0.0       1.0   1.0   $3,658.00  ...   \n",
              "4             14.0        0.0       5.0   8.0  $18,000.00  ...   \n",
              "...            ...        ...       ...   ...         ...  ...   \n",
              "3516           2.0        0.0       1.0   1.0   $1,200.00  ...   \n",
              "3517           4.0        0.0       1.0   1.0   $1,135.00  ...   \n",
              "3518           4.0        0.0       2.0   2.0     $979.00  ...   \n",
              "3519           2.0        0.0       1.0   1.0     $433.00  ...   \n",
              "3520           4.0        0.0       2.0   2.0     $878.00  ...   \n",
              "\n",
              "      bathrooms_text  bedrooms.1  \\\n",
              "0          1.5 baths         1.0   \n",
              "1             1 bath         1.0   \n",
              "2            2 baths         3.0   \n",
              "3             1 bath         1.0   \n",
              "4          5.5 baths         5.0   \n",
              "...              ...         ...   \n",
              "3516          1 bath         1.0   \n",
              "3517          1 bath         1.0   \n",
              "3518         2 baths         2.0   \n",
              "3519          1 bath         1.0   \n",
              "3520          1 bath         2.0   \n",
              "\n",
              "                                              amenities  calendar_updated.1  \\\n",
              "0     [\"Wifi\", \"Hangers\", \"Fire extinguisher\", \"Sham...                  --   \n",
              "1     [\"Free street parking\", \"Cleaning products\", \"...                  --   \n",
              "2     [\"Wifi \\u2013 38 Mbps\", \"Central air condition...                  --   \n",
              "3     [\"Wifi\", \"Washer\", \"BBQ grill\", \"Indoor firepl...                  --   \n",
              "4     [\"Free street parking\", \"Security cameras on p...                  --   \n",
              "...                                                 ...                 ...   \n",
              "3516  [\"Ethernet connection\", \"Smoke alarm\", \"Luggag...                  --   \n",
              "3517  [\"BBQ grill\", \"Long term stays allowed\", \"TV w...                  --   \n",
              "3518  [\"Ethernet connection\", \"Smoke alarm\", \"Single...                  --   \n",
              "3519  [\"Ethernet connection\", \"Smoke alarm\", \"Free s...                  --   \n",
              "3520  [\"Free street parking\", \"Long term stays allow...                  --   \n",
              "\n",
              "      has_availability  calendar_last_scraped  first_review  last_review  \\\n",
              "0                    t             2023-03-30    2014-01-03   2018-06-24   \n",
              "1                    t             2023-03-30    2014-01-01   2022-11-04   \n",
              "2                    t             2023-03-29    2012-10-31   2022-12-21   \n",
              "3                    t             2023-03-29            --           --   \n",
              "4                    t             2023-03-30    2011-11-09   2023-03-26   \n",
              "...                ...                    ...           ...          ...   \n",
              "3516                 t             2023-03-30    2021-08-23   2021-12-11   \n",
              "3517                 t             2023-03-30    2017-12-29   2018-12-08   \n",
              "3518                 t             2023-03-30    2018-02-05   2023-03-19   \n",
              "3519                 t             2023-03-29    2018-01-08   2023-03-12   \n",
              "3520                 t             2023-03-29    2018-02-24   2020-08-08   \n",
              "\n",
              "     license  instant_bookable  \n",
              "0        0.0                 f  \n",
              "1        0.0                 f  \n",
              "2        0.0                 f  \n",
              "3        0.0                 f  \n",
              "4        0.0                 f  \n",
              "...      ...               ...  \n",
              "3516     0.0                 t  \n",
              "3517     0.0                 f  \n",
              "3518     0.0                 f  \n",
              "3519     0.0                 f  \n",
              "3520     0.0                 f  \n",
              "\n",
              "[2117 rows x 77 columns]"
            ],
            "text/html": [
              "\n",
              "  <div id=\"df-b462bb31-f278-433a-b6cb-a54592d484c2\">\n",
              "    <div class=\"colab-df-container\">\n",
              "      <div>\n",
              "<style scoped>\n",
              "    .dataframe tbody tr th:only-of-type {\n",
              "        vertical-align: middle;\n",
              "    }\n",
              "\n",
              "    .dataframe tbody tr th {\n",
              "        vertical-align: top;\n",
              "    }\n",
              "\n",
              "    .dataframe thead th {\n",
              "        text-align: right;\n",
              "    }\n",
              "</style>\n",
              "<table border=\"1\" class=\"dataframe\">\n",
              "  <thead>\n",
              "    <tr style=\"text-align: right;\">\n",
              "      <th></th>\n",
              "      <th>Unnamed: 0</th>\n",
              "      <th>id</th>\n",
              "      <th>host_listings_count</th>\n",
              "      <th>latitude</th>\n",
              "      <th>longitude</th>\n",
              "      <th>accommodates</th>\n",
              "      <th>bathrooms</th>\n",
              "      <th>bedrooms</th>\n",
              "      <th>beds</th>\n",
              "      <th>price</th>\n",
              "      <th>...</th>\n",
              "      <th>bathrooms_text</th>\n",
              "      <th>bedrooms.1</th>\n",
              "      <th>amenities</th>\n",
              "      <th>calendar_updated.1</th>\n",
              "      <th>has_availability</th>\n",
              "      <th>calendar_last_scraped</th>\n",
              "      <th>first_review</th>\n",
              "      <th>last_review</th>\n",
              "      <th>license</th>\n",
              "      <th>instant_bookable</th>\n",
              "    </tr>\n",
              "  </thead>\n",
              "  <tbody>\n",
              "    <tr>\n",
              "      <th>0</th>\n",
              "      <td>0</td>\n",
              "      <td>2056638</td>\n",
              "      <td>3</td>\n",
              "      <td>19.35353</td>\n",
              "      <td>-99.16299</td>\n",
              "      <td>3.0</td>\n",
              "      <td>0.0</td>\n",
              "      <td>1.0</td>\n",
              "      <td>1.0</td>\n",
              "      <td>$1,434.00</td>\n",
              "      <td>...</td>\n",
              "      <td>1.5 baths</td>\n",
              "      <td>1.0</td>\n",
              "      <td>[\"Wifi\", \"Hangers\", \"Fire extinguisher\", \"Sham...</td>\n",
              "      <td>--</td>\n",
              "      <td>t</td>\n",
              "      <td>2023-03-30</td>\n",
              "      <td>2014-01-03</td>\n",
              "      <td>2018-06-24</td>\n",
              "      <td>0.0</td>\n",
              "      <td>f</td>\n",
              "    </tr>\n",
              "    <tr>\n",
              "      <th>1</th>\n",
              "      <td>1</td>\n",
              "      <td>2072354</td>\n",
              "      <td>3</td>\n",
              "      <td>19.35358</td>\n",
              "      <td>-99.16948</td>\n",
              "      <td>2.0</td>\n",
              "      <td>0.0</td>\n",
              "      <td>1.0</td>\n",
              "      <td>1.0</td>\n",
              "      <td>$830.00</td>\n",
              "      <td>...</td>\n",
              "      <td>1 bath</td>\n",
              "      <td>1.0</td>\n",
              "      <td>[\"Free street parking\", \"Cleaning products\", \"...</td>\n",
              "      <td>--</td>\n",
              "      <td>t</td>\n",
              "      <td>2023-03-30</td>\n",
              "      <td>2014-01-01</td>\n",
              "      <td>2022-11-04</td>\n",
              "      <td>0.0</td>\n",
              "      <td>f</td>\n",
              "    </tr>\n",
              "    <tr>\n",
              "      <th>2</th>\n",
              "      <td>2</td>\n",
              "      <td>696037</td>\n",
              "      <td>4</td>\n",
              "      <td>19.44180</td>\n",
              "      <td>-99.18402</td>\n",
              "      <td>6.0</td>\n",
              "      <td>0.0</td>\n",
              "      <td>3.0</td>\n",
              "      <td>3.0</td>\n",
              "      <td>$1,469.00</td>\n",
              "      <td>...</td>\n",
              "      <td>2 baths</td>\n",
              "      <td>3.0</td>\n",
              "      <td>[\"Wifi \\u2013 38 Mbps\", \"Central air condition...</td>\n",
              "      <td>--</td>\n",
              "      <td>t</td>\n",
              "      <td>2023-03-29</td>\n",
              "      <td>2012-10-31</td>\n",
              "      <td>2022-12-21</td>\n",
              "      <td>0.0</td>\n",
              "      <td>f</td>\n",
              "    </tr>\n",
              "    <tr>\n",
              "      <th>3</th>\n",
              "      <td>3</td>\n",
              "      <td>35797</td>\n",
              "      <td>1</td>\n",
              "      <td>19.38283</td>\n",
              "      <td>-99.27178</td>\n",
              "      <td>2.0</td>\n",
              "      <td>0.0</td>\n",
              "      <td>1.0</td>\n",
              "      <td>1.0</td>\n",
              "      <td>$3,658.00</td>\n",
              "      <td>...</td>\n",
              "      <td>1 bath</td>\n",
              "      <td>1.0</td>\n",
              "      <td>[\"Wifi\", \"Washer\", \"BBQ grill\", \"Indoor firepl...</td>\n",
              "      <td>--</td>\n",
              "      <td>t</td>\n",
              "      <td>2023-03-29</td>\n",
              "      <td>--</td>\n",
              "      <td>--</td>\n",
              "      <td>0.0</td>\n",
              "      <td>f</td>\n",
              "    </tr>\n",
              "    <tr>\n",
              "      <th>4</th>\n",
              "      <td>4</td>\n",
              "      <td>44616</td>\n",
              "      <td>16</td>\n",
              "      <td>19.41162</td>\n",
              "      <td>-99.17794</td>\n",
              "      <td>14.0</td>\n",
              "      <td>0.0</td>\n",
              "      <td>5.0</td>\n",
              "      <td>8.0</td>\n",
              "      <td>$18,000.00</td>\n",
              "      <td>...</td>\n",
              "      <td>5.5 baths</td>\n",
              "      <td>5.0</td>\n",
              "      <td>[\"Free street parking\", \"Security cameras on p...</td>\n",
              "      <td>--</td>\n",
              "      <td>t</td>\n",
              "      <td>2023-03-30</td>\n",
              "      <td>2011-11-09</td>\n",
              "      <td>2023-03-26</td>\n",
              "      <td>0.0</td>\n",
              "      <td>f</td>\n",
              "    </tr>\n",
              "    <tr>\n",
              "      <th>...</th>\n",
              "      <td>...</td>\n",
              "      <td>...</td>\n",
              "      <td>...</td>\n",
              "      <td>...</td>\n",
              "      <td>...</td>\n",
              "      <td>...</td>\n",
              "      <td>...</td>\n",
              "      <td>...</td>\n",
              "      <td>...</td>\n",
              "      <td>...</td>\n",
              "      <td>...</td>\n",
              "      <td>...</td>\n",
              "      <td>...</td>\n",
              "      <td>...</td>\n",
              "      <td>...</td>\n",
              "      <td>...</td>\n",
              "      <td>...</td>\n",
              "      <td>...</td>\n",
              "      <td>...</td>\n",
              "      <td>...</td>\n",
              "      <td>...</td>\n",
              "    </tr>\n",
              "    <tr>\n",
              "      <th>3516</th>\n",
              "      <td>3516</td>\n",
              "      <td>22706422</td>\n",
              "      <td>3</td>\n",
              "      <td>19.43608</td>\n",
              "      <td>-99.16877</td>\n",
              "      <td>2.0</td>\n",
              "      <td>0.0</td>\n",
              "      <td>1.0</td>\n",
              "      <td>1.0</td>\n",
              "      <td>$1,200.00</td>\n",
              "      <td>...</td>\n",
              "      <td>1 bath</td>\n",
              "      <td>1.0</td>\n",
              "      <td>[\"Ethernet connection\", \"Smoke alarm\", \"Luggag...</td>\n",
              "      <td>--</td>\n",
              "      <td>t</td>\n",
              "      <td>2023-03-30</td>\n",
              "      <td>2021-08-23</td>\n",
              "      <td>2021-12-11</td>\n",
              "      <td>0.0</td>\n",
              "      <td>t</td>\n",
              "    </tr>\n",
              "    <tr>\n",
              "      <th>3517</th>\n",
              "      <td>3517</td>\n",
              "      <td>22422552</td>\n",
              "      <td>9</td>\n",
              "      <td>19.43784</td>\n",
              "      <td>-99.14078</td>\n",
              "      <td>4.0</td>\n",
              "      <td>0.0</td>\n",
              "      <td>1.0</td>\n",
              "      <td>1.0</td>\n",
              "      <td>$1,135.00</td>\n",
              "      <td>...</td>\n",
              "      <td>1 bath</td>\n",
              "      <td>1.0</td>\n",
              "      <td>[\"BBQ grill\", \"Long term stays allowed\", \"TV w...</td>\n",
              "      <td>--</td>\n",
              "      <td>t</td>\n",
              "      <td>2023-03-30</td>\n",
              "      <td>2017-12-29</td>\n",
              "      <td>2018-12-08</td>\n",
              "      <td>0.0</td>\n",
              "      <td>f</td>\n",
              "    </tr>\n",
              "    <tr>\n",
              "      <th>3518</th>\n",
              "      <td>3518</td>\n",
              "      <td>22786735</td>\n",
              "      <td>1</td>\n",
              "      <td>19.39708</td>\n",
              "      <td>-99.17802</td>\n",
              "      <td>4.0</td>\n",
              "      <td>0.0</td>\n",
              "      <td>2.0</td>\n",
              "      <td>2.0</td>\n",
              "      <td>$979.00</td>\n",
              "      <td>...</td>\n",
              "      <td>2 baths</td>\n",
              "      <td>2.0</td>\n",
              "      <td>[\"Ethernet connection\", \"Smoke alarm\", \"Single...</td>\n",
              "      <td>--</td>\n",
              "      <td>t</td>\n",
              "      <td>2023-03-30</td>\n",
              "      <td>2018-02-05</td>\n",
              "      <td>2023-03-19</td>\n",
              "      <td>0.0</td>\n",
              "      <td>f</td>\n",
              "    </tr>\n",
              "    <tr>\n",
              "      <th>3519</th>\n",
              "      <td>3519</td>\n",
              "      <td>22422562</td>\n",
              "      <td>7</td>\n",
              "      <td>19.39075</td>\n",
              "      <td>-99.15942</td>\n",
              "      <td>2.0</td>\n",
              "      <td>0.0</td>\n",
              "      <td>1.0</td>\n",
              "      <td>1.0</td>\n",
              "      <td>$433.00</td>\n",
              "      <td>...</td>\n",
              "      <td>1 bath</td>\n",
              "      <td>1.0</td>\n",
              "      <td>[\"Ethernet connection\", \"Smoke alarm\", \"Free s...</td>\n",
              "      <td>--</td>\n",
              "      <td>t</td>\n",
              "      <td>2023-03-29</td>\n",
              "      <td>2018-01-08</td>\n",
              "      <td>2023-03-12</td>\n",
              "      <td>0.0</td>\n",
              "      <td>f</td>\n",
              "    </tr>\n",
              "    <tr>\n",
              "      <th>3520</th>\n",
              "      <td>3520</td>\n",
              "      <td>22714371</td>\n",
              "      <td>1</td>\n",
              "      <td>19.35681</td>\n",
              "      <td>-99.15275</td>\n",
              "      <td>4.0</td>\n",
              "      <td>0.0</td>\n",
              "      <td>2.0</td>\n",
              "      <td>2.0</td>\n",
              "      <td>$878.00</td>\n",
              "      <td>...</td>\n",
              "      <td>1 bath</td>\n",
              "      <td>2.0</td>\n",
              "      <td>[\"Free street parking\", \"Long term stays allow...</td>\n",
              "      <td>--</td>\n",
              "      <td>t</td>\n",
              "      <td>2023-03-29</td>\n",
              "      <td>2018-02-24</td>\n",
              "      <td>2020-08-08</td>\n",
              "      <td>0.0</td>\n",
              "      <td>f</td>\n",
              "    </tr>\n",
              "  </tbody>\n",
              "</table>\n",
              "<p>2117 rows × 77 columns</p>\n",
              "</div>\n",
              "      <button class=\"colab-df-convert\" onclick=\"convertToInteractive('df-b462bb31-f278-433a-b6cb-a54592d484c2')\"\n",
              "              title=\"Convert this dataframe to an interactive table.\"\n",
              "              style=\"display:none;\">\n",
              "        \n",
              "  <svg xmlns=\"http://www.w3.org/2000/svg\" height=\"24px\"viewBox=\"0 0 24 24\"\n",
              "       width=\"24px\">\n",
              "    <path d=\"M0 0h24v24H0V0z\" fill=\"none\"/>\n",
              "    <path d=\"M18.56 5.44l.94 2.06.94-2.06 2.06-.94-2.06-.94-.94-2.06-.94 2.06-2.06.94zm-11 1L8.5 8.5l.94-2.06 2.06-.94-2.06-.94L8.5 2.5l-.94 2.06-2.06.94zm10 10l.94 2.06.94-2.06 2.06-.94-2.06-.94-.94-2.06-.94 2.06-2.06.94z\"/><path d=\"M17.41 7.96l-1.37-1.37c-.4-.4-.92-.59-1.43-.59-.52 0-1.04.2-1.43.59L10.3 9.45l-7.72 7.72c-.78.78-.78 2.05 0 2.83L4 21.41c.39.39.9.59 1.41.59.51 0 1.02-.2 1.41-.59l7.78-7.78 2.81-2.81c.8-.78.8-2.07 0-2.86zM5.41 20L4 18.59l7.72-7.72 1.47 1.35L5.41 20z\"/>\n",
              "  </svg>\n",
              "      </button>\n",
              "      \n",
              "  <style>\n",
              "    .colab-df-container {\n",
              "      display:flex;\n",
              "      flex-wrap:wrap;\n",
              "      gap: 12px;\n",
              "    }\n",
              "\n",
              "    .colab-df-convert {\n",
              "      background-color: #E8F0FE;\n",
              "      border: none;\n",
              "      border-radius: 50%;\n",
              "      cursor: pointer;\n",
              "      display: none;\n",
              "      fill: #1967D2;\n",
              "      height: 32px;\n",
              "      padding: 0 0 0 0;\n",
              "      width: 32px;\n",
              "    }\n",
              "\n",
              "    .colab-df-convert:hover {\n",
              "      background-color: #E2EBFA;\n",
              "      box-shadow: 0px 1px 2px rgba(60, 64, 67, 0.3), 0px 1px 3px 1px rgba(60, 64, 67, 0.15);\n",
              "      fill: #174EA6;\n",
              "    }\n",
              "\n",
              "    [theme=dark] .colab-df-convert {\n",
              "      background-color: #3B4455;\n",
              "      fill: #D2E3FC;\n",
              "    }\n",
              "\n",
              "    [theme=dark] .colab-df-convert:hover {\n",
              "      background-color: #434B5C;\n",
              "      box-shadow: 0px 1px 3px 1px rgba(0, 0, 0, 0.15);\n",
              "      filter: drop-shadow(0px 1px 2px rgba(0, 0, 0, 0.3));\n",
              "      fill: #FFFFFF;\n",
              "    }\n",
              "  </style>\n",
              "\n",
              "      <script>\n",
              "        const buttonEl =\n",
              "          document.querySelector('#df-b462bb31-f278-433a-b6cb-a54592d484c2 button.colab-df-convert');\n",
              "        buttonEl.style.display =\n",
              "          google.colab.kernel.accessAllowed ? 'block' : 'none';\n",
              "\n",
              "        async function convertToInteractive(key) {\n",
              "          const element = document.querySelector('#df-b462bb31-f278-433a-b6cb-a54592d484c2');\n",
              "          const dataTable =\n",
              "            await google.colab.kernel.invokeFunction('convertToInteractive',\n",
              "                                                     [key], {});\n",
              "          if (!dataTable) return;\n",
              "\n",
              "          const docLinkHtml = 'Like what you see? Visit the ' +\n",
              "            '<a target=\"_blank\" href=https://colab.research.google.com/notebooks/data_table.ipynb>data table notebook</a>'\n",
              "            + ' to learn more about interactive tables.';\n",
              "          element.innerHTML = '';\n",
              "          dataTable['output_type'] = 'display_data';\n",
              "          await google.colab.output.renderOutput(dataTable, element);\n",
              "          const docLink = document.createElement('div');\n",
              "          docLink.innerHTML = docLinkHtml;\n",
              "          element.appendChild(docLink);\n",
              "        }\n",
              "      </script>\n",
              "    </div>\n",
              "  </div>\n",
              "  "
            ]
          },
          "metadata": {},
          "execution_count": 70
        }
      ]
    },
    {
      "cell_type": "markdown",
      "metadata": {
        "id": "adz3nhuA7H8b"
      },
      "source": [
        "#Regresion 3 "
      ]
    },
    {
      "cell_type": "code",
      "execution_count": 71,
      "metadata": {
        "colab": {
          "base_uri": "https://localhost:8080/",
          "height": 468
        },
        "id": "tYCRqu-57Qo8",
        "outputId": "9f72d043-3c6c-4ce3-daf7-70e3da402630"
      },
      "outputs": [
        {
          "output_type": "execute_result",
          "data": {
            "text/plain": [
              "<Axes: xlabel='review_scores_location', ylabel='review_scores_cleanliness'>"
            ]
          },
          "metadata": {},
          "execution_count": 71
        },
        {
          "output_type": "display_data",
          "data": {
            "text/plain": [
              "<Figure size 640x480 with 1 Axes>"
            ],
            "image/png": "[encoded data removed]"
          },
          "metadata": {}
        }
      ],
      "source": [
        "#Imprimimos el scatter plot entre la variable dependiente (total) e independiente (alchool) \n",
        "#para observar el comportamiento en su dispersión \n",
        "from turtle import color\n",
        "\n",
        "\n",
        "sns.scatterplot(x='review_scores_location', y='review_scores_cleanliness', color=\"blue\", data=filtro1_m)\n",
        "#sns.scatterplot(X='speeding', y='total', color=\"red\", data=df)"
      ]
    },
    {
      "cell_type": "code",
      "execution_count": 72,
      "metadata": {
        "colab": {
          "base_uri": "https://localhost:8080/"
        },
        "id": "hf_mI2BX8cSi",
        "outputId": "b7dc4922-40a3-4137-f108-ea48b9fbc9c7"
      },
      "outputs": [
        {
          "output_type": "execute_result",
          "data": {
            "text/plain": [
              "{'fit_intercept': True,\n",
              " 'copy_X': True,\n",
              " 'n_jobs': None,\n",
              " 'positive': False,\n",
              " 'feature_names_in_': array(['review_scores_cleanliness'], dtype=object),\n",
              " 'n_features_in_': 1,\n",
              " 'coef_': array([0.99263319]),\n",
              " 'rank_': 1,\n",
              " 'singular_': array([82.38938744]),\n",
              " 'intercept_': 0.10081746779361733}"
            ]
          },
          "metadata": {},
          "execution_count": 72
        }
      ],
      "source": [
        "#Declaramos las variables dependientes e independientes para la regresión lineal\n",
        "#Vars_Indep= df[['alcohol', 'speeding']]\n",
        "Vars_Indep= df[['review_scores_cleanliness']]\n",
        "Var_Dep= df['review_scores_location']\n",
        "#Se define model como la función de regresión lineal\n",
        "from sklearn.linear_model import LinearRegression\n",
        "model= LinearRegression()\n",
        "#Verificamos la función relacionada al modelo\n",
        "type(model)\n",
        "#Ajustamos el modelo con las variables antes declaradas\n",
        "model.fit(X=Vars_Indep, y=Var_Dep)\n",
        "#Verificamos los coeficientes obtenidos para el modelo ajustado\n",
        "model.__dict__"
      ]
    },
    {
      "cell_type": "code",
      "execution_count": 73,
      "metadata": {
        "colab": {
          "base_uri": "https://localhost:8080/"
        },
        "id": "mXzA52X79MaV",
        "outputId": "137e7666-fa92-42c1-c90b-9be993ec54f5"
      },
      "outputs": [
        {
          "output_type": "execute_result",
          "data": {
            "text/plain": [
              "0.9655952112210063"
            ]
          },
          "metadata": {},
          "execution_count": 73
        }
      ],
      "source": [
        "#Evaluamos la eficiencia del modelo obtenido por medio del coeficiente R Determinación\n",
        "model.score(Vars_Indep,Var_Dep)"
      ]
    },
    {
      "cell_type": "markdown",
      "metadata": {
        "id": "K9MjERqf7X7J"
      },
      "source": [
        "#Regresion 4"
      ]
    },
    {
      "cell_type": "code",
      "execution_count": 74,
      "metadata": {
        "colab": {
          "base_uri": "https://localhost:8080/",
          "height": 468
        },
        "id": "w_ojiPG37ZEL",
        "outputId": "6ea7315c-fe4a-413f-bb95-653a7eea3a95"
      },
      "outputs": [
        {
          "output_type": "execute_result",
          "data": {
            "text/plain": [
              "<Axes: xlabel='number_of_reviews', ylabel='availability_365'>"
            ]
          },
          "metadata": {},
          "execution_count": 74
        },
        {
          "output_type": "display_data",
          "data": {
            "text/plain": [
              "<Figure size 640x480 with 1 Axes>"
            ],
            "image/png": "[encoded data removed]"
          },
          "metadata": {}
        }
      ],
      "source": [
        "#Imprimimos el scatter plot entre la variable dependiente (total) e independiente (alchool) \n",
        "#para observar el comportamiento en su dispersión \n",
        "from turtle import color\n",
        "\n",
        "\n",
        "sns.scatterplot(x='number_of_reviews', y='availability_365', color=\"blue\", data=filtro1_m)\n",
        "#sns.scatterplot(X='speeding', y='total', color=\"red\", data=df)"
      ]
    },
    {
      "cell_type": "code",
      "execution_count": 75,
      "metadata": {
        "colab": {
          "base_uri": "https://localhost:8080/"
        },
        "id": "h4wuwR2k-LeZ",
        "outputId": "459d96b2-6f83-48e5-f41d-708f13abd8f0"
      },
      "outputs": [
        {
          "output_type": "execute_result",
          "data": {
            "text/plain": [
              "{'fit_intercept': True,\n",
              " 'copy_X': True,\n",
              " 'n_jobs': None,\n",
              " 'positive': False,\n",
              " 'feature_names_in_': array(['number_of_reviews'], dtype=object),\n",
              " 'n_features_in_': 1,\n",
              " 'coef_': array([0.01657297]),\n",
              " 'rank_': 1,\n",
              " 'singular_': array([5608.18540207]),\n",
              " 'intercept_': 230.65698590953187}"
            ]
          },
          "metadata": {},
          "execution_count": 75
        }
      ],
      "source": [
        "#Declaramos las variables dependientes e independientes para la regresión lineal\n",
        "#Vars_Indep= df[['alcohol', 'speeding']]\n",
        "Vars_Indep= df[['number_of_reviews']]\n",
        "Var_Dep= df['availability_365']\n",
        "#Se define model como la función de regresión lineal\n",
        "from sklearn.linear_model import LinearRegression\n",
        "model= LinearRegression()\n",
        "#Verificamos la función relacionada al modelo\n",
        "type(model)\n",
        "#Ajustamos el modelo con las variables antes declaradas\n",
        "model.fit(X=Vars_Indep, y=Var_Dep)\n",
        "#Verificamos los coeficientes obtenidos para el modelo ajustado\n",
        "model.__dict__"
      ]
    },
    {
      "cell_type": "code",
      "execution_count": 76,
      "metadata": {
        "colab": {
          "base_uri": "https://localhost:8080/"
        },
        "id": "ToNzbIWF-SpR",
        "outputId": "ed980286-33da-43bd-9998-19f8866705f0"
      },
      "outputs": [
        {
          "output_type": "execute_result",
          "data": {
            "text/plain": [
              "0.00015621147356581488"
            ]
          },
          "metadata": {},
          "execution_count": 76
        }
      ],
      "source": [
        "#Evaluamos la eficiencia del modelo obtenido por medio del coeficiente R Determinación\n",
        "model.score(Vars_Indep,Var_Dep)"
      ]
    },
    {
      "cell_type": "markdown",
      "metadata": {
        "id": "Idk5t1ff-Zvb"
      },
      "source": [
        "##Regresion 5"
      ]
    },
    {
      "cell_type": "code",
      "execution_count": 77,
      "metadata": {
        "colab": {
          "base_uri": "https://localhost:8080/",
          "height": 468
        },
        "id": "RytYQ8N2-eUz",
        "outputId": "890152b8-439c-4b4a-8190-0d0a90d7cac8"
      },
      "outputs": [
        {
          "output_type": "execute_result",
          "data": {
            "text/plain": [
              "<Axes: xlabel='reviews_per_month', ylabel='review_scores_communication'>"
            ]
          },
          "metadata": {},
          "execution_count": 77
        },
        {
          "output_type": "display_data",
          "data": {
            "text/plain": [
              "<Figure size 640x480 with 1 Axes>"
            ],
            "image/png": "[encoded data removed]"
          },
          "metadata": {}
        }
      ],
      "source": [
        "#Imprimimos el scatter plot entre la variable dependiente (total) e independiente (alchool) \n",
        "#para observar el comportamiento en su dispersión \n",
        "from turtle import color\n",
        "\n",
        "\n",
        "sns.scatterplot(x='reviews_per_month', y='review_scores_communication', color=\"blue\", data=filtro1_m)\n",
        "#sns.scatterplot(X='speeding', y='total', color=\"red\", data=df)"
      ]
    },
    {
      "cell_type": "code",
      "execution_count": 78,
      "metadata": {
        "colab": {
          "base_uri": "https://localhost:8080/"
        },
        "id": "plLCwoop-rYQ",
        "outputId": "1fba98d9-2d99-422e-95bc-69f0fa3a7fd9"
      },
      "outputs": [
        {
          "output_type": "execute_result",
          "data": {
            "text/plain": [
              "{'fit_intercept': True,\n",
              " 'copy_X': True,\n",
              " 'n_jobs': None,\n",
              " 'positive': False,\n",
              " 'feature_names_in_': array(['review_scores_communication'], dtype=object),\n",
              " 'n_features_in_': 1,\n",
              " 'coef_': array([0.242067]),\n",
              " 'rank_': 1,\n",
              " 'singular_': array([83.3345738]),\n",
              " 'intercept_': -0.01975757987061133}"
            ]
          },
          "metadata": {},
          "execution_count": 78
        }
      ],
      "source": [
        "#Declaramos las variables dependientes e independientes para la regresión lineal\n",
        "#Vars_Indep= df[['alcohol', 'speeding']]\n",
        "Vars_Indep= df[['review_scores_communication']]\n",
        "Var_Dep= df['reviews_per_month']\n",
        "#Se define model como la función de regresión lineal\n",
        "from sklearn.linear_model import LinearRegression\n",
        "model= LinearRegression()\n",
        "#Verificamos la función relacionada al modelo\n",
        "type(model)\n",
        "#Ajustamos el modelo con las variables antes declaradas\n",
        "model.fit(X=Vars_Indep, y=Var_Dep)\n",
        "#Verificamos los coeficientes obtenidos para el modelo ajustado\n",
        "model.__dict__"
      ]
    },
    {
      "cell_type": "code",
      "source": [
        "#Evaluamos la eficiencia del modelo obtenido por medio del coeficiente R Determinación\n",
        "model.score(Vars_Indep,Var_Dep)"
      ],
      "metadata": {
        "colab": {
          "base_uri": "https://localhost:8080/"
        },
        "id": "iHfBWWmXDdfl",
        "outputId": "91ca5da5-89f6-4760-92ab-b80543bf79e9"
      },
      "execution_count": 79,
      "outputs": [
        {
          "output_type": "execute_result",
          "data": {
            "text/plain": [
              "0.07654717918875453"
            ]
          },
          "metadata": {},
          "execution_count": 79
        }
      ]
    },
    {
      "cell_type": "markdown",
      "source": [
        "#Filtro 2"
      ],
      "metadata": {
        "id": "MXbO6_skCLqj"
      }
    },
    {
      "cell_type": "code",
      "source": [
        "#Aplicamos el filtro \n",
        "# Primer tipo de habitación = Private room\n",
        "filtro2_m = df.loc[df['room_type'] == \"Private room\"]\n",
        "filtro2_m"
      ],
      "metadata": {
        "colab": {
          "base_uri": "https://localhost:8080/",
          "height": 1000
        },
        "id": "_d0WvbjPCQx-",
        "outputId": "c5a8670c-c12d-4adb-b4e7-fa68d296779b"
      },
      "execution_count": 80,
      "outputs": [
        {
          "output_type": "execute_result",
          "data": {
            "text/plain": [
              "      Unnamed: 0        id  host_listings_count  latitude  longitude  \\\n",
              "7              7     61792                    2  19.41083  -99.18057   \n",
              "16            16    760912                    1  19.40891  -99.16083   \n",
              "17            17   2088218                    1  19.34022  -99.15306   \n",
              "18            18   2093036                    1  19.44178  -99.20202   \n",
              "21            21    131610                    3  19.35416  -99.16488   \n",
              "...          ...       ...                  ...       ...        ...   \n",
              "3501        3501  22160300                    1  19.40420  -99.16538   \n",
              "3506        3506  22694168                   16  19.43398  -99.21211   \n",
              "3507        3507  22161368                    5  19.31149  -99.22317   \n",
              "3508        3508  22700005                    4  19.29244  -99.14580   \n",
              "3514        3514  22775040                    1  19.44155  -99.13216   \n",
              "\n",
              "      accommodates  bathrooms  bedrooms  beds      price  ...  bathrooms_text  \\\n",
              "7              2.0        0.0       1.0   1.0  $1,089.00  ...   1 shared bath   \n",
              "16             2.0        0.0       1.0   1.0    $726.00  ...       1.5 baths   \n",
              "17             1.0        0.0       1.0   1.0    $375.00  ...       1.5 baths   \n",
              "18             2.0        0.0       1.0   2.0  $2,835.00  ...          1 bath   \n",
              "21             2.0        0.0       1.0   1.0  $1,244.00  ...  1 private bath   \n",
              "...            ...        ...       ...   ...        ...  ...             ...   \n",
              "3501           2.0        0.0       1.0   1.0    $800.00  ...   1 shared bath   \n",
              "3506           2.0        0.0       1.0   1.0  $1,150.00  ...  1 private bath   \n",
              "3507           1.0        0.0       1.0   1.0    $582.00  ...   1 shared bath   \n",
              "3508           2.0        0.0       2.0   2.0    $590.00  ...   1 shared bath   \n",
              "3514           2.0        0.0       1.0   1.0    $327.00  ...   1 shared bath   \n",
              "\n",
              "      bedrooms.1                                          amenities  \\\n",
              "7            1.0  [\"Heating - split type ductless system\", \"Whir...   \n",
              "16           1.0  [\"Wifi\", \"Washer\", \"Kitchen\", \"TV with standar...   \n",
              "17           1.0  [\"Wifi\", \"Iron\", \"Washer\", \"Pets allowed\", \"Ha...   \n",
              "18           1.0  [\"Elevator\", \"Heating\", \"Wifi\", \"Washer\", \"Pet...   \n",
              "21           1.0  [\"Patio or balcony\", \"Wifi\", \"Breakfast\", \"Lug...   \n",
              "...          ...                                                ...   \n",
              "3501         1.0  [\"Extra pillows and blankets\", \"Private entran...   \n",
              "3506         1.0  [\"Free street parking\", \"BBQ grill\", \"Luggage ...   \n",
              "3507         1.0  [\"Dedicated workspace\", \"Elevator\", \"Wifi\", \"I...   \n",
              "3508         2.0  [\"Private entrance\", \"Wifi\", \"Refrigerator\", \"...   \n",
              "3514         1.0  [\"Smoke alarm\", \"Luggage dropoff allowed\", \"Wi...   \n",
              "\n",
              "      calendar_updated.1  has_availability  calendar_last_scraped  \\\n",
              "7                     --                 t             2023-03-30   \n",
              "16                    --                 t             2023-03-30   \n",
              "17                    --                 t             2023-03-30   \n",
              "18                    --                 t             2023-03-29   \n",
              "21                    --                 t             2023-03-29   \n",
              "...                  ...               ...                    ...   \n",
              "3501                  --                 t             2023-03-30   \n",
              "3506                  --                 t             2023-03-30   \n",
              "3507                  --                 t             2023-03-29   \n",
              "3508                  --                 t             2023-03-29   \n",
              "3514                  --                 t             2023-03-29   \n",
              "\n",
              "      first_review  last_review license  instant_bookable  \n",
              "7       2017-11-01   2022-12-31     0.0                 f  \n",
              "16      2012-12-18   2016-01-30     0.0                 f  \n",
              "17      2014-01-07   2018-05-15     0.0                 f  \n",
              "18              --           --     0.0                 f  \n",
              "21              --           --     0.0                 f  \n",
              "...            ...          ...     ...               ...  \n",
              "3501    2019-02-26   2022-11-26     0.0                 f  \n",
              "3506    2018-04-11   2022-10-31     0.0                 t  \n",
              "3507    2018-01-24   2022-06-19     0.0                 t  \n",
              "3508    2018-03-08   2023-02-27     0.0                 f  \n",
              "3514    2018-02-10   2023-03-18     0.0                 t  \n",
              "\n",
              "[1345 rows x 77 columns]"
            ],
            "text/html": [
              "\n",
              "  <div id=\"df-a1d800a8-d0ef-4978-bd37-dfd47028c8c1\">\n",
              "    <div class=\"colab-df-container\">\n",
              "      <div>\n",
              "<style scoped>\n",
              "    .dataframe tbody tr th:only-of-type {\n",
              "        vertical-align: middle;\n",
              "    }\n",
              "\n",
              "    .dataframe tbody tr th {\n",
              "        vertical-align: top;\n",
              "    }\n",
              "\n",
              "    .dataframe thead th {\n",
              "        text-align: right;\n",
              "    }\n",
              "</style>\n",
              "<table border=\"1\" class=\"dataframe\">\n",
              "  <thead>\n",
              "    <tr style=\"text-align: right;\">\n",
              "      <th></th>\n",
              "      <th>Unnamed: 0</th>\n",
              "      <th>id</th>\n",
              "      <th>host_listings_count</th>\n",
              "      <th>latitude</th>\n",
              "      <th>longitude</th>\n",
              "      <th>accommodates</th>\n",
              "      <th>bathrooms</th>\n",
              "      <th>bedrooms</th>\n",
              "      <th>beds</th>\n",
              "      <th>price</th>\n",
              "      <th>...</th>\n",
              "      <th>bathrooms_text</th>\n",
              "      <th>bedrooms.1</th>\n",
              "      <th>amenities</th>\n",
              "      <th>calendar_updated.1</th>\n",
              "      <th>has_availability</th>\n",
              "      <th>calendar_last_scraped</th>\n",
              "      <th>first_review</th>\n",
              "      <th>last_review</th>\n",
              "      <th>license</th>\n",
              "      <th>instant_bookable</th>\n",
              "    </tr>\n",
              "  </thead>\n",
              "  <tbody>\n",
              "    <tr>\n",
              "      <th>7</th>\n",
              "      <td>7</td>\n",
              "      <td>61792</td>\n",
              "      <td>2</td>\n",
              "      <td>19.41083</td>\n",
              "      <td>-99.18057</td>\n",
              "      <td>2.0</td>\n",
              "      <td>0.0</td>\n",
              "      <td>1.0</td>\n",
              "      <td>1.0</td>\n",
              "      <td>$1,089.00</td>\n",
              "      <td>...</td>\n",
              "      <td>1 shared bath</td>\n",
              "      <td>1.0</td>\n",
              "      <td>[\"Heating - split type ductless system\", \"Whir...</td>\n",
              "      <td>--</td>\n",
              "      <td>t</td>\n",
              "      <td>2023-03-30</td>\n",
              "      <td>2017-11-01</td>\n",
              "      <td>2022-12-31</td>\n",
              "      <td>0.0</td>\n",
              "      <td>f</td>\n",
              "    </tr>\n",
              "    <tr>\n",
              "      <th>16</th>\n",
              "      <td>16</td>\n",
              "      <td>760912</td>\n",
              "      <td>1</td>\n",
              "      <td>19.40891</td>\n",
              "      <td>-99.16083</td>\n",
              "      <td>2.0</td>\n",
              "      <td>0.0</td>\n",
              "      <td>1.0</td>\n",
              "      <td>1.0</td>\n",
              "      <td>$726.00</td>\n",
              "      <td>...</td>\n",
              "      <td>1.5 baths</td>\n",
              "      <td>1.0</td>\n",
              "      <td>[\"Wifi\", \"Washer\", \"Kitchen\", \"TV with standar...</td>\n",
              "      <td>--</td>\n",
              "      <td>t</td>\n",
              "      <td>2023-03-30</td>\n",
              "      <td>2012-12-18</td>\n",
              "      <td>2016-01-30</td>\n",
              "      <td>0.0</td>\n",
              "      <td>f</td>\n",
              "    </tr>\n",
              "    <tr>\n",
              "      <th>17</th>\n",
              "      <td>17</td>\n",
              "      <td>2088218</td>\n",
              "      <td>1</td>\n",
              "      <td>19.34022</td>\n",
              "      <td>-99.15306</td>\n",
              "      <td>1.0</td>\n",
              "      <td>0.0</td>\n",
              "      <td>1.0</td>\n",
              "      <td>1.0</td>\n",
              "      <td>$375.00</td>\n",
              "      <td>...</td>\n",
              "      <td>1.5 baths</td>\n",
              "      <td>1.0</td>\n",
              "      <td>[\"Wifi\", \"Iron\", \"Washer\", \"Pets allowed\", \"Ha...</td>\n",
              "      <td>--</td>\n",
              "      <td>t</td>\n",
              "      <td>2023-03-30</td>\n",
              "      <td>2014-01-07</td>\n",
              "      <td>2018-05-15</td>\n",
              "      <td>0.0</td>\n",
              "      <td>f</td>\n",
              "    </tr>\n",
              "    <tr>\n",
              "      <th>18</th>\n",
              "      <td>18</td>\n",
              "      <td>2093036</td>\n",
              "      <td>1</td>\n",
              "      <td>19.44178</td>\n",
              "      <td>-99.20202</td>\n",
              "      <td>2.0</td>\n",
              "      <td>0.0</td>\n",
              "      <td>1.0</td>\n",
              "      <td>2.0</td>\n",
              "      <td>$2,835.00</td>\n",
              "      <td>...</td>\n",
              "      <td>1 bath</td>\n",
              "      <td>1.0</td>\n",
              "      <td>[\"Elevator\", \"Heating\", \"Wifi\", \"Washer\", \"Pet...</td>\n",
              "      <td>--</td>\n",
              "      <td>t</td>\n",
              "      <td>2023-03-29</td>\n",
              "      <td>--</td>\n",
              "      <td>--</td>\n",
              "      <td>0.0</td>\n",
              "      <td>f</td>\n",
              "    </tr>\n",
              "    <tr>\n",
              "      <th>21</th>\n",
              "      <td>21</td>\n",
              "      <td>131610</td>\n",
              "      <td>3</td>\n",
              "      <td>19.35416</td>\n",
              "      <td>-99.16488</td>\n",
              "      <td>2.0</td>\n",
              "      <td>0.0</td>\n",
              "      <td>1.0</td>\n",
              "      <td>1.0</td>\n",
              "      <td>$1,244.00</td>\n",
              "      <td>...</td>\n",
              "      <td>1 private bath</td>\n",
              "      <td>1.0</td>\n",
              "      <td>[\"Patio or balcony\", \"Wifi\", \"Breakfast\", \"Lug...</td>\n",
              "      <td>--</td>\n",
              "      <td>t</td>\n",
              "      <td>2023-03-29</td>\n",
              "      <td>--</td>\n",
              "      <td>--</td>\n",
              "      <td>0.0</td>\n",
              "      <td>f</td>\n",
              "    </tr>\n",
              "    <tr>\n",
              "      <th>...</th>\n",
              "      <td>...</td>\n",
              "      <td>...</td>\n",
              "      <td>...</td>\n",
              "      <td>...</td>\n",
              "      <td>...</td>\n",
              "      <td>...</td>\n",
              "      <td>...</td>\n",
              "      <td>...</td>\n",
              "      <td>...</td>\n",
              "      <td>...</td>\n",
              "      <td>...</td>\n",
              "      <td>...</td>\n",
              "      <td>...</td>\n",
              "      <td>...</td>\n",
              "      <td>...</td>\n",
              "      <td>...</td>\n",
              "      <td>...</td>\n",
              "      <td>...</td>\n",
              "      <td>...</td>\n",
              "      <td>...</td>\n",
              "      <td>...</td>\n",
              "    </tr>\n",
              "    <tr>\n",
              "      <th>3501</th>\n",
              "      <td>3501</td>\n",
              "      <td>22160300</td>\n",
              "      <td>1</td>\n",
              "      <td>19.40420</td>\n",
              "      <td>-99.16538</td>\n",
              "      <td>2.0</td>\n",
              "      <td>0.0</td>\n",
              "      <td>1.0</td>\n",
              "      <td>1.0</td>\n",
              "      <td>$800.00</td>\n",
              "      <td>...</td>\n",
              "      <td>1 shared bath</td>\n",
              "      <td>1.0</td>\n",
              "      <td>[\"Extra pillows and blankets\", \"Private entran...</td>\n",
              "      <td>--</td>\n",
              "      <td>t</td>\n",
              "      <td>2023-03-30</td>\n",
              "      <td>2019-02-26</td>\n",
              "      <td>2022-11-26</td>\n",
              "      <td>0.0</td>\n",
              "      <td>f</td>\n",
              "    </tr>\n",
              "    <tr>\n",
              "      <th>3506</th>\n",
              "      <td>3506</td>\n",
              "      <td>22694168</td>\n",
              "      <td>16</td>\n",
              "      <td>19.43398</td>\n",
              "      <td>-99.21211</td>\n",
              "      <td>2.0</td>\n",
              "      <td>0.0</td>\n",
              "      <td>1.0</td>\n",
              "      <td>1.0</td>\n",
              "      <td>$1,150.00</td>\n",
              "      <td>...</td>\n",
              "      <td>1 private bath</td>\n",
              "      <td>1.0</td>\n",
              "      <td>[\"Free street parking\", \"BBQ grill\", \"Luggage ...</td>\n",
              "      <td>--</td>\n",
              "      <td>t</td>\n",
              "      <td>2023-03-30</td>\n",
              "      <td>2018-04-11</td>\n",
              "      <td>2022-10-31</td>\n",
              "      <td>0.0</td>\n",
              "      <td>t</td>\n",
              "    </tr>\n",
              "    <tr>\n",
              "      <th>3507</th>\n",
              "      <td>3507</td>\n",
              "      <td>22161368</td>\n",
              "      <td>5</td>\n",
              "      <td>19.31149</td>\n",
              "      <td>-99.22317</td>\n",
              "      <td>1.0</td>\n",
              "      <td>0.0</td>\n",
              "      <td>1.0</td>\n",
              "      <td>1.0</td>\n",
              "      <td>$582.00</td>\n",
              "      <td>...</td>\n",
              "      <td>1 shared bath</td>\n",
              "      <td>1.0</td>\n",
              "      <td>[\"Dedicated workspace\", \"Elevator\", \"Wifi\", \"I...</td>\n",
              "      <td>--</td>\n",
              "      <td>t</td>\n",
              "      <td>2023-03-29</td>\n",
              "      <td>2018-01-24</td>\n",
              "      <td>2022-06-19</td>\n",
              "      <td>0.0</td>\n",
              "      <td>t</td>\n",
              "    </tr>\n",
              "    <tr>\n",
              "      <th>3508</th>\n",
              "      <td>3508</td>\n",
              "      <td>22700005</td>\n",
              "      <td>4</td>\n",
              "      <td>19.29244</td>\n",
              "      <td>-99.14580</td>\n",
              "      <td>2.0</td>\n",
              "      <td>0.0</td>\n",
              "      <td>2.0</td>\n",
              "      <td>2.0</td>\n",
              "      <td>$590.00</td>\n",
              "      <td>...</td>\n",
              "      <td>1 shared bath</td>\n",
              "      <td>2.0</td>\n",
              "      <td>[\"Private entrance\", \"Wifi\", \"Refrigerator\", \"...</td>\n",
              "      <td>--</td>\n",
              "      <td>t</td>\n",
              "      <td>2023-03-29</td>\n",
              "      <td>2018-03-08</td>\n",
              "      <td>2023-02-27</td>\n",
              "      <td>0.0</td>\n",
              "      <td>f</td>\n",
              "    </tr>\n",
              "    <tr>\n",
              "      <th>3514</th>\n",
              "      <td>3514</td>\n",
              "      <td>22775040</td>\n",
              "      <td>1</td>\n",
              "      <td>19.44155</td>\n",
              "      <td>-99.13216</td>\n",
              "      <td>2.0</td>\n",
              "      <td>0.0</td>\n",
              "      <td>1.0</td>\n",
              "      <td>1.0</td>\n",
              "      <td>$327.00</td>\n",
              "      <td>...</td>\n",
              "      <td>1 shared bath</td>\n",
              "      <td>1.0</td>\n",
              "      <td>[\"Smoke alarm\", \"Luggage dropoff allowed\", \"Wi...</td>\n",
              "      <td>--</td>\n",
              "      <td>t</td>\n",
              "      <td>2023-03-29</td>\n",
              "      <td>2018-02-10</td>\n",
              "      <td>2023-03-18</td>\n",
              "      <td>0.0</td>\n",
              "      <td>t</td>\n",
              "    </tr>\n",
              "  </tbody>\n",
              "</table>\n",
              "<p>1345 rows × 77 columns</p>\n",
              "</div>\n",
              "      <button class=\"colab-df-convert\" onclick=\"convertToInteractive('df-a1d800a8-d0ef-4978-bd37-dfd47028c8c1')\"\n",
              "              title=\"Convert this dataframe to an interactive table.\"\n",
              "              style=\"display:none;\">\n",
              "        \n",
              "  <svg xmlns=\"http://www.w3.org/2000/svg\" height=\"24px\"viewBox=\"0 0 24 24\"\n",
              "       width=\"24px\">\n",
              "    <path d=\"M0 0h24v24H0V0z\" fill=\"none\"/>\n",
              "    <path d=\"M18.56 5.44l.94 2.06.94-2.06 2.06-.94-2.06-.94-.94-2.06-.94 2.06-2.06.94zm-11 1L8.5 8.5l.94-2.06 2.06-.94-2.06-.94L8.5 2.5l-.94 2.06-2.06.94zm10 10l.94 2.06.94-2.06 2.06-.94-2.06-.94-.94-2.06-.94 2.06-2.06.94z\"/><path d=\"M17.41 7.96l-1.37-1.37c-.4-.4-.92-.59-1.43-.59-.52 0-1.04.2-1.43.59L10.3 9.45l-7.72 7.72c-.78.78-.78 2.05 0 2.83L4 21.41c.39.39.9.59 1.41.59.51 0 1.02-.2 1.41-.59l7.78-7.78 2.81-2.81c.8-.78.8-2.07 0-2.86zM5.41 20L4 18.59l7.72-7.72 1.47 1.35L5.41 20z\"/>\n",
              "  </svg>\n",
              "      </button>\n",
              "      \n",
              "  <style>\n",
              "    .colab-df-container {\n",
              "      display:flex;\n",
              "      flex-wrap:wrap;\n",
              "      gap: 12px;\n",
              "    }\n",
              "\n",
              "    .colab-df-convert {\n",
              "      background-color: #E8F0FE;\n",
              "      border: none;\n",
              "      border-radius: 50%;\n",
              "      cursor: pointer;\n",
              "      display: none;\n",
              "      fill: #1967D2;\n",
              "      height: 32px;\n",
              "      padding: 0 0 0 0;\n",
              "      width: 32px;\n",
              "    }\n",
              "\n",
              "    .colab-df-convert:hover {\n",
              "      background-color: #E2EBFA;\n",
              "      box-shadow: 0px 1px 2px rgba(60, 64, 67, 0.3), 0px 1px 3px 1px rgba(60, 64, 67, 0.15);\n",
              "      fill: #174EA6;\n",
              "    }\n",
              "\n",
              "    [theme=dark] .colab-df-convert {\n",
              "      background-color: #3B4455;\n",
              "      fill: #D2E3FC;\n",
              "    }\n",
              "\n",
              "    [theme=dark] .colab-df-convert:hover {\n",
              "      background-color: #434B5C;\n",
              "      box-shadow: 0px 1px 3px 1px rgba(0, 0, 0, 0.15);\n",
              "      filter: drop-shadow(0px 1px 2px rgba(0, 0, 0, 0.3));\n",
              "      fill: #FFFFFF;\n",
              "    }\n",
              "  </style>\n",
              "\n",
              "      <script>\n",
              "        const buttonEl =\n",
              "          document.querySelector('#df-a1d800a8-d0ef-4978-bd37-dfd47028c8c1 button.colab-df-convert');\n",
              "        buttonEl.style.display =\n",
              "          google.colab.kernel.accessAllowed ? 'block' : 'none';\n",
              "\n",
              "        async function convertToInteractive(key) {\n",
              "          const element = document.querySelector('#df-a1d800a8-d0ef-4978-bd37-dfd47028c8c1');\n",
              "          const dataTable =\n",
              "            await google.colab.kernel.invokeFunction('convertToInteractive',\n",
              "                                                     [key], {});\n",
              "          if (!dataTable) return;\n",
              "\n",
              "          const docLinkHtml = 'Like what you see? Visit the ' +\n",
              "            '<a target=\"_blank\" href=https://colab.research.google.com/notebooks/data_table.ipynb>data table notebook</a>'\n",
              "            + ' to learn more about interactive tables.';\n",
              "          element.innerHTML = '';\n",
              "          dataTable['output_type'] = 'display_data';\n",
              "          await google.colab.output.renderOutput(dataTable, element);\n",
              "          const docLink = document.createElement('div');\n",
              "          docLink.innerHTML = docLinkHtml;\n",
              "          element.appendChild(docLink);\n",
              "        }\n",
              "      </script>\n",
              "    </div>\n",
              "  </div>\n",
              "  "
            ]
          },
          "metadata": {},
          "execution_count": 80
        }
      ]
    },
    {
      "cell_type": "markdown",
      "source": [
        "#Regresion 3"
      ],
      "metadata": {
        "id": "xI4G7_pHC3Ze"
      }
    },
    {
      "cell_type": "code",
      "source": [
        "#Imprimimos el scatter plot entre la variable dependiente (total) e independiente (alchool) \n",
        "#para observar el comportamiento en su dispersión \n",
        "from turtle import color\n",
        "\n",
        "\n",
        "sns.scatterplot(x='review_scores_location', y='review_scores_cleanliness', color=\"blue\", data=filtro2_m)\n",
        "#sns.scatterplot(X='speeding', y='total', color=\"red\", data=df)"
      ],
      "metadata": {
        "colab": {
          "base_uri": "https://localhost:8080/",
          "height": 468
        },
        "id": "K-CXwXfhC4hx",
        "outputId": "28bdd4e3-8354-4bef-a770-526d066c8afa"
      },
      "execution_count": 81,
      "outputs": [
        {
          "output_type": "execute_result",
          "data": {
            "text/plain": [
              "<Axes: xlabel='review_scores_location', ylabel='review_scores_cleanliness'>"
            ]
          },
          "metadata": {},
          "execution_count": 81
        },
        {
          "output_type": "display_data",
          "data": {
            "text/plain": [
              "<Figure size 640x480 with 1 Axes>"
            ],
            "image/png": "[encoded data removed]"
          },
          "metadata": {}
        }
      ]
    },
    {
      "cell_type": "code",
      "source": [
        "#Declaramos las variables dependientes e independientes para la regresión lineal\n",
        "#Vars_Indep= df[['alcohol', 'speeding']]\n",
        "Vars_Indep= df[['review_scores_cleanliness']]\n",
        "Var_Dep= df['review_scores_location']\n",
        "#Se define model como la función de regresión lineal\n",
        "from sklearn.linear_model import LinearRegression\n",
        "model= LinearRegression()\n",
        "#Verificamos la función relacionada al modelo\n",
        "type(model)\n",
        "#Ajustamos el modelo con las variables antes declaradas\n",
        "model.fit(X=Vars_Indep, y=Var_Dep)\n",
        "#Verificamos los coeficientes obtenidos para el modelo ajustado\n",
        "model.__dict__"
      ],
      "metadata": {
        "colab": {
          "base_uri": "https://localhost:8080/"
        },
        "id": "lqUUOTilC6Zc",
        "outputId": "0efb8c19-8e77-4027-dd0f-6c09f6a334c2"
      },
      "execution_count": 82,
      "outputs": [
        {
          "output_type": "execute_result",
          "data": {
            "text/plain": [
              "{'fit_intercept': True,\n",
              " 'copy_X': True,\n",
              " 'n_jobs': None,\n",
              " 'positive': False,\n",
              " 'feature_names_in_': array(['review_scores_cleanliness'], dtype=object),\n",
              " 'n_features_in_': 1,\n",
              " 'coef_': array([0.99263319]),\n",
              " 'rank_': 1,\n",
              " 'singular_': array([82.38938744]),\n",
              " 'intercept_': 0.10081746779361733}"
            ]
          },
          "metadata": {},
          "execution_count": 82
        }
      ]
    },
    {
      "cell_type": "code",
      "source": [
        "#Evaluamos la eficiencia del modelo obtenido por medio del coeficiente R Determinación\n",
        "model.score(Vars_Indep,Var_Dep)"
      ],
      "metadata": {
        "colab": {
          "base_uri": "https://localhost:8080/"
        },
        "id": "f2MV3PZwC_OI",
        "outputId": "2059c542-fc52-4cf1-b701-ff428a0a8270"
      },
      "execution_count": 83,
      "outputs": [
        {
          "output_type": "execute_result",
          "data": {
            "text/plain": [
              "0.9655952112210063"
            ]
          },
          "metadata": {},
          "execution_count": 83
        }
      ]
    },
    {
      "cell_type": "markdown",
      "source": [
        "#Regresion 4"
      ],
      "metadata": {
        "id": "ENduUYpJDIOh"
      }
    },
    {
      "cell_type": "code",
      "source": [
        "#Imprimimos el scatter plot entre la variable dependiente (total) e independiente (alchool) \n",
        "#para observar el comportamiento en su dispersión \n",
        "from turtle import color\n",
        "\n",
        "\n",
        "sns.scatterplot(x='number_of_reviews', y='availability_365', color=\"blue\", data=filtro2_m)\n",
        "#sns.scatterplot(X='speeding', y='total', color=\"red\", data=df)"
      ],
      "metadata": {
        "colab": {
          "base_uri": "https://localhost:8080/",
          "height": 468
        },
        "id": "TKibZtIODJfe",
        "outputId": "fd142cbc-34c3-42cf-c359-18c1bad05df0"
      },
      "execution_count": 84,
      "outputs": [
        {
          "output_type": "execute_result",
          "data": {
            "text/plain": [
              "<Axes: xlabel='number_of_reviews', ylabel='availability_365'>"
            ]
          },
          "metadata": {},
          "execution_count": 84
        },
        {
          "output_type": "display_data",
          "data": {
            "text/plain": [
              "<Figure size 640x480 with 1 Axes>"
            ],
            "image/png": "[encoded data removed]"
          },
          "metadata": {}
        }
      ]
    },
    {
      "cell_type": "code",
      "source": [
        "#Declaramos las variables dependientes e independientes para la regresión lineal\n",
        "#Vars_Indep= df[['alcohol', 'speeding']]\n",
        "Vars_Indep= df[['number_of_reviews']]\n",
        "Var_Dep= df['availability_365']\n",
        "#Se define model como la función de regresión lineal\n",
        "from sklearn.linear_model import LinearRegression\n",
        "model= LinearRegression()\n",
        "#Verificamos la función relacionada al modelo\n",
        "type(model)\n",
        "#Ajustamos el modelo con las variables antes declaradas\n",
        "model.fit(X=Vars_Indep, y=Var_Dep)\n",
        "#Verificamos los coeficientes obtenidos para el modelo ajustado\n",
        "model.__dict__"
      ],
      "metadata": {
        "colab": {
          "base_uri": "https://localhost:8080/"
        },
        "id": "clTotHiDDN4M",
        "outputId": "69c36e88-5023-4a94-b091-6eac8b40cf70"
      },
      "execution_count": 85,
      "outputs": [
        {
          "output_type": "execute_result",
          "data": {
            "text/plain": [
              "{'fit_intercept': True,\n",
              " 'copy_X': True,\n",
              " 'n_jobs': None,\n",
              " 'positive': False,\n",
              " 'feature_names_in_': array(['number_of_reviews'], dtype=object),\n",
              " 'n_features_in_': 1,\n",
              " 'coef_': array([0.01657297]),\n",
              " 'rank_': 1,\n",
              " 'singular_': array([5608.18540207]),\n",
              " 'intercept_': 230.65698590953187}"
            ]
          },
          "metadata": {},
          "execution_count": 85
        }
      ]
    },
    {
      "cell_type": "code",
      "source": [
        "#Evaluamos la eficiencia del modelo obtenido por medio del coeficiente R Determinación\n",
        "model.score(Vars_Indep,Var_Dep)"
      ],
      "metadata": {
        "colab": {
          "base_uri": "https://localhost:8080/"
        },
        "id": "I62uH_6sDR2h",
        "outputId": "ac4259e5-2f56-4105-b21c-77d23e006e7b"
      },
      "execution_count": 86,
      "outputs": [
        {
          "output_type": "execute_result",
          "data": {
            "text/plain": [
              "0.00015621147356581488"
            ]
          },
          "metadata": {},
          "execution_count": 86
        }
      ]
    },
    {
      "cell_type": "markdown",
      "source": [
        "#Regresion 5"
      ],
      "metadata": {
        "id": "EH88NVTEDYeO"
      }
    },
    {
      "cell_type": "code",
      "source": [
        "#Imprimimos el scatter plot entre la variable dependiente (total) e independiente (alchool) \n",
        "#para observar el comportamiento en su dispersión \n",
        "from turtle import color\n",
        "\n",
        "\n",
        "sns.scatterplot(x='reviews_per_month', y='review_scores_communication', color=\"blue\", data=filtro2_m)\n",
        "#sns.scatterplot(X='speeding', y='total', color=\"red\", data=df)"
      ],
      "metadata": {
        "colab": {
          "base_uri": "https://localhost:8080/",
          "height": 468
        },
        "id": "Ox0RVtSwDVB3",
        "outputId": "e608b649-f3c6-41dd-da50-4235aff7fd51"
      },
      "execution_count": 87,
      "outputs": [
        {
          "output_type": "execute_result",
          "data": {
            "text/plain": [
              "<Axes: xlabel='reviews_per_month', ylabel='review_scores_communication'>"
            ]
          },
          "metadata": {},
          "execution_count": 87
        },
        {
          "output_type": "display_data",
          "data": {
            "text/plain": [
              "<Figure size 640x480 with 1 Axes>"
            ],
            "image/png": "[encoded data removed]"
          },
          "metadata": {}
        }
      ]
    },
    {
      "cell_type": "code",
      "source": [
        "#Declaramos las variables dependientes e independientes para la regresión lineal\n",
        "#Vars_Indep= df[['alcohol', 'speeding']]\n",
        "Vars_Indep= df[['review_scores_communication']]\n",
        "Var_Dep= df['reviews_per_month']\n",
        "#Se define model como la función de regresión lineal\n",
        "from sklearn.linear_model import LinearRegression\n",
        "model= LinearRegression()\n",
        "#Verificamos la función relacionada al modelo\n",
        "type(model)\n",
        "#Ajustamos el modelo con las variables antes declaradas\n",
        "model.fit(X=Vars_Indep, y=Var_Dep)\n",
        "#Verificamos los coeficientes obtenidos para el modelo ajustado\n",
        "model.__dict__"
      ],
      "metadata": {
        "colab": {
          "base_uri": "https://localhost:8080/"
        },
        "id": "n-4aENVEDfLa",
        "outputId": "f34e788a-bff6-4749-e646-141b8e1139cc"
      },
      "execution_count": 88,
      "outputs": [
        {
          "output_type": "execute_result",
          "data": {
            "text/plain": [
              "{'fit_intercept': True,\n",
              " 'copy_X': True,\n",
              " 'n_jobs': None,\n",
              " 'positive': False,\n",
              " 'feature_names_in_': array(['review_scores_communication'], dtype=object),\n",
              " 'n_features_in_': 1,\n",
              " 'coef_': array([0.242067]),\n",
              " 'rank_': 1,\n",
              " 'singular_': array([83.3345738]),\n",
              " 'intercept_': -0.01975757987061133}"
            ]
          },
          "metadata": {},
          "execution_count": 88
        }
      ]
    },
    {
      "cell_type": "code",
      "source": [
        "#Evaluamos la eficiencia del modelo obtenido por medio del coeficiente R Determinación\n",
        "model.score(Vars_Indep,Var_Dep)"
      ],
      "metadata": {
        "colab": {
          "base_uri": "https://localhost:8080/"
        },
        "id": "fXDwOW8_DhHT",
        "outputId": "d9ad0c65-9b11-4887-af0f-8fd7ec339bf5"
      },
      "execution_count": 89,
      "outputs": [
        {
          "output_type": "execute_result",
          "data": {
            "text/plain": [
              "0.07654717918875453"
            ]
          },
          "metadata": {},
          "execution_count": 89
        }
      ]
    }
  ],
  "metadata": {
    "colab": {
      "provenance": [],
      "include_colab_link": true
    },
    "kernelspec": {
      "display_name": "Python 3",
      "name": "python3"
    },
    "language_info": {
      "name": "python"
    }
  },
  "nbformat": 4,
  "nbformat_minor": 0
}